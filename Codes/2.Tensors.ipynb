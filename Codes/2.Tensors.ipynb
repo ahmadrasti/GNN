{
 "cells": [
  {
   "cell_type": "code",
   "execution_count": 1,
   "metadata": {
    "executionInfo": {
     "elapsed": 254,
     "status": "ok",
     "timestamp": 1650337764103,
     "user": {
      "displayName": "Avkash Chauhan",
      "userId": "01093683102216020094"
     },
     "user_tz": 420
    },
    "id": "4Jj_hEvSl1zb"
   },
   "outputs": [],
   "source": [
    "import numpy as np"
   ]
  },
  {
   "cell_type": "markdown",
   "metadata": {
    "id": "SJ8Z0j9xmK7g"
   },
   "source": [
    "## **What is a Tensor?**\n",
    "- A tensor is a n-dimensional array with n>2\n",
    "- https://hadrienj.github.io/posts/Deep-Learning-Book-Series-2.1-Scalars-Vectors-Matrices-and-Tensors/"
   ]
  },
  {
   "cell_type": "code",
   "execution_count": 2,
   "metadata": {
    "executionInfo": {
     "elapsed": 255,
     "status": "ok",
     "timestamp": 1650337806962,
     "user": {
      "displayName": "Avkash Chauhan",
      "userId": "01093683102216020094"
     },
     "user_tz": 420
    },
    "id": "F3YlOebSl3QV"
   },
   "outputs": [],
   "source": [
    "x = np.array([[[1, 4, 7],\n",
    "               [2, 5, 8],\n",
    "               [3, 6, 9]],\n",
    "              [[10, 40, 70],\n",
    "               [20, 50, 80],\n",
    "               [30, 60, 90]],\n",
    "              [[100, 400, 700],\n",
    "               [200, 500, 800],\n",
    "               [300, 600, 900]]])"
   ]
  },
  {
   "cell_type": "code",
   "execution_count": 3,
   "metadata": {
    "colab": {
     "base_uri": "https://localhost:8080/"
    },
    "executionInfo": {
     "elapsed": 435,
     "status": "ok",
     "timestamp": 1650337809584,
     "user": {
      "displayName": "Avkash Chauhan",
      "userId": "01093683102216020094"
     },
     "user_tz": 420
    },
    "id": "QcM-e4GAl3tH",
    "outputId": "1d14eea1-11c2-48cd-aca2-92d3d7bd33a7"
   },
   "outputs": [
    {
     "data": {
      "text/plain": [
       "array([[[  1,   4,   7],\n",
       "        [  2,   5,   8],\n",
       "        [  3,   6,   9]],\n",
       "\n",
       "       [[ 10,  40,  70],\n",
       "        [ 20,  50,  80],\n",
       "        [ 30,  60,  90]],\n",
       "\n",
       "       [[100, 400, 700],\n",
       "        [200, 500, 800],\n",
       "        [300, 600, 900]]])"
      ]
     },
     "execution_count": 3,
     "metadata": {},
     "output_type": "execute_result"
    }
   ],
   "source": [
    "x"
   ]
  },
  {
   "cell_type": "code",
   "execution_count": 4,
   "metadata": {
    "colab": {
     "base_uri": "https://localhost:8080/"
    },
    "executionInfo": {
     "elapsed": 359,
     "status": "ok",
     "timestamp": 1650337811678,
     "user": {
      "displayName": "Avkash Chauhan",
      "userId": "01093683102216020094"
     },
     "user_tz": 420
    },
    "id": "tf6dF0P0l5zf",
    "outputId": "a366c686-7158-484d-b7f4-89a1616b35a3"
   },
   "outputs": [
    {
     "name": "stdout",
     "output_type": "stream",
     "text": [
      "3\n"
     ]
    }
   ],
   "source": [
    "print(x.ndim)"
   ]
  },
  {
   "cell_type": "code",
   "execution_count": null,
   "metadata": {
    "id": "gszHRbYil6e2"
   },
   "outputs": [],
   "source": []
  }
 ],
 "metadata": {
  "colab": {
   "authorship_tag": "ABX9TyOtthZNexgKs8lE0OSgde8x",
   "collapsed_sections": [],
   "name": "Tensors.ipynb",
   "provenance": []
  },
  "kernelspec": {
   "display_name": "Python 3 (ipykernel)",
   "language": "python",
   "name": "python3"
  },
  "language_info": {
   "codemirror_mode": {
    "name": "ipython",
    "version": 3
   },
   "file_extension": ".py",
   "mimetype": "text/x-python",
   "name": "python",
   "nbconvert_exporter": "python",
   "pygments_lexer": "ipython3",
   "version": "3.10.9"
  }
 },
 "nbformat": 4,
 "nbformat_minor": 1
}
