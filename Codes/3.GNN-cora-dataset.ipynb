{
 "cells": [
  {
   "cell_type": "markdown",
   "metadata": {},
   "source": [
    "# Method 1"
   ]
  },
  {
   "cell_type": "code",
   "execution_count": 1,
   "metadata": {
    "colab": {
     "base_uri": "https://localhost:8080/"
    },
    "executionInfo": {
     "elapsed": 4702,
     "status": "ok",
     "timestamp": 1650337862188,
     "user": {
      "displayName": "Avkash Chauhan",
      "userId": "01093683102216020094"
     },
     "user_tz": 420
    },
    "id": "CS97m_n6IRaA",
    "outputId": "1822d937-690d-419e-e4b0-f3b06ddc18f7"
   },
   "outputs": [
    {
     "name": "stdout",
     "output_type": "stream",
     "text": [
      "None\n"
     ]
    }
   ],
   "source": [
    "!python -c \"import torch; print(torch.version.cuda)\""
   ]
  },
  {
   "cell_type": "code",
   "execution_count": 2,
   "metadata": {
    "colab": {
     "base_uri": "https://localhost:8080/"
    },
    "executionInfo": {
     "elapsed": 2064,
     "status": "ok",
     "timestamp": 1650337866415,
     "user": {
      "displayName": "Avkash Chauhan",
      "userId": "01093683102216020094"
     },
     "user_tz": 420
    },
    "id": "FFj1SwVJIUVg",
    "outputId": "6312e82a-ddef-48dd-d2f9-236ad3898783"
   },
   "outputs": [
    {
     "name": "stdout",
     "output_type": "stream",
     "text": [
      "1.12.1\n"
     ]
    }
   ],
   "source": [
    "# PyTorch version\n",
    "!python -c \"import torch; print(torch.__version__)\""
   ]
  },
  {
   "cell_type": "code",
   "execution_count": null,
   "metadata": {
    "colab": {
     "base_uri": "https://localhost:8080/"
    },
    "executionInfo": {
     "elapsed": 9761,
     "status": "ok",
     "timestamp": 1650337942322,
     "user": {
      "displayName": "Avkash Chauhan",
      "userId": "01093683102216020094"
     },
     "user_tz": 420
    },
    "id": "tc0QG_-A2Hmc",
    "outputId": "6ae1fcc0-a3d5-464e-f1fd-18dcc494bf72"
   },
   "outputs": [],
   "source": [
    "!pip install torch-geometric\n",
    "!pip install torch-sparse -f https://data.pyg.org/whl/torch-1.10.0+cu111.html\n",
    "!pip install torch-scatter -f https://data.pyg.org/whl/torch-1.10.0+cu111.html"
   ]
  },
  {
   "cell_type": "code",
   "execution_count": null,
   "metadata": {},
   "outputs": [],
   "source": [
    "!pip install torch -f https://data.pyg.org/whl/torch-1.10.0+cu111.html"
   ]
  },
  {
   "cell_type": "markdown",
   "metadata": {},
   "source": [
    "# Method 2"
   ]
  },
  {
   "cell_type": "code",
   "execution_count": null,
   "metadata": {},
   "outputs": [],
   "source": [
    "!pip install git+https://github.com/rusty1s/pytorch_geometric.git"
   ]
  },
  {
   "cell_type": "code",
   "execution_count": null,
   "metadata": {},
   "outputs": [],
   "source": [
    "!pip install torch"
   ]
  },
  {
   "cell_type": "markdown",
   "metadata": {
    "id": "EYh6AXT9thB3"
   },
   "source": [
    "# Import Library"
   ]
  },
  {
   "cell_type": "code",
   "execution_count": 1,
   "metadata": {
    "executionInfo": {
     "elapsed": 5266,
     "status": "ok",
     "timestamp": 1650337950317,
     "user": {
      "displayName": "Avkash Chauhan",
      "userId": "01093683102216020094"
     },
     "user_tz": 420
    },
    "id": "IR_koZjM1yfv"
   },
   "outputs": [],
   "source": [
    "import torch\n",
    "import torch_geometric"
   ]
  },
  {
   "cell_type": "markdown",
   "metadata": {
    "id": "UB7c_aa0thoc"
   },
   "source": [
    "# **Common Benchmark Datasets**\n",
    "PyG contains a large number of common benchmark datasets, e.g., all Planetoid datasets (Cora, Citeseer, Pubmed), all graph classification datasets from http://graphkernels.cs.tu-dortmund.de and their cleaned versions, the QM7 and QM9 dataset, and a handful of 3D mesh/point cloud datasets like FAUST, ModelNet10/40 and ShapeNet.\n",
    "\n",
    "Initializing a dataset is straightforward. An initialization of a dataset will automatically download its raw files and process them to the previously described Data format. E.g., to load the ENZYMES dataset (consisting of 600 graphs within 6 classes), type:\n",
    "\n"
   ]
  },
  {
   "cell_type": "code",
   "execution_count": 2,
   "metadata": {
    "executionInfo": {
     "elapsed": 159,
     "status": "ok",
     "timestamp": 1650338060958,
     "user": {
      "displayName": "Avkash Chauhan",
      "userId": "01093683102216020094"
     },
     "user_tz": 420
    },
    "id": "ra7Durh42iBl"
   },
   "outputs": [],
   "source": [
    "from torch_geometric.datasets import TUDataset\n",
    "dataset = TUDataset(root='/tmp/ENZYMES', name='ENZYMES')"
   ]
  },
  {
   "cell_type": "code",
   "execution_count": 3,
   "metadata": {
    "colab": {
     "base_uri": "https://localhost:8080/"
    },
    "executionInfo": {
     "elapsed": 186,
     "status": "ok",
     "timestamp": 1650338088095,
     "user": {
      "displayName": "Avkash Chauhan",
      "userId": "01093683102216020094"
     },
     "user_tz": 420
    },
    "id": "MM3LVTmjs9fF",
    "outputId": "a623e3d4-b186-4ad2-b58f-fd5003e217eb"
   },
   "outputs": [
    {
     "data": {
      "text/plain": [
       "600"
      ]
     },
     "execution_count": 3,
     "metadata": {},
     "output_type": "execute_result"
    }
   ],
   "source": [
    "len(dataset)"
   ]
  },
  {
   "cell_type": "code",
   "execution_count": 4,
   "metadata": {
    "colab": {
     "base_uri": "https://localhost:8080/"
    },
    "executionInfo": {
     "elapsed": 158,
     "status": "ok",
     "timestamp": 1650338092072,
     "user": {
      "displayName": "Avkash Chauhan",
      "userId": "01093683102216020094"
     },
     "user_tz": 420
    },
    "id": "d7-Zz9Zps9hm",
    "outputId": "8b5646dc-95ed-4fce-88d5-3cdec218ee80"
   },
   "outputs": [
    {
     "data": {
      "text/plain": [
       "6"
      ]
     },
     "execution_count": 4,
     "metadata": {},
     "output_type": "execute_result"
    }
   ],
   "source": [
    "dataset.num_classes"
   ]
  },
  {
   "cell_type": "code",
   "execution_count": 5,
   "metadata": {
    "colab": {
     "base_uri": "https://localhost:8080/"
    },
    "executionInfo": {
     "elapsed": 222,
     "status": "ok",
     "timestamp": 1650338095220,
     "user": {
      "displayName": "Avkash Chauhan",
      "userId": "01093683102216020094"
     },
     "user_tz": 420
    },
    "id": "oAyYnFD4s9kA",
    "outputId": "b24a06f7-dada-4dcf-b5b7-438946372198"
   },
   "outputs": [
    {
     "data": {
      "text/plain": [
       "3"
      ]
     },
     "execution_count": 5,
     "metadata": {},
     "output_type": "execute_result"
    }
   ],
   "source": [
    "dataset.num_node_features"
   ]
  },
  {
   "cell_type": "code",
   "execution_count": 6,
   "metadata": {
    "colab": {
     "base_uri": "https://localhost:8080/"
    },
    "executionInfo": {
     "elapsed": 153,
     "status": "ok",
     "timestamp": 1650338116593,
     "user": {
      "displayName": "Avkash Chauhan",
      "userId": "01093683102216020094"
     },
     "user_tz": 420
    },
    "id": "deKh7YLk0S0_",
    "outputId": "a620e4a1-760d-4719-daaa-1e196bc78c7c"
   },
   "outputs": [
    {
     "data": {
      "text/plain": [
       "ENZYMES(600)"
      ]
     },
     "execution_count": 6,
     "metadata": {},
     "output_type": "execute_result"
    }
   ],
   "source": [
    "dataset"
   ]
  },
  {
   "cell_type": "code",
   "execution_count": 7,
   "metadata": {
    "executionInfo": {
     "elapsed": 1,
     "status": "ok",
     "timestamp": 1650338125640,
     "user": {
      "displayName": "Avkash Chauhan",
      "userId": "01093683102216020094"
     },
     "user_tz": 420
    },
    "id": "jxYYsiV6tGED"
   },
   "outputs": [],
   "source": [
    "data = dataset[0]"
   ]
  },
  {
   "cell_type": "markdown",
   "metadata": {
    "id": "OsvRsC7utMsA"
   },
   "source": [
    "data.x: Node feature matrix with shape [num_nodes, num_node_features]\n",
    "\n",
    "data.edge_index: Graph connectivity in COO format with shape [2, num_edges] and type torch.long\n",
    "\n",
    "data.edge_attr: Edge feature matrix with shape [num_edges, num_edge_features]\n",
    "\n",
    "data.y: Target to train against (may have arbitrary shape), e.g., node-level targets of shape [num_nodes, *] or graph-level targets of shape [1, *]\n",
    "\n",
    "data.pos: Node position matrix with shape [num_nodes, num_dimensions]"
   ]
  },
  {
   "cell_type": "code",
   "execution_count": 8,
   "metadata": {
    "colab": {
     "base_uri": "https://localhost:8080/"
    },
    "executionInfo": {
     "elapsed": 175,
     "status": "ok",
     "timestamp": 1650338127898,
     "user": {
      "displayName": "Avkash Chauhan",
      "userId": "01093683102216020094"
     },
     "user_tz": 420
    },
    "id": "68if2YU3tHE5",
    "outputId": "7edf4fb3-d932-4032-8d58-8ef4a5cde345"
   },
   "outputs": [
    {
     "data": {
      "text/plain": [
       "Data(edge_index=[2, 168], x=[37, 3], y=[1])"
      ]
     },
     "execution_count": 8,
     "metadata": {},
     "output_type": "execute_result"
    }
   ],
   "source": [
    "data"
   ]
  },
  {
   "cell_type": "code",
   "execution_count": 9,
   "metadata": {
    "executionInfo": {
     "elapsed": 209,
     "status": "ok",
     "timestamp": 1650338236596,
     "user": {
      "displayName": "Avkash Chauhan",
      "userId": "01093683102216020094"
     },
     "user_tz": 420
    },
    "id": "9eBraD6st0mv"
   },
   "outputs": [],
   "source": [
    "from torch_geometric.utils import to_networkx"
   ]
  },
  {
   "cell_type": "code",
   "execution_count": 10,
   "metadata": {
    "colab": {
     "base_uri": "https://localhost:8080/"
    },
    "executionInfo": {
     "elapsed": 175,
     "status": "ok",
     "timestamp": 1650338238001,
     "user": {
      "displayName": "Avkash Chauhan",
      "userId": "01093683102216020094"
     },
     "user_tz": 420
    },
    "id": "V-XPD7E4t38S",
    "outputId": "e7e58e2a-ee3c-4836-b2fa-5d4eb4ca39cd"
   },
   "outputs": [
    {
     "data": {
      "text/plain": [
       "torch_geometric.data.data.Data"
      ]
     },
     "execution_count": 10,
     "metadata": {},
     "output_type": "execute_result"
    }
   ],
   "source": [
    "type(data)"
   ]
  },
  {
   "cell_type": "code",
   "execution_count": 11,
   "metadata": {
    "executionInfo": {
     "elapsed": 217,
     "status": "ok",
     "timestamp": 1650338246218,
     "user": {
      "displayName": "Avkash Chauhan",
      "userId": "01093683102216020094"
     },
     "user_tz": 420
    },
    "id": "0C_1xlfUtXBw"
   },
   "outputs": [],
   "source": [
    "networkX_graph = to_networkx(data)"
   ]
  },
  {
   "cell_type": "code",
   "execution_count": 12,
   "metadata": {
    "colab": {
     "base_uri": "https://localhost:8080/"
    },
    "executionInfo": {
     "elapsed": 236,
     "status": "ok",
     "timestamp": 1650338247922,
     "user": {
      "displayName": "Avkash Chauhan",
      "userId": "01093683102216020094"
     },
     "user_tz": 420
    },
    "id": "hmNIuvfquPyX",
    "outputId": "2fd4f275-f552-465c-b10e-7a88708f86fe"
   },
   "outputs": [
    {
     "data": {
      "text/plain": [
       "networkx.classes.digraph.DiGraph"
      ]
     },
     "execution_count": 12,
     "metadata": {},
     "output_type": "execute_result"
    }
   ],
   "source": [
    "type(networkX_graph)"
   ]
  },
  {
   "cell_type": "code",
   "execution_count": 13,
   "metadata": {
    "executionInfo": {
     "elapsed": 249,
     "status": "ok",
     "timestamp": 1650338267343,
     "user": {
      "displayName": "Avkash Chauhan",
      "userId": "01093683102216020094"
     },
     "user_tz": 420
    },
    "id": "xQ7PlL4at5HD"
   },
   "outputs": [],
   "source": [
    "import networkx as nx"
   ]
  },
  {
   "cell_type": "code",
   "execution_count": 15,
   "metadata": {
    "colab": {
     "base_uri": "https://localhost:8080/",
     "height": 319
    },
    "executionInfo": {
     "elapsed": 1974,
     "status": "ok",
     "timestamp": 1650338270995,
     "user": {
      "displayName": "Avkash Chauhan",
      "userId": "01093683102216020094"
     },
     "user_tz": 420
    },
    "id": "R7bX2GVNtYU0",
    "outputId": "92894046-4dd8-4ea2-feb6-09cd57fd2b2e"
   },
   "outputs": [
    {
     "data": {
      "image/png": "[encoded data removed]",
      "text/plain": [
       "<Figure size 640x480 with 1 Axes>"
      ]
     },
     "metadata": {},
     "output_type": "display_data"
    }
   ],
   "source": [
    "nx.draw(networkX_graph, label = True)"
   ]
  },
  {
   "cell_type": "markdown",
   "metadata": {
    "id": "-1nRsFTZ1z1q"
   },
   "source": [
    "## **Cora dataset**\n",
    "\"The Cora dataset consists of 2708 scientific publications classified into one of seven classes. The citation network consists of 5429 links. Each publication in the dataset is described by a 0/1-valued word vector indicating the absence/presence of the corresponding word from the dictionary. The dictionary consists of 1433 unique words.\" - Papers with Code.\n",
    "\n",
    "https://graphsandnetworks.com/the-cora-dataset/"
   ]
  },
  {
   "cell_type": "code",
   "execution_count": 17,
   "metadata": {
    "executionInfo": {
     "elapsed": 399,
     "status": "ok",
     "timestamp": 1650338318178,
     "user": {
      "displayName": "Avkash Chauhan",
      "userId": "01093683102216020094"
     },
     "user_tz": 420
    },
    "id": "WGm86P6G1y4W"
   },
   "outputs": [],
   "source": [
    "from torch_geometric.datasets import Planetoid\n",
    "cora_dataset = Planetoid(root='tmp/Cora', name='Cora')"
   ]
  },
  {
   "cell_type": "code",
   "execution_count": 18,
   "metadata": {
    "colab": {
     "base_uri": "https://localhost:8080/"
    },
    "executionInfo": {
     "elapsed": 158,
     "status": "ok",
     "timestamp": 1650338343502,
     "user": {
      "displayName": "Avkash Chauhan",
      "userId": "01093683102216020094"
     },
     "user_tz": 420
    },
    "id": "ay5QRxUS10Xm",
    "outputId": "48253184-460e-402f-e406-383e67c3ce3d"
   },
   "outputs": [
    {
     "data": {
      "text/plain": [
       "Cora()"
      ]
     },
     "execution_count": 18,
     "metadata": {},
     "output_type": "execute_result"
    }
   ],
   "source": [
    "cora_dataset"
   ]
  },
  {
   "cell_type": "code",
   "execution_count": 19,
   "metadata": {
    "colab": {
     "base_uri": "https://localhost:8080/"
    },
    "executionInfo": {
     "elapsed": 258,
     "status": "ok",
     "timestamp": 1650338348589,
     "user": {
      "displayName": "Avkash Chauhan",
      "userId": "01093683102216020094"
     },
     "user_tz": 420
    },
    "id": "-CtXrdOY24fg",
    "outputId": "d12dc0b3-132a-4964-cc82-67cb0a99c01b"
   },
   "outputs": [
    {
     "data": {
      "text/plain": [
       "1"
      ]
     },
     "execution_count": 19,
     "metadata": {},
     "output_type": "execute_result"
    }
   ],
   "source": [
    "cora_dataset.len()"
   ]
  },
  {
   "cell_type": "code",
   "execution_count": 20,
   "metadata": {
    "colab": {
     "base_uri": "https://localhost:8080/"
    },
    "executionInfo": {
     "elapsed": 354,
     "status": "ok",
     "timestamp": 1650338351735,
     "user": {
      "displayName": "Avkash Chauhan",
      "userId": "01093683102216020094"
     },
     "user_tz": 420
    },
    "id": "DeqRo7uB27Mb",
    "outputId": "7c4d0aae-c59f-4d46-fe83-6f54552772e0"
   },
   "outputs": [
    {
     "name": "stdout",
     "output_type": "stream",
     "text": [
      "Number of graphs:  1\n",
      "Number of features:  1433\n",
      "Number of classes:  7\n"
     ]
    }
   ],
   "source": [
    "# number of graphs\n",
    "print(\"Number of graphs: \", len(cora_dataset))\n",
    "\n",
    "# number of features\n",
    "print(\"Number of features: \", cora_dataset.num_features)\n",
    "\n",
    "# number of classes\n",
    "print(\"Number of classes: \", cora_dataset.num_classes)"
   ]
  },
  {
   "cell_type": "code",
   "execution_count": 21,
   "metadata": {
    "executionInfo": {
     "elapsed": 235,
     "status": "ok",
     "timestamp": 1650338375228,
     "user": {
      "displayName": "Avkash Chauhan",
      "userId": "01093683102216020094"
     },
     "user_tz": 420
    },
    "id": "VlDW-58w28iU"
   },
   "outputs": [],
   "source": [
    "c_ds = cora_dataset[0]"
   ]
  },
  {
   "cell_type": "code",
   "execution_count": 22,
   "metadata": {
    "colab": {
     "base_uri": "https://localhost:8080/"
    },
    "executionInfo": {
     "elapsed": 374,
     "status": "ok",
     "timestamp": 1650338375853,
     "user": {
      "displayName": "Avkash Chauhan",
      "userId": "01093683102216020094"
     },
     "user_tz": 420
    },
    "id": "0JL9FOta3Kzh",
    "outputId": "24701ec1-e5d3-47d3-f8e4-53ef8d1e9729"
   },
   "outputs": [
    {
     "data": {
      "text/plain": [
       "Data(x=[2708, 1433], edge_index=[2, 10556], y=[2708], train_mask=[2708], val_mask=[2708], test_mask=[2708])"
      ]
     },
     "execution_count": 22,
     "metadata": {},
     "output_type": "execute_result"
    }
   ],
   "source": [
    "c_ds"
   ]
  },
  {
   "cell_type": "code",
   "execution_count": 23,
   "metadata": {
    "colab": {
     "base_uri": "https://localhost:8080/"
    },
    "executionInfo": {
     "elapsed": 275,
     "status": "ok",
     "timestamp": 1650338401021,
     "user": {
      "displayName": "Avkash Chauhan",
      "userId": "01093683102216020094"
     },
     "user_tz": 420
    },
    "id": "HhNxkgMm3LY7",
    "outputId": "0317cecd-605e-42d8-c371-4e8a6018f21b"
   },
   "outputs": [
    {
     "name": "stdout",
     "output_type": "stream",
     "text": [
      "Number of nodes:  2708\n",
      "Number of edges:  10556\n",
      "Is directed:  False\n"
     ]
    }
   ],
   "source": [
    "# number of nodes\n",
    "print(\"Number of nodes: \", c_ds.num_nodes)\n",
    "\n",
    "# number of edges\n",
    "print(\"Number of edges: \", c_ds.num_edges)\n",
    "\n",
    "# check if directed\n",
    "print(\"Is directed: \", c_ds.is_directed())"
   ]
  },
  {
   "cell_type": "code",
   "execution_count": 24,
   "metadata": {
    "colab": {
     "base_uri": "https://localhost:8080/"
    },
    "executionInfo": {
     "elapsed": 185,
     "status": "ok",
     "timestamp": 1650338436854,
     "user": {
      "displayName": "Avkash Chauhan",
      "userId": "01093683102216020094"
     },
     "user_tz": 420
    },
    "id": "KET8g1c07Hnn",
    "outputId": "dfae7785-fdfa-47aa-f4e0-6356d0f09911"
   },
   "outputs": [
    {
     "data": {
      "text/plain": [
       "torch.Size([0, 1433])"
      ]
     },
     "execution_count": 24,
     "metadata": {},
     "output_type": "execute_result"
    }
   ],
   "source": [
    "c_ds.x[:0].shape"
   ]
  },
  {
   "cell_type": "code",
   "execution_count": 25,
   "metadata": {
    "colab": {
     "base_uri": "https://localhost:8080/"
    },
    "executionInfo": {
     "elapsed": 386,
     "status": "ok",
     "timestamp": 1650338441914,
     "user": {
      "displayName": "Avkash Chauhan",
      "userId": "01093683102216020094"
     },
     "user_tz": 420
    },
    "id": "2oPvItGo7Xi0",
    "outputId": "9cc75cd4-e9f0-49a5-e61a-a30c3b4e4e5c"
   },
   "outputs": [
    {
     "data": {
      "text/plain": [
       "torch.Size([10, 1433])"
      ]
     },
     "execution_count": 25,
     "metadata": {},
     "output_type": "execute_result"
    }
   ],
   "source": [
    "c_ds.x[:10].shape"
   ]
  },
  {
   "cell_type": "code",
   "execution_count": 24,
   "metadata": {
    "colab": {
     "base_uri": "https://localhost:8080/"
    },
    "executionInfo": {
     "elapsed": 186,
     "status": "ok",
     "timestamp": 1650338444773,
     "user": {
      "displayName": "Avkash Chauhan",
      "userId": "01093683102216020094"
     },
     "user_tz": 420
    },
    "id": "mIs5LdJQ7Zpu",
    "outputId": "73e75894-0bfe-40c2-b4e8-d291781f5749"
   },
   "outputs": [
    {
     "data": {
      "text/plain": [
       "torch.Size([1433])"
      ]
     },
     "execution_count": 24,
     "metadata": {},
     "output_type": "execute_result"
    }
   ],
   "source": [
    "c_ds.x[0].shape"
   ]
  },
  {
   "cell_type": "code",
   "execution_count": 25,
   "metadata": {
    "colab": {
     "base_uri": "https://localhost:8080/"
    },
    "executionInfo": {
     "elapsed": 154,
     "status": "ok",
     "timestamp": 1650338457197,
     "user": {
      "displayName": "Avkash Chauhan",
      "userId": "01093683102216020094"
     },
     "user_tz": 420
    },
    "id": "TQuEWe1O3SRk",
    "outputId": "50a830b1-0713-4a37-8134-51bc89cc97f3"
   },
   "outputs": [
    {
     "name": "stdout",
     "output_type": "stream",
     "text": [
      "Shape of sample nodes:  torch.Size([5, 1433])\n"
     ]
    }
   ],
   "source": [
    "# sample nodes from the graph\n",
    "print(\"Shape of sample nodes: \", c_ds.x[:5].shape)"
   ]
  },
  {
   "cell_type": "code",
   "execution_count": 27,
   "metadata": {
    "executionInfo": {
     "elapsed": 228,
     "status": "ok",
     "timestamp": 1650338466424,
     "user": {
      "displayName": "Avkash Chauhan",
      "userId": "01093683102216020094"
     },
     "user_tz": 420
    },
    "id": "yYKResNh32t1"
   },
   "outputs": [],
   "source": [
    "c_ds_5 = c_ds.x[:5]"
   ]
  },
  {
   "cell_type": "code",
   "execution_count": 28,
   "metadata": {
    "colab": {
     "base_uri": "https://localhost:8080/"
    },
    "executionInfo": {
     "elapsed": 181,
     "status": "ok",
     "timestamp": 1650338467865,
     "user": {
      "displayName": "Avkash Chauhan",
      "userId": "01093683102216020094"
     },
     "user_tz": 420
    },
    "id": "xN2kaXaQ8AbY",
    "outputId": "5597e334-c6ce-4671-e01c-26ec37a31828"
   },
   "outputs": [
    {
     "data": {
      "text/plain": [
       "torch.Size([5, 1433])"
      ]
     },
     "execution_count": 28,
     "metadata": {},
     "output_type": "execute_result"
    }
   ],
   "source": [
    "c_ds_5.shape"
   ]
  },
  {
   "cell_type": "code",
   "execution_count": 29,
   "metadata": {
    "colab": {
     "base_uri": "https://localhost:8080/"
    },
    "executionInfo": {
     "elapsed": 153,
     "status": "ok",
     "timestamp": 1650338472529,
     "user": {
      "displayName": "Avkash Chauhan",
      "userId": "01093683102216020094"
     },
     "user_tz": 420
    },
    "id": "5mRi6qag8BKK",
    "outputId": "97dd0aa3-efa4-4ab4-952c-35a188960cb9"
   },
   "outputs": [
    {
     "name": "stdout",
     "output_type": "stream",
     "text": [
      "Number of graphs:  5\n",
      "Number of features:  1433\n"
     ]
    }
   ],
   "source": [
    "# number of graphs\n",
    "print(\"Number of graphs: \", len(c_ds_5))\n",
    "print(\"Number of features: \", len(c_ds_5[0]))"
   ]
  },
  {
   "cell_type": "code",
   "execution_count": 31,
   "metadata": {
    "colab": {
     "base_uri": "https://localhost:8080/"
    },
    "executionInfo": {
     "elapsed": 182,
     "status": "ok",
     "timestamp": 1650338483390,
     "user": {
      "displayName": "Avkash Chauhan",
      "userId": "01093683102216020094"
     },
     "user_tz": 420
    },
    "id": "3_sVOc-1L6p3",
    "outputId": "2bcfa017-c30c-40dd-d291-3cbe6e445f08"
   },
   "outputs": [
    {
     "data": {
      "text/plain": [
       "Data(x=[2708, 1433], edge_index=[2, 10556], y=[2708], train_mask=[2708], val_mask=[2708], test_mask=[2708])"
      ]
     },
     "execution_count": 31,
     "metadata": {},
     "output_type": "execute_result"
    }
   ],
   "source": [
    "c_ds"
   ]
  },
  {
   "cell_type": "code",
   "execution_count": 32,
   "metadata": {
    "id": "8awwD1KuL9yp"
   },
   "outputs": [],
   "source": [
    "## train_mask=[2708], val_mask=[2708], test_mask=[2708]\n",
    "## Look Above"
   ]
  },
  {
   "cell_type": "code",
   "execution_count": 33,
   "metadata": {
    "colab": {
     "base_uri": "https://localhost:8080/"
    },
    "executionInfo": {
     "elapsed": 370,
     "status": "ok",
     "timestamp": 1650338514276,
     "user": {
      "displayName": "Avkash Chauhan",
      "userId": "01093683102216020094"
     },
     "user_tz": 420
    },
    "id": "3rF4M_gS8IE4",
    "outputId": "7aff915f-fff2-4002-c4fd-bdc838c8cd52"
   },
   "outputs": [
    {
     "name": "stdout",
     "output_type": "stream",
     "text": [
      "# of nodes to train on:  140\n",
      "# of nodes to test on:  1000\n",
      "# of nodes to validate on:  500\n"
     ]
    }
   ],
   "source": [
    "# check training nodes\n",
    "print(\"# of nodes to train on: \", c_ds.train_mask.sum().item())\n",
    "# check test nodes\n",
    "print(\"# of nodes to test on: \", c_ds.test_mask.sum().item())\n",
    "# check validation nodes\n",
    "print(\"# of nodes to validate on: \", c_ds.val_mask.sum().item())"
   ]
  },
  {
   "cell_type": "code",
   "execution_count": 34,
   "metadata": {
    "colab": {
     "base_uri": "https://localhost:8080/"
    },
    "executionInfo": {
     "elapsed": 168,
     "status": "ok",
     "timestamp": 1650338546379,
     "user": {
      "displayName": "Avkash Chauhan",
      "userId": "01093683102216020094"
     },
     "user_tz": 420
    },
    "id": "F2jn9vSQLqmO",
    "outputId": "e7023ae9-334d-4ef7-9b03-17921bde3307"
   },
   "outputs": [
    {
     "data": {
      "text/plain": [
       "torch_geometric.data.data.Data"
      ]
     },
     "execution_count": 34,
     "metadata": {},
     "output_type": "execute_result"
    }
   ],
   "source": [
    "type(c_ds)"
   ]
  },
  {
   "cell_type": "code",
   "execution_count": 35,
   "metadata": {
    "executionInfo": {
     "elapsed": 678,
     "status": "ok",
     "timestamp": 1650338551658,
     "user": {
      "displayName": "Avkash Chauhan",
      "userId": "01093683102216020094"
     },
     "user_tz": 420
    },
    "id": "ss7iyTRuJDjQ"
   },
   "outputs": [],
   "source": [
    "networkX_graph = to_networkx(c_ds)"
   ]
  },
  {
   "cell_type": "code",
   "execution_count": 36,
   "metadata": {
    "colab": {
     "base_uri": "https://localhost:8080/"
    },
    "executionInfo": {
     "elapsed": 209,
     "status": "ok",
     "timestamp": 1650338553469,
     "user": {
      "displayName": "Avkash Chauhan",
      "userId": "01093683102216020094"
     },
     "user_tz": 420
    },
    "id": "Nvu3C5nHJVE4",
    "outputId": "d80bc71d-c13b-431d-c795-654629986f08"
   },
   "outputs": [
    {
     "data": {
      "text/plain": [
       "networkx.classes.digraph.DiGraph"
      ]
     },
     "execution_count": 36,
     "metadata": {},
     "output_type": "execute_result"
    }
   ],
   "source": [
    "type(networkX_graph)"
   ]
  },
  {
   "cell_type": "code",
   "execution_count": 37,
   "metadata": {
    "colab": {
     "base_uri": "https://localhost:8080/",
     "height": 319
    },
    "executionInfo": {
     "elapsed": 65038,
     "status": "ok",
     "timestamp": 1650338621443,
     "user": {
      "displayName": "Avkash Chauhan",
      "userId": "01093683102216020094"
     },
     "user_tz": 420
    },
    "id": "mU9nIN7fJan1",
    "outputId": "f9716d27-7de0-47dc-de83-ce8259bcb83c"
   },
   "outputs": [
    {
     "data": {
      "image/png": "[encoded data removed]",
      "text/plain": [
       "<Figure size 640x480 with 1 Axes>"
      ]
     },
     "metadata": {},
     "output_type": "display_data"
    }
   ],
   "source": [
    "nx.draw(networkX_graph)"
   ]
  },
  {
   "cell_type": "code",
   "execution_count": 38,
   "metadata": {},
   "outputs": [
    {
     "data": {
      "image/png": "[encoded data removed]",
      "text/plain": [
       "<Figure size 640x480 with 1 Axes>"
      ]
     },
     "metadata": {},
     "output_type": "display_data"
    }
   ],
   "source": [
    "node_color = 'b'\n",
    "node_size = 50\n",
    "edge_color = 'gray' \n",
    "nx.draw(networkX_graph, with_labels=None, node_color=node_color, node_size=node_size, edge_color=edge_color)"
   ]
  },
  {
   "cell_type": "code",
   "execution_count": 38,
   "metadata": {
    "colab": {
     "base_uri": "https://localhost:8080/"
    },
    "executionInfo": {
     "elapsed": 225,
     "status": "ok",
     "timestamp": 1650338647843,
     "user": {
      "displayName": "Avkash Chauhan",
      "userId": "01093683102216020094"
     },
     "user_tz": 420
    },
    "id": "X_NqmxWLKEQk",
    "outputId": "a45d661e-3ff0-4bf4-c9e4-5fb7669a3655"
   },
   "outputs": [
    {
     "data": {
      "text/plain": [
       "<networkx.classes.digraph.DiGraph at 0x1cca4955f00>"
      ]
     },
     "execution_count": 38,
     "metadata": {},
     "output_type": "execute_result"
    }
   ],
   "source": [
    "networkX_graph"
   ]
  },
  {
   "cell_type": "code",
   "execution_count": 39,
   "metadata": {
    "colab": {
     "base_uri": "https://localhost:8080/"
    },
    "executionInfo": {
     "elapsed": 267,
     "status": "ok",
     "timestamp": 1650338629291,
     "user": {
      "displayName": "Avkash Chauhan",
      "userId": "01093683102216020094"
     },
     "user_tz": 420
    },
    "id": "lImzMOp7J1u2",
    "outputId": "6a1fb0dd-9288-45fc-c58d-e827ee418e08"
   },
   "outputs": [
    {
     "name": "stdout",
     "output_type": "stream",
     "text": [
      "False\n",
      "True\n",
      "2708\n",
      "10556\n",
      "2708\n",
      "[(0, 633), (0, 1862), (0, 2582), (1, 2), (1, 652), (1, 654), (2, 1), (2, 332), (2, 1454), (2, 1666), (2, 1986), (3, 2544), (4, 1016), (4, 1256), (4, 1761), (4, 2175), (4, 2176), (5, 1629), (5, 1659), (5, 2546), (6, 373), (6, 1042), (6, 1416), (6, 1602), (7, 208), (8, 269), (8, 281), (8, 1996), (9, 723), (9, 2614), (10, 476), (10, 2545), (11, 1655), (11, 1839), (12, 1001), (12, 1318), (12, 2661), (12, 2662), (13, 1701), (13, 1810), (14, 158), (14, 2034), (14, 2075), (14, 2077), (14, 2668), (15, 1090), (15, 1093), (15, 1271), (15, 2367), (16, 970), (16, 1632), (16, 2444), (16, 2642), (17, 24), (17, 927), (17, 1315), (17, 1316), (17, 2140), (18, 139), (18, 1560), (18, 1786), (18, 2082), (18, 2145), (19, 1939), (20, 1072), (20, 2269), (20, 2270), (20, 2374), (20, 2375), (21, 1043), (21, 2310), (22, 39), (22, 1234), (22, 1702), (22, 1703), (22, 2238), (23, 2159), (24, 17), (24, 201), (24, 598), (24, 1636), (24, 1701), (24, 2139), (24, 2141), (25, 1301), (25, 1344), (25, 2011), (25, 2317), (26, 99), (26, 122), (26, 123), (26, 2454), (26, 2455), (27, 606), (27, 1810), (27, 2360), (27, 2578), (28, 1687), (29, 963), (29, 2645), (30, 697), (30, 738), (30, 1358), (30, 1416), (30, 2162), (30, 2343), (31, 1594), (32, 279), (32, 518), (32, 1850), (32, 1973), (33, 286), (33, 588), (33, 698), (33, 911), (33, 1051), (33, 2040), (33, 2119), (33, 2120), (33, 2121), (34, 1358), (35, 895), (35, 1296), (35, 1913), (36, 1146), (36, 1505), (36, 1552), (36, 1640), (36, 1781), (36, 2094), (36, 2106), (36, 2107), (37, 60), (37, 1190), (37, 2427), (38, 429), (38, 862), (38, 863), (38, 1160), (39, 22), (39, 1349), (39, 1522), (39, 1532), (39, 1634), (39, 1965), (39, 2357), (40, 507), (40, 866), (40, 1364), (41, 175), (41, 596), (41, 644), (41, 1914), (42, 87), (42, 1372), (43, 152), (43, 963), (43, 1530), (43, 1653), (43, 2399), (43, 2400), (44, 1582), (44, 2624), (44, 2701), (45, 733), (45, 1219), (45, 1986), (45, 2303), (45, 2667), (45, 2668), (46, 1604), (46, 2366), (47, 163), (47, 1579), (48, 598), (48, 714), (48, 1031), (48, 1662), (48, 1666), (48, 2041), (48, 2205), (48, 2206), (48, 2471), (49, 1666), (49, 2034), (50, 1441), (51, 457), (51, 710), (51, 1392), (51, 2213), (51, 2214), (51, 2215), (52, 1139), (52, 1467), (52, 2053), (52, 2172), (52, 2182), (53, 1103), (53, 1358), (53, 1739), (54, 401), (54, 767), (55, 60), (55, 210), (55, 323), (55, 651), (55, 771), (55, 787), (55, 815), (55, 1079), (55, 1156), (55, 1983), (55, 2020), (55, 2021), (56, 412), (56, 447), (56, 1616), (56, 1849), (57, 2418), (58, 1715), (59, 105), (59, 580), (59, 609), (59, 615), (59, 1067), (59, 1287), (59, 1358), (59, 1627), (59, 1725), (59, 2651), (60, 37), (60, 55), (60, 1527), (61, 1080), (61, 1309), (61, 1416), (61, 2162), (61, 2312), (62, 485), (63, 1322), (64, 1209), (64, 1737), (64, 2616), (65, 239), (65, 543), (65, 619), (65, 771), (65, 1156), (65, 1293), (65, 1628), (65, 2021), (65, 2418), (65, 2419), (66, 2631), (67, 282), (67, 540), (67, 2628), (68, 391), (68, 1358), (68, 1986), (69, 604), (69, 1013), (69, 1351), (69, 1914), (69, 1920), (69, 1926), (69, 2189), (70, 441), (70, 2184), (71, 206), (71, 1986), (71, 2691), (72, 1103), (72, 1358), (73, 449), (73, 558), (73, 797), (73, 876), (73, 1035), (73, 1136), (73, 1189), (73, 1214), (73, 1358), (73, 1723), (73, 1745), (73, 1751), (74, 544), (74, 586), (74, 1042), (74, 1118), (74, 1416), (74, 1517), (74, 2052), (74, 2155), (74, 2419), (75, 84), (75, 583), (75, 2222), (75, 2223), (75, 2224), (75, 2225), (76, 88), (76, 2018), (76, 2178), (77, 659), (77, 1803), (78, 1219), (78, 1329), (78, 1418), (79, 603), (79, 2097), (80, 257), (80, 1117), (80, 2049), (81, 347), (81, 423), (81, 527), (81, 2180), (82, 1138), (82, 1634), (83, 1520), (83, 2581), (84, 75), (84, 284), (84, 2223), (84, 2224), (84, 2226), (85, 1065), (85, 2487), (85, 2488), (86, 429), (86, 1336), (86, 2034), (86, 2295), (87, 42), (87, 842), (87, 2164), (88, 76), (88, 130), (88, 162), (88, 300), (88, 415), (88, 498), (88, 696), (88, 737), (88, 743), (88, 815), (88, 841), (88, 851), (88, 1174), (88, 1288), (88, 1309), (88, 1394), (88, 1494), (88, 1527), (88, 1658), (88, 1677), (88, 1713), (88, 1732), (88, 1741), (88, 1847), (88, 1882), (88, 1908), (88, 2010), (88, 2011), (88, 2012), (88, 2013), (88, 2014), (88, 2015), (88, 2016), (88, 2017), (88, 2178), (88, 2394), (89, 258), (89, 884), (89, 1087), (89, 1094), (89, 1157), (89, 1401), (89, 1530), (89, 1585), (89, 1653), (89, 2463), (90, 155), (90, 156), (90, 817), (90, 1358), (91, 330), (91, 1046), (91, 2001), (91, 2122), (91, 2123), (91, 2380), (92, 898), (92, 1836), (93, 550), (93, 950), (93, 1495), (93, 2151), (94, 195), (94, 586), (94, 675), (94, 733), (94, 934), (94, 1649), (94, 1966), (94, 2263), (94, 2355), (94, 2357), (94, 2490), (95, 334), (95, 456), (95, 693), (95, 734), (95, 736), (95, 861), (95, 1303), (95, 1535), (95, 1580), (95, 1602), (95, 1628), (95, 1838), (95, 2054), (95, 2074), (95, 2181), (95, 2182), (95, 2183), (95, 2197), (95, 2199), (95, 2200), (95, 2201), (96, 2217), (97, 661), (97, 1353), (98, 1521), (99, 26), (99, 122), (99, 123), (99, 2454), (99, 2455), (99, 2604), (100, 1602), (100, 2056), (101, 281), (101, 1358), (101, 1589), (102, 109), (102, 1251), (102, 1448), (102, 1561), (102, 1623), (102, 1871), (102, 1878), (102, 2256), (103, 139), (103, 306), (103, 484), (103, 608), (103, 1775), (103, 1790), (104, 401), (104, 864), (104, 1065), (104, 2210), (105, 59), (105, 1721), (105, 2476), (105, 2651), (106, 2461), (107, 541), (107, 971), (107, 1113), (107, 1650), (108, 1647), (108, 2157), (108, 2209), (109, 102), (109, 124), (109, 133), (109, 153), (109, 176), (109, 236), (109, 289), (109, 306), (109, 318), (109, 426), (109, 459), (109, 519), (109, 563), (109, 610), (109, 1045), (109, 1337), (109, 1346), (109, 1624), (109, 1661), (109, 1769), (109, 1772), (109, 1779), (109, 1785), (109, 1787), (109, 1789), (109, 1805), (109, 1998), (109, 2045), (109, 2092), (109, 2093), (109, 2094), (109, 2095), (110, 567), (110, 1161), (110, 1262), (110, 1599), (110, 2279), (111, 758), (111, 1169), (111, 1358), (111, 1762), (111, 2492), (111, 2643), (112, 306), (112, 487), (112, 1623), (112, 2080), (113, 540), (113, 747), (113, 1884), (114, 610), (114, 2288), (114, 2506), (115, 973), (116, 1076), (116, 1501), (117, 259), (117, 2537), (118, 255), (118, 388), (118, 446), (118, 454), (118, 554), (118, 581), (118, 842), (118, 1029), (118, 1343), (118, 1507), (118, 1538), (118, 1616), (118, 1690), (118, 1851), (118, 2010), (118, 2030), (118, 2112), (118, 2165), (118, 2166), (119, 379), (119, 646), (119, 1537), (119, 1549), (119, 1901), (119, 1959), (120, 483), (120, 514), (120, 816), (120, 1842), (120, 2405), (121, 589), (121, 802), (121, 980), (121, 1158), (121, 1910), (121, 2251), (121, 2252), (122, 26), (122, 99), (122, 2454), (122, 2455), (123, 26), (123, 99), (123, 2455), (123, 2604), (124, 109), (124, 306), (124, 1367), (124, 1622), (124, 2478), (125, 458), (125, 2363), (126, 236), (126, 306), (126, 1551), (126, 1623), (126, 2045), (126, 2079), (127, 2604), (128, 233), (128, 370), (128, 392), (128, 2270), (129, 441), (129, 701), (130, 88), (130, 1982), (130, 2017), (131, 834), (131, 2169), (132, 379), (132, 479), (132, 904), (132, 1022), (132, 1959), (133, 109), (133, 399), (133, 452), (133, 1623), (133, 1670), (133, 1777), (133, 1784), (133, 2045), (133, 2082), (134, 406), (135, 137), (135, 2095), (135, 2144), (136, 831), (137, 135), (137, 2144), (137, 2329), (137, 2504), (138, 236), (138, 306), (138, 1776), (139, 18), (139, 103), (139, 306), (139, 660), (139, 910), (139, 1623), (139, 1780), (139, 2045), (140, 582), (140, 623), (141, 740), (141, 1002), (141, 2034), (142, 456), (142, 525), (142, 1628), (142, 2049), (142, 2181), (143, 316), (143, 598), (143, 1701), (144, 145), (144, 213), (144, 1593), (144, 2192), (145, 144), (145, 213), (145, 537), (145, 1165), (145, 1593), (145, 2622), (146, 897), (146, 1468), (146, 1907), (146, 1927), (146, 2059), (147, 1519), (147, 1976), (148, 378), (148, 381), (148, 602), (148, 714), (148, 2518), (149, 1080), (149, 1416), (149, 1655), (149, 2025), (150, 310), (150, 914), (150, 1942), (151, 1986), (151, 2236), (151, 2238), (151, 2335), (152, 43), (152, 884), (152, 2238), (152, 2240), (153, 109), (153, 236), (153, 306), (153, 459), (153, 1623), (153, 2045), (154, 326), (154, 364), (154, 819), (154, 1238), (154, 1339), (154, 1358), (154, 1444), (154, 1568), (154, 1752), (154, 1753), (154, 1754), (154, 2525), (155, 90), (155, 156), (155, 817), (155, 1358), (155, 1689), (155, 1736), (155, 1763), (156, 90), (156, 155), (156, 817), (156, 1358), (156, 1689), (156, 1763), (157, 598), (157, 1701), (157, 1870), (157, 2493), (158, 14), (158, 180), (158, 1701), (158, 2034), (159, 180), (159, 2308), (160, 277), (160, 553), (160, 743), (160, 745), (160, 1986), (160, 2000), (160, 2009), (161, 842), (161, 2010), (162, 88), (162, 323), (162, 1174), (162, 1268), (162, 1667), (163, 47), (164, 210), (164, 211), (165, 598), (165, 1473), (165, 2706), (165, 2707), (166, 271), (166, 2617), (167, 168), (167, 1056), (167, 2437), (167, 2482), (168, 167), (168, 2437), (168, 2438), (169, 1994), (169, 2706), (170, 1067), (170, 1358), (171, 775), (171, 790), (171, 1548), (172, 240), (172, 512), (172, 756), (172, 1692), (172, 2187), (173, 687), (173, 1033), (173, 1358), (173, 1586), (174, 629), (174, 1358), (174, 1742), (174, 2334), (175, 41), (175, 596), (175, 955), (175, 1914), (175, 2135), (175, 2217), (175, 2388), (176, 109), (176, 231), (176, 973), (177, 726), (177, 1639), (177, 2679), (177, 2682), (178, 833), (179, 197), (179, 231), (179, 1986), (180, 158), (180, 159), (180, 775), (180, 790), (180, 791), (180, 1020), (180, 1807), (180, 2004), (180, 2037), (180, 2076), (181, 1013), (181, 1359), (181, 1464), (181, 1683), (182, 183), (182, 997), (183, 182), (183, 997), (183, 1837), (184, 520), (185, 297), (185, 2003), (186, 1228), (186, 1319), (186, 1536), (186, 1672), (186, 2580), (186, 2702), (187, 1208), (188, 1169), (188, 1727), (189, 564), (189, 1072), (189, 1262), (189, 1509), (190, 491), (190, 2135), (191, 382), (191, 608), (191, 1677), (191, 1791), (191, 1998), (191, 2385), (192, 2472), (193, 441), (193, 458), (194, 473), (194, 1050), (194, 1451), (194, 2564), (194, 2646), (195, 94), (195, 2424), (196, 429), (196, 442), (196, 2122), (197, 179), (197, 231), (197, 2412), (198, 1255), (199, 420), (199, 1869), (200, 1439), (200, 2676), (201, 24), (201, 297), (201, 570), (201, 598), (201, 1701), (201, 1986), (201, 2430), (202, 353), (202, 1173), (202, 1250), (202, 1345), (203, 854), (203, 857), (203, 963), (203, 1115), (203, 1869), (204, 415), (205, 1701), (205, 1869), (206, 71), (206, 2691), (207, 833), (208, 7), (209, 2681), (210, 55), (210, 164), (210, 1079), (210, 1614), (210, 1626), (210, 1671), (210, 1905), (210, 1906), (210, 1907), (210, 2309), (211, 164), (211, 356), (211, 1394), (211, 1908), (211, 1909), (212, 1290), (213, 144), (213, 145), (213, 1593), (213, 2192), (214, 2194), (215, 1701), (215, 1986), (215, 2045), (216, 1542), (216, 1701), (217, 243), (217, 2473), (217, 2474), (218, 482), (218, 733), (218, 781), (218, 792), (218, 1020), (218, 1348), (218, 1382), (218, 2076), (218, 2091), (218, 2119), (218, 2594), (219, 507), (219, 1413), (219, 1542), (220, 376), (220, 817), (220, 913), (221, 817), (222, 821), (223, 744), (223, 1154), (223, 1761), (224, 1810), (224, 2034), (225, 2255), (226, 1701), (227, 534), (227, 883), (228, 322), (228, 848), (228, 1358), (228, 1721), (228, 1871), (229, 1053), (229, 1405), (229, 1894), (229, 2118), (230, 549), (230, 577), (230, 1095), (230, 1217), (230, 1810), (231, 176), (231, 179), (231, 197), (231, 232), (231, 387), (231, 551), (231, 1701), (231, 1868), (231, 2217), (232, 231), (232, 869), (232, 1701), (232, 1864), (232, 1986), (233, 128), (234, 610), (234, 2591), (235, 1701), (236, 109), (236, 126), (236, 138), (236, 153), (236, 306), (236, 1072), (236, 1572), (236, 2045), (236, 2046), (236, 2078), (236, 2079), (237, 2539), (238, 1828), (239, 65), (239, 619), (239, 887), (239, 910), (239, 1069), (239, 1220), (239, 1274), (239, 1376), (239, 1759), (239, 1909), (239, 2021), (239, 2182), (239, 2418), (240, 172), (240, 512), (240, 756), (240, 1472), (240, 1692), (241, 1441), (242, 279), (242, 838), (242, 1131), (242, 2280), (243, 217), (243, 473), (243, 2474), (243, 2647), (243, 2648), (244, 565), (244, 1072), (244, 1358), (244, 1610), (245, 782), (245, 1162), (246, 936), (246, 1358), (246, 1687), (246, 2515), (247, 2583), (248, 1264), (248, 1531), (248, 1964), (249, 621), (249, 1884), (249, 1978), (250, 2429), (251, 253), (251, 507), (251, 812), (251, 1300), (251, 1413), (251, 1542), (251, 1933), (252, 711), (252, 973), (252, 1973), (252, 2485), (253, 251), (253, 507), (253, 1413), (254, 507), (254, 1211), (255, 118), (255, 1266), (255, 1343), (255, 2112), (256, 756), (257, 80), (257, 964), (257, 1388), (257, 2180), (258, 89), (258, 963), (258, 1094), (258, 1153), (258, 1240), (258, 1401), (258, 2645), (259, 117), (259, 2537), (260, 365), (261, 873), (261, 1479), (261, 1701), (261, 1894), (262, 1351), (262, 1464), (263, 364), (263, 732), (263, 1103), (264, 472), (264, 844), (264, 1826), (264, 1902), (265, 1441), (266, 578), (266, 809), (266, 2227), (266, 2229), (267, 670), (267, 2000), (267, 2373), (268, 1740), (268, 2451), (269, 8), (269, 321), (269, 418), (269, 2543), (269, 2551), (270, 279), (270, 838), (270, 1195), (270, 1215), (270, 2280), (271, 166), (271, 638), (271, 1970), (271, 2387), (271, 2498), (272, 2012), (273, 374), (273, 846), (274, 748), (274, 749), (275, 805), (275, 1967), (276, 1463), (276, 1695), (276, 2133), (277, 160), (277, 553), (277, 696), (277, 973), (277, 1869), (278, 1185), (279, 32), (279, 242), (279, 270), (279, 304), (279, 502), (279, 666), (279, 838), (279, 1195), (279, 2165), (279, 2280), (279, 2344), (279, 2423), (280, 1535), (280, 2155), (281, 8), (281, 101), (281, 746), (281, 1000), (281, 1347), (281, 1382), (281, 2244), (281, 2247), (282, 67), (282, 747), (283, 1559), (283, 2250), (284, 84), (284, 583), (284, 2222), (284, 2223), (284, 2224), (284, 2225), (284, 2226), (285, 502), (285, 1999), (286, 33), (286, 442), (286, 698), (287, 2705), (288, 618), (289, 109), (289, 1358), (289, 1722), (290, 328), (290, 567), (290, 687), (290, 1765), (290, 2359), (291, 1692), (292, 2562), (293, 2038), (294, 306), (294, 2047), (295, 1176), (295, 1177), (296, 732), (296, 2685), (297, 185), (297, 201), (297, 598), (297, 899), (297, 1542), (298, 607), (298, 1095), (298, 1325), (299, 1484), (299, 2383), (299, 2386), (299, 2387), (299, 2498), (300, 88), (300, 415), (300, 634), (301, 1169), (301, 2492), (302, 306), (302, 350), (302, 719), (302, 1158), (302, 1253), (303, 719), (303, 1670), (303, 2143), (304, 279), (304, 1172), (304, 1857), (304, 2423), (305, 1416), (305, 1927), (306, 103), (306, 109), (306, 112), (306, 124), (306, 126), (306, 138), (306, 139), (306, 153), (306, 236), (306, 294), (306, 302), (306, 308), (306, 329), (306, 350), (306, 417), (306, 426), (306, 452), (306, 476), (306, 487), (306, 519), (306, 542), (306, 554), (306, 573), (306, 581), (306, 608), (306, 655), (306, 656), (306, 719), (306, 887), (306, 910), (306, 958), (306, 973), (306, 1009), (306, 1045), (306, 1072), (306, 1158), (306, 1193), (306, 1245), (306, 1251), (306, 1346), (306, 1367), (306, 1483), (306, 1490), (306, 1551), (306, 1572), (306, 1584), (306, 1640), (306, 1651), (306, 1656), (306, 1705), (306, 1770), (306, 1771), (306, 1772), (306, 1775), (306, 1779), (306, 1781), (306, 1782), (306, 1787), (306, 1797), (306, 1798), (306, 1799), (306, 1802), (306, 1804), (306, 1805), (306, 1856), (306, 2045), (306, 2046), (306, 2048), (306, 2078), (306, 2080), (306, 2084), (306, 2085), (306, 2086), (306, 2087), (306, 2088), (306, 2089), (306, 2090), (306, 2091), (307, 991), (308, 306), (308, 350), (308, 1253), (308, 1670), (308, 2045), (309, 383), (309, 2268), (309, 2305), (310, 150), (310, 352), (310, 875), (310, 892), (310, 990), (310, 1241), (310, 1272), (310, 1331), (310, 1581), (310, 1815), (310, 1944), (310, 1945), (310, 1946), (310, 1947), (310, 1948), (310, 1949), (310, 1950), (311, 343), (311, 690), (311, 1132), (311, 1865), (312, 1610), (312, 1722), (312, 1740), (313, 2296), (314, 1623), (314, 2000), (315, 408), (315, 423), (315, 1602), (315, 1921), (315, 2232), (316, 143), (316, 598), (316, 766), (316, 845), (316, 920), (316, 1073), (316, 1297), (316, 1821), (316, 1868), (316, 2004), (317, 1624), (317, 1785), (318, 109), (318, 563), (318, 1701), (318, 2045), (319, 1205), (320, 348), (320, 1597), (321, 269), (321, 1083), (321, 1450), (322, 228), (323, 55), (323, 162), (323, 498), (323, 2020), (323, 2022), (324, 827), (324, 2156), (324, 2194), (325, 787), (325, 1848), (326, 154), (326, 1358), (326, 1754), (327, 928), (327, 1325), (327, 1996), (327, 2063), (327, 2064), (328, 290), (328, 951), (328, 1250), (329, 306), (329, 1798), (329, 2598), (330, 91), (330, 1505), (330, 2123), (331, 1527), (331, 2480), (332, 2), (332, 665), (332, 2003), (332, 2122), (332, 2615), (333, 1358), (333, 1694), (334, 95), (334, 693), (334, 1013), (335, 1701), (335, 1986), (336, 1944), (336, 1950), (337, 1214), (337, 1358), (337, 1499), (337, 1776), (338, 1413), (338, 1542), (338, 1934), (339, 813), (340, 584), (340, 2463), (341, 613), (341, 1358), (341, 1389), (341, 1546), (341, 2045), (342, 1072), (342, 1512), (343, 311), (343, 1701), (344, 389), (344, 441), (344, 661), (344, 854), (344, 2323), (345, 833), (346, 999), (346, 1358), (347, 81), (347, 408), (347, 423), (347, 525), (348, 320), (348, 1643), (348, 2248), (348, 2250), (349, 419), (349, 465), (349, 2427), (350, 302), (350, 306), (350, 308), (350, 406), (350, 656), (350, 1623), (350, 1640), (350, 1775), (350, 1778), (350, 1782), (350, 2084), (350, 2085), (350, 2089), (350, 2090), (351, 1810), (352, 310), (352, 1294), (352, 1944), (353, 202), (353, 1173), (353, 1345), (353, 2507), (354, 659), (354, 1803), (354, 2453), (355, 1668), (356, 211), (356, 498), (356, 1259), (356, 2018), (356, 2116), (357, 657), (357, 1154), (357, 1358), (357, 2652), (358, 2642), (359, 389), (359, 1483), (359, 1620), (360, 1409), (360, 1824), (361, 2681), (362, 1966), (363, 1003), (364, 154), (364, 263), (364, 732), (364, 819), (364, 970), (364, 1306), (364, 1358), (364, 1606), (364, 1632), (364, 1756), (364, 2642), (365, 260), (365, 2469), (366, 553), (366, 745), (366, 1583), (366, 1986), (367, 2083), (367, 2451), (368, 428), (368, 996), (368, 1194), (368, 1366), (368, 1545), (368, 2249), (368, 2393), (369, 385), (369, 2484), (370, 128), (370, 1408), (370, 1414), (370, 1415), (370, 2269), (371, 720), (371, 1354), (371, 1414), (371, 1415), (371, 1441), (371, 1553), (371, 2375), (372, 626), (372, 1710), (372, 1834), (372, 2377), (373, 6), (373, 1025), (373, 1042), (374, 273), (374, 413), (374, 846), (374, 1101), (374, 2146), (374, 2147), (374, 2149), (375, 963), (375, 2401), (375, 2434), (375, 2435), (376, 220), (376, 672), (376, 1583), (377, 678), (377, 733), (377, 1265), (377, 2291), (378, 148), (378, 602), (379, 119), (379, 132), (379, 904), (379, 1022), (379, 1898), (379, 1959), (380, 477), (380, 930), (380, 2569), (381, 148), (381, 2518), (381, 2538), (382, 191), (382, 1203), (382, 2034), (383, 309), (383, 733), (383, 1704), (383, 2268), (384, 1623), (384, 1624), (385, 369), (385, 2483), (385, 2484), (386, 2114), (386, 2115), (386, 2117), (387, 231), (387, 519), (387, 2191), (388, 118), (388, 1899), (388, 2497), (389, 344), (389, 359), (389, 704), (389, 905), (389, 1077), (389, 1483), (389, 1743), (389, 2450), (390, 1108), (391, 68), (391, 493), (391, 1986), (391, 2365), (392, 128), (392, 720), (392, 1415), (392, 1619), (392, 1825), (392, 2269), (393, 739), (394, 577), (394, 849), (394, 1063), (394, 1064), (394, 2351), (395, 640), (395, 1147), (395, 2367), (396, 1217), (396, 1988), (397, 665), (397, 879), (397, 1096), (397, 2329), (398, 730), (398, 2177), (399, 133), (399, 544), (399, 1089), (399, 1769), (399, 2107), (400, 1354), (401, 54), (401, 104), (401, 733), (401, 1065), (401, 1096), (401, 1160), (402, 507), (402, 776), (402, 1413), (402, 1542), (402, 1932), (402, 1936), (402, 1940), (403, 464), (403, 806), (403, 1037), (403, 1383), (403, 1742), (403, 2503), (403, 2654), (404, 1170), (404, 1476), (405, 738), (405, 1275), (405, 1927), (405, 2059), (406, 134), (406, 350), (406, 505), (406, 2505), (407, 409), (407, 695), (407, 1681), (407, 1682), (408, 315), (408, 347), (408, 525), (408, 734), (408, 1841), (408, 2056), (409, 407), (409, 1624), (409, 1681), (409, 2084), (410, 676), (410, 1179), (411, 1096), (411, 1488), (411, 1577), (411, 2609), (412, 56), (412, 1616), (412, 1849), (413, 374), (414, 711), (415, 88), (415, 204), (415, 300), (415, 525), (415, 593), (415, 737), (415, 818), (415, 851), (415, 966), (415, 1174), (415, 1309), (415, 1527), (415, 1644), (415, 1677), (415, 1843), (415, 1847), (415, 1850), (415, 1908), (415, 2014), (415, 2178), (415, 2182), (416, 519), (416, 1701), (417, 306), (417, 1072), (417, 1871), (417, 2034), (417, 2494), (418, 269), (419, 349), (420, 199), (420, 1869), (421, 2213), (421, 2216), (422, 545), (423, 81), (423, 315), (423, 347), (423, 525), (423, 527), (424, 436), (424, 1203), (425, 2466), (426, 109), (426, 306), (426, 487), (426, 1772), (426, 1777), (426, 1782), (426, 1789), (426, 1805), (427, 565), (427, 1528), (428, 368), (428, 996), (428, 1257), (428, 2248), (428, 2671), (429, 38), (429, 86), (429, 196), (429, 523), (429, 705), (429, 794), (429, 863), (429, 1493), (429, 1618), (429, 1669), (429, 1807), (429, 1889), (429, 2001), (429, 2041), (429, 2043), (429, 2044), (430, 2130), (431, 2694), (431, 2695), (432, 1442), (432, 1597), (433, 436), (433, 756), (434, 1117), (434, 1524), (434, 1693), (434, 2133), (434, 2408), (435, 486), (435, 733), (435, 1912), (436, 424), (436, 433), (436, 483), (436, 498), (436, 668), (436, 816), (436, 878), (436, 885), (436, 1039), (436, 1131), (436, 1332), (436, 1494), (436, 1977), (436, 1978), (436, 1979), (436, 1980), (436, 1981), (436, 1982), (437, 498), (437, 718), (437, 950), (437, 1495), (437, 1985), (438, 718), (438, 787), (438, 1667), (438, 1983), (438, 1984), (438, 1985), (439, 1169), (439, 1642), (440, 441), (440, 725), (440, 895), (440, 1296), (440, 1913), (440, 2179), (441, 70), (441, 129), (441, 193), (441, 344), (441, 440), (441, 454), (441, 671), (441, 1455), (441, 1537), (441, 2094), (441, 2184), (442, 196), (442, 286), (442, 588), (442, 627), (442, 698), (442, 1051), (442, 2120), (442, 2362), (443, 1010), (443, 1264), (443, 1531), (443, 1966), (444, 488), (444, 515), (444, 582), (444, 623), (444, 828), (444, 2289), (444, 2290), (444, 2464), (445, 909), (445, 1434), (446, 118), (446, 903), (446, 1507), (447, 56), (447, 1616), (447, 1849), (447, 2638), (448, 472), (448, 1824), (448, 1826), (448, 1902), (449, 73), (449, 1280), (449, 1834), (449, 2581), (450, 1569), (450, 2538), (451, 671), (451, 935), (451, 2285), (452, 133), (452, 306), (452, 1258), (452, 1623), (453, 1806), (453, 2305), (453, 2306), (454, 118), (454, 441), (454, 581), (454, 973), (454, 1441), (454, 1661), (454, 1917), (454, 2022), (454, 2188), (454, 2189), (454, 2190), (455, 1664), (455, 2147), (455, 2486), (456, 95), (456, 142), (456, 525), (456, 544), (456, 667), (456, 1580), (456, 2054), (456, 2199), (456, 2347), (456, 2472), (457, 51), (457, 1201), (457, 2215), (457, 2216), (458, 125), (458, 193), (458, 1122), (458, 1276), (458, 1555), (458, 1953), (459, 109), (459, 153), (459, 1623), (459, 1681), (460, 1986), (460, 1989), (460, 2532), (461, 1203), (461, 2309), (462, 1048), (463, 1702), (463, 1703), (463, 1964), (463, 1966), (464, 403), (464, 1758), (464, 2444), (464, 2445), (465, 349), (465, 896), (465, 1403), (465, 1869), (465, 2304), (466, 970), (466, 1305), (466, 1358), (466, 1738), (466, 2546), (467, 1172), (467, 1701), (467, 1708), (468, 647), (468, 1311), (468, 1313), (469, 620), (469, 2304), (469, 2412), (470, 652), (470, 854), (470, 857), (470, 1097), (470, 1115), (471, 1013), (471, 2013), (471, 2394), (472, 264), (472, 448), (472, 559), (472, 844), (472, 1182), (472, 1183), (472, 1825), (472, 2029), (473, 194), (473, 243), (473, 1575), (473, 2647), (474, 1181), (475, 2219), (476, 10), (476, 306), (476, 1140), (476, 1800), (476, 1986), (477, 380), (477, 930), (477, 2569), (478, 514), (478, 1978), (478, 2024), (479, 132), (479, 1880), (480, 598), (480, 687), (480, 1426), (480, 1710), (480, 2359), (480, 2372), (481, 823), (481, 1287), (481, 1810), (481, 2291), (482, 218), (482, 790), (482, 1807), (482, 1810), (482, 1812), (482, 1814), (482, 2230), (482, 2307), (482, 2308), (483, 120), (483, 436), (483, 816), (483, 2405), (484, 103), (484, 542), (484, 1367), (484, 1699), (484, 1775), (484, 2046), (484, 2081), (485, 62), (485, 839), (485, 1042), (485, 2219), (486, 435), (486, 2077), (486, 2667), (486, 2668), (487, 112), (487, 306), (487, 426), (487, 655), (487, 859), (487, 1705), (487, 1772), (487, 1773), (487, 1782), (487, 1798), (487, 2026), (487, 2080), (488, 444), (488, 2547), (489, 1358), (489, 2390), (489, 2391), (490, 826), (490, 1131), (490, 1309), (490, 1463), (490, 1879), (490, 1973), (490, 1981), (490, 2099), (490, 2105), (491, 190), (492, 688), (492, 956), (492, 1257), (492, 1533), (492, 2538), (492, 2673), (492, 2678), (493, 391), (493, 1244), (493, 1759), (494, 2614), (495, 1327), (495, 1328), (495, 2192), (496, 596), (496, 711), (496, 992), (497, 2419), (498, 88), (498, 323), (498, 356), (498, 436), (498, 437), (498, 1652), (499, 2457), (499, 2458), (500, 2241), (501, 1358), (501, 1765), (502, 279), (502, 285), (502, 1976), (503, 576), (503, 1692), (503, 2001), (504, 1973), (504, 2394), (504, 2396), (505, 406), (505, 573), (505, 843), (505, 1180), (505, 1251), (505, 1258), (505, 1304), (505, 1448), (505, 1560), (505, 1779), (505, 2083), (506, 1013), (506, 1352), (506, 1914), (506, 1918), (507, 40), (507, 219), (507, 251), (507, 253), (507, 254), (507, 402), (507, 812), (507, 1176), (507, 1211), (507, 1300), (507, 1363), (507, 1413), (507, 1931), (507, 1933), (507, 1936), (507, 1940), (507, 1941), (507, 2508), (508, 2325), (509, 1101), (509, 2146), (509, 2148), (510, 1013), (510, 1131), (510, 1171), (511, 549), (511, 1810), (512, 172), (512, 240), (512, 756), (512, 1472), (512, 1692), (513, 565), (513, 657), (513, 1528), (514, 120), (514, 478), (514, 1314), (514, 1882), (514, 1978), (515, 444), (515, 623), (515, 1102), (515, 2464), (515, 2465), (515, 2547), (516, 1882), (516, 2104), (517, 952), (517, 2105), (518, 32), (518, 666), (518, 1373), (518, 2423), (519, 109), (519, 306), (519, 387), (519, 416), (519, 598), (519, 836), (519, 1346), (519, 1574), (519, 1670), (519, 1986), (519, 1998), (519, 2045), (520, 184), (521, 598), (522, 2097), (523, 429), (523, 949), (523, 2406), (524, 552), (524, 979), (524, 1169), (524, 1358), (524, 2476), (525, 142), (525, 347), (525, 408), (525, 415), (525, 423), (525, 456), (525, 1540), (525, 1628), (525, 2054), (525, 2057), (525, 2172), (525, 2180), (525, 2181), (525, 2182), (525, 2183), (526, 565), (526, 1007), (526, 1216), (526, 1742), (527, 81), (527, 423), (528, 803), (529, 1417), (529, 1419), (529, 2260), (530, 1013), (530, 1505), (530, 2094), (531, 606), (531, 2308), (532, 1701), (532, 1863), (533, 1742), (533, 2466), (534, 227), (534, 609), (534, 629), (534, 933), (535, 2392), (535, 2641), (536, 567), (536, 1894), (537, 145), (537, 1165), (537, 1593), (537, 1698), (537, 2192), (538, 1286), (539, 711), (539, 1616), (539, 2155), (540, 67), (540, 113), (540, 747), (540, 1441), (540, 2527), (541, 107), (541, 647), (541, 904), (541, 1022), (541, 1360), (541, 1896), (542, 306), (542, 484), (542, 1245), (542, 1623), (543, 65), (543, 984), (544, 74), (544, 399), (544, 456), (544, 1580), (544, 1769), (544, 2052), (544, 2199), (544, 2347), (545, 422), (546, 1608), (546, 2127), (547, 598), (547, 1701), (548, 809), (548, 843), (548, 1523), (548, 1937), (548, 2138), (549, 230), (549, 511), (549, 1497), (549, 1810), (550, 93), (551, 231), (551, 2388), (552, 524), (552, 1169), (552, 1358), (552, 2201), (553, 160), (553, 277), (553, 366), (553, 745), (553, 1127), (553, 1583), (553, 1995), (553, 2009), (554, 118), (554, 306), (554, 685), (555, 1463), (556, 1623), (556, 1805), (557, 1725), (558, 73), (558, 876), (558, 1189), (558, 1706), (558, 2585), (559, 472), (559, 1182), (559, 1579), (560, 774), (560, 2526), (561, 1016), (562, 704), (562, 1483), (562, 1735), (562, 2450), (563, 109), (563, 318), (563, 1337), (563, 1701), (563, 2045), (564, 189), (564, 1262), (564, 2476), (565, 244), (565, 427), (565, 513), (565, 526), (565, 687), (565, 1038), (565, 1361), (565, 1398), (565, 1528), (565, 1610), (565, 1723), (565, 2279), (566, 1907), (566, 1986), (567, 110), (567, 290), (567, 536), (567, 631), (567, 760), (567, 1262), (567, 1513), (568, 1116), (568, 1223), (568, 1810), (569, 1759), (569, 2512), (570, 201), (570, 2430), (571, 696), (571, 1570), (572, 1416), (572, 2025), (572, 2418), (573, 306), (573, 505), (573, 643), (573, 1313), (573, 2407), (574, 576), (574, 1692), (574, 2001), (575, 2283), (576, 503), (576, 574), (576, 665), (576, 1810), (576, 2348), (577, 230), (577, 394), (577, 849), (577, 870), (577, 906), (577, 1063), (577, 1129), (577, 1518), (577, 2351), (577, 2352), (577, 2353), (577, 2354), (578, 266), (578, 1105), (578, 1879), (578, 1974), (579, 994), (579, 1134), (579, 1808), (580, 59), (580, 744), (580, 1358), (580, 1742), (580, 1758), (580, 1765), (580, 2444), (580, 2445), (581, 118), (581, 306), (581, 454), (581, 1616), (581, 1623), (581, 1792), (582, 140), (582, 444), (582, 2548), (582, 2549), (583, 75), (583, 284), (583, 2224), (583, 2225), (584, 340), (584, 623), (584, 2289), (584, 2463), (584, 2464), (585, 2526), (586, 74), (586, 94), (586, 1218), (586, 1224), (586, 2155), (587, 1032), (588, 33), (588, 442), (588, 698), (588, 2383), (589, 121), (589, 980), (589, 1158), (589, 1624), (590, 1441), (590, 1954), (591, 642), (591, 1017), (591, 1078), (591, 1423), (591, 2472), (592, 2669), (593, 415), (593, 1115), (593, 1474), (594, 663), (594, 2195), (595, 1016), (595, 1256), (595, 2176), (596, 41), (596, 175), (596, 496), (596, 644), (596, 992), (596, 1914), (597, 1104), (597, 1628), (598, 24), (598, 48), (598, 143), (598, 157), (598, 165), (598, 201), (598, 297), (598, 316), (598, 480), (598, 519), (598, 521), (598, 547), (598, 637), (598, 766), (598, 845), (598, 869), (598, 968), (598, 1003), (598, 1100), (598, 1107), (598, 1297), (598, 1299), (598, 1301), (598, 1473), (598, 1573), (598, 1636), (598, 1821), (598, 1823), (598, 1864), (598, 1870), (598, 1875), (598, 2138), (598, 2707), (599, 1093), (599, 1271), (600, 2394), (601, 2229), (602, 148), (602, 378), (603, 79), (603, 716), (603, 795), (603, 1248), (603, 1821), (603, 1873), (603, 2045), (604, 69), (604, 1351), (604, 1652), (604, 1914), (604, 2109), (605, 1107), (605, 2534), (606, 27), (606, 531), (606, 1666), (606, 2230), (606, 2360), (606, 2361), (607, 298), (607, 1213), (607, 1664), (608, 103), (608, 191), (608, 306), (608, 1623), (608, 2080), (609, 59), (609, 534), (609, 883), (609, 1041), (609, 1358), (609, 2446), (609, 2447), (609, 2448), (610, 109), (610, 114), (610, 234), (610, 826), (610, 2287), (610, 2288), (610, 2481), (611, 2690), (612, 2235), (613, 341), (613, 1358), (614, 888), (614, 1475), (614, 2470), (615, 59), (615, 2443), (616, 1358), (616, 1739), (616, 2365), (616, 2503), (617, 705), (617, 2034), (618, 288), (618, 938), (619, 65), (619, 239), (620, 469), (620, 923), (620, 2534), (621, 249), (621, 1332), (621, 1978), (621, 2018), (622, 886), (622, 1002), (622, 1951), (622, 1952), (623, 140), (623, 444), (623, 515), (623, 584), (623, 2289), (623, 2464), (624, 1042), (624, 1232), (625, 1024), (626, 372), (626, 1358), (626, 2556), (626, 2558), (627, 442), (627, 2122), (627, 2238), (627, 2335), (628, 1169), (628, 1725), (628, 1764), (628, 2546), (629, 174), (629, 534), (629, 883), (630, 973), (631, 567), (631, 2358), (632, 1430), (633, 0), (633, 1701), (633, 1866), (634, 300), (634, 2227), (635, 2058), (636, 2233), (637, 598), (637, 1641), (638, 271), (638, 783), (638, 808), (638, 893), (638, 924), (638, 1773), (638, 2387), (639, 900), (640, 395), (640, 765), (640, 894), (640, 1090), (640, 1598), (640, 2420), (641, 2704), (642, 591), (642, 2472), (643, 573), (643, 1167), (643, 1538), (643, 2407), (644, 41), (644, 596), (644, 711), (644, 728), (644, 1258), (644, 2177), (645, 891), (645, 950), (645, 1267), (645, 1358), (645, 1495), (645, 1824), (645, 1826), (645, 1895), (645, 1898), (645, 1899), (645, 1900), (645, 1901), (646, 119), (647, 468), (647, 541), (647, 904), (647, 1267), (647, 1360), (648, 1441), (649, 1171), (649, 1457), (650, 819), (650, 1250), (650, 1486), (650, 1557), (650, 1685), (650, 1756), (650, 2083), (651, 55), (651, 885), (651, 1667), (651, 1984), (651, 2023), (651, 2024), (651, 2156), (652, 1), (652, 470), (653, 1231), (654, 1), (655, 306), (655, 487), (655, 2080), (656, 306), (656, 350), (656, 2090), (657, 357), (657, 513), (657, 867), (657, 871), (657, 1229), (657, 1254), (657, 1729), (657, 1740), (657, 2440), (657, 2442), (657, 2522), (657, 2523), (658, 2147), (659, 77), (659, 354), (659, 1803), (660, 139), (660, 1623), (661, 97), (661, 344), (661, 807), (661, 830), (661, 935), (661, 1028), (661, 1045), (661, 1353), (661, 1878), (661, 1879), (661, 1880), (661, 1881), (661, 1882), (661, 1883), (661, 1884), (661, 1885), (662, 932), (663, 594), (663, 2195), (664, 1701), (665, 332), (665, 397), (665, 576), (665, 2120), (665, 2122), (666, 279), (666, 518), (666, 1850), (666, 1973), (667, 456), (667, 2364), (667, 2472), (668, 436), (669, 729), (669, 1086), (669, 1124), (670, 267), (670, 2606), (671, 441), (671, 451), (671, 973), (671, 2025), (672, 376), (672, 2456), (673, 1907), (673, 1986), (674, 1907), (675, 94), (675, 2356), (676, 410), (676, 1955), (676, 2235), (677, 954), (678, 377), (678, 733), (679, 1395), (680, 2199), (681, 1171), (681, 1445), (681, 1446), (681, 1986), (682, 973), (682, 1224), (683, 834), (683, 2169), (684, 1282), (684, 1358), (685, 554), (686, 1358), (686, 2366), (687, 173), (687, 290), (687, 480), (687, 565), (687, 1033), (687, 1171), (687, 1358), (687, 1546), (687, 1586), (687, 1610), (687, 1710), (687, 1721), (687, 1725), (687, 2359), (687, 2372), (688, 492), (688, 1257), (689, 1169), (689, 1292), (689, 1317), (689, 1358), (689, 1721), (690, 311), (691, 2034), (691, 2130), (692, 2629), (693, 95), (693, 334), (693, 763), (693, 1851), (693, 2108), (694, 1478), (694, 2516), (695, 407), (695, 948), (695, 1012), (695, 1336), (695, 1681), (695, 1682), (695, 1790), (695, 1998), (695, 2319), (696, 88), (696, 277), (696, 571), (696, 1570), (697, 30), (697, 1080), (698, 33), (698, 286), (698, 442), (698, 588), (698, 1015), (699, 1701), (699, 2045), (699, 2327), (700, 1691), (701, 129), (701, 735), (701, 739), (701, 2062), (702, 777), (702, 779), (702, 822), (702, 993), (702, 1368), (702, 1637), (702, 2069), (702, 2070), (702, 2101), (703, 801), (703, 1961), (703, 2497), (704, 389), (704, 562), (704, 969), (704, 1412), (704, 1483), (704, 1743), (704, 2113), (704, 2450), (705, 429), (705, 617), (706, 805), (706, 963), (706, 1240), (706, 2238), (706, 2645), (707, 763), (708, 836), (708, 1358), (708, 2212), (708, 2216), (709, 1896), (709, 1903), (710, 51), (710, 1392), (710, 2212), (710, 2213), (711, 252), (711, 414), (711, 496), (711, 539), (711, 644), (711, 1285), (711, 2111), (711, 2112), (711, 2113), (712, 850), (712, 1464), (712, 2480), (713, 1044), (714, 48), (714, 148), (714, 1385), (715, 2291), (716, 603), (716, 1810), (716, 1821), (716, 2409), (717, 1907), (718, 437), (718, 438), (718, 1416), (718, 2059), (718, 2261), (719, 302), (719, 303), (719, 306), (719, 1623), (719, 1810), (720, 371), (720, 392), (720, 1441), (721, 1034), (722, 1273), (722, 1567), (722, 1874), (722, 2500), (722, 2501), (723, 9), (723, 2614), (724, 1344), (724, 2394), (724, 2395), (725, 440), (725, 1104), (725, 1137), (725, 1652), (725, 2071), (726, 177), (726, 1533), (726, 2671), (727, 1386), (727, 2570), (728, 644), (728, 1070), (728, 1296), (728, 2388), (728, 2553), (729, 669), (729, 1159), (729, 1221), (729, 1701), (729, 2534), (730, 398), (731, 901), (731, 1279), (731, 2199), (731, 2203), (732, 263), (732, 296), (732, 364), (732, 1756), (732, 2685), (733, 45), (733, 94), (733, 218), (733, 377), (733, 383), (733, 401), (733, 435), (733, 678), (733, 759), (733, 794), (733, 862), (733, 1062), (733, 1160), (733, 1192), (733, 1265), (733, 1294), (733, 1329), (733, 1682), (733, 1817), (733, 1818), (733, 2008), (733, 2011), (733, 2035), (733, 2268), (733, 2291), (733, 2301), (733, 2302), (733, 2303), (733, 2304), (734, 95), (734, 408), (734, 736), (734, 751), (734, 964), (734, 1006), (734, 1388), (734, 1841), (734, 2056), (734, 2197), (734, 2202), (734, 2277), (735, 701), (735, 739), (735, 1237), (735, 1543), (735, 1881), (735, 1958), (735, 2060), (735, 2061), (735, 2062), (736, 95), (736, 734), (736, 751), (736, 964), (736, 1006), (736, 1388), (736, 1631), (736, 1841), (736, 2197), (736, 2202), (737, 88), (737, 415), (737, 1269), (737, 1630), (737, 1974), (737, 2136), (737, 2178), (738, 30), (738, 405), (738, 1080), (738, 1927), (738, 2162), (739, 393), (739, 701), (739, 735), (739, 1237), (739, 1543), (739, 1881), (739, 1958), (740, 141), (740, 1002), (740, 2033), (741, 831), (741, 1011), (741, 1088), (741, 1282), (741, 2093), (742, 1483), (742, 1620), (742, 1743), (743, 88), (743, 160), (743, 745), (743, 1239), (743, 1570), (743, 1986), (744, 223), (744, 580), (744, 1154), (744, 1358), (745, 160), (745, 366), (745, 553), (745, 743), (745, 1127), (745, 1986), (745, 1995), (745, 2009), (746, 281), (746, 1303), (746, 2006), (747, 113), (747, 282), (747, 540), (747, 1538), (748, 274), (748, 1103), (748, 1145), (748, 1169), (748, 1358), (748, 1374), (748, 1550), (748, 1568), (748, 1617), (748, 1732), (748, 2553), (749, 274), (749, 1333), (749, 2155), (750, 1441), (751, 734), (751, 736), (751, 1204), (751, 2198), (751, 2202), (752, 957), (752, 2083), (752, 2451), (753, 1269), (753, 1880), (754, 1358), (754, 1483), (754, 2450), (755, 1277), (755, 1898), (755, 2071), (756, 172), (756, 240), (756, 256), (756, 433), (756, 512), (756, 885), (756, 1469), (756, 1472), (756, 1692), (756, 2186), (756, 2187), (757, 1284), (757, 1358), (757, 2421), (758, 111), (758, 1358), (758, 1762), (758, 2492), (759, 733), (759, 1703), (760, 567), (760, 985), (760, 1426), (760, 1513), (760, 2459), (760, 2460), (761, 1401), (761, 1443), (762, 859), (762, 2448), (763, 693), (763, 707), (763, 1635), (764, 796), (764, 1358), (764, 1606), (764, 1612), (765, 640), (765, 1147), (765, 2367), (766, 316), (766, 598), (766, 845), (766, 1297), (766, 1868), (767, 54), (767, 873), (767, 1701), (767, 2314), (768, 1566), (768, 1723), (768, 1724), (769, 1927), (770, 1894), (770, 2117), (771, 55), (771, 65), (771, 1080), (771, 1156), (772, 908), (773, 1072), (773, 1505), (774, 560), (775, 171), (775, 180), (775, 2075), (776, 402), (776, 1413), (776, 1542), (777, 702), (778, 779), (778, 1224), (778, 1370), (778, 1914), (778, 1919), (779, 702), (779, 778), (779, 1224), (779, 1370), (779, 1592), (779, 1914), (779, 1919), (779, 1973), (780, 2341), (781, 218), (781, 2402), (782, 245), (783, 638), (783, 893), (783, 1061), (783, 1143), (783, 2376), (784, 960), (784, 1701), (785, 1664), (786, 947), (787, 55), (787, 325), (787, 438), (788, 1031), (788, 1952), (788, 2033), (788, 2041), (788, 2205), (789, 1240), (789, 1703), (790, 171), (790, 180), (790, 482), (790, 1548), (790, 1810), (791, 180), (791, 2034), (791, 2130), (792, 218), (792, 1488), (792, 1558), (792, 1986), (792, 2555), (793, 1896), (793, 1902), (793, 1903), (793, 2592), (794, 429), (794, 733), (794, 863), (794, 1160), (794, 1590), (795, 603), (795, 1645), (795, 1810), (796, 764), (796, 1103), (796, 1317), (796, 1358), (797, 73), (797, 800), (797, 1358), (797, 1833), (797, 2359), (798, 1381), (798, 1793), (798, 1794), (798, 1795), (799, 961), (800, 797), (800, 820), (800, 889), (800, 1834), (801, 703), (801, 1470), (801, 1961), (801, 2516), (802, 121), (802, 1307), (803, 528), (803, 2100), (804, 1307), (805, 275), (805, 706), (805, 963), (805, 2236), (806, 403), (806, 1383), (807, 661), (807, 1226), (807, 1955), (807, 1956), (808, 638), (808, 924), (808, 1785), (808, 2383), (809, 266), (809, 548), (809, 1115), (809, 2228), (809, 2229), (810, 1068), (811, 855), (811, 900), (812, 251), (812, 507), (812, 1300), (812, 1413), (812, 1542), (813, 339), (813, 2376), (814, 893), (814, 1158), (814, 2382), (814, 2383), (815, 55), (815, 88), (815, 1174), (815, 1344), (815, 2017), (815, 2018), (816, 120), (816, 436), (816, 483), (816, 1842), (816, 1980), (816, 2282), (816, 2405), (817, 90), (817, 155), (817, 156), (817, 220), (817, 221), (817, 1736), (817, 1763), (817, 2456), (818, 415), (818, 1999), (819, 154), (819, 364), (819, 650), (819, 1358), (819, 1606), (820, 800), (820, 889), (821, 222), (822, 702), (822, 1973), (823, 481), (823, 1169), (823, 1358), (823, 1765), (823, 2221), (824, 1831), (825, 1765), (826, 490), (826, 610), (826, 2287), (826, 2528), (827, 324), (827, 1039), (827, 1921), (827, 1999), (828, 444), (828, 1795), (828, 2464), (829, 1816), (830, 661), (830, 1914), (830, 2100), (831, 136), (831, 741), (831, 1011), (831, 1358), (831, 1638), (831, 1733), (831, 2093), (832, 2600), (833, 178), (833, 207), (833, 345), (833, 1130), (833, 1641), (833, 1678), (833, 2036), (833, 2495), (833, 2595), (834, 131), (834, 683), (834, 876), (834, 2168), (835, 1121), (835, 1134), (835, 1654), (835, 1810), (836, 519), (836, 708), (836, 1013), (836, 1131), (836, 1343), (836, 1572), (836, 2078), (836, 2403), (837, 1422), (837, 2248), (837, 2670), (838, 242), (838, 270), (838, 279), (838, 868), (838, 1131), (838, 2280), (839, 485), (839, 965), (839, 2277), (840, 1903), (840, 2481), (841, 88), (841, 2034), (842, 87), (842, 118), (842, 161), (842, 2016), (843, 505), (843, 548), (843, 2339), (843, 2542), (844, 264), (844, 472), (844, 1902), (845, 316), (845, 598), (845, 766), (846, 273), (846, 374), (846, 2146), (847, 2189), (847, 2422), (848, 228), (848, 985), (848, 1373), (849, 394), (849, 577), (849, 1993), (849, 2351), (850, 712), (850, 1464), (850, 2278), (851, 88), (851, 415), (851, 1309), (851, 2018), (852, 1800), (853, 1169), (853, 1358), (853, 1762), (854, 203), (854, 344), (854, 470), (854, 857), (854, 935), (854, 1097), (854, 1884), (855, 811), (855, 2493), (856, 1390), (856, 2248), (857, 203), (857, 470), (857, 854), (857, 1097), (857, 1246), (858, 2182), (858, 2502), (859, 487), (859, 762), (859, 1030), (859, 1199), (859, 2096), (860, 1427), (860, 1527), (860, 1758), (861, 95), (861, 1397), (861, 2068), (861, 2330), (862, 38), (862, 733), (863, 38), (863, 429), (863, 794), (863, 1160), (863, 1590), (864, 104), (864, 1065), (864, 2210), (865, 2653), (866, 40), (866, 1049), (867, 657), (867, 871), (867, 1229), (867, 1252), (867, 2439), (867, 2440), (867, 2442), (867, 2522), (867, 2523), (868, 838), (868, 988), (868, 1195), (868, 1341), (868, 1526), (868, 1844), (868, 2099), (868, 2276), (869, 232), (869, 598), (869, 1440), (869, 1701), (869, 1864), (870, 577), (870, 1119), (870, 2126), (871, 657), (871, 867), (871, 1229), (871, 2530), (871, 2652), (872, 1340), (872, 1413), (872, 1542), (873, 261), (873, 767), (873, 1358), (873, 1479), (873, 1708), (873, 2313), (874, 1701), (875, 310), (875, 914), (875, 1942), (875, 1945), (875, 1950), (876, 73), (876, 558), (876, 834), (876, 1358), (876, 2168), (876, 2584), (877, 1176), (877, 1177), (877, 1300), (877, 1413), (877, 1542), (877, 1935), (878, 436), (878, 885), (878, 2326), (879, 397), (879, 1558), (880, 973), (880, 1013), (881, 1155), (881, 1199), (882, 1358), (883, 227), (883, 609), (883, 629), (883, 933), (884, 89), (884, 152), (885, 436), (885, 651), (885, 756), (885, 878), (885, 1039), (885, 2024), (885, 2386), (886, 622), (886, 1400), (887, 239), (887, 306), (887, 910), (887, 1623), (887, 1624), (888, 614), (888, 1475), (888, 1556), (889, 800), (889, 820), (889, 1830), (889, 1831), (889, 1832), (890, 1269), (890, 1314), (891, 645), (891, 1674), (891, 2608), (892, 310), (892, 1950), (893, 638), (893, 783), (893, 814), (893, 911), (893, 1051), (893, 2383), (894, 640), (894, 1845), (894, 2367), (895, 35), (895, 440), (895, 1187), (895, 1296), (895, 1913), (896, 465), (897, 146), (897, 1152), (897, 1156), (897, 1410), (897, 1494), (897, 1907), (897, 1983), (897, 2295), (898, 92), (898, 1835), (898, 1836), (898, 2160), (899, 297), (899, 1055), (899, 1858), (899, 1986), (900, 639), (900, 811), (901, 731), (901, 1042), (901, 1279), (901, 2073), (901, 2186), (901, 2199), (902, 1284), (902, 1358), (902, 1604), (903, 446), (903, 2030), (903, 2031), (904, 132), (904, 379), (904, 541), (904, 647), (904, 1312), (904, 1360), (904, 1959), (905, 389), (905, 1282), (905, 1483), (905, 1620), (906, 577), (906, 2351), (906, 2353), (907, 1351), (907, 1916), (908, 772), (908, 1013), (909, 445), (910, 139), (910, 239), (910, 306), (910, 887), (910, 1623), (910, 2085), (911, 33), (911, 893), (911, 1051), (911, 1534), (911, 2376), (912, 2130), (913, 220), (914, 150), (914, 875), (915, 1035), (915, 1740), (915, 2415), (915, 2597), (916, 1026), (917, 2639), (918, 1098), (918, 1542), (918, 2065), (919, 1358), (920, 316), (920, 1893), (921, 1914), (921, 2134), (921, 2293), (922, 1307), (922, 1406), (923, 620), (924, 638), (924, 808), (924, 2383), (925, 1222), (926, 1862), (927, 17), (927, 1316), (927, 2140), (928, 327), (928, 1326), (928, 2063), (929, 1358), (929, 2627), (930, 380), (930, 477), (930, 2569), (931, 1433), (932, 662), (933, 534), (933, 883), (933, 1038), (934, 94), (934, 2356), (935, 451), (935, 661), (935, 854), (935, 973), (935, 1873), (936, 246), (936, 1067), (936, 2515), (936, 2530), (936, 2641), (937, 1180), (937, 1304), (937, 2096), (938, 618), (938, 2027), (938, 2230), (939, 2173), (940, 1829), (941, 2517), (942, 1924), (942, 1952), (943, 1196), (944, 2138), (945, 1072), (945, 1512), (945, 1911), (945, 2388), (946, 1966), (946, 2623), (947, 786), (948, 695), (948, 1395), (948, 1681), (948, 1682), (949, 523), (950, 93), (950, 437), (950, 645), (951, 328), (951, 1358), (952, 517), (952, 2546), (953, 2565), (953, 2566), (953, 2567), (954, 677), (954, 1112), (955, 175), (955, 1482), (955, 1914), (956, 492), (956, 2677), (957, 752), (957, 1154), (957, 1358), (957, 1557), (957, 1685), (957, 1757), (957, 2083), (957, 2167), (958, 306), (958, 1072), (958, 1798), (959, 2529), (960, 784), (960, 1776), (960, 2650), (961, 799), (961, 1728), (961, 2555), (961, 2599), (962, 1062), (962, 1665), (962, 1806), (962, 1807), (962, 1808), (962, 1809), (962, 1810), (963, 29), (963, 43), (963, 203), (963, 258), (963, 375), (963, 706), (963, 805), (963, 1094), (963, 1141), (963, 1157), (963, 1417), (963, 1443), (963, 1703), (963, 1785), (963, 2240), (963, 2399), (963, 2400), (963, 2401), (963, 2434), (964, 257), (964, 734), (964, 736), (964, 965), (964, 1388), (964, 2198), (965, 839), (965, 964), (965, 1693), (965, 2197), (966, 415), (967, 2659), (968, 598), (968, 1603), (968, 1986), (969, 704), (969, 1483), (969, 1735), (969, 1743), (969, 2450), (970, 16), (970, 364), (970, 466), (970, 1358), (970, 2365), (971, 107), (971, 1650), (972, 1000), (972, 2247), (972, 2579), (972, 2580), (973, 115), (973, 176), (973, 252), (973, 277), (973, 306), (973, 454), (973, 630), (973, 671), (973, 682), (973, 880), (973, 935), (973, 1072), (973, 1142), (973, 1583), (973, 2016), (973, 2019), (973, 2153), (974, 1496), (975, 2097), (976, 998), (976, 1431), (977, 1281), (978, 998), (978, 1358), (979, 524), (979, 1303), (979, 1503), (979, 1839), (979, 1957), (979, 2207), (980, 121), (980, 589), (980, 1367), (980, 1623), (981, 1159), (981, 1221), (982, 1091), (982, 1256), (982, 1458), (982, 2175), (982, 2176), (983, 2130), (984, 543), (984, 1068), (984, 2265), (985, 760), (985, 848), (985, 1073), (985, 1149), (985, 1358), (986, 2697), (987, 1175), (988, 868), (989, 1507), (989, 1645), (989, 2285), (989, 2436), (990, 310), (990, 1054), (990, 1542), (991, 307), (992, 496), (992, 596), (993, 702), (993, 2155), (994, 579), (994, 1219), (994, 1329), (994, 2309), (995, 1309), (995, 1912), (995, 2385), (996, 368), (996, 428), (996, 1135), (996, 1257), (996, 2248), (996, 2518), (997, 182), (997, 183), (997, 1837), (998, 976), (998, 978), (998, 1103), (998, 1284), (998, 1431), (998, 2365), (999, 346), (999, 1358), (1000, 281), (1000, 972), (1000, 1325), (1000, 2543), (1001, 12), (1001, 2662), (1002, 141), (1002, 622), (1002, 740), (1002, 1952), (1002, 2033), (1002, 2034), (1003, 363), (1003, 598), (1003, 1373), (1003, 1687), (1003, 2607), (1004, 1489), (1004, 1810), (1005, 1541), (1006, 734), (1006, 736), (1006, 1302), (1007, 526), (1007, 1154), (1007, 1742), (1007, 2466), (1008, 1416), (1008, 1922), (1008, 2059), (1008, 2575), (1009, 306), (1009, 2096), (1010, 443), (1010, 1966), (1011, 741), (1011, 831), (1012, 695), (1012, 1336), (1012, 1681), (1012, 1682), (1012, 1797), (1013, 69), (1013, 181), (1013, 334), (1013, 471), (1013, 506), (1013, 510), (1013, 530), (1013, 836), (1013, 880), (1013, 908), (1013, 1120), (1013, 1293), (1013, 1403), (1013, 1464), (1013, 1521), (1013, 1583), (1013, 1625), (1013, 1644), (1013, 1661), (1013, 1675), (1013, 1729), (1013, 1840), (1013, 1841), (1013, 1842), (1013, 1843), (1013, 1844), (1013, 1845), (1013, 1846), (1013, 1847), (1013, 1848), (1013, 1849), (1013, 1850), (1013, 1851), (1013, 2045), (1014, 1558), (1015, 698), (1015, 1068), (1015, 1143), (1015, 1385), (1015, 1425), (1015, 1452), (1015, 1481), (1015, 1519), (1015, 1618), (1015, 1788), (1015, 1789), (1015, 2262), (1015, 2263), (1016, 4), (1016, 561), (1016, 595), (1016, 1256), (1016, 2176), (1017, 591), (1017, 1475), (1017, 2472), (1018, 2378), (1019, 1457), (1020, 180), (1020, 218), (1020, 2075), (1020, 2077), (1020, 2667), (1021, 2309), (1022, 132), (1022, 379), (1022, 541), (1022, 1168), (1022, 1276), (1022, 1961), (1022, 1962), (1022, 1963), (1023, 1701), (1023, 1986), (1023, 2568), (1024, 625), (1025, 373), (1025, 1042), (1026, 916), (1026, 1303), (1026, 2034), (1026, 2531), (1027, 2394), (1028, 661), (1029, 118), (1029, 2166), (1030, 859), (1031, 48), (1031, 788), (1031, 1952), (1032, 587), (1033, 173), (1033, 687), (1033, 2168), (1034, 721), (1035, 73), (1035, 915), (1035, 1433), (1035, 1486), (1035, 1740), (1035, 1801), (1035, 1833), (1036, 2562), (1037, 403), (1037, 2447), (1037, 2654), (1038, 565), (1038, 933), (1038, 1358), (1038, 2503), (1039, 436), (1039, 827), (1039, 885), (1040, 1169), (1040, 1317), (1040, 1358), (1040, 1765), (1041, 609), (1041, 1243), (1041, 1358), (1041, 1466), (1041, 2390), (1041, 2448), (1042, 6), (1042, 74), (1042, 373), (1042, 485), (1042, 624), (1042, 901), (1042, 1025), (1042, 1047), (1042, 1118), (1042, 1125), (1042, 1198), (1042, 1481), (1042, 1517), (1042, 1628), (1042, 1925), (1042, 1926), (1042, 2051), (1042, 2052), (1042, 2054), (1042, 2055), (1042, 2073), (1042, 2198), (1042, 2333), (1043, 21), (1043, 2309), (1044, 713), (1045, 109), (1045, 306), (1045, 661), (1045, 1571), (1045, 1773), (1046, 91), (1046, 1510), (1046, 2336), (1046, 2387), (1046, 2587), (1047, 1042), (1047, 1588), (1047, 2333), (1048, 462), (1049, 866), (1049, 1432), (1049, 1894), (1049, 2610), (1050, 194), (1050, 1081), (1050, 1230), (1050, 1320), (1050, 1342), (1050, 1380), (1050, 1569), (1050, 1634), (1050, 2563), (1050, 2564), (1051, 33), (1051, 442), (1051, 893), (1051, 911), (1051, 2122), (1051, 2383), (1052, 1701), (1053, 229), (1053, 1405), (1054, 990), (1054, 1099), (1054, 1432), (1054, 1577), (1054, 1605), (1054, 1950), (1055, 899), (1055, 1577), (1056, 167), (1056, 2482), (1057, 2409), (1058, 1195), (1059, 1600), (1060, 1441), (1061, 783), (1061, 1196), (1061, 2376), (1062, 733), (1062, 962), (1062, 1192), (1062, 1810), (1063, 394), (1063, 577), (1063, 1518), (1064, 394), (1064, 2351), (1064, 2352), (1065, 85), (1065, 104), (1065, 401), (1065, 864), (1065, 1096), (1065, 1699), (1065, 2211), (1066, 1574), (1067, 59), (1067, 170), (1067, 936), (1067, 1216), (1067, 1830), (1067, 2307), (1067, 2448), (1068, 810), (1068, 984), (1068, 1015), (1069, 239), (1070, 728), (1070, 1072), (1070, 1167), (1070, 1358), (1070, 1470), (1070, 1725), (1070, 1829), (1071, 1135), (1071, 1257), (1071, 2248), (1071, 2671), (1072, 20), (1072, 189), (1072, 236), (1072, 244), (1072, 306), (1072, 342), (1072, 417), (1072, 773), (1072, 945), (1072, 958), (1072, 973), (1072, 1070), (1072, 1262), (1072, 1358), (1072, 1478), (1072, 1483), (1072, 1505), (1072, 1725), (1072, 1733), (1072, 1740), (1072, 1784), (1072, 1797), (1072, 1798), (1072, 1799), (1072, 1800), (1072, 1801), (1072, 1802), (1072, 1803), (1072, 1804), (1072, 1805), (1073, 316), (1073, 985), (1073, 2163), (1074, 1501), (1074, 1675), (1074, 1676), (1075, 1124), (1075, 1701), (1076, 116), (1077, 389), (1077, 1483), (1077, 2113), (1077, 2450), (1078, 591), (1079, 55), (1079, 210), (1079, 1218), (1079, 1914), (1080, 61), (1080, 149), (1080, 697), (1080, 738), (1080, 771), (1080, 2162), (1080, 2344), (1081, 1050), (1081, 2563), (1082, 1534), (1082, 2386), (1083, 321), (1083, 1232), (1083, 1450), (1083, 2114), (1084, 1213), (1085, 1421), (1085, 2109), (1085, 2110), (1085, 2394), (1086, 669), (1086, 1124), (1086, 2247), (1086, 2579), (1087, 89), (1087, 2434), (1088, 741), (1088, 1089), (1089, 399), (1089, 1088), (1089, 1552), (1089, 2086), (1090, 15), (1090, 640), (1090, 1093), (1090, 1147), (1090, 1271), (1090, 1598), (1090, 2367), (1091, 982), (1091, 1256), (1091, 2176), (1092, 1106), (1092, 1171), (1092, 2501), (1093, 15), (1093, 599), (1093, 1090), (1093, 1271), (1093, 1598), (1093, 2367), (1094, 89), (1094, 258), (1094, 963), (1094, 1369), (1094, 1443), (1094, 1653), (1095, 230), (1095, 298), (1095, 1325), (1095, 1810), (1095, 1986), (1095, 2613), (1096, 397), (1096, 401), (1096, 411), (1096, 1065), (1096, 1633), (1097, 470), (1097, 854), (1097, 857), (1097, 1115), (1097, 1869), (1098, 918), (1098, 1477), (1098, 2066), (1098, 2067), (1099, 1054), (1099, 1577), (1099, 1607), (1100, 598), (1100, 1701), (1101, 374), (1101, 509), (1101, 1242), (1101, 2146), (1101, 2148), (1102, 515), (1102, 1207), (1102, 2290), (1102, 2464), (1102, 2465), (1103, 53), (1103, 72), (1103, 263), (1103, 748), (1103, 796), (1103, 998), (1103, 1123), (1103, 1284), (1103, 1358), (1103, 1480), (1103, 1520), (1103, 1718), (1103, 1748), (1103, 1760), (1103, 1886), (1103, 1887), (1103, 1888), (1104, 597), (1104, 725), (1104, 2264), (1105, 578), (1106, 1092), (1106, 1874), (1106, 2501), (1107, 598), (1107, 605), (1107, 1810), (1107, 2243), (1107, 2379), (1108, 390), (1109, 1533), (1109, 2671), (1109, 2674), (1109, 2675), (1110, 1120), (1110, 1224), (1110, 2025), (1110, 2295), (1111, 1119), (1111, 1273), (1111, 2125), (1111, 2126), (1111, 2129), (1112, 954), (1113, 107), (1113, 1650), (1114, 1717), (1114, 2560), (1115, 203), (1115, 470), (1115, 593), (1115, 809), (1115, 1097), (1115, 1529), (1115, 2276), (1116, 568), (1116, 1223), (1117, 80), (1117, 434), (1117, 1628), (1117, 2499), (1118, 74), (1118, 1042), (1118, 1416), (1118, 2155), (1119, 870), (1119, 1111), (1119, 1235), (1119, 1273), (1119, 1462), (1119, 1663), (1119, 1697), (1119, 2124), (1119, 2125), (1119, 2126), (1119, 2127), (1119, 2128), (1119, 2129), (1120, 1013), (1120, 1110), (1120, 1583), (1120, 2025), (1120, 2194), (1121, 835), (1121, 1131), (1121, 1410), (1121, 1655), (1121, 1810), (1121, 2136), (1122, 458), (1123, 1103), (1123, 1358), (1124, 669), (1124, 1075), (1124, 1086), (1125, 1042), (1125, 2332), (1126, 1823), (1127, 553), (1127, 745), (1127, 1583), (1127, 1986), (1128, 1441), (1128, 1954), (1128, 2275), (1129, 577), (1129, 1518), (1129, 2351), (1129, 2352), (1129, 2353), (1130, 833), (1130, 2495), (1131, 242), (1131, 436), (1131, 490), (1131, 510), (1131, 836), (1131, 838), (1131, 1121), (1131, 1133), (1131, 1215), (1131, 1224), (1131, 1500), (1131, 1538), (1131, 1655), (1131, 1909), (1131, 1930), (1131, 2155), (1131, 2185), (1131, 2280), (1131, 2281), (1131, 2282), (1131, 2283), (1132, 311), (1133, 1131), (1133, 1500), (1133, 1538), (1133, 2185), (1134, 579), (1134, 835), (1134, 2296), (1135, 996), (1135, 1071), (1135, 1257), (1135, 2248), (1135, 2518), (1135, 2671), (1135, 2678), (1136, 73), (1136, 1189), (1136, 2359), (1136, 2554), (1137, 725), (1138, 82), (1138, 2248), (1138, 2250), (1139, 52), (1139, 1628), (1139, 2054), (1139, 2182), (1140, 476), (1141, 963), (1141, 2294), (1142, 973), (1142, 2326), (1143, 783), (1143, 1015), (1143, 1618), (1143, 2155), (1143, 2262), (1143, 2376), (1144, 1245), (1144, 1623), (1145, 748), (1145, 1169), (1145, 1358), (1146, 36), (1146, 1505), (1146, 1506), (1146, 2254), (1147, 395), (1147, 765), (1147, 1090), (1147, 1598), (1147, 1865), (1147, 2367), (1147, 2371), (1148, 1317), (1148, 1747), (1148, 2220), (1148, 2221), (1149, 985), (1149, 1358), (1149, 1894), (1149, 1986), (1150, 1243), (1151, 2570), (1151, 2700), (1152, 897), (1152, 1927), (1152, 2155), (1152, 2416), (1153, 258), (1153, 1401), (1154, 223), (1154, 357), (1154, 744), (1154, 957), (1154, 1007), (1154, 1358), (1154, 1714), (1154, 1715), (1154, 1742), (1154, 2514), (1154, 2515), (1155, 881), (1155, 1229), (1156, 55), (1156, 65), (1156, 771), (1156, 897), (1157, 89), (1157, 963), (1157, 2240), (1157, 2463), (1158, 121), (1158, 302), (1158, 306), (1158, 589), (1158, 814), (1158, 1635), (1158, 2251), (1158, 2252), (1158, 2382), (1159, 729), (1159, 981), (1159, 2534), (1160, 38), (1160, 401), (1160, 733), (1160, 794), (1160, 863), (1160, 2268), (1161, 110), (1162, 245), (1162, 1510), (1163, 1402), (1163, 2132), (1164, 1287), (1165, 145), (1165, 537), (1165, 1593), (1166, 1986), (1166, 2582), (1167, 643), (1167, 1070), (1168, 1022), (1168, 1955), (1169, 111), (1169, 188), (1169, 301), (1169, 439), (1169, 524), (1169, 552), (1169, 628), (1169, 689), (1169, 748), (1169, 823), (1169, 853), (1169, 1040), (1169, 1145), (1169, 1358), (1169, 1714), (1169, 1719), (1169, 1720), (1169, 1731), (1169, 1734), (1169, 1737), (1169, 2220), (1169, 2476), (1169, 2492), (1170, 404), (1170, 1476), (1171, 510), (1171, 649), (1171, 681), (1171, 687), (1171, 1092), (1171, 1295), (1171, 1355), (1171, 1855), (1171, 1909), (1171, 2359), (1172, 304), (1172, 467), (1173, 202), (1173, 353), (1173, 1250), (1174, 88), (1174, 162), (1174, 415), (1174, 815), (1174, 1912), (1174, 2394), (1175, 987), (1175, 2359), (1176, 295), (1176, 507), (1176, 877), (1176, 1542), (1176, 1935), (1177, 295), (1177, 877), (1177, 1542), (1177, 1935), (1178, 1529), (1178, 1908), (1178, 1984), (1178, 2350), (1179, 410), (1179, 1955), (1180, 505), (1180, 937), (1180, 1304), (1181, 474), (1182, 472), (1182, 559), (1182, 1183), (1182, 1579), (1183, 472), (1183, 1182), (1183, 1354), (1183, 1579), (1183, 1824), (1183, 1825), (1184, 1190), (1184, 2100), (1185, 278), (1185, 1460), (1185, 1992), (1185, 2349), (1185, 2358), (1185, 2589), (1185, 2590), (1186, 2535), (1186, 2574), (1187, 895), (1187, 1188), (1188, 1187), (1189, 73), (1189, 558), (1189, 1136), (1189, 1358), (1189, 2359), (1190, 37), (1190, 1184), (1190, 1387), (1191, 1558), (1191, 2241), (1191, 2339), (1192, 733), (1192, 1062), (1192, 1621), (1193, 306), (1193, 1705), (1194, 368), (1194, 1366), (1194, 2670), (1195, 270), (1195, 279), (1195, 868), (1195, 1058), (1196, 943), (1196, 1061), (1196, 1367), (1196, 1624), (1196, 2300), (1197, 1791), (1197, 1998), (1198, 1042), (1199, 859), (1199, 881), (1199, 1214), (1199, 1566), (1199, 1599), (1199, 1716), (1200, 1502), (1200, 2207), (1200, 2414), (1201, 457), (1201, 2214), (1201, 2533), (1202, 1428), (1202, 1510), (1202, 2336), (1202, 2376), (1202, 2524), (1203, 382), (1203, 424), (1203, 461), (1203, 1215), (1203, 1410), (1203, 1842), (1203, 2155), (1204, 751), (1204, 1330), (1204, 1602), (1204, 1838), (1204, 1839), (1205, 319), (1205, 1358), (1205, 1761), (1206, 1257), (1206, 2671), (1207, 1102), (1207, 2290), (1207, 2464), (1208, 187), (1209, 64), (1209, 1358), (1209, 1737), (1210, 1648), (1211, 254), (1211, 507), (1212, 1701), (1213, 607), (1213, 1084), (1213, 1290), (1214, 73), (1214, 337), (1214, 1199), (1214, 1499), (1214, 1716), (1214, 1745), (1215, 270), (1215, 1131), (1215, 1203), (1215, 1894), (1216, 526), (1216, 1067), (1216, 2446), (1216, 2503), (1217, 230), (1217, 396), (1218, 586), (1218, 1079), (1218, 1927), (1218, 2116), (1219, 45), (1219, 78), (1219, 994), (1220, 239), (1221, 729), (1221, 981), (1221, 1577), (1221, 1607), (1221, 1949), (1222, 925), (1222, 1224), (1223, 568), (1223, 1116), (1224, 586), (1224, 682), (1224, 778), (1224, 779), (1224, 1110), (1224, 1131), (1224, 1222), (1224, 1291), (1224, 1341), (1224, 1370), (1224, 1525), (1224, 1526), (1224, 1583), (1224, 1587), (1224, 1660), (1224, 1732), (1224, 1848), (1224, 1851), (1224, 1919), (1224, 1975), (1224, 2151), (1224, 2152), (1224, 2153), (1224, 2154), (1224, 2155), (1224, 2156), (1225, 1450), (1225, 2579), (1226, 807), (1226, 1955), (1226, 1956), (1226, 2528), (1227, 1269), (1228, 186), (1228, 1536), (1228, 2580), (1229, 657), (1229, 867), (1229, 871), (1229, 1155), (1229, 1254), (1229, 1308), (1229, 1358), (1229, 1384), (1229, 1506), (1229, 1627), (1229, 1749), (1229, 2439), (1229, 2440), (1229, 2441), (1229, 2442), (1230, 1050), (1230, 1342), (1231, 653), (1232, 624), (1232, 1083), (1233, 2433), (1234, 22), (1234, 1702), (1234, 1703), (1234, 1966), (1235, 1119), (1235, 1462), (1235, 2126), (1235, 2577), (1236, 2479), (1237, 735), (1237, 739), (1237, 1958), (1238, 154), (1238, 1358), (1239, 743), (1239, 2027), (1239, 2611), (1240, 258), (1240, 706), (1240, 789), (1240, 1443), (1240, 1702), (1240, 2237), (1241, 310), (1241, 1701), (1241, 1950), (1242, 1101), (1242, 2146), (1242, 2148), (1243, 1041), (1243, 1150), (1243, 1358), (1244, 493), (1245, 306), (1245, 542), (1245, 1144), (1245, 1770), (1245, 2080), (1246, 857), (1247, 1679), (1248, 603), (1248, 1651), (1248, 2045), (1249, 1483), (1249, 2556), (1249, 2558), (1250, 202), (1250, 328), (1250, 650), (1250, 1173), (1250, 2507), (1251, 102), (1251, 306), (1251, 505), (1251, 1448), (1251, 1623), (1252, 867), (1252, 2656), (1253, 302), (1253, 308), (1254, 657), (1254, 1229), (1254, 1308), (1255, 198), (1255, 2248), (1256, 4), (1256, 595), (1256, 982), (1256, 1016), (1256, 1091), (1256, 1761), (1256, 2175), (1256, 2176), (1257, 428), (1257, 492), (1257, 688), (1257, 996), (1257, 1071), (1257, 1135), (1257, 1206), (1257, 2248), (1257, 2249), (1257, 2518), (1257, 2538), (1257, 2671), (1257, 2673), (1257, 2677), (1257, 2678), (1257, 2679), (1258, 452), (1258, 505), (1258, 644), (1259, 356), (1259, 2342), (1260, 1559), (1260, 2250), (1261, 2130), (1262, 110), (1262, 189), (1262, 564), (1262, 567), (1262, 1072), (1262, 1509), (1263, 1407), (1264, 248), (1264, 443), (1264, 1531), (1265, 377), (1265, 733), (1265, 2291), (1266, 255), (1266, 1529), (1266, 1984), (1267, 645), (1267, 647), (1267, 1824), (1268, 162), (1268, 1929), (1268, 2309), (1269, 737), (1269, 753), (1269, 890), (1269, 1227), (1269, 1314), (1269, 1630), (1269, 1880), (1269, 2227), (1270, 1622), (1270, 2034), (1271, 15), (1271, 599), (1271, 1090), (1271, 1093), (1271, 2367), (1272, 310), (1272, 1945), (1272, 1947), (1272, 1950), (1273, 722), (1273, 1111), (1273, 1119), (1273, 2034), (1273, 2124), (1273, 2125), (1273, 2126), (1273, 2129), (1274, 239), (1275, 405), (1275, 1468), (1276, 458), (1276, 1022), (1276, 1962), (1277, 755), (1278, 2268), (1278, 2305), (1278, 2306), (1279, 731), (1279, 901), (1279, 2186), (1279, 2203), (1280, 449), (1280, 2612), (1281, 977), (1281, 1358), (1281, 1746), (1281, 1748), (1282, 684), (1282, 741), (1282, 905), (1282, 1283), (1282, 1483), (1282, 1735), (1282, 1776), (1282, 2324), (1283, 1282), (1283, 1776), (1283, 2324), (1284, 757), (1284, 902), (1284, 998), (1284, 1103), (1284, 1358), (1284, 1604), (1284, 2450), (1285, 711), (1285, 2182), (1286, 538), (1287, 59), (1287, 481), (1287, 1164), (1287, 1358), (1288, 88), (1288, 1309), (1289, 1622), (1289, 1705), (1290, 212), (1290, 1213), (1290, 2258), (1291, 1224), (1291, 1660), (1291, 2154), (1292, 689), (1292, 1317), (1292, 1358), (1293, 65), (1293, 1013), (1293, 2418), (1294, 352), (1294, 733), (1295, 1171), (1295, 1987), (1296, 35), (1296, 440), (1296, 728), (1296, 895), (1296, 1910), (1296, 1911), (1296, 1912), (1296, 1913), (1297, 316), (1297, 598), (1297, 766), (1298, 2703), (1299, 598), (1299, 1701), (1299, 1810), (1300, 251), (1300, 507), (1300, 812), (1300, 877), (1300, 1542), (1300, 1933), (1300, 1940), (1300, 1941), (1300, 2508), (1301, 25), (1301, 598), (1301, 1315), (1301, 1316), (1301, 1542), (1301, 2140), (1302, 1006), (1303, 95), (1303, 746), (1303, 979), (1303, 1026), (1303, 2163), (1304, 505), (1304, 937), (1304, 1180), (1305, 466), (1305, 1358), (1306, 364), (1306, 1317), (1307, 802), (1307, 804), (1307, 922), (1307, 1444), (1307, 2536), (1308, 1229), (1308, 1254), (1308, 1627), (1309, 61), (1309, 88), (1309, 415), (1309, 490), (1309, 851), (1309, 995), (1309, 1288), (1309, 1338), (1309, 1625), (1309, 1677), (1309, 1741), (1309, 1882), (1309, 2015), (1309, 2102), (1309, 2103), (1309, 2178), (1310, 2692), (1311, 468), (1311, 1312), (1311, 1313), (1311, 2080), (1312, 904), (1312, 1311), (1312, 1313), (1313, 468), (1313, 573), (1313, 1311), (1313, 1312), (1313, 2407), (1314, 514), (1314, 890), (1314, 1269), (1315, 17), (1315, 1301), (1316, 17), (1316, 927), (1316, 1301), (1316, 1679), (1317, 689), (1317, 796), (1317, 1040), (1317, 1148), (1317, 1292), (1317, 1306), (1317, 1719), (1317, 1720), (1317, 1739), (1317, 2220), (1317, 2221), (1318, 12), (1318, 2661), (1318, 2662), (1319, 186), (1319, 2034), (1320, 1050), (1320, 1349), (1320, 1491), (1320, 2684), (1321, 2501), (1322, 63), (1322, 2265), (1323, 1701), (1324, 2035), (1324, 2265), (1325, 298), (1325, 327), (1325, 1000), (1325, 1095), (1325, 2063), (1325, 2247), (1326, 928), (1326, 2063), (1327, 495), (1327, 1328), (1327, 2161), (1328, 495), (1328, 1327), (1328, 2160), (1329, 78), (1329, 733), (1329, 994), (1330, 1204), (1330, 1837), (1330, 2068), (1331, 310), (1331, 1576), (1331, 1810), (1332, 436), (1332, 621), (1332, 2024), (1333, 749), (1333, 1973), (1333, 2195), (1333, 2312), (1334, 1542), (1334, 1577), (1334, 1701), (1334, 1941), (1334, 1950), (1335, 1856), (1335, 2087), (1335, 2090), (1336, 86), (1336, 695), (1336, 1012), (1336, 1452), (1336, 1797), (1336, 2032), (1336, 2033), (1336, 2034), (1337, 109), (1337, 563), (1337, 1701), (1337, 2045), (1338, 1309), (1338, 1912), (1338, 2385), (1339, 154), (1339, 1358), (1339, 1753), (1340, 872), (1340, 1413), (1340, 1542), (1340, 1943), (1341, 868), (1341, 1224), (1341, 2425), (1342, 1050), (1342, 1230), (1343, 118), (1343, 255), (1343, 836), (1343, 1507), (1343, 1645), (1343, 2165), (1343, 2316), (1344, 25), (1344, 724), (1344, 815), (1344, 1928), (1344, 2315), (1345, 202), (1345, 353), (1346, 109), (1346, 306), (1346, 519), (1346, 1670), (1347, 281), (1347, 1997), (1348, 218), (1348, 1810), (1348, 2163), (1348, 2605), (1349, 39), (1349, 1320), (1349, 1634), (1349, 2684), (1350, 1443), (1351, 69), (1351, 262), (1351, 604), (1351, 907), (1351, 1362), (1351, 1535), (1351, 1592), (1351, 1972), (1351, 2134), (1351, 2282), (1352, 506), (1353, 97), (1353, 661), (1354, 371), (1354, 400), (1354, 1183), (1354, 2270), (1355, 1171), (1355, 1957), (1356, 1613), (1357, 2025), (1357, 2170), (1358, 30), (1358, 34), (1358, 53), (1358, 59), (1358, 68), (1358, 72), (1358, 73), (1358, 90), (1358, 101), (1358, 111), (1358, 154), (1358, 155), (1358, 156), (1358, 170), (1358, 173), (1358, 174), (1358, 228), (1358, 244), (1358, 246), (1358, 289), (1358, 326), (1358, 333), (1358, 337), (1358, 341), (1358, 346), (1358, 357), (1358, 364), (1358, 466), (1358, 489), (1358, 501), (1358, 524), (1358, 552), (1358, 580), (1358, 609), (1358, 613), (1358, 616), (1358, 626), (1358, 645), (1358, 684), (1358, 686), (1358, 687), (1358, 689), (1358, 708), (1358, 744), (1358, 748), (1358, 754), (1358, 757), (1358, 758), (1358, 764), (1358, 796), (1358, 797), (1358, 819), (1358, 823), (1358, 831), (1358, 853), (1358, 873), (1358, 876), (1358, 882), (1358, 902), (1358, 919), (1358, 929), (1358, 951), (1358, 957), (1358, 970), (1358, 978), (1358, 985), (1358, 999), (1358, 1038), (1358, 1040), (1358, 1041), (1358, 1070), (1358, 1072), (1358, 1103), (1358, 1123), (1358, 1145), (1358, 1149), (1358, 1154), (1358, 1169), (1358, 1189), (1358, 1205), (1358, 1209), (1358, 1229), (1358, 1238), (1358, 1243), (1358, 1281), (1358, 1284), (1358, 1287), (1358, 1292), (1358, 1305), (1358, 1339), (1358, 1384), (1358, 1389), (1358, 1444), (1358, 1471), (1358, 1480), (1358, 1483), (1358, 1492), (1358, 1499), (1358, 1516), (1358, 1546), (1358, 1550), (1358, 1562), (1358, 1565), (1358, 1568), (1358, 1599), (1358, 1604), (1358, 1620), (1358, 1646), (1358, 1708), (1358, 1709), (1358, 1710), (1358, 1711), (1358, 1712), (1358, 1713), (1358, 1714), (1358, 1715), (1358, 1716), (1358, 1717), (1358, 1718), (1358, 1719), (1358, 1720), (1358, 1721), (1358, 1722), (1358, 1723), (1358, 1724), (1358, 1725), (1358, 1726), (1358, 1727), (1358, 1728), (1358, 1729), (1358, 1730), (1358, 1731), (1358, 1732), (1358, 1733), (1358, 1734), (1358, 1735), (1358, 1736), (1358, 1737), (1358, 1738), (1358, 1739), (1358, 1740), (1358, 1741), (1358, 1742), (1358, 1743), (1358, 1744), (1358, 1745), (1358, 1746), (1358, 1747), (1358, 1748), (1358, 1749), (1358, 1750), (1358, 1751), (1358, 1752), (1358, 1753), (1358, 1754), (1358, 1755), (1358, 1756), (1358, 1757), (1358, 1758), (1358, 1759), (1358, 1760), (1358, 1761), (1358, 1762), (1358, 1763), (1358, 1764), (1358, 1765), (1358, 1766), (1358, 2597), (1359, 181), (1359, 1464), (1359, 1914), (1359, 2278), (1359, 2480), (1360, 541), (1360, 647), (1360, 904), (1360, 1650), (1360, 1902), (1360, 1904), (1360, 1960), (1360, 2491), (1361, 565), (1361, 1528), (1362, 1351), (1362, 1372), (1362, 1914), (1363, 507), (1363, 1413), (1364, 40), (1365, 1702), (1365, 1703), (1365, 2509), (1365, 2519), (1366, 368), (1366, 1194), (1366, 2248), (1367, 124), (1367, 306), (1367, 484), (1367, 980), (1367, 1196), (1367, 1584), (1367, 1656), (1367, 1778), (1367, 2080), (1367, 2143), (1368, 702), (1368, 1911), (1368, 2553), (1369, 1094), (1369, 1530), (1369, 1653), (1370, 778), (1370, 779), (1370, 1224), (1370, 1525), (1370, 1919), (1370, 1975), (1370, 2274), (1370, 2485), (1371, 1393), (1372, 42), (1372, 1362), (1373, 518), (1373, 848), (1373, 1003), (1374, 748), (1375, 2586), (1376, 239), (1376, 1848), (1376, 2232), (1377, 1840), (1377, 2068), (1377, 2069), (1377, 2070), (1377, 2388), (1378, 1544), (1378, 2058), (1378, 2150), (1379, 1380), (1379, 2564), (1380, 1050), (1380, 1379), (1380, 2564), (1381, 798), (1381, 1794), (1382, 218), (1382, 281), (1382, 1502), (1382, 2176), (1382, 2283), (1383, 403), (1383, 806), (1384, 1229), (1384, 1358), (1385, 714), (1385, 1015), (1385, 2335), (1386, 727), (1386, 2570), (1386, 2571), (1387, 1190), (1388, 257), (1388, 734), (1388, 736), (1388, 964), (1388, 2181), (1388, 2197), (1389, 341), (1389, 1358), (1389, 2597), (1390, 856), (1390, 2681), (1391, 1693), (1392, 51), (1392, 710), (1392, 2212), (1393, 1371), (1394, 88), (1394, 211), (1394, 2137), (1395, 679), (1395, 948), (1395, 2072), (1395, 2189), (1395, 2266), (1395, 2267), (1396, 1399), (1396, 1421), (1396, 2109), (1396, 2228), (1396, 2394), (1396, 2395), (1397, 861), (1398, 565), (1398, 1528), (1399, 1396), (1399, 1501), (1399, 2227), (1399, 2309), (1399, 2394), (1400, 886), (1400, 2698), (1401, 89), (1401, 258), (1401, 761), (1401, 1153), (1401, 1585), (1402, 1163), (1402, 1482), (1402, 1616), (1402, 1919), (1402, 1972), (1403, 465), (1403, 1013), (1403, 2317), (1404, 2375), (1405, 229), (1405, 1053), (1405, 1508), (1405, 1894), (1406, 922), (1406, 2387), (1407, 1263), (1408, 370), (1408, 1553), (1408, 1826), (1408, 1828), (1408, 1829), (1409, 360), (1409, 1553), (1409, 1826), (1409, 1827), (1409, 1828), (1410, 897), (1410, 1121), (1410, 1203), (1410, 1655), (1411, 2218), (1412, 704), (1412, 1483), (1412, 1735), (1412, 1743), (1412, 2450), (1413, 219), (1413, 251), (1413, 253), (1413, 338), (1413, 402), (1413, 507), (1413, 776), (1413, 812), (1413, 872), (1413, 877), (1413, 1340), (1413, 1363), (1413, 1542), (1413, 1931), (1413, 1932), (1413, 1933), (1413, 1934), (1413, 1935), (1413, 1936), (1414, 370), (1414, 371), (1414, 1415), (1414, 2270), (1415, 370), (1415, 371), (1415, 392), (1415, 1414), (1415, 2269), (1416, 6), (1416, 30), (1416, 61), (1416, 74), (1416, 149), (1416, 305), (1416, 572), (1416, 718), (1416, 1008), (1416, 1118), (1416, 1468), (1416, 1602), (1416, 1921), (1416, 1922), (1416, 1923), (1416, 1924), (1416, 1925), (1416, 1926), (1417, 529), (1417, 963), (1417, 1452), (1417, 1529), (1417, 1703), (1417, 2260), (1417, 2350), (1418, 78), (1419, 529), (1419, 2259), (1419, 2260), (1420, 1421), (1420, 2394), (1420, 2396), (1421, 1085), (1421, 1396), (1421, 1420), (1421, 1975), (1421, 2109), (1421, 2110), (1421, 2394), (1422, 837), (1423, 591), (1423, 1692), (1424, 1621), (1424, 1813), (1425, 1015), (1425, 1618), (1426, 480), (1426, 760), (1426, 1751), (1427, 860), (1427, 1725), (1427, 1742), (1427, 2446), (1428, 1202), (1428, 1429), (1428, 1534), (1428, 2336), (1428, 2376), (1428, 2520), (1428, 2524), (1429, 1428), (1429, 1534), (1429, 2520), (1430, 632), (1430, 1718), (1431, 976), (1431, 998), (1432, 1049), (1432, 1054), (1432, 1950), (1432, 2663), (1433, 931), (1433, 1035), (1433, 2359), (1434, 445), (1434, 1986), (1435, 1927), (1435, 2059), (1435, 2071), (1436, 2259), (1437, 1688), (1438, 2664), (1439, 200), (1439, 2676), (1440, 869), (1440, 1701), (1441, 50), (1441, 241), (1441, 265), (1441, 371), (1441, 454), (1441, 540), (1441, 590), (1441, 648), (1441, 720), (1441, 750), (1441, 1060), (1441, 1128), (1441, 1619), (1441, 1700), (1441, 1707), (1441, 1954), (1441, 1957), (1441, 1958), (1441, 2271), (1441, 2272), (1441, 2273), (1441, 2274), (1441, 2275), (1442, 432), (1442, 2462), (1443, 761), (1443, 963), (1443, 1094), (1443, 1240), (1443, 1350), (1443, 2240), (1443, 2399), (1443, 2645), (1444, 154), (1444, 1307), (1444, 1358), (1444, 2323), (1445, 681), (1445, 1446), (1446, 681), (1446, 1445), (1447, 1928), (1448, 102), (1448, 505), (1448, 1251), (1448, 2034), (1448, 2045), (1449, 2681), (1450, 321), (1450, 1083), (1450, 1225), (1451, 194), (1451, 2564), (1452, 1015), (1452, 1336), (1452, 1417), (1453, 1701), (1453, 1986), (1454, 2), (1455, 441), (1455, 1537), (1456, 1457), (1457, 649), (1457, 1019), (1457, 1456), (1458, 982), (1459, 2080), (1459, 2218), (1460, 1185), (1460, 2349), (1460, 2358), (1461, 1634), (1461, 2248), (1462, 1119), (1462, 1235), (1462, 1611), (1462, 1663), (1463, 276), (1463, 490), (1463, 555), (1463, 1695), (1463, 2131), (1463, 2132), (1463, 2133), (1464, 181), (1464, 262), (1464, 712), (1464, 850), (1464, 1013), (1464, 1359), (1464, 1482), (1464, 1683), (1464, 1914), (1465, 1488), (1465, 1799), (1466, 1041), (1467, 52), (1467, 2172), (1468, 146), (1468, 1275), (1468, 1416), (1469, 756), (1469, 1498), (1469, 1692), (1469, 2346), (1469, 2349), (1469, 2358), (1469, 2590), (1470, 801), (1470, 1070), (1470, 1555), (1470, 1824), (1470, 1953), (1470, 2553), (1471, 1358), (1471, 1646), (1472, 240), (1472, 512), (1472, 756), (1472, 1692), (1472, 2187), (1473, 165), (1473, 598), (1473, 2706), (1473, 2707), (1474, 593), (1474, 1908), (1474, 2261), (1474, 2335), (1475, 614), (1475, 888), (1475, 1017), (1475, 2469), (1475, 2470), (1476, 404), (1476, 1170), (1477, 1098), (1477, 1542), (1477, 2066), (1477, 2067), (1478, 694), (1478, 1072), (1478, 1902), (1479, 261), (1479, 873), (1479, 1701), (1479, 1894), (1480, 1103), (1480, 1358), (1481, 1015), (1481, 1042), (1481, 1669), (1481, 2332), (1481, 2335), (1482, 955), (1482, 1402), (1482, 1464), (1482, 1973), (1482, 2132), (1483, 306), (1483, 359), (1483, 389), (1483, 562), (1483, 704), (1483, 742), (1483, 754), (1483, 905), (1483, 969), (1483, 1072), (1483, 1077), (1483, 1249), (1483, 1282), (1483, 1358), (1483, 1412), (1483, 1620), (1483, 1726), (1483, 1735), (1483, 1743), (1483, 2083), (1483, 2113), (1483, 2208), (1484, 299), (1484, 2383), (1484, 2498), (1484, 2520), (1485, 1914), (1486, 650), (1486, 1035), (1486, 1745), (1487, 1501), (1487, 1849), (1487, 2017), (1487, 2137), (1488, 411), (1488, 792), (1488, 1465), (1488, 2601), (1489, 1004), (1490, 306), (1490, 2085), (1490, 2327), (1491, 1320), (1492, 1358), (1492, 1765), (1493, 429), (1494, 88), (1494, 436), (1494, 897), (1495, 93), (1495, 437), (1495, 645), (1496, 974), (1497, 549), (1497, 2034), (1498, 1469), (1498, 2025), (1498, 2349), (1498, 2590), (1499, 337), (1499, 1214), (1499, 1358), (1499, 1776), (1500, 1131), (1500, 1133), (1500, 1538), (1500, 2185), (1501, 116), (1501, 1074), (1501, 1399), (1501, 1487), (1501, 1676), (1501, 2228), (1501, 2395), (1502, 1200), (1502, 1382), (1502, 1503), (1502, 2163), (1503, 979), (1503, 1502), (1503, 2241), (1503, 2243), (1504, 1647), (1504, 2209), (1505, 36), (1505, 330), (1505, 530), (1505, 773), (1505, 1072), (1505, 1146), (1505, 1552), (1505, 1624), (1505, 1699), (1505, 1788), (1505, 1801), (1505, 2086), (1505, 2107), (1506, 1146), (1506, 1229), (1507, 118), (1507, 446), (1507, 989), (1507, 1343), (1507, 1645), (1507, 2436), (1508, 1405), (1508, 1894), (1508, 2117), (1509, 189), (1509, 1262), (1510, 1046), (1510, 1162), (1510, 1202), (1510, 2387), (1511, 1519), (1512, 342), (1512, 945), (1512, 2023), (1512, 2145), (1513, 567), (1513, 760), (1513, 1830), (1514, 1692), (1515, 2182), (1515, 2234), (1516, 1358), (1516, 2612), (1517, 74), (1517, 1042), (1518, 577), (1518, 1063), (1518, 1129), (1519, 147), (1519, 1015), (1519, 1511), (1519, 1534), (1519, 2108), (1519, 2335), (1519, 2640), (1520, 83), (1520, 1103), (1520, 1750), (1520, 1765), (1521, 98), (1521, 1013), (1522, 39), (1522, 1697), (1522, 2680), (1523, 548), (1523, 2449), (1524, 434), (1524, 1693), (1524, 2499), (1525, 1224), (1525, 1370), (1525, 1914), (1525, 1973), (1526, 868), (1526, 1224), (1526, 1879), (1526, 1977), (1526, 1981), (1526, 2099), (1526, 2425), (1527, 60), (1527, 88), (1527, 331), (1527, 415), (1527, 860), (1527, 1668), (1527, 2274), (1527, 2450), (1528, 427), (1528, 513), (1528, 565), (1528, 1361), (1528, 1398), (1529, 1115), (1529, 1178), (1529, 1266), (1529, 1417), (1529, 1908), (1529, 1984), (1529, 2350), (1530, 43), (1530, 89), (1530, 1369), (1530, 2240), (1530, 2464), (1531, 248), (1531, 443), (1531, 1264), (1531, 1889), (1532, 39), (1532, 2648), (1533, 492), (1533, 726), (1533, 1109), (1533, 2671), (1534, 911), (1534, 1082), (1534, 1428), (1534, 1429), (1534, 1519), (1535, 95), (1535, 280), (1535, 1351), (1535, 1916), (1535, 2155), (1535, 2293), (1536, 186), (1536, 1228), (1536, 2580), (1536, 2702), (1537, 119), (1537, 441), (1537, 1455), (1538, 118), (1538, 643), (1538, 747), (1538, 1131), (1538, 1133), (1538, 1500), (1538, 1842), (1538, 2185), (1539, 1914), (1540, 525), (1540, 1628), (1540, 2054), (1541, 1005), (1542, 216), (1542, 219), (1542, 251), (1542, 297), (1542, 338), (1542, 402), (1542, 776), (1542, 812), (1542, 872), (1542, 877), (1542, 918), (1542, 990), (1542, 1176), (1542, 1177), (1542, 1300), (1542, 1301), (1542, 1334), (1542, 1340), (1542, 1413), (1542, 1477), (1542, 1577), (1542, 1607), (1542, 1931), (1542, 1935), (1542, 1936), (1542, 1939), (1542, 1940), (1542, 1941), (1542, 1942), (1542, 1943), (1543, 735), (1543, 739), (1543, 1881), (1543, 2029), (1544, 1378), (1545, 368), (1545, 2248), (1546, 341), (1546, 687), (1546, 1358), (1546, 1804), (1546, 2169), (1547, 2169), (1548, 171), (1548, 790), (1549, 119), (1549, 1901), (1549, 2286), (1550, 748), (1550, 1358), (1550, 2083), (1551, 126), (1551, 306), (1552, 36), (1552, 1089), (1552, 1505), (1552, 1778), (1552, 2591), (1553, 371), (1553, 1408), (1553, 1409), (1553, 1827), (1554, 1657), (1554, 2686), (1554, 2687), (1554, 2688), (1555, 458), (1555, 1470), (1555, 1953), (1555, 2363), (1556, 888), (1557, 650), (1557, 957), (1557, 2083), (1557, 2168), (1558, 792), (1558, 879), (1558, 1014), (1558, 1191), (1558, 1986), (1558, 2338), (1558, 2339), (1558, 2340), (1559, 283), (1559, 1260), (1560, 18), (1560, 505), (1560, 1623), (1561, 102), (1561, 1623), (1562, 1358), (1562, 1765), (1563, 2633), (1564, 1772), (1564, 1786), (1565, 1358), (1565, 2365), (1566, 768), (1566, 1199), (1566, 1732), (1566, 1895), (1566, 2071), (1567, 722), (1567, 1654), (1567, 1874), (1567, 2500), (1568, 154), (1568, 748), (1568, 1358), (1568, 1729), (1569, 450), (1569, 1050), (1569, 1966), (1570, 571), (1570, 696), (1570, 743), (1571, 1045), (1572, 236), (1572, 306), (1572, 836), (1572, 1776), (1573, 598), (1573, 2698), (1574, 519), (1574, 1066), (1574, 1986), (1575, 473), (1576, 1331), (1576, 1810), (1577, 411), (1577, 1054), (1577, 1055), (1577, 1099), (1577, 1221), (1577, 1334), (1577, 1542), (1578, 2497), (1579, 47), (1579, 559), (1579, 1182), (1579, 1183), (1579, 2029), (1580, 95), (1580, 456), (1580, 544), (1580, 1892), (1580, 2199), (1580, 2200), (1581, 310), (1581, 1810), (1581, 1819), (1582, 44), (1583, 366), (1583, 376), (1583, 553), (1583, 973), (1583, 1013), (1583, 1120), (1583, 1127), (1583, 1224), (1583, 1995), (1583, 2025), (1584, 306), (1584, 1367), (1584, 1798), (1585, 89), (1585, 1401), (1585, 1653), (1586, 173), (1586, 687), (1586, 2168), (1587, 1224), (1587, 2154), (1588, 1047), (1588, 2055), (1588, 2333), (1589, 101), (1589, 1745), (1589, 2596), (1590, 794), (1590, 863), (1591, 2541), (1592, 779), (1592, 1351), (1592, 1914), (1592, 2071), (1592, 2485), (1593, 144), (1593, 145), (1593, 213), (1593, 537), (1593, 1165), (1594, 31), (1595, 2246), (1596, 2476), (1597, 320), (1597, 432), (1598, 640), (1598, 1090), (1598, 1093), (1598, 1147), (1598, 2367), (1599, 110), (1599, 1199), (1599, 1358), (1599, 2441), (1599, 2460), (1599, 2614), (1600, 1059), (1601, 1750), (1602, 6), (1602, 95), (1602, 100), (1602, 315), (1602, 1204), (1602, 1416), (1602, 2054), (1602, 2072), (1602, 2073), (1602, 2074), (1603, 968), (1604, 46), (1604, 902), (1604, 1284), (1604, 1358), (1605, 1054), (1605, 1950), (1605, 2663), (1606, 364), (1606, 764), (1606, 819), (1607, 1099), (1607, 1221), (1607, 1542), (1608, 546), (1608, 2124), (1608, 2126), (1608, 2489), (1609, 1790), (1609, 1791), (1609, 1912), (1610, 244), (1610, 312), (1610, 565), (1610, 687), (1610, 2556), (1610, 2557), (1610, 2558), (1611, 1462), (1611, 2124), (1612, 764), (1613, 1356), (1614, 210), (1614, 1671), (1614, 2034), (1615, 1665), (1616, 56), (1616, 118), (1616, 412), (1616, 447), (1616, 539), (1616, 581), (1616, 1402), (1616, 1849), (1616, 2050), (1617, 748), (1618, 429), (1618, 1015), (1618, 1143), (1618, 1425), (1618, 1789), (1619, 392), (1619, 1441), (1619, 2269), (1620, 359), (1620, 742), (1620, 905), (1620, 1358), (1620, 1483), (1620, 2450), (1621, 1192), (1621, 1424), (1622, 124), (1622, 1270), (1622, 1289), (1622, 2425), (1623, 102), (1623, 112), (1623, 126), (1623, 133), (1623, 139), (1623, 153), (1623, 314), (1623, 350), (1623, 384), (1623, 452), (1623, 459), (1623, 542), (1623, 556), (1623, 581), (1623, 608), (1623, 660), (1623, 719), (1623, 887), (1623, 910), (1623, 980), (1623, 1144), (1623, 1251), (1623, 1560), (1623, 1561), (1623, 1767), (1623, 1768), (1623, 1769), (1623, 1770), (1623, 1771), (1623, 1772), (1623, 1773), (1623, 1774), (1623, 1775), (1623, 1776), (1623, 1777), (1623, 1778), (1623, 1779), (1623, 1780), (1623, 1781), (1623, 1782), (1623, 1783), (1623, 1784), (1624, 109), (1624, 317), (1624, 384), (1624, 409), (1624, 589), (1624, 887), (1624, 1196), (1624, 1505), (1624, 1705), (1624, 1777), (1624, 1778), (1624, 1779), (1624, 1780), (1624, 1785), (1624, 1786), (1624, 1787), (1624, 1788), (1625, 1013), (1625, 1309), (1625, 1729), (1626, 210), (1627, 59), (1627, 1229), (1627, 1308), (1627, 1740), (1628, 65), (1628, 95), (1628, 142), (1628, 525), (1628, 597), (1628, 1042), (1628, 1117), (1628, 1139), (1628, 1540), (1628, 1635), (1628, 2021), (1628, 2053), (1628, 2054), (1628, 2055), (1628, 2056), (1628, 2057), (1628, 2172), (1629, 5), (1629, 1659), (1629, 1711), (1630, 737), (1630, 1269), (1630, 2227), (1631, 736), (1631, 2196), (1632, 16), (1632, 364), (1632, 1756), (1633, 1096), (1634, 39), (1634, 82), (1634, 1050), (1634, 1349), (1634, 1461), (1634, 2393), (1635, 763), (1635, 1158), (1635, 1628), (1635, 2383), (1636, 24), (1636, 598), (1636, 1701), (1636, 2139), (1636, 2141), (1637, 702), (1637, 1973), (1638, 831), (1639, 177), (1639, 1688), (1639, 2679), (1640, 36), (1640, 306), (1640, 350), (1641, 637), (1641, 833), (1641, 2495), (1642, 439), (1642, 2657), (1642, 2658), (1643, 348), (1644, 415), (1644, 1013), (1645, 795), (1645, 989), (1645, 1343), (1645, 1507), (1646, 1358), (1646, 1471), (1647, 108), (1647, 1504), (1647, 2160), (1647, 2209), (1648, 1210), (1649, 94), (1650, 107), (1650, 971), (1650, 1113), (1650, 1360), (1651, 306), (1651, 1248), (1651, 2045), (1652, 498), (1652, 604), (1652, 725), (1652, 1848), (1652, 1972), (1653, 43), (1653, 89), (1653, 1094), (1653, 1369), (1653, 1585), (1654, 835), (1654, 1567), (1654, 1952), (1654, 2034), (1655, 11), (1655, 149), (1655, 1121), (1655, 1131), (1655, 1410), (1655, 1839), (1655, 1842), (1655, 1894), (1655, 2136), (1655, 2282), (1655, 2295), (1655, 2384), (1656, 306), (1656, 1367), (1656, 1798), (1657, 1554), (1657, 2686), (1657, 2688), (1658, 88), (1658, 2018), (1659, 5), (1659, 1629), (1660, 1224), (1660, 1291), (1660, 2154), (1661, 109), (1661, 454), (1661, 1013), (1661, 1851), (1662, 48), (1662, 1666), (1662, 2381), (1662, 2398), (1663, 1119), (1663, 1462), (1663, 2577), (1664, 455), (1664, 607), (1664, 785), (1664, 2147), (1665, 962), (1665, 1615), (1665, 1701), (1665, 2034), (1666, 2), (1666, 48), (1666, 49), (1666, 606), (1666, 1662), (1666, 2381), (1667, 162), (1667, 438), (1667, 651), (1668, 355), (1668, 1527), (1669, 429), (1669, 1481), (1669, 1892), (1669, 2332), (1670, 133), (1670, 303), (1670, 308), (1670, 519), (1670, 1346), (1671, 210), (1671, 1614), (1671, 1929), (1671, 1968), (1671, 2136), (1671, 2137), (1672, 186), (1673, 2660), (1674, 891), (1674, 1914), (1674, 2608), (1675, 1013), (1675, 1074), (1675, 1676), (1675, 1914), (1676, 1074), (1676, 1501), (1676, 1675), (1676, 1914), (1676, 1975), (1677, 88), (1677, 191), (1677, 415), (1677, 1309), (1677, 1908), (1678, 833), (1678, 1746), (1679, 1247), (1679, 1316), (1679, 2140), (1680, 2056), (1680, 2576), (1681, 407), (1681, 409), (1681, 459), (1681, 695), (1681, 948), (1681, 1012), (1681, 2318), (1681, 2319), (1681, 2320), (1682, 407), (1682, 695), (1682, 733), (1682, 948), (1682, 1012), (1682, 2189), (1682, 2291), (1682, 2319), (1682, 2320), (1682, 2321), (1683, 181), (1683, 1464), (1683, 1973), (1683, 2132), (1684, 2486), (1684, 2513), (1685, 650), (1685, 957), (1685, 2083), (1686, 2647), (1687, 28), (1687, 246), (1687, 1003), (1687, 1721), (1688, 1437), (1688, 1639), (1688, 2671), (1689, 155), (1689, 156), (1690, 118), (1690, 2112), (1691, 700), (1692, 172), (1692, 240), (1692, 291), (1692, 503), (1692, 512), (1692, 574), (1692, 756), (1692, 1423), (1692, 1469), (1692, 1472), (1692, 1514), (1692, 2186), (1692, 2187), (1692, 2302), (1692, 2345), (1692, 2346), (1692, 2347), (1692, 2348), (1692, 2349), (1693, 434), (1693, 965), (1693, 1391), (1693, 1524), (1693, 2408), (1694, 333), (1695, 276), (1695, 1463), (1695, 2133), (1696, 1713), (1697, 1119), (1697, 1522), (1697, 1986), (1697, 2253), (1698, 537), (1698, 2160), (1699, 484), (1699, 1065), (1699, 1505), (1700, 1441), (1701, 13), (1701, 24), (1701, 143), (1701, 157), (1701, 158), (1701, 201), (1701, 205), (1701, 215), (1701, 216), (1701, 226), (1701, 231), (1701, 232), (1701, 235), (1701, 261), (1701, 318), (1701, 335), (1701, 343), (1701, 416), (1701, 467), (1701, 532), (1701, 547), (1701, 563), (1701, 633), (1701, 664), (1701, 699), (1701, 729), (1701, 767), (1701, 784), (1701, 869), (1701, 874), (1701, 1023), (1701, 1052), (1701, 1075), (1701, 1100), (1701, 1212), (1701, 1241), (1701, 1299), (1701, 1323), (1701, 1334), (1701, 1337), (1701, 1440), (1701, 1453), (1701, 1479), (1701, 1636), (1701, 1665), (1701, 1799), (1701, 1820), (1701, 1846), (1701, 1852), (1701, 1853), (1701, 1854), (1701, 1855), (1701, 1856), (1701, 1857), (1701, 1858), (1701, 1859), (1701, 1860), (1701, 1861), (1701, 1862), (1701, 1863), (1701, 1864), (1701, 1865), (1701, 1866), (1701, 1867), (1701, 1868), (1701, 1869), (1701, 1870), (1701, 1871), (1701, 1872), (1701, 1873), (1701, 1874), (1701, 1875), (1701, 1876), (1701, 1877), (1702, 22), (1702, 463), (1702, 1234), (1702, 1240), (1702, 1365), (1702, 1703), (1702, 1966), (1702, 1970), (1702, 1971), (1702, 2238), (1703, 22), (1703, 463), (1703, 759), (1703, 789), (1703, 963), (1703, 1234), (1703, 1365), (1703, 1417), (1703, 1702), (1703, 1906), (1703, 1966), (1703, 1967), (1703, 1968), (1703, 1969), (1703, 1970), (1703, 1971), (1703, 2238), (1704, 383), (1704, 1912), (1704, 1986), (1704, 2077), (1705, 306), (1705, 487), (1705, 1193), (1705, 1289), (1705, 1624), (1705, 2081), (1705, 2322), (1706, 558), (1706, 2585), (1707, 1441), (1708, 467), (1708, 873), (1708, 1358), (1708, 1857), (1708, 2313), (1708, 2314), (1709, 1358), (1709, 1738), (1709, 1739), (1709, 1986), (1709, 2365), (1710, 372), (1710, 480), (1710, 687), (1710, 1358), (1710, 2444), (1711, 1358), (1711, 1629), (1711, 1730), (1711, 1731), (1711, 1765), (1712, 1358), (1712, 1725), (1712, 2446), (1713, 88), (1713, 1358), (1713, 1696), (1713, 1898), (1714, 1154), (1714, 1169), (1714, 1358), (1714, 1727), (1715, 58), (1715, 1154), (1715, 1358), (1716, 1199), (1716, 1214), (1716, 1358), (1716, 2446), (1717, 1114), (1717, 1358), (1717, 1731), (1717, 2560), (1718, 1103), (1718, 1358), (1718, 1430), (1718, 2685), (1719, 1169), (1719, 1317), (1719, 1358), (1719, 1765), (1720, 1169), (1720, 1317), (1720, 1358), (1720, 1765), (1721, 105), (1721, 228), (1721, 687), (1721, 689), (1721, 1358), (1721, 1687), (1721, 1761), (1721, 2476), (1722, 289), (1722, 312), (1722, 1358), (1723, 73), (1723, 565), (1723, 768), (1723, 1358), (1723, 1724), (1724, 768), (1724, 1358), (1724, 1723), (1724, 2215), (1724, 2216), (1725, 59), (1725, 557), (1725, 628), (1725, 687), (1725, 1070), (1725, 1072), (1725, 1358), (1725, 1427), (1725, 1712), (1725, 1734), (1725, 1740), (1725, 1745), (1725, 2334), (1725, 2413), (1725, 2596), (1725, 2597), (1726, 1358), (1726, 1483), (1726, 2168), (1727, 188), (1727, 1358), (1727, 1714), (1728, 961), (1728, 1358), (1728, 2257), (1728, 2555), (1728, 2599), (1729, 657), (1729, 1013), (1729, 1358), (1729, 1568), (1729, 1625), (1730, 1358), (1730, 1711), (1731, 1169), (1731, 1358), (1731, 1711), (1731, 1717), (1731, 1755), (1732, 88), (1732, 748), (1732, 1224), (1732, 1358), (1732, 1566), (1733, 831), (1733, 1072), (1733, 1358), (1734, 1169), (1734, 1358), (1734, 1725), (1734, 2597), (1735, 562), (1735, 969), (1735, 1282), (1735, 1358), (1735, 1412), (1735, 1483), (1735, 1776), (1735, 2324), (1736, 155), (1736, 817), (1736, 1358), (1736, 1763), (1737, 64), (1737, 1169), (1737, 1209), (1737, 1358), (1737, 1888), (1737, 2616), (1738, 466), (1738, 1358), (1738, 1709), (1738, 2365), (1738, 2366), (1739, 53), (1739, 616), (1739, 1317), (1739, 1358), (1739, 1709), (1739, 1750), (1739, 1766), (1739, 1886), (1739, 2221), (1740, 268), (1740, 312), (1740, 657), (1740, 915), (1740, 1035), (1740, 1072), (1740, 1358), (1740, 1627), (1740, 1725), (1740, 1804), (1740, 2389), (1740, 2390), (1740, 2391), (1740, 2392), (1741, 88), (1741, 1309), (1741, 1358), (1741, 2593), (1742, 174), (1742, 403), (1742, 526), (1742, 533), (1742, 580), (1742, 1007), (1742, 1154), (1742, 1358), (1742, 1427), (1742, 1749), (1742, 1758), (1742, 2307), (1742, 2443), (1742, 2444), (1742, 2445), (1743, 389), (1743, 704), (1743, 742), (1743, 969), (1743, 1358), (1743, 1412), (1743, 1483), (1743, 2113), (1743, 2450), (1744, 1358), (1744, 1765), (1745, 73), (1745, 1214), (1745, 1358), (1745, 1486), (1745, 1589), (1745, 1725), (1745, 2596), (1746, 1281), (1746, 1358), (1746, 1678), (1747, 1148), (1747, 1358), (1748, 1103), (1748, 1281), (1748, 1358), (1749, 1229), (1749, 1358), (1749, 1742), (1749, 2446), (1750, 1358), (1750, 1520), (1750, 1601), (1750, 1739), (1750, 1765), (1750, 1766), (1751, 73), (1751, 1358), (1751, 1426), (1751, 2596), (1752, 154), (1752, 1358), (1752, 1754), (1753, 154), (1753, 1339), (1753, 1358), (1754, 154), (1754, 326), (1754, 1358), (1754, 1752), (1755, 1358), (1755, 1731), (1755, 1765), (1756, 364), (1756, 650), (1756, 732), (1756, 1358), (1756, 1632), (1756, 2642), (1757, 957), (1757, 1358), (1757, 2451), (1758, 464), (1758, 580), (1758, 860), (1758, 1358), (1758, 1742), (1758, 2466), (1759, 239), (1759, 493), (1759, 569), (1759, 1358), (1760, 1103), (1760, 1358), (1761, 4), (1761, 223), (1761, 1205), (1761, 1256), (1761, 1358), (1761, 1721), (1761, 2175), (1762, 111), (1762, 758), (1762, 853), (1762, 1358), (1763, 155), (1763, 156), (1763, 817), (1763, 1358), (1763, 1736), (1764, 628), (1764, 1358), (1765, 290), (1765, 501), (1765, 580), (1765, 823), (1765, 825), (1765, 1040), (1765, 1358), (1765, 1492), (1765, 1520), (1765, 1562), (1765, 1711), (1765, 1719), (1765, 1720), (1765, 1744), (1765, 1750), (1765, 1755), (1765, 2492), (1766, 1358), (1766, 1739), (1766, 1750), (1767, 1623), (1767, 1783), (1768, 1623), (1768, 1837), (1768, 2325), (1769, 109), (1769, 399), (1769, 544), (1769, 1623), (1770, 306), (1770, 1245), (1770, 1623), (1770, 2080), (1771, 306), (1771, 1623), (1771, 1778), (1772, 109), (1772, 306), (1772, 426), (1772, 487), (1772, 1564), (1772, 1623), (1772, 1782), (1772, 2045), (1773, 487), (1773, 638), (1773, 1045), (1773, 1623), (1773, 1780), (1773, 1789), (1774, 1623), (1775, 103), (1775, 306), (1775, 350), (1775, 484), (1775, 1623), (1776, 138), (1776, 337), (1776, 960), (1776, 1282), (1776, 1283), (1776, 1499), (1776, 1572), (1776, 1623), (1776, 1735), (1776, 2045), (1776, 2078), (1776, 2324), (1777, 133), (1777, 426), (1777, 1623), (1777, 1624), (1777, 2143), (1778, 350), (1778, 1367), (1778, 1552), (1778, 1623), (1778, 1624), (1778, 1771), (1778, 2327), (1779, 109), (1779, 306), (1779, 505), (1779, 1623), (1779, 1624), (1779, 2318), (1780, 139), (1780, 1623), (1780, 1624), (1780, 1773), (1781, 36), (1781, 306), (1781, 1623), (1781, 1998), (1781, 2107), (1782, 306), (1782, 350), (1782, 426), (1782, 487), (1782, 1623), (1782, 1772), (1782, 1798), (1782, 2326), (1783, 1623), (1783, 1767), (1784, 133), (1784, 1072), (1784, 1623), (1784, 2045), (1784, 2096), (1785, 109), (1785, 317), (1785, 808), (1785, 963), (1785, 1624), (1786, 18), (1786, 1564), (1786, 1624), (1787, 109), (1787, 306), (1787, 1624), (1787, 1810), (1787, 2045), (1787, 2143), (1788, 1015), (1788, 1505), (1788, 1624), (1789, 109), (1789, 426), (1789, 1015), (1789, 1618), (1789, 1773), (1790, 103), (1790, 695), (1790, 1609), (1791, 191), (1791, 1197), (1791, 1609), (1791, 2045), (1792, 581), (1792, 2485), (1793, 798), (1794, 798), (1794, 1381), (1794, 1795), (1794, 1796), (1795, 798), (1795, 828), (1795, 1794), (1795, 1796), (1795, 2299), (1795, 2464), (1796, 1794), (1796, 1795), (1796, 2297), (1797, 306), (1797, 1012), (1797, 1072), (1797, 1336), (1797, 2088), (1798, 306), (1798, 329), (1798, 487), (1798, 958), (1798, 1072), (1798, 1584), (1798, 1656), (1798, 1782), (1799, 306), (1799, 1072), (1799, 1465), (1799, 1701), (1800, 476), (1800, 852), (1800, 1072), (1801, 1035), (1801, 1072), (1801, 1505), (1801, 2203), (1801, 2451), (1802, 306), (1802, 1072), (1802, 2079), (1803, 77), (1803, 354), (1803, 659), (1803, 1072), (1804, 306), (1804, 1072), (1804, 1546), (1804, 1740), (1804, 2451), (1805, 109), (1805, 306), (1805, 426), (1805, 556), (1805, 1072), (1806, 453), (1806, 962), (1806, 1809), (1807, 180), (1807, 429), (1807, 482), (1807, 962), (1807, 2034), (1808, 579), (1808, 962), (1808, 1810), (1809, 962), (1809, 1806), (1809, 1810), (1810, 13), (1810, 27), (1810, 224), (1810, 230), (1810, 351), (1810, 481), (1810, 482), (1810, 511), (1810, 549), (1810, 568), (1810, 576), (1810, 716), (1810, 719), (1810, 790), (1810, 795), (1810, 835), (1810, 962), (1810, 1004), (1810, 1062), (1810, 1095), (1810, 1107), (1810, 1121), (1810, 1299), (1810, 1331), (1810, 1348), (1810, 1576), (1810, 1581), (1810, 1787), (1810, 1808), (1810, 1809), (1810, 1811), (1810, 1812), (1810, 1813), (1810, 1814), (1810, 1815), (1810, 1816), (1810, 1817), (1810, 1818), (1810, 1819), (1810, 1820), (1810, 1821), (1810, 1822), (1810, 1823), (1810, 1869), (1811, 1810), (1811, 1822), (1812, 482), (1812, 1810), (1812, 1986), (1812, 2034), (1812, 2550), (1813, 1424), (1813, 1810), (1814, 482), (1814, 1810), (1815, 310), (1815, 1810), (1815, 1950), (1816, 829), (1816, 1810), (1817, 733), (1817, 1810), (1818, 733), (1818, 1810), (1818, 2305), (1818, 2306), (1819, 1581), (1819, 1810), (1819, 1948), (1820, 1701), (1820, 1810), (1820, 1873), (1821, 316), (1821, 598), (1821, 603), (1821, 716), (1821, 1810), (1822, 1810), (1822, 1811), (1823, 598), (1823, 1126), (1823, 1810), (1824, 360), (1824, 448), (1824, 645), (1824, 1183), (1824, 1267), (1824, 1470), (1824, 1825), (1824, 1826), (1825, 392), (1825, 472), (1825, 1183), (1825, 1824), (1826, 264), (1826, 448), (1826, 645), (1826, 1408), (1826, 1409), (1826, 1824), (1826, 1827), (1826, 1829), (1827, 1409), (1827, 1553), (1827, 1826), (1827, 1828), (1828, 238), (1828, 1408), (1828, 1409), (1828, 1827), (1829, 940), (1829, 1070), (1829, 1408), (1829, 1826), (1829, 1902), (1830, 889), (1830, 1067), (1830, 1513), (1830, 2045), (1831, 824), (1831, 889), (1832, 889), (1833, 797), (1833, 1035), (1833, 1834), (1834, 372), (1834, 449), (1834, 800), (1834, 1833), (1834, 2359), (1835, 898), (1835, 2157), (1835, 2160), (1836, 92), (1836, 898), (1837, 183), (1837, 997), (1837, 1330), (1837, 1768), (1838, 95), (1838, 1204), (1838, 2182), (1838, 2219), (1839, 11), (1839, 979), (1839, 1204), (1839, 1655), (1839, 2424), (1839, 2453), (1840, 1013), (1840, 1377), (1840, 2071), (1841, 408), (1841, 734), (1841, 736), (1841, 1013), (1841, 2056), (1842, 120), (1842, 816), (1842, 1013), (1842, 1203), (1842, 1538), (1842, 1655), (1842, 1979), (1842, 1980), (1842, 2281), (1842, 2405), (1843, 415), (1843, 1013), (1844, 868), (1844, 1013), (1844, 2276), (1845, 894), (1845, 1013), (1846, 1013), (1846, 1701), (1846, 1867), (1846, 2117), (1846, 2357), (1847, 88), (1847, 415), (1847, 1013), (1848, 325), (1848, 1013), (1848, 1224), (1848, 1376), (1848, 1652), (1848, 1909), (1848, 2419), (1849, 56), (1849, 412), (1849, 447), (1849, 1013), (1849, 1487), (1849, 1616), (1849, 1914), (1850, 32), (1850, 415), (1850, 666), (1850, 1013), (1851, 118), (1851, 693), (1851, 1013), (1851, 1224), (1851, 1661), (1851, 2485), (1852, 1701), (1852, 2045), (1853, 1701), (1854, 1701), (1855, 1171), (1855, 1701), (1856, 306), (1856, 1335), (1856, 1701), (1856, 2045), (1856, 2096), (1857, 304), (1857, 1701), (1857, 1708), (1858, 899), (1858, 1701), (1859, 1701), (1859, 1986), (1860, 1701), (1861, 1701), (1862, 0), (1862, 926), (1862, 1701), (1862, 2582), (1863, 532), (1863, 1701), (1864, 232), (1864, 598), (1864, 869), (1864, 1701), (1865, 311), (1865, 1147), (1865, 1701), (1866, 633), (1866, 1701), (1867, 1701), (1867, 1846), (1867, 2117), (1868, 231), (1868, 316), (1868, 766), (1868, 1701), (1869, 199), (1869, 203), (1869, 205), (1869, 277), (1869, 420), (1869, 465), (1869, 1097), (1869, 1701), (1869, 1810), (1869, 2309), (1870, 157), (1870, 598), (1870, 1701), (1870, 1986), (1871, 102), (1871, 228), (1871, 417), (1871, 1701), (1872, 1701), (1873, 603), (1873, 935), (1873, 1701), (1873, 1820), (1873, 1986), (1874, 722), (1874, 1106), (1874, 1567), (1874, 1701), (1874, 2500), (1874, 2501), (1875, 598), (1875, 1701), (1875, 1986), (1876, 1701), (1876, 1986), (1877, 1701), (1877, 2573), (1878, 102), (1878, 661), (1878, 2256), (1879, 490), (1879, 578), (1879, 661), (1879, 1526), (1880, 479), (1880, 661), (1880, 753), (1880, 1269), (1881, 661), (1881, 735), (1881, 739), (1881, 1543), (1881, 1958), (1882, 88), (1882, 514), (1882, 516), (1882, 661), (1882, 1309), (1883, 661), (1884, 113), (1884, 249), (1884, 661), (1884, 854), (1884, 1885), (1884, 1958), (1885, 661), (1885, 1884), (1885, 2644), (1886, 1103), (1886, 1739), (1887, 1103), (1887, 1888), (1888, 1103), (1888, 1737), (1888, 1887), (1889, 429), (1889, 1531), (1889, 1890), (1889, 1891), (1889, 1892), (1889, 1893), (1889, 2034), (1889, 2039), (1889, 2130), (1890, 1889), (1890, 2130), (1891, 1889), (1891, 2034), (1891, 2130), (1892, 1580), (1892, 1669), (1892, 1889), (1893, 920), (1893, 1889), (1894, 229), (1894, 261), (1894, 536), (1894, 770), (1894, 1049), (1894, 1149), (1894, 1215), (1894, 1405), (1894, 1479), (1894, 1508), (1894, 1655), (1894, 2034), (1894, 2117), (1894, 2118), (1895, 645), (1895, 1566), (1896, 541), (1896, 709), (1896, 793), (1896, 1897), (1897, 1896), (1897, 1903), (1898, 379), (1898, 645), (1898, 755), (1898, 1713), (1899, 388), (1899, 645), (1899, 1902), (1899, 2491), (1899, 2510), (1900, 645), (1900, 2608), (1901, 119), (1901, 645), (1901, 1549), (1901, 1954), (1901, 2284), (1901, 2286), (1902, 264), (1902, 448), (1902, 793), (1902, 844), (1902, 1360), (1902, 1478), (1902, 1829), (1902, 1899), (1902, 1903), (1902, 1904), (1903, 709), (1903, 793), (1903, 840), (1903, 1897), (1903, 1902), (1903, 1960), (1903, 2269), (1903, 2592), (1904, 1360), (1904, 1902), (1904, 1960), (1905, 210), (1905, 1914), (1906, 210), (1906, 1703), (1906, 1907), (1906, 1964), (1906, 2059), (1907, 146), (1907, 210), (1907, 566), (1907, 673), (1907, 674), (1907, 717), (1907, 897), (1907, 1906), (1908, 88), (1908, 211), (1908, 415), (1908, 1178), (1908, 1474), (1908, 1529), (1908, 1677), (1909, 211), (1909, 239), (1909, 1131), (1909, 1171), (1909, 1848), (1909, 2305), (1910, 121), (1910, 1296), (1911, 945), (1911, 1296), (1911, 1368), (1911, 2553), (1912, 435), (1912, 995), (1912, 1174), (1912, 1296), (1912, 1338), (1912, 1609), (1912, 1704), (1912, 2102), (1912, 2103), (1912, 2404), (1913, 35), (1913, 440), (1913, 895), (1913, 1296), (1914, 41), (1914, 69), (1914, 175), (1914, 506), (1914, 596), (1914, 604), (1914, 778), (1914, 779), (1914, 830), (1914, 921), (1914, 955), (1914, 1079), (1914, 1359), (1914, 1362), (1914, 1464), (1914, 1485), (1914, 1525), (1914, 1539), (1914, 1592), (1914, 1674), (1914, 1675), (1914, 1676), (1914, 1849), (1914, 1905), (1914, 1915), (1914, 1916), (1914, 1917), (1914, 1918), (1914, 1919), (1914, 1920), (1914, 2388), (1915, 1914), (1915, 2649), (1916, 907), (1916, 1535), (1916, 1914), (1917, 454), (1917, 1914), (1917, 2457), (1918, 506), (1918, 1914), (1919, 778), (1919, 779), (1919, 1224), (1919, 1370), (1919, 1402), (1919, 1914), (1920, 69), (1920, 1914), (1920, 1926), (1920, 2310), (1920, 2422), (1920, 2653), (1921, 315), (1921, 827), (1921, 1416), (1922, 1008), (1922, 1416), (1923, 1416), (1923, 1927), (1924, 942), (1924, 1416), (1924, 1927), (1925, 1042), (1925, 1416), (1925, 2620), (1926, 69), (1926, 1042), (1926, 1416), (1926, 1920), (1926, 2051), (1926, 2052), (1926, 2189), (1927, 146), (1927, 305), (1927, 405), (1927, 738), (1927, 769), (1927, 1152), (1927, 1218), (1927, 1435), (1927, 1923), (1927, 1924), (1927, 1928), (1927, 1929), (1927, 1930), (1928, 1344), (1928, 1447), (1928, 1927), (1928, 2317), (1928, 2475), (1929, 1268), (1929, 1671), (1929, 1927), (1929, 2034), (1930, 1131), (1930, 1927), (1931, 507), (1931, 1413), (1931, 1542), (1932, 402), (1932, 1413), (1932, 1936), (1933, 251), (1933, 507), (1933, 1300), (1933, 1413), (1934, 338), (1934, 1413), (1935, 877), (1935, 1176), (1935, 1177), (1935, 1413), (1935, 1542), (1936, 402), (1936, 507), (1936, 1413), (1936, 1542), (1936, 1932), (1937, 548), (1937, 1938), (1938, 1937), (1939, 19), (1939, 1542), (1940, 402), (1940, 507), (1940, 1300), (1940, 1542), (1941, 507), (1941, 1300), (1941, 1334), (1941, 1542), (1941, 2508), (1942, 150), (1942, 875), (1942, 1542), (1943, 1340), (1943, 1542), (1944, 310), (1944, 336), (1944, 352), (1944, 1945), (1944, 1946), (1944, 1950), (1945, 310), (1945, 875), (1945, 1272), (1945, 1944), (1945, 1946), (1945, 1947), (1946, 310), (1946, 1944), (1946, 1945), (1946, 1950), (1947, 310), (1947, 1272), (1947, 1945), (1947, 1950), (1948, 310), (1948, 1819), (1948, 1950), (1949, 310), (1949, 1221), (1950, 310), (1950, 336), (1950, 875), (1950, 892), (1950, 1054), (1950, 1241), (1950, 1272), (1950, 1334), (1950, 1432), (1950, 1605), (1950, 1815), (1950, 1944), (1950, 1946), (1950, 1947), (1950, 1948), (1951, 622), (1951, 1952), (1951, 2204), (1951, 2206), (1952, 622), (1952, 788), (1952, 942), (1952, 1002), (1952, 1031), (1952, 1654), (1952, 1951), (1952, 2204), (1952, 2205), (1952, 2206), (1953, 458), (1953, 1470), (1953, 1555), (1954, 590), (1954, 1128), (1954, 1441), (1954, 1901), (1954, 1955), (1954, 1956), (1954, 1957), (1954, 1958), (1954, 2275), (1955, 676), (1955, 807), (1955, 1168), (1955, 1179), (1955, 1226), (1955, 1954), (1955, 1956), (1955, 2235), (1956, 807), (1956, 1226), (1956, 1954), (1956, 1955), (1957, 979), (1957, 1355), (1957, 1441), (1957, 1954), (1957, 2241), (1957, 2630), (1958, 735), (1958, 739), (1958, 1237), (1958, 1441), (1958, 1881), (1958, 1884), (1958, 1954), (1959, 119), (1959, 132), (1959, 379), (1959, 904), (1959, 2621), (1960, 1360), (1960, 1903), (1960, 1904), (1960, 2491), (1961, 703), (1961, 801), (1961, 1022), (1962, 1022), (1962, 1276), (1962, 1963), (1963, 1022), (1963, 1962), (1964, 248), (1964, 463), (1964, 1906), (1964, 1965), (1964, 1966), (1965, 39), (1965, 1964), (1966, 94), (1966, 362), (1966, 443), (1966, 463), (1966, 946), (1966, 1010), (1966, 1234), (1966, 1569), (1966, 1702), (1966, 1703), (1966, 1964), (1966, 1971), (1967, 275), (1967, 1703), (1968, 1671), (1968, 1703), (1968, 2034), (1969, 1703), (1969, 2236), (1969, 2238), (1970, 271), (1970, 1702), (1970, 1703), (1971, 1702), (1971, 1703), (1971, 1966), (1972, 1351), (1972, 1402), (1972, 1652), (1973, 32), (1973, 252), (1973, 490), (1973, 504), (1973, 666), (1973, 779), (1973, 822), (1973, 1333), (1973, 1482), (1973, 1525), (1973, 1637), (1973, 1683), (1973, 1974), (1973, 1975), (1973, 1976), (1974, 578), (1974, 737), (1974, 1973), (1975, 1224), (1975, 1370), (1975, 1421), (1975, 1676), (1975, 1973), (1975, 2109), (1975, 2110), (1976, 147), (1976, 502), (1976, 1973), (1977, 436), (1977, 1526), (1978, 249), (1978, 436), (1978, 478), (1978, 514), (1978, 621), (1979, 436), (1979, 1842), (1979, 1980), (1979, 2178), (1979, 2405), (1980, 436), (1980, 816), (1980, 1842), (1980, 1979), (1980, 2405), (1981, 436), (1981, 490), (1981, 1526), (1982, 130), (1982, 436), (1983, 55), (1983, 438), (1983, 897), (1983, 2034), (1984, 438), (1984, 651), (1984, 1178), (1984, 1266), (1984, 1529), (1985, 437), (1985, 438), (1986, 2), (1986, 45), (1986, 68), (1986, 71), (1986, 151), (1986, 160), (1986, 179), (1986, 201), (1986, 215), (1986, 232), (1986, 335), (1986, 366), (1986, 391), (1986, 460), (1986, 476), (1986, 519), (1986, 566), (1986, 673), (1986, 681), (1986, 743), (1986, 745), (1986, 792), (1986, 899), (1986, 968), (1986, 1023), (1986, 1095), (1986, 1127), (1986, 1149), (1986, 1166), (1986, 1434), (1986, 1453), (1986, 1558), (1986, 1574), (1986, 1697), (1986, 1704), (1986, 1709), (1986, 1812), (1986, 1859), (1986, 1870), (1986, 1873), (1986, 1875), (1986, 1876), (1986, 1987), (1986, 1988), (1986, 1989), (1986, 1990), (1986, 1991), (1986, 1992), (1986, 1993), (1986, 1994), (1986, 1995), (1986, 1996), (1986, 1997), (1986, 1998), (1986, 1999), (1986, 2000), (1986, 2001), (1986, 2002), (1986, 2003), (1986, 2004), (1986, 2005), (1986, 2006), (1986, 2007), (1986, 2008), (1986, 2009), (1987, 1295), (1987, 1986), (1987, 2004), (1987, 2509), (1988, 396), (1988, 1986), (1989, 460), (1989, 1986), (1990, 1986), (1991, 1986), (1991, 2325), (1992, 1185), (1992, 1986), (1993, 849), (1993, 1986), (1994, 169), (1994, 1986), (1995, 553), (1995, 745), (1995, 1583), (1995, 1986), (1996, 8), (1996, 327), (1996, 1986), (1996, 2063), (1996, 2064), (1997, 1347), (1997, 1986), (1997, 2412), (1998, 109), (1998, 191), (1998, 519), (1998, 695), (1998, 1197), (1998, 1781), (1998, 1986), (1998, 2326), (1999, 285), (1999, 818), (1999, 827), (1999, 1986), (2000, 160), (2000, 267), (2000, 314), (2000, 1986), (2001, 91), (2001, 429), (2001, 503), (2001, 574), (2001, 1986), (2001, 2002), (2001, 2003), (2001, 2044), (2001, 2121), (2001, 2123), (2001, 2335), (2001, 2348), (2001, 2378), (2001, 2379), (2001, 2380), (2001, 2381), (2002, 1986), (2002, 2001), (2002, 2379), (2003, 185), (2003, 332), (2003, 1986), (2003, 2001), (2003, 2123), (2004, 180), (2004, 316), (2004, 1986), (2004, 1987), (2005, 1986), (2006, 746), (2006, 1986), (2006, 2477), (2007, 1986), (2008, 733), (2008, 1986), (2008, 2301), (2009, 160), (2009, 553), (2009, 745), (2009, 1986), (2009, 2025), (2010, 88), (2010, 118), (2010, 161), (2010, 2016), (2011, 25), (2011, 88), (2011, 733), (2012, 88), (2012, 272), (2013, 88), (2013, 471), (2014, 88), (2014, 415), (2015, 88), (2015, 1309), (2015, 2071), (2016, 88), (2016, 842), (2016, 973), (2016, 2010), (2016, 2071), (2017, 88), (2017, 130), (2017, 815), (2017, 1487), (2017, 2467), (2018, 76), (2018, 356), (2018, 621), (2018, 815), (2018, 851), (2018, 1658), (2018, 2019), (2019, 973), (2019, 2018), (2020, 55), (2020, 323), (2021, 55), (2021, 65), (2021, 239), (2021, 1628), (2021, 2418), (2022, 323), (2022, 454), (2022, 2190), (2023, 651), (2023, 1512), (2023, 2217), (2024, 478), (2024, 651), (2024, 885), (2024, 1332), (2024, 2156), (2024, 2178), (2025, 149), (2025, 572), (2025, 671), (2025, 1110), (2025, 1120), (2025, 1357), (2025, 1498), (2025, 1583), (2025, 2009), (2025, 2026), (2025, 2027), (2025, 2028), (2026, 487), (2026, 2025), (2026, 2045), (2026, 2096), (2027, 938), (2027, 1239), (2027, 2025), (2027, 2360), (2028, 2025), (2029, 472), (2029, 1543), (2029, 1579), (2030, 118), (2030, 903), (2030, 2112), (2031, 903), (2031, 2436), (2032, 1336), (2033, 740), (2033, 788), (2033, 1002), (2033, 1336), (2034, 14), (2034, 49), (2034, 86), (2034, 141), (2034, 158), (2034, 224), (2034, 382), (2034, 417), (2034, 617), (2034, 691), (2034, 791), (2034, 841), (2034, 1002), (2034, 1026), (2034, 1270), (2034, 1273), (2034, 1319), (2034, 1336), (2034, 1448), (2034, 1497), (2034, 1614), (2034, 1654), (2034, 1665), (2034, 1807), (2034, 1812), (2034, 1889), (2034, 1891), (2034, 1894), (2034, 1929), (2034, 1968), (2034, 1983), (2034, 2035), (2034, 2036), (2034, 2037), (2034, 2038), (2034, 2039), (2034, 2040), (2034, 2041), (2034, 2042), (2034, 2130), (2035, 733), (2035, 1324), (2035, 2034), (2036, 833), (2036, 2034), (2037, 180), (2037, 2034), (2038, 293), (2038, 2034), (2039, 1889), (2039, 2034), (2039, 2042), (2040, 33), (2040, 2034), (2040, 2120), (2040, 2122), (2041, 48), (2041, 429), (2041, 788), (2041, 2034), (2042, 2034), (2042, 2039), (2043, 429), (2043, 2406), (2044, 429), (2044, 2001), (2045, 109), (2045, 126), (2045, 133), (2045, 139), (2045, 153), (2045, 215), (2045, 236), (2045, 306), (2045, 308), (2045, 318), (2045, 341), (2045, 519), (2045, 563), (2045, 603), (2045, 699), (2045, 1013), (2045, 1248), (2045, 1337), (2045, 1448), (2045, 1651), (2045, 1772), (2045, 1776), (2045, 1784), (2045, 1787), (2045, 1791), (2045, 1830), (2045, 1852), (2045, 1856), (2045, 2026), (2045, 2046), (2045, 2047), (2045, 2048), (2046, 236), (2046, 306), (2046, 484), (2046, 2045), (2046, 2048), (2047, 294), (2047, 2045), (2048, 306), (2048, 2045), (2048, 2046), (2049, 80), (2049, 142), (2050, 1616), (2050, 2485), (2051, 1042), (2051, 1926), (2051, 2364), (2052, 74), (2052, 544), (2052, 1042), (2052, 1926), (2053, 52), (2053, 1628), (2054, 95), (2054, 456), (2054, 525), (2054, 1042), (2054, 1139), (2054, 1540), (2054, 1602), (2054, 1628), (2054, 2133), (2055, 1042), (2055, 1588), (2055, 1628), (2055, 2198), (2056, 100), (2056, 408), (2056, 734), (2056, 1628), (2056, 1680), (2056, 1841), (2056, 2311), (2056, 2576), (2057, 525), (2057, 1628), (2058, 635), (2058, 1378), (2058, 2150), (2059, 146), (2059, 405), (2059, 718), (2059, 1008), (2059, 1435), (2059, 1906), (2060, 735), (2061, 735), (2062, 701), (2062, 735), (2063, 327), (2063, 928), (2063, 1325), (2063, 1326), (2063, 1996), (2064, 327), (2064, 1996), (2065, 918), (2065, 2066), (2065, 2067), (2066, 1098), (2066, 1477), (2066, 2065), (2066, 2122), (2067, 1098), (2067, 1477), (2067, 2065), (2068, 861), (2068, 1330), (2068, 1377), (2069, 702), (2069, 1377), (2069, 2070), (2070, 702), (2070, 1377), (2070, 2069), (2071, 725), (2071, 755), (2071, 1435), (2071, 1566), (2071, 1592), (2071, 1840), (2071, 2015), (2071, 2016), (2072, 1395), (2072, 1602), (2072, 2182), (2073, 901), (2073, 1042), (2073, 1602), (2074, 95), (2074, 1602), (2074, 2181), (2074, 2277), (2075, 14), (2075, 775), (2075, 1020), (2075, 2076), (2075, 2077), (2075, 2091), (2075, 2667), (2075, 2668), (2076, 180), (2076, 218), (2076, 2075), (2076, 2077), (2076, 2667), (2077, 14), (2077, 486), (2077, 1020), (2077, 1704), (2077, 2075), (2077, 2076), (2078, 236), (2078, 306), (2078, 836), (2078, 1776), (2079, 126), (2079, 236), (2079, 1802), (2080, 112), (2080, 306), (2080, 487), (2080, 608), (2080, 655), (2080, 1245), (2080, 1311), (2080, 1367), (2080, 1459), (2080, 1770), (2081, 484), (2081, 1705), (2082, 18), (2082, 133), (2083, 367), (2083, 505), (2083, 650), (2083, 752), (2083, 957), (2083, 1483), (2083, 1550), (2083, 1557), (2083, 1685), (2083, 2168), (2084, 306), (2084, 350), (2084, 409), (2085, 306), (2085, 350), (2085, 910), (2085, 1490), (2085, 2089), (2086, 306), (2086, 1089), (2086, 1505), (2086, 2094), (2087, 306), (2087, 1335), (2088, 306), (2088, 1797), (2089, 306), (2089, 350), (2089, 2085), (2090, 306), (2090, 350), (2090, 656), (2090, 1335), (2091, 218), (2091, 306), (2091, 2075), (2092, 109), (2093, 109), (2093, 741), (2093, 831), (2094, 36), (2094, 109), (2094, 441), (2094, 530), (2094, 2086), (2094, 2106), (2095, 109), (2095, 135), (2095, 2145), (2095, 2329), (2095, 2504), (2096, 859), (2096, 937), (2096, 1009), (2096, 1784), (2096, 1856), (2096, 2026), (2097, 79), (2097, 522), (2097, 975), (2097, 2098), (2098, 2097), (2099, 490), (2099, 868), (2099, 1526), (2099, 2425), (2100, 803), (2100, 830), (2100, 1184), (2100, 2101), (2101, 702), (2101, 2100), (2102, 1309), (2102, 1912), (2102, 2385), (2103, 1309), (2103, 1912), (2103, 2385), (2104, 516), (2105, 490), (2105, 517), (2106, 36), (2106, 2094), (2107, 36), (2107, 399), (2107, 1505), (2107, 1781), (2108, 693), (2108, 1519), (2109, 604), (2109, 1085), (2109, 1396), (2109, 1421), (2109, 1975), (2109, 2110), (2110, 1085), (2110, 1421), (2110, 1975), (2110, 2109), (2111, 711), (2112, 118), (2112, 255), (2112, 711), (2112, 1690), (2112, 2030), (2112, 2436), (2113, 704), (2113, 711), (2113, 1077), (2113, 1483), (2113, 1743), (2113, 2450), (2114, 386), (2114, 1083), (2114, 2509), (2114, 2519), (2114, 2588), (2115, 386), (2115, 2117), (2115, 2519), (2116, 356), (2116, 1218), (2117, 386), (2117, 770), (2117, 1508), (2117, 1846), (2117, 1867), (2117, 1894), (2117, 2115), (2117, 2118), (2118, 229), (2118, 1894), (2118, 2117), (2119, 33), (2119, 218), (2120, 33), (2120, 442), (2120, 665), (2120, 2040), (2120, 2637), (2121, 33), (2121, 2001), (2121, 2122), (2122, 91), (2122, 196), (2122, 332), (2122, 627), (2122, 665), (2122, 1051), (2122, 2040), (2122, 2066), (2122, 2121), (2122, 2123), (2123, 91), (2123, 330), (2123, 2001), (2123, 2003), (2123, 2122), (2123, 2380), (2124, 1119), (2124, 1273), (2124, 1608), (2124, 1611), (2124, 2125), (2124, 2126), (2124, 2127), (2125, 1111), (2125, 1119), (2125, 1273), (2125, 2124), (2125, 2126), (2126, 870), (2126, 1111), (2126, 1119), (2126, 1235), (2126, 1273), (2126, 1608), (2126, 2124), (2126, 2125), (2127, 546), (2127, 1119), (2127, 2124), (2127, 2130), (2128, 1119), (2128, 2129), (2129, 1111), (2129, 1119), (2129, 1273), (2129, 2128), (2130, 430), (2130, 691), (2130, 791), (2130, 912), (2130, 983), (2130, 1261), (2130, 1889), (2130, 1890), (2130, 1891), (2130, 2034), (2130, 2127), (2130, 2249), (2131, 1463), (2131, 2133), (2131, 2182), (2132, 1163), (2132, 1463), (2132, 1482), (2132, 1683), (2133, 276), (2133, 434), (2133, 1463), (2133, 1695), (2133, 2054), (2133, 2131), (2133, 2182), (2134, 921), (2134, 1351), (2135, 175), (2135, 190), (2135, 2282), (2136, 737), (2136, 1121), (2136, 1655), (2136, 1671), (2137, 1394), (2137, 1487), (2137, 1671), (2138, 548), (2138, 598), (2138, 944), (2139, 24), (2139, 1636), (2139, 2140), (2139, 2141), (2140, 17), (2140, 927), (2140, 1301), (2140, 1679), (2140, 2139), (2141, 24), (2141, 1636), (2141, 2139), (2141, 2142), (2142, 2141), (2143, 303), (2143, 1367), (2143, 1777), (2143, 1787), (2144, 135), (2144, 137), (2144, 2145), (2144, 2329), (2144, 2331), (2144, 2504), (2145, 18), (2145, 1512), (2145, 2095), (2145, 2144), (2146, 374), (2146, 509), (2146, 846), (2146, 1101), (2146, 1242), (2146, 2147), (2146, 2148), (2147, 374), (2147, 455), (2147, 658), (2147, 1664), (2147, 2146), (2147, 2486), (2148, 509), (2148, 1101), (2148, 1242), (2148, 2146), (2149, 374), (2150, 1378), (2150, 2058), (2151, 93), (2151, 1224), (2151, 2423), (2152, 1224), (2152, 2385), (2153, 973), (2153, 1224), (2153, 2155), (2154, 1224), (2154, 1291), (2154, 1587), (2154, 1660), (2155, 74), (2155, 280), (2155, 539), (2155, 586), (2155, 749), (2155, 993), (2155, 1118), (2155, 1131), (2155, 1143), (2155, 1152), (2155, 1203), (2155, 1224), (2155, 1535), (2155, 2153), (2155, 2293), (2155, 2294), (2155, 2295), (2156, 324), (2156, 651), (2156, 1224), (2156, 2024), (2157, 108), (2157, 1835), (2157, 2158), (2157, 2159), (2157, 2160), (2158, 2157), (2159, 23), (2159, 2157), (2159, 2160), (2160, 898), (2160, 1328), (2160, 1647), (2160, 1698), (2160, 1835), (2160, 2157), (2160, 2159), (2160, 2161), (2161, 1327), (2161, 2160), (2162, 30), (2162, 61), (2162, 738), (2162, 1080), (2162, 2163), (2163, 1073), (2163, 1303), (2163, 1348), (2163, 1502), (2163, 2162), (2164, 87), (2164, 2217), (2164, 2282), (2165, 118), (2165, 279), (2165, 1343), (2166, 118), (2166, 1029), (2167, 957), (2168, 834), (2168, 876), (2168, 1033), (2168, 1557), (2168, 1586), (2168, 1726), (2168, 2083), (2168, 2169), (2169, 131), (2169, 683), (2169, 1546), (2169, 1547), (2169, 2168), (2170, 1357), (2170, 2171), (2171, 2170), (2172, 52), (2172, 525), (2172, 1467), (2172, 1628), (2172, 2182), (2173, 939), (2173, 2174), (2174, 2173), (2175, 4), (2175, 982), (2175, 1256), (2175, 1761), (2175, 2176), (2176, 4), (2176, 595), (2176, 982), (2176, 1016), (2176, 1091), (2176, 1256), (2176, 1382), (2176, 2175), (2177, 398), (2177, 644), (2177, 2367), (2177, 2371), (2178, 76), (2178, 88), (2178, 415), (2178, 737), (2178, 1309), (2178, 1979), (2178, 2024), (2179, 440), (2180, 81), (2180, 257), (2180, 525), (2180, 2182), (2180, 2183), (2181, 95), (2181, 142), (2181, 525), (2181, 1388), (2181, 2074), (2181, 2196), (2181, 2197), (2181, 2202), (2182, 52), (2182, 95), (2182, 239), (2182, 415), (2182, 525), (2182, 858), (2182, 1139), (2182, 1285), (2182, 1515), (2182, 1838), (2182, 2072), (2182, 2131), (2182, 2133), (2182, 2172), (2182, 2180), (2182, 2198), (2182, 2231), (2182, 2232), (2182, 2233), (2183, 95), (2183, 525), (2183, 2180), (2184, 70), (2184, 441), (2185, 1131), (2185, 1133), (2185, 1500), (2185, 1538), (2186, 756), (2186, 901), (2186, 1279), (2186, 1692), (2186, 2199), (2187, 172), (2187, 756), (2187, 1472), (2187, 1692), (2188, 454), (2189, 69), (2189, 454), (2189, 847), (2189, 1395), (2189, 1682), (2189, 1926), (2190, 454), (2190, 2022), (2191, 387), (2192, 144), (2192, 213), (2192, 495), (2192, 537), (2193, 2194), (2194, 214), (2194, 324), (2194, 1120), (2194, 2193), (2194, 2195), (2195, 594), (2195, 663), (2195, 1333), (2195, 2194), (2196, 1631), (2196, 2181), (2197, 95), (2197, 734), (2197, 736), (2197, 965), (2197, 1388), (2197, 2181), (2198, 751), (2198, 964), (2198, 1042), (2198, 2055), (2198, 2182), (2199, 95), (2199, 456), (2199, 544), (2199, 680), (2199, 731), (2199, 901), (2199, 1580), (2199, 2186), (2199, 2200), (2199, 2201), (2200, 95), (2200, 1580), (2200, 2199), (2201, 95), (2201, 552), (2201, 2199), (2202, 734), (2202, 736), (2202, 751), (2202, 2181), (2203, 731), (2203, 1279), (2203, 1801), (2203, 2330), (2203, 2511), (2204, 1951), (2204, 1952), (2204, 2521), (2205, 48), (2205, 788), (2205, 1952), (2206, 48), (2206, 1951), (2206, 1952), (2207, 979), (2207, 1200), (2207, 2241), (2208, 1483), (2209, 108), (2209, 1504), (2209, 1647), (2210, 104), (2210, 864), (2211, 1065), (2211, 2356), (2212, 708), (2212, 710), (2212, 1392), (2212, 2216), (2213, 51), (2213, 421), (2213, 710), (2214, 51), (2214, 1201), (2214, 2216), (2215, 51), (2215, 457), (2215, 1724), (2215, 2216), (2216, 421), (2216, 457), (2216, 708), (2216, 1724), (2216, 2212), (2216, 2214), (2216, 2215), (2217, 96), (2217, 175), (2217, 231), (2217, 2023), (2217, 2164), (2218, 1411), (2218, 1459), (2219, 475), (2219, 485), (2219, 1838), (2220, 1148), (2220, 1169), (2220, 1317), (2220, 2221), (2220, 2525), (2221, 823), (2221, 1148), (2221, 1317), (2221, 1739), (2221, 2220), (2221, 2507), (2222, 75), (2222, 284), (2222, 2224), (2222, 2225), (2223, 75), (2223, 84), (2223, 284), (2223, 2224), (2224, 75), (2224, 84), (2224, 284), (2224, 583), (2224, 2222), (2224, 2223), (2224, 2225), (2224, 2226), (2225, 75), (2225, 284), (2225, 583), (2225, 2222), (2225, 2224), (2226, 84), (2226, 284), (2226, 2224), (2227, 266), (2227, 634), (2227, 1269), (2227, 1399), (2227, 1630), (2227, 2228), (2228, 809), (2228, 1396), (2228, 1501), (2228, 2227), (2228, 2394), (2228, 2395), (2229, 266), (2229, 601), (2229, 809), (2230, 482), (2230, 606), (2230, 938), (2230, 2296), (2231, 2182), (2231, 2292), (2232, 315), (2232, 1376), (2232, 2182), (2233, 636), (2233, 2182), (2233, 2291), (2234, 1515), (2235, 612), (2235, 676), (2235, 1955), (2236, 151), (2236, 805), (2236, 1969), (2236, 2237), (2237, 1240), (2237, 2236), (2237, 2238), (2238, 22), (2238, 151), (2238, 152), (2238, 627), (2238, 706), (2238, 1702), (2238, 1703), (2238, 1969), (2238, 2237), (2238, 2239), (2238, 2240), (2239, 2238), (2240, 152), (2240, 963), (2240, 1157), (2240, 1443), (2240, 1530), (2240, 2238), (2240, 2399), (2241, 500), (2241, 1191), (2241, 1503), (2241, 1957), (2241, 2207), (2241, 2242), (2242, 2241), (2242, 2539), (2243, 1107), (2243, 1503), (2243, 2244), (2243, 2245), (2243, 2246), (2244, 281), (2244, 2243), (2245, 2243), (2245, 2246), (2246, 1595), (2246, 2243), (2246, 2245), (2246, 2247), (2247, 281), (2247, 972), (2247, 1086), (2247, 1325), (2247, 2246), (2247, 2509), (2247, 2543), (2248, 348), (2248, 428), (2248, 837), (2248, 856), (2248, 996), (2248, 1071), (2248, 1135), (2248, 1138), (2248, 1255), (2248, 1257), (2248, 1366), (2248, 1461), (2248, 1545), (2248, 2249), (2249, 368), (2249, 1257), (2249, 2130), (2249, 2248), (2249, 2518), (2249, 2671), (2250, 283), (2250, 348), (2250, 1138), (2250, 1260), (2251, 121), (2251, 1158), (2251, 2252), (2252, 121), (2252, 1158), (2252, 2251), (2253, 1697), (2254, 1146), (2255, 225), (2256, 102), (2256, 1878), (2257, 1728), (2258, 1290), (2259, 1419), (2259, 1436), (2259, 2335), (2259, 2337), (2260, 529), (2260, 1417), (2260, 1419), (2261, 718), (2261, 1474), (2262, 1015), (2262, 1143), (2263, 94), (2263, 1015), (2263, 2490), (2264, 1104), (2265, 984), (2265, 1322), (2265, 1324), (2266, 1395), (2266, 2267), (2266, 2321), (2266, 2364), (2267, 1395), (2267, 2266), (2268, 309), (2268, 383), (2268, 733), (2268, 1160), (2268, 1278), (2268, 2291), (2269, 20), (2269, 370), (2269, 392), (2269, 1415), (2269, 1619), (2269, 1903), (2269, 2270), (2270, 20), (2270, 128), (2270, 1354), (2270, 1414), (2270, 2269), (2270, 2375), (2271, 1441), (2272, 1441), (2273, 1441), (2274, 1370), (2274, 1441), (2274, 1527), (2275, 1128), (2275, 1441), (2275, 1954), (2276, 868), (2276, 1115), (2276, 1844), (2277, 734), (2277, 839), (2277, 2074), (2278, 850), (2278, 1359), (2279, 110), (2279, 565), (2279, 2466), (2280, 242), (2280, 270), (2280, 279), (2280, 838), (2280, 1131), (2281, 1131), (2281, 1842), (2281, 2405), (2282, 816), (2282, 1131), (2282, 1351), (2282, 1655), (2282, 2135), (2282, 2164), (2283, 575), (2283, 1131), (2283, 1382), (2284, 1901), (2284, 2285), (2285, 451), (2285, 989), (2285, 2284), (2285, 2286), (2286, 1549), (2286, 1901), (2286, 2285), (2287, 610), (2287, 826), (2287, 2288), (2288, 114), (2288, 610), (2288, 2287), (2289, 444), (2289, 584), (2289, 623), (2289, 2464), (2290, 444), (2290, 1102), (2290, 1207), (2290, 2464), (2290, 2496), (2291, 377), (2291, 481), (2291, 715), (2291, 733), (2291, 1265), (2291, 1682), (2291, 2233), (2291, 2268), (2291, 2292), (2292, 2231), (2292, 2291), (2293, 921), (2293, 1535), (2293, 2155), (2294, 1141), (2294, 2155), (2295, 86), (2295, 897), (2295, 1110), (2295, 1655), (2295, 2155), (2296, 313), (2296, 1134), (2296, 2230), (2297, 1796), (2297, 2298), (2297, 2299), (2298, 2297), (2299, 1795), (2299, 2297), (2300, 1196), (2301, 733), (2301, 2008), (2302, 733), (2302, 1692), (2303, 45), (2303, 733), (2303, 2541), (2304, 465), (2304, 469), (2304, 733), (2304, 2385), (2305, 309), (2305, 453), (2305, 1278), (2305, 1818), (2305, 1909), (2305, 2306), (2306, 453), (2306, 1278), (2306, 1818), (2306, 2305), (2306, 2552), (2307, 482), (2307, 1067), (2307, 1742), (2308, 159), (2308, 482), (2308, 531), (2308, 2559), (2309, 210), (2309, 461), (2309, 994), (2309, 1021), (2309, 1043), (2309, 1268), (2309, 1399), (2309, 1869), (2310, 21), (2310, 1920), (2311, 2056), (2311, 2576), (2312, 61), (2312, 1333), (2313, 873), (2313, 1708), (2314, 767), (2314, 1708), (2315, 1344), (2316, 1343), (2317, 25), (2317, 1403), (2317, 1928), (2318, 1681), (2318, 1779), (2319, 695), (2319, 1681), (2319, 1682), (2320, 1681), (2320, 1682), (2321, 1682), (2321, 2266), (2322, 1705), (2323, 344), (2323, 1444), (2324, 1282), (2324, 1283), (2324, 1735), (2324, 1776), (2325, 508), (2325, 1768), (2325, 1991), (2326, 878), (2326, 1142), (2326, 1782), (2326, 1998), (2327, 699), (2327, 1490), (2327, 1778), (2327, 2328), (2328, 2327), (2329, 137), (2329, 397), (2329, 2095), (2329, 2144), (2329, 2330), (2329, 2331), (2330, 861), (2330, 2203), (2330, 2329), (2331, 2144), (2331, 2329), (2332, 1125), (2332, 1481), (2332, 1669), (2333, 1042), (2333, 1047), (2333, 1588), (2334, 174), (2334, 1725), (2335, 151), (2335, 627), (2335, 1385), (2335, 1474), (2335, 1481), (2335, 1519), (2335, 2001), (2335, 2259), (2335, 2336), (2336, 1046), (2336, 1202), (2336, 1428), (2336, 2335), (2336, 2524), (2337, 2259), (2338, 1558), (2338, 2555), (2339, 843), (2339, 1191), (2339, 1558), (2339, 2340), (2340, 1558), (2340, 2339), (2341, 780), (2342, 1259), (2343, 30), (2343, 2344), (2344, 279), (2344, 1080), (2344, 2343), (2344, 2475), (2345, 1692), (2346, 1469), (2346, 1692), (2346, 2349), (2347, 456), (2347, 544), (2347, 1692), (2348, 576), (2348, 1692), (2348, 2001), (2349, 1185), (2349, 1460), (2349, 1469), (2349, 1498), (2349, 1692), (2349, 2346), (2349, 2358), (2350, 1178), (2350, 1417), (2350, 1529), (2351, 394), (2351, 577), (2351, 849), (2351, 906), (2351, 1064), (2351, 1129), (2352, 577), (2352, 1064), (2352, 1129), (2353, 577), (2353, 906), (2353, 1129), (2354, 577), (2355, 94), (2355, 2356), (2355, 2357), (2356, 675), (2356, 934), (2356, 2211), (2356, 2355), (2356, 2357), (2357, 39), (2357, 94), (2357, 1846), (2357, 2355), (2357, 2356), (2358, 631), (2358, 1185), (2358, 1460), (2358, 1469), (2358, 2349), (2359, 290), (2359, 480), (2359, 687), (2359, 797), (2359, 1136), (2359, 1171), (2359, 1175), (2359, 1189), (2359, 1433), (2359, 1834), (2359, 2372), (2360, 27), (2360, 606), (2360, 2027), (2360, 2578), (2361, 606), (2362, 442), (2363, 125), (2363, 1555), (2364, 667), (2364, 2051), (2364, 2266), (2365, 391), (2365, 616), (2365, 970), (2365, 998), (2365, 1565), (2365, 1709), (2365, 1738), (2366, 46), (2366, 686), (2366, 1738), (2367, 15), (2367, 395), (2367, 765), (2367, 894), (2367, 1090), (2367, 1093), (2367, 1147), (2367, 1271), (2367, 1598), (2367, 2177), (2367, 2368), (2367, 2369), (2367, 2370), (2367, 2371), (2368, 2367), (2368, 2370), (2369, 2367), (2369, 2370), (2370, 2367), (2370, 2368), (2370, 2369), (2371, 1147), (2371, 2177), (2371, 2367), (2372, 480), (2372, 687), (2372, 2359), (2373, 267), (2374, 20), (2375, 20), (2375, 371), (2375, 1404), (2375, 2270), (2376, 783), (2376, 813), (2376, 911), (2376, 1061), (2376, 1143), (2376, 1202), (2376, 1428), (2377, 372), (2378, 1018), (2378, 2001), (2379, 1107), (2379, 2001), (2379, 2002), (2380, 91), (2380, 2001), (2380, 2123), (2381, 1662), (2381, 1666), (2381, 2001), (2382, 814), (2382, 1158), (2382, 2383), (2383, 299), (2383, 588), (2383, 808), (2383, 814), (2383, 893), (2383, 924), (2383, 1051), (2383, 1484), (2383, 1635), (2383, 2382), (2384, 1655), (2385, 191), (2385, 995), (2385, 1338), (2385, 2102), (2385, 2103), (2385, 2152), (2385, 2304), (2386, 299), (2386, 885), (2386, 1082), (2387, 271), (2387, 299), (2387, 638), (2387, 1046), (2387, 1406), (2387, 1510), (2388, 175), (2388, 551), (2388, 728), (2388, 945), (2388, 1377), (2388, 1914), (2389, 1740), (2389, 2451), (2390, 489), (2390, 1041), (2390, 1740), (2390, 2391), (2390, 2451), (2391, 489), (2391, 1740), (2391, 2390), (2391, 2451), (2392, 535), (2392, 1740), (2392, 2451), (2393, 368), (2393, 1634), (2394, 88), (2394, 471), (2394, 504), (2394, 600), (2394, 724), (2394, 1027), (2394, 1085), (2394, 1174), (2394, 1396), (2394, 1399), (2394, 1420), (2394, 1421), (2394, 2228), (2394, 2395), (2394, 2396), (2394, 2397), (2395, 724), (2395, 1396), (2395, 1501), (2395, 2228), (2395, 2394), (2396, 504), (2396, 1420), (2396, 2394), (2397, 2394), (2398, 1662), (2398, 2493), (2399, 43), (2399, 963), (2399, 1443), (2399, 2240), (2399, 2434), (2400, 43), (2400, 963), (2401, 375), (2401, 963), (2401, 2434), (2401, 2435), (2402, 781), (2402, 2403), (2403, 836), (2403, 2402), (2404, 1912), (2405, 120), (2405, 483), (2405, 816), (2405, 1842), (2405, 1979), (2405, 1980), (2405, 2281), (2406, 523), (2406, 2043), (2407, 573), (2407, 643), (2407, 1313), (2408, 434), (2408, 1693), (2409, 716), (2409, 1057), (2410, 2411), (2411, 2410), (2412, 197), (2412, 469), (2412, 1997), (2413, 1725), (2413, 2414), (2413, 2415), (2414, 1200), (2414, 2413), (2415, 915), (2415, 2413), (2415, 2597), (2416, 1152), (2416, 2417), (2417, 2416), (2418, 57), (2418, 65), (2418, 239), (2418, 572), (2418, 1293), (2418, 2021), (2419, 65), (2419, 74), (2419, 497), (2419, 1848), (2420, 640), (2421, 757), (2422, 847), (2422, 1920), (2423, 279), (2423, 304), (2423, 518), (2423, 2151), (2424, 195), (2424, 1839), (2425, 1341), (2425, 1526), (2425, 1622), (2425, 2099), (2425, 2426), (2426, 2425), (2427, 37), (2427, 349), (2427, 2428), (2428, 2427), (2429, 250), (2430, 201), (2430, 570), (2431, 2432), (2432, 2431), (2433, 1233), (2434, 375), (2434, 963), (2434, 1087), (2434, 2399), (2434, 2401), (2435, 375), (2435, 2401), (2436, 989), (2436, 1507), (2436, 2031), (2436, 2112), (2437, 167), (2437, 168), (2437, 2438), (2438, 168), (2438, 2437), (2439, 867), (2439, 1229), (2439, 2530), (2439, 2652), (2440, 657), (2440, 867), (2440, 1229), (2440, 2530), (2441, 1229), (2441, 1599), (2442, 657), (2442, 867), (2442, 1229), (2442, 2530), (2442, 2614), (2443, 615), (2443, 1742), (2444, 16), (2444, 464), (2444, 580), (2444, 1710), (2444, 1742), (2444, 2503), (2445, 464), (2445, 580), (2445, 1742), (2445, 2503), (2446, 609), (2446, 1216), (2446, 1427), (2446, 1712), (2446, 1716), (2446, 1749), (2446, 2447), (2446, 2448), (2447, 609), (2447, 1037), (2447, 2446), (2448, 609), (2448, 762), (2448, 1041), (2448, 1067), (2448, 2446), (2449, 1523), (2450, 389), (2450, 562), (2450, 704), (2450, 754), (2450, 969), (2450, 1077), (2450, 1284), (2450, 1412), (2450, 1527), (2450, 1620), (2450, 1743), (2450, 2113), (2451, 268), (2451, 367), (2451, 752), (2451, 1757), (2451, 1801), (2451, 1804), (2451, 2389), (2451, 2390), (2451, 2391), (2451, 2392), (2451, 2452), (2452, 2451), (2452, 2685), (2453, 354), (2453, 1839), (2454, 26), (2454, 99), (2454, 122), (2455, 26), (2455, 99), (2455, 122), (2455, 123), (2456, 672), (2456, 817), (2457, 499), (2457, 1917), (2457, 2458), (2457, 2649), (2458, 499), (2458, 2457), (2459, 760), (2459, 2689), (2460, 760), (2460, 1599), (2461, 106), (2462, 1442), (2463, 89), (2463, 340), (2463, 584), (2463, 1157), (2464, 444), (2464, 515), (2464, 584), (2464, 623), (2464, 828), (2464, 1102), (2464, 1207), (2464, 1530), (2464, 1795), (2464, 2289), (2464, 2290), (2464, 2465), (2465, 515), (2465, 1102), (2465, 2464), (2466, 425), (2466, 533), (2466, 1007), (2466, 1758), (2466, 2279), (2467, 2017), (2467, 2468), (2468, 2467), (2469, 365), (2469, 1475), (2470, 614), (2470, 1475), (2471, 48), (2471, 2493), (2472, 192), (2472, 456), (2472, 591), (2472, 642), (2472, 667), (2472, 1017), (2473, 217), (2473, 2648), (2474, 217), (2474, 243), (2475, 1928), (2475, 2344), (2476, 105), (2476, 524), (2476, 564), (2476, 1169), (2476, 1596), (2476, 1721), (2476, 2651), (2477, 2006), (2478, 124), (2479, 1236), (2480, 331), (2480, 712), (2480, 1359), (2481, 610), (2481, 840), (2482, 167), (2482, 1056), (2483, 385), (2483, 2484), (2484, 369), (2484, 385), (2484, 2483), (2485, 252), (2485, 1370), (2485, 1592), (2485, 1792), (2485, 1851), (2485, 2050), (2486, 455), (2486, 1684), (2486, 2147), (2487, 85), (2488, 85), (2489, 1608), (2490, 94), (2490, 2263), (2491, 1360), (2491, 1899), (2491, 1960), (2492, 111), (2492, 301), (2492, 758), (2492, 1169), (2492, 1765), (2493, 157), (2493, 855), (2493, 2398), (2493, 2471), (2494, 417), (2494, 2495), (2495, 833), (2495, 1130), (2495, 1641), (2495, 2494), (2496, 2290), (2497, 388), (2497, 703), (2497, 1578), (2498, 271), (2498, 299), (2498, 1484), (2499, 1117), (2499, 1524), (2500, 722), (2500, 1567), (2500, 1874), (2501, 722), (2501, 1092), (2501, 1106), (2501, 1321), (2501, 1874), (2502, 858), (2503, 403), (2503, 616), (2503, 1038), (2503, 1216), (2503, 2444), (2503, 2445), (2504, 137), (2504, 2095), (2504, 2144), (2505, 406), (2506, 114), (2507, 353), (2507, 1250), (2507, 2221), (2508, 507), (2508, 1300), (2508, 1941), (2509, 1365), (2509, 1987), (2509, 2114), (2509, 2247), (2509, 2519), (2510, 1899), (2511, 2203), (2512, 569), (2513, 1684), (2514, 1154), (2514, 2515), (2515, 246), (2515, 936), (2515, 1154), (2515, 2514), (2515, 2530), (2516, 694), (2516, 801), (2516, 2517), (2517, 941), (2517, 2516), (2518, 148), (2518, 381), (2518, 996), (2518, 1135), (2518, 1257), (2518, 2249), (2518, 2538), (2519, 1365), (2519, 2114), (2519, 2115), (2519, 2509), (2520, 1428), (2520, 1429), (2520, 1484), (2521, 2204), (2522, 657), (2522, 867), (2522, 2656), (2523, 657), (2523, 867), (2524, 1202), (2524, 1428), (2524, 2336), (2525, 154), (2525, 2220), (2526, 560), (2526, 585), (2527, 540), (2528, 826), (2528, 1226), (2529, 959), (2530, 871), (2530, 936), (2530, 2439), (2530, 2440), (2530, 2442), (2530, 2515), (2531, 1026), (2532, 460), (2533, 1201), (2534, 605), (2534, 620), (2534, 729), (2534, 1159), (2534, 2535), (2535, 1186), (2535, 2534), (2536, 1307), (2537, 117), (2537, 259), (2538, 381), (2538, 450), (2538, 492), (2538, 1257), (2538, 2518), (2539, 237), (2539, 2242), (2539, 2540), (2539, 2632), (2540, 2539), (2541, 1591), (2541, 2303), (2542, 843), (2543, 269), (2543, 1000), (2543, 2247), (2544, 3), (2545, 10), (2546, 5), (2546, 466), (2546, 628), (2546, 952), (2547, 488), (2547, 515), (2548, 582), (2549, 582), (2550, 1812), (2551, 269), (2552, 2306), (2553, 728), (2553, 748), (2553, 1368), (2553, 1470), (2553, 1911), (2554, 1136), (2554, 2689), (2555, 792), (2555, 961), (2555, 1728), (2555, 2338), (2555, 2599), (2556, 626), (2556, 1249), (2556, 1610), (2557, 1610), (2558, 626), (2558, 1249), (2558, 1610), (2559, 2308), (2560, 1114), (2560, 1717), (2560, 2561), (2561, 2560), (2562, 292), (2562, 1036), (2563, 1050), (2563, 1081), (2564, 194), (2564, 1050), (2564, 1379), (2564, 1380), (2564, 1451), (2565, 953), (2565, 2566), (2565, 2567), (2566, 953), (2566, 2565), (2567, 953), (2567, 2565), (2568, 1023), (2569, 380), (2569, 477), (2569, 930), (2570, 727), (2570, 1151), (2570, 1386), (2570, 2572), (2570, 2573), (2571, 1386), (2572, 2570), (2573, 1877), (2573, 2570), (2574, 1186), (2575, 1008), (2576, 1680), (2576, 2056), (2576, 2311), (2577, 1235), (2577, 1663), (2578, 27), (2578, 2360), (2579, 972), (2579, 1086), (2579, 1225), (2580, 186), (2580, 972), (2580, 1228), (2580, 1536), (2581, 83), (2581, 449), (2582, 0), (2582, 1166), (2582, 1862), (2583, 247), (2584, 876), (2585, 558), (2585, 1706), (2586, 1375), (2587, 1046), (2588, 2114), (2589, 1185), (2590, 1185), (2590, 1469), (2590, 1498), (2591, 234), (2591, 1552), (2592, 793), (2592, 1903), (2593, 1741), (2594, 218), (2594, 2680), (2595, 833), (2596, 1589), (2596, 1725), (2596, 1745), (2596, 1751), (2597, 915), (2597, 1358), (2597, 1389), (2597, 1725), (2597, 1734), (2597, 2415), (2598, 329), (2599, 961), (2599, 1728), (2599, 2555), (2600, 832), (2601, 1488), (2601, 2609), (2602, 2603), (2603, 2602), (2604, 99), (2604, 123), (2604, 127), (2605, 1348), (2606, 670), (2607, 1003), (2608, 891), (2608, 1674), (2608, 1900), (2609, 411), (2609, 2601), (2610, 1049), (2611, 1239), (2612, 1280), (2612, 1516), (2613, 1095), (2614, 9), (2614, 494), (2614, 723), (2614, 1599), (2614, 2442), (2615, 332), (2615, 2696), (2616, 64), (2616, 1737), (2617, 166), (2618, 2619), (2619, 2618), (2620, 1925), (2621, 1959), (2622, 145), (2623, 946), (2624, 44), (2624, 2701), (2625, 2626), (2626, 2625), (2627, 929), (2628, 67), (2629, 692), (2630, 1957), (2630, 2699), (2631, 66), (2632, 2539), (2633, 1563), (2634, 2635), (2634, 2636), (2635, 2634), (2636, 2634), (2636, 2693), (2637, 2120), (2638, 447), (2639, 917), (2640, 1519), (2641, 535), (2641, 936), (2642, 16), (2642, 358), (2642, 364), (2642, 1756), (2643, 111), (2644, 1885), (2645, 29), (2645, 258), (2645, 706), (2645, 1443), (2646, 194), (2647, 243), (2647, 473), (2647, 1686), (2648, 243), (2648, 1532), (2648, 2473), (2649, 1915), (2649, 2457), (2650, 960), (2651, 59), (2651, 105), (2651, 2476), (2652, 357), (2652, 871), (2652, 2439), (2653, 865), (2653, 1920), (2654, 403), (2654, 1037), (2654, 2655), (2655, 2654), (2656, 1252), (2656, 2522), (2657, 1642), (2658, 1642), (2659, 967), (2660, 1673), (2661, 12), (2661, 1318), (2662, 12), (2662, 1001), (2662, 1318), (2663, 1432), (2663, 1605), (2664, 1438), (2665, 2666), (2666, 2665), (2667, 45), (2667, 486), (2667, 1020), (2667, 2075), (2667, 2076), (2667, 2668), (2668, 14), (2668, 45), (2668, 486), (2668, 2075), (2668, 2667), (2669, 592), (2670, 837), (2670, 1194), (2670, 2679), (2671, 428), (2671, 726), (2671, 1071), (2671, 1109), (2671, 1135), (2671, 1206), (2671, 1257), (2671, 1533), (2671, 1688), (2671, 2249), (2671, 2672), (2671, 2673), (2671, 2674), (2671, 2675), (2672, 2671), (2673, 492), (2673, 1257), (2673, 2671), (2674, 1109), (2674, 2671), (2674, 2675), (2675, 1109), (2675, 2671), (2675, 2674), (2676, 200), (2676, 1439), (2677, 956), (2677, 1257), (2678, 492), (2678, 1135), (2678, 1257), (2679, 177), (2679, 1257), (2679, 1639), (2679, 2670), (2679, 2682), (2680, 1522), (2680, 2594), (2681, 209), (2681, 361), (2681, 1390), (2681, 1449), (2681, 2683), (2682, 177), (2682, 2679), (2683, 2681), (2684, 1320), (2684, 1349), (2685, 296), (2685, 732), (2685, 1718), (2685, 2452), (2686, 1554), (2686, 1657), (2687, 1554), (2687, 2688), (2688, 1554), (2688, 1657), (2688, 2687), (2689, 2459), (2689, 2554), (2690, 611), (2691, 71), (2691, 206), (2692, 1310), (2693, 2636), (2694, 431), (2694, 2695), (2695, 431), (2695, 2694), (2696, 2615), (2697, 986), (2698, 1400), (2698, 1573), (2699, 2630), (2700, 1151), (2701, 44), (2701, 2624), (2702, 186), (2702, 1536), (2703, 1298), (2704, 641), (2705, 287), (2706, 165), (2706, 169), (2706, 1473), (2706, 2707), (2707, 165), (2707, 598), (2707, 1473), (2707, 2706)]\n",
      "[0, 1, 2, 3, 4, 5, 6, 7, 8, 9, 10, 11, 12, 13, 14, 15, 16, 17, 18, 19, 20, 21, 22, 23, 24, 25, 26, 27, 28, 29, 30, 31, 32, 33, 34, 35, 36, 37, 38, 39, 40, 41, 42, 43, 44, 45, 46, 47, 48, 49, 50, 51, 52, 53, 54, 55, 56, 57, 58, 59, 60, 61, 62, 63, 64, 65, 66, 67, 68, 69, 70, 71, 72, 73, 74, 75, 76, 77, 78, 79, 80, 81, 82, 83, 84, 85, 86, 87, 88, 89, 90, 91, 92, 93, 94, 95, 96, 97, 98, 99, 100, 101, 102, 103, 104, 105, 106, 107, 108, 109, 110, 111, 112, 113, 114, 115, 116, 117, 118, 119, 120, 121, 122, 123, 124, 125, 126, 127, 128, 129, 130, 131, 132, 133, 134, 135, 136, 137, 138, 139, 140, 141, 142, 143, 144, 145, 146, 147, 148, 149, 150, 151, 152, 153, 154, 155, 156, 157, 158, 159, 160, 161, 162, 163, 164, 165, 166, 167, 168, 169, 170, 171, 172, 173, 174, 175, 176, 177, 178, 179, 180, 181, 182, 183, 184, 185, 186, 187, 188, 189, 190, 191, 192, 193, 194, 195, 196, 197, 198, 199, 200, 201, 202, 203, 204, 205, 206, 207, 208, 209, 210, 211, 212, 213, 214, 215, 216, 217, 218, 219, 220, 221, 222, 223, 224, 225, 226, 227, 228, 229, 230, 231, 232, 233, 234, 235, 236, 237, 238, 239, 240, 241, 242, 243, 244, 245, 246, 247, 248, 249, 250, 251, 252, 253, 254, 255, 256, 257, 258, 259, 260, 261, 262, 263, 264, 265, 266, 267, 268, 269, 270, 271, 272, 273, 274, 275, 276, 277, 278, 279, 280, 281, 282, 283, 284, 285, 286, 287, 288, 289, 290, 291, 292, 293, 294, 295, 296, 297, 298, 299, 300, 301, 302, 303, 304, 305, 306, 307, 308, 309, 310, 311, 312, 313, 314, 315, 316, 317, 318, 319, 320, 321, 322, 323, 324, 325, 326, 327, 328, 329, 330, 331, 332, 333, 334, 335, 336, 337, 338, 339, 340, 341, 342, 343, 344, 345, 346, 347, 348, 349, 350, 351, 352, 353, 354, 355, 356, 357, 358, 359, 360, 361, 362, 363, 364, 365, 366, 367, 368, 369, 370, 371, 372, 373, 374, 375, 376, 377, 378, 379, 380, 381, 382, 383, 384, 385, 386, 387, 388, 389, 390, 391, 392, 393, 394, 395, 396, 397, 398, 399, 400, 401, 402, 403, 404, 405, 406, 407, 408, 409, 410, 411, 412, 413, 414, 415, 416, 417, 418, 419, 420, 421, 422, 423, 424, 425, 426, 427, 428, 429, 430, 431, 432, 433, 434, 435, 436, 437, 438, 439, 440, 441, 442, 443, 444, 445, 446, 447, 448, 449, 450, 451, 452, 453, 454, 455, 456, 457, 458, 459, 460, 461, 462, 463, 464, 465, 466, 467, 468, 469, 470, 471, 472, 473, 474, 475, 476, 477, 478, 479, 480, 481, 482, 483, 484, 485, 486, 487, 488, 489, 490, 491, 492, 493, 494, 495, 496, 497, 498, 499, 500, 501, 502, 503, 504, 505, 506, 507, 508, 509, 510, 511, 512, 513, 514, 515, 516, 517, 518, 519, 520, 521, 522, 523, 524, 525, 526, 527, 528, 529, 530, 531, 532, 533, 534, 535, 536, 537, 538, 539, 540, 541, 542, 543, 544, 545, 546, 547, 548, 549, 550, 551, 552, 553, 554, 555, 556, 557, 558, 559, 560, 561, 562, 563, 564, 565, 566, 567, 568, 569, 570, 571, 572, 573, 574, 575, 576, 577, 578, 579, 580, 581, 582, 583, 584, 585, 586, 587, 588, 589, 590, 591, 592, 593, 594, 595, 596, 597, 598, 599, 600, 601, 602, 603, 604, 605, 606, 607, 608, 609, 610, 611, 612, 613, 614, 615, 616, 617, 618, 619, 620, 621, 622, 623, 624, 625, 626, 627, 628, 629, 630, 631, 632, 633, 634, 635, 636, 637, 638, 639, 640, 641, 642, 643, 644, 645, 646, 647, 648, 649, 650, 651, 652, 653, 654, 655, 656, 657, 658, 659, 660, 661, 662, 663, 664, 665, 666, 667, 668, 669, 670, 671, 672, 673, 674, 675, 676, 677, 678, 679, 680, 681, 682, 683, 684, 685, 686, 687, 688, 689, 690, 691, 692, 693, 694, 695, 696, 697, 698, 699, 700, 701, 702, 703, 704, 705, 706, 707, 708, 709, 710, 711, 712, 713, 714, 715, 716, 717, 718, 719, 720, 721, 722, 723, 724, 725, 726, 727, 728, 729, 730, 731, 732, 733, 734, 735, 736, 737, 738, 739, 740, 741, 742, 743, 744, 745, 746, 747, 748, 749, 750, 751, 752, 753, 754, 755, 756, 757, 758, 759, 760, 761, 762, 763, 764, 765, 766, 767, 768, 769, 770, 771, 772, 773, 774, 775, 776, 777, 778, 779, 780, 781, 782, 783, 784, 785, 786, 787, 788, 789, 790, 791, 792, 793, 794, 795, 796, 797, 798, 799, 800, 801, 802, 803, 804, 805, 806, 807, 808, 809, 810, 811, 812, 813, 814, 815, 816, 817, 818, 819, 820, 821, 822, 823, 824, 825, 826, 827, 828, 829, 830, 831, 832, 833, 834, 835, 836, 837, 838, 839, 840, 841, 842, 843, 844, 845, 846, 847, 848, 849, 850, 851, 852, 853, 854, 855, 856, 857, 858, 859, 860, 861, 862, 863, 864, 865, 866, 867, 868, 869, 870, 871, 872, 873, 874, 875, 876, 877, 878, 879, 880, 881, 882, 883, 884, 885, 886, 887, 888, 889, 890, 891, 892, 893, 894, 895, 896, 897, 898, 899, 900, 901, 902, 903, 904, 905, 906, 907, 908, 909, 910, 911, 912, 913, 914, 915, 916, 917, 918, 919, 920, 921, 922, 923, 924, 925, 926, 927, 928, 929, 930, 931, 932, 933, 934, 935, 936, 937, 938, 939, 940, 941, 942, 943, 944, 945, 946, 947, 948, 949, 950, 951, 952, 953, 954, 955, 956, 957, 958, 959, 960, 961, 962, 963, 964, 965, 966, 967, 968, 969, 970, 971, 972, 973, 974, 975, 976, 977, 978, 979, 980, 981, 982, 983, 984, 985, 986, 987, 988, 989, 990, 991, 992, 993, 994, 995, 996, 997, 998, 999, 1000, 1001, 1002, 1003, 1004, 1005, 1006, 1007, 1008, 1009, 1010, 1011, 1012, 1013, 1014, 1015, 1016, 1017, 1018, 1019, 1020, 1021, 1022, 1023, 1024, 1025, 1026, 1027, 1028, 1029, 1030, 1031, 1032, 1033, 1034, 1035, 1036, 1037, 1038, 1039, 1040, 1041, 1042, 1043, 1044, 1045, 1046, 1047, 1048, 1049, 1050, 1051, 1052, 1053, 1054, 1055, 1056, 1057, 1058, 1059, 1060, 1061, 1062, 1063, 1064, 1065, 1066, 1067, 1068, 1069, 1070, 1071, 1072, 1073, 1074, 1075, 1076, 1077, 1078, 1079, 1080, 1081, 1082, 1083, 1084, 1085, 1086, 1087, 1088, 1089, 1090, 1091, 1092, 1093, 1094, 1095, 1096, 1097, 1098, 1099, 1100, 1101, 1102, 1103, 1104, 1105, 1106, 1107, 1108, 1109, 1110, 1111, 1112, 1113, 1114, 1115, 1116, 1117, 1118, 1119, 1120, 1121, 1122, 1123, 1124, 1125, 1126, 1127, 1128, 1129, 1130, 1131, 1132, 1133, 1134, 1135, 1136, 1137, 1138, 1139, 1140, 1141, 1142, 1143, 1144, 1145, 1146, 1147, 1148, 1149, 1150, 1151, 1152, 1153, 1154, 1155, 1156, 1157, 1158, 1159, 1160, 1161, 1162, 1163, 1164, 1165, 1166, 1167, 1168, 1169, 1170, 1171, 1172, 1173, 1174, 1175, 1176, 1177, 1178, 1179, 1180, 1181, 1182, 1183, 1184, 1185, 1186, 1187, 1188, 1189, 1190, 1191, 1192, 1193, 1194, 1195, 1196, 1197, 1198, 1199, 1200, 1201, 1202, 1203, 1204, 1205, 1206, 1207, 1208, 1209, 1210, 1211, 1212, 1213, 1214, 1215, 1216, 1217, 1218, 1219, 1220, 1221, 1222, 1223, 1224, 1225, 1226, 1227, 1228, 1229, 1230, 1231, 1232, 1233, 1234, 1235, 1236, 1237, 1238, 1239, 1240, 1241, 1242, 1243, 1244, 1245, 1246, 1247, 1248, 1249, 1250, 1251, 1252, 1253, 1254, 1255, 1256, 1257, 1258, 1259, 1260, 1261, 1262, 1263, 1264, 1265, 1266, 1267, 1268, 1269, 1270, 1271, 1272, 1273, 1274, 1275, 1276, 1277, 1278, 1279, 1280, 1281, 1282, 1283, 1284, 1285, 1286, 1287, 1288, 1289, 1290, 1291, 1292, 1293, 1294, 1295, 1296, 1297, 1298, 1299, 1300, 1301, 1302, 1303, 1304, 1305, 1306, 1307, 1308, 1309, 1310, 1311, 1312, 1313, 1314, 1315, 1316, 1317, 1318, 1319, 1320, 1321, 1322, 1323, 1324, 1325, 1326, 1327, 1328, 1329, 1330, 1331, 1332, 1333, 1334, 1335, 1336, 1337, 1338, 1339, 1340, 1341, 1342, 1343, 1344, 1345, 1346, 1347, 1348, 1349, 1350, 1351, 1352, 1353, 1354, 1355, 1356, 1357, 1358, 1359, 1360, 1361, 1362, 1363, 1364, 1365, 1366, 1367, 1368, 1369, 1370, 1371, 1372, 1373, 1374, 1375, 1376, 1377, 1378, 1379, 1380, 1381, 1382, 1383, 1384, 1385, 1386, 1387, 1388, 1389, 1390, 1391, 1392, 1393, 1394, 1395, 1396, 1397, 1398, 1399, 1400, 1401, 1402, 1403, 1404, 1405, 1406, 1407, 1408, 1409, 1410, 1411, 1412, 1413, 1414, 1415, 1416, 1417, 1418, 1419, 1420, 1421, 1422, 1423, 1424, 1425, 1426, 1427, 1428, 1429, 1430, 1431, 1432, 1433, 1434, 1435, 1436, 1437, 1438, 1439, 1440, 1441, 1442, 1443, 1444, 1445, 1446, 1447, 1448, 1449, 1450, 1451, 1452, 1453, 1454, 1455, 1456, 1457, 1458, 1459, 1460, 1461, 1462, 1463, 1464, 1465, 1466, 1467, 1468, 1469, 1470, 1471, 1472, 1473, 1474, 1475, 1476, 1477, 1478, 1479, 1480, 1481, 1482, 1483, 1484, 1485, 1486, 1487, 1488, 1489, 1490, 1491, 1492, 1493, 1494, 1495, 1496, 1497, 1498, 1499, 1500, 1501, 1502, 1503, 1504, 1505, 1506, 1507, 1508, 1509, 1510, 1511, 1512, 1513, 1514, 1515, 1516, 1517, 1518, 1519, 1520, 1521, 1522, 1523, 1524, 1525, 1526, 1527, 1528, 1529, 1530, 1531, 1532, 1533, 1534, 1535, 1536, 1537, 1538, 1539, 1540, 1541, 1542, 1543, 1544, 1545, 1546, 1547, 1548, 1549, 1550, 1551, 1552, 1553, 1554, 1555, 1556, 1557, 1558, 1559, 1560, 1561, 1562, 1563, 1564, 1565, 1566, 1567, 1568, 1569, 1570, 1571, 1572, 1573, 1574, 1575, 1576, 1577, 1578, 1579, 1580, 1581, 1582, 1583, 1584, 1585, 1586, 1587, 1588, 1589, 1590, 1591, 1592, 1593, 1594, 1595, 1596, 1597, 1598, 1599, 1600, 1601, 1602, 1603, 1604, 1605, 1606, 1607, 1608, 1609, 1610, 1611, 1612, 1613, 1614, 1615, 1616, 1617, 1618, 1619, 1620, 1621, 1622, 1623, 1624, 1625, 1626, 1627, 1628, 1629, 1630, 1631, 1632, 1633, 1634, 1635, 1636, 1637, 1638, 1639, 1640, 1641, 1642, 1643, 1644, 1645, 1646, 1647, 1648, 1649, 1650, 1651, 1652, 1653, 1654, 1655, 1656, 1657, 1658, 1659, 1660, 1661, 1662, 1663, 1664, 1665, 1666, 1667, 1668, 1669, 1670, 1671, 1672, 1673, 1674, 1675, 1676, 1677, 1678, 1679, 1680, 1681, 1682, 1683, 1684, 1685, 1686, 1687, 1688, 1689, 1690, 1691, 1692, 1693, 1694, 1695, 1696, 1697, 1698, 1699, 1700, 1701, 1702, 1703, 1704, 1705, 1706, 1707, 1708, 1709, 1710, 1711, 1712, 1713, 1714, 1715, 1716, 1717, 1718, 1719, 1720, 1721, 1722, 1723, 1724, 1725, 1726, 1727, 1728, 1729, 1730, 1731, 1732, 1733, 1734, 1735, 1736, 1737, 1738, 1739, 1740, 1741, 1742, 1743, 1744, 1745, 1746, 1747, 1748, 1749, 1750, 1751, 1752, 1753, 1754, 1755, 1756, 1757, 1758, 1759, 1760, 1761, 1762, 1763, 1764, 1765, 1766, 1767, 1768, 1769, 1770, 1771, 1772, 1773, 1774, 1775, 1776, 1777, 1778, 1779, 1780, 1781, 1782, 1783, 1784, 1785, 1786, 1787, 1788, 1789, 1790, 1791, 1792, 1793, 1794, 1795, 1796, 1797, 1798, 1799, 1800, 1801, 1802, 1803, 1804, 1805, 1806, 1807, 1808, 1809, 1810, 1811, 1812, 1813, 1814, 1815, 1816, 1817, 1818, 1819, 1820, 1821, 1822, 1823, 1824, 1825, 1826, 1827, 1828, 1829, 1830, 1831, 1832, 1833, 1834, 1835, 1836, 1837, 1838, 1839, 1840, 1841, 1842, 1843, 1844, 1845, 1846, 1847, 1848, 1849, 1850, 1851, 1852, 1853, 1854, 1855, 1856, 1857, 1858, 1859, 1860, 1861, 1862, 1863, 1864, 1865, 1866, 1867, 1868, 1869, 1870, 1871, 1872, 1873, 1874, 1875, 1876, 1877, 1878, 1879, 1880, 1881, 1882, 1883, 1884, 1885, 1886, 1887, 1888, 1889, 1890, 1891, 1892, 1893, 1894, 1895, 1896, 1897, 1898, 1899, 1900, 1901, 1902, 1903, 1904, 1905, 1906, 1907, 1908, 1909, 1910, 1911, 1912, 1913, 1914, 1915, 1916, 1917, 1918, 1919, 1920, 1921, 1922, 1923, 1924, 1925, 1926, 1927, 1928, 1929, 1930, 1931, 1932, 1933, 1934, 1935, 1936, 1937, 1938, 1939, 1940, 1941, 1942, 1943, 1944, 1945, 1946, 1947, 1948, 1949, 1950, 1951, 1952, 1953, 1954, 1955, 1956, 1957, 1958, 1959, 1960, 1961, 1962, 1963, 1964, 1965, 1966, 1967, 1968, 1969, 1970, 1971, 1972, 1973, 1974, 1975, 1976, 1977, 1978, 1979, 1980, 1981, 1982, 1983, 1984, 1985, 1986, 1987, 1988, 1989, 1990, 1991, 1992, 1993, 1994, 1995, 1996, 1997, 1998, 1999, 2000, 2001, 2002, 2003, 2004, 2005, 2006, 2007, 2008, 2009, 2010, 2011, 2012, 2013, 2014, 2015, 2016, 2017, 2018, 2019, 2020, 2021, 2022, 2023, 2024, 2025, 2026, 2027, 2028, 2029, 2030, 2031, 2032, 2033, 2034, 2035, 2036, 2037, 2038, 2039, 2040, 2041, 2042, 2043, 2044, 2045, 2046, 2047, 2048, 2049, 2050, 2051, 2052, 2053, 2054, 2055, 2056, 2057, 2058, 2059, 2060, 2061, 2062, 2063, 2064, 2065, 2066, 2067, 2068, 2069, 2070, 2071, 2072, 2073, 2074, 2075, 2076, 2077, 2078, 2079, 2080, 2081, 2082, 2083, 2084, 2085, 2086, 2087, 2088, 2089, 2090, 2091, 2092, 2093, 2094, 2095, 2096, 2097, 2098, 2099, 2100, 2101, 2102, 2103, 2104, 2105, 2106, 2107, 2108, 2109, 2110, 2111, 2112, 2113, 2114, 2115, 2116, 2117, 2118, 2119, 2120, 2121, 2122, 2123, 2124, 2125, 2126, 2127, 2128, 2129, 2130, 2131, 2132, 2133, 2134, 2135, 2136, 2137, 2138, 2139, 2140, 2141, 2142, 2143, 2144, 2145, 2146, 2147, 2148, 2149, 2150, 2151, 2152, 2153, 2154, 2155, 2156, 2157, 2158, 2159, 2160, 2161, 2162, 2163, 2164, 2165, 2166, 2167, 2168, 2169, 2170, 2171, 2172, 2173, 2174, 2175, 2176, 2177, 2178, 2179, 2180, 2181, 2182, 2183, 2184, 2185, 2186, 2187, 2188, 2189, 2190, 2191, 2192, 2193, 2194, 2195, 2196, 2197, 2198, 2199, 2200, 2201, 2202, 2203, 2204, 2205, 2206, 2207, 2208, 2209, 2210, 2211, 2212, 2213, 2214, 2215, 2216, 2217, 2218, 2219, 2220, 2221, 2222, 2223, 2224, 2225, 2226, 2227, 2228, 2229, 2230, 2231, 2232, 2233, 2234, 2235, 2236, 2237, 2238, 2239, 2240, 2241, 2242, 2243, 2244, 2245, 2246, 2247, 2248, 2249, 2250, 2251, 2252, 2253, 2254, 2255, 2256, 2257, 2258, 2259, 2260, 2261, 2262, 2263, 2264, 2265, 2266, 2267, 2268, 2269, 2270, 2271, 2272, 2273, 2274, 2275, 2276, 2277, 2278, 2279, 2280, 2281, 2282, 2283, 2284, 2285, 2286, 2287, 2288, 2289, 2290, 2291, 2292, 2293, 2294, 2295, 2296, 2297, 2298, 2299, 2300, 2301, 2302, 2303, 2304, 2305, 2306, 2307, 2308, 2309, 2310, 2311, 2312, 2313, 2314, 2315, 2316, 2317, 2318, 2319, 2320, 2321, 2322, 2323, 2324, 2325, 2326, 2327, 2328, 2329, 2330, 2331, 2332, 2333, 2334, 2335, 2336, 2337, 2338, 2339, 2340, 2341, 2342, 2343, 2344, 2345, 2346, 2347, 2348, 2349, 2350, 2351, 2352, 2353, 2354, 2355, 2356, 2357, 2358, 2359, 2360, 2361, 2362, 2363, 2364, 2365, 2366, 2367, 2368, 2369, 2370, 2371, 2372, 2373, 2374, 2375, 2376, 2377, 2378, 2379, 2380, 2381, 2382, 2383, 2384, 2385, 2386, 2387, 2388, 2389, 2390, 2391, 2392, 2393, 2394, 2395, 2396, 2397, 2398, 2399, 2400, 2401, 2402, 2403, 2404, 2405, 2406, 2407, 2408, 2409, 2410, 2411, 2412, 2413, 2414, 2415, 2416, 2417, 2418, 2419, 2420, 2421, 2422, 2423, 2424, 2425, 2426, 2427, 2428, 2429, 2430, 2431, 2432, 2433, 2434, 2435, 2436, 2437, 2438, 2439, 2440, 2441, 2442, 2443, 2444, 2445, 2446, 2447, 2448, 2449, 2450, 2451, 2452, 2453, 2454, 2455, 2456, 2457, 2458, 2459, 2460, 2461, 2462, 2463, 2464, 2465, 2466, 2467, 2468, 2469, 2470, 2471, 2472, 2473, 2474, 2475, 2476, 2477, 2478, 2479, 2480, 2481, 2482, 2483, 2484, 2485, 2486, 2487, 2488, 2489, 2490, 2491, 2492, 2493, 2494, 2495, 2496, 2497, 2498, 2499, 2500, 2501, 2502, 2503, 2504, 2505, 2506, 2507, 2508, 2509, 2510, 2511, 2512, 2513, 2514, 2515, 2516, 2517, 2518, 2519, 2520, 2521, 2522, 2523, 2524, 2525, 2526, 2527, 2528, 2529, 2530, 2531, 2532, 2533, 2534, 2535, 2536, 2537, 2538, 2539, 2540, 2541, 2542, 2543, 2544, 2545, 2546, 2547, 2548, 2549, 2550, 2551, 2552, 2553, 2554, 2555, 2556, 2557, 2558, 2559, 2560, 2561, 2562, 2563, 2564, 2565, 2566, 2567, 2568, 2569, 2570, 2571, 2572, 2573, 2574, 2575, 2576, 2577, 2578, 2579, 2580, 2581, 2582, 2583, 2584, 2585, 2586, 2587, 2588, 2589, 2590, 2591, 2592, 2593, 2594, 2595, 2596, 2597, 2598, 2599, 2600, 2601, 2602, 2603, 2604, 2605, 2606, 2607, 2608, 2609, 2610, 2611, 2612, 2613, 2614, 2615, 2616, 2617, 2618, 2619, 2620, 2621, 2622, 2623, 2624, 2625, 2626, 2627, 2628, 2629, 2630, 2631, 2632, 2633, 2634, 2635, 2636, 2637, 2638, 2639, 2640, 2641, 2642, 2643, 2644, 2645, 2646, 2647, 2648, 2649, 2650, 2651, 2652, 2653, 2654, 2655, 2656, 2657, 2658, 2659, 2660, 2661, 2662, 2663, 2664, 2665, 2666, 2667, 2668, 2669, 2670, 2671, 2672, 2673, 2674, 2675, 2676, 2677, 2678, 2679, 2680, 2681, 2682, 2683, 2684, 2685, 2686, 2687, 2688, 2689, 2690, 2691, 2692, 2693, 2694, 2695, 2696, 2697, 2698, 2699, 2700, 2701, 2702, 2703, 2704, 2705, 2706, 2707]\n"
     ]
    }
   ],
   "source": [
    "print(nx.is_weighted(networkX_graph))\n",
    "print(nx.is_directed(networkX_graph))\n",
    "print(networkX_graph.order())\n",
    "print(networkX_graph.number_of_edges())\n",
    "print(networkX_graph.number_of_nodes())\n",
    "print(networkX_graph.edges)\n",
    "print(networkX_graph.nodes)"
   ]
  },
  {
   "cell_type": "code",
   "execution_count": 40,
   "metadata": {
    "colab": {
     "base_uri": "https://localhost:8080/"
    },
    "executionInfo": {
     "elapsed": 203,
     "status": "ok",
     "timestamp": 1650338654131,
     "user": {
      "displayName": "Avkash Chauhan",
      "userId": "01093683102216020094"
     },
     "user_tz": 420
    },
    "id": "53wdxB97KnFg",
    "outputId": "8d176d7b-1058-4462-f714-4997bd08dd93"
   },
   "outputs": [
    {
     "data": {
      "text/plain": [
       "torch.Size([2708, 1433])"
      ]
     },
     "execution_count": 40,
     "metadata": {},
     "output_type": "execute_result"
    }
   ],
   "source": [
    "c_ds.x.shape"
   ]
  },
  {
   "cell_type": "code",
   "execution_count": 41,
   "metadata": {
    "colab": {
     "base_uri": "https://localhost:8080/"
    },
    "executionInfo": {
     "elapsed": 212,
     "status": "ok",
     "timestamp": 1650338703418,
     "user": {
      "displayName": "Avkash Chauhan",
      "userId": "01093683102216020094"
     },
     "user_tz": 420
    },
    "id": "vYCdT5K-Ky8I",
    "outputId": "2bb31a63-9f15-4402-bd9b-9f80441db6c3"
   },
   "outputs": [
    {
     "data": {
      "text/plain": [
       "torch.Size([1433])"
      ]
     },
     "execution_count": 41,
     "metadata": {},
     "output_type": "execute_result"
    }
   ],
   "source": [
    "c_ds.x[1734].shape"
   ]
  },
  {
   "cell_type": "code",
   "execution_count": 42,
   "metadata": {
    "executionInfo": {
     "elapsed": 176,
     "status": "ok",
     "timestamp": 1650338709023,
     "user": {
      "displayName": "Avkash Chauhan",
      "userId": "01093683102216020094"
     },
     "user_tz": 420
    },
    "id": "cyxQId1_LHMk"
   },
   "outputs": [],
   "source": [
    "c_ds_10 = c_ds.x[:10]"
   ]
  },
  {
   "cell_type": "code",
   "execution_count": 43,
   "metadata": {
    "colab": {
     "base_uri": "https://localhost:8080/"
    },
    "executionInfo": {
     "elapsed": 154,
     "status": "ok",
     "timestamp": 1650338711186,
     "user": {
      "displayName": "Avkash Chauhan",
      "userId": "01093683102216020094"
     },
     "user_tz": 420
    },
    "id": "4-HsO5PeLL89",
    "outputId": "130e5422-0aa8-400a-c12e-e039ff850786"
   },
   "outputs": [
    {
     "data": {
      "text/plain": [
       "torch.Size([10, 1433])"
      ]
     },
     "execution_count": 43,
     "metadata": {},
     "output_type": "execute_result"
    }
   ],
   "source": [
    "c_ds_10.shape"
   ]
  },
  {
   "cell_type": "code",
   "execution_count": 44,
   "metadata": {
    "colab": {
     "base_uri": "https://localhost:8080/"
    },
    "executionInfo": {
     "elapsed": 153,
     "status": "ok",
     "timestamp": 1650338714999,
     "user": {
      "displayName": "Avkash Chauhan",
      "userId": "01093683102216020094"
     },
     "user_tz": 420
    },
    "id": "WZ2GA7JtLOcF",
    "outputId": "68c3d13e-e5a7-4ac6-a817-24c9ade8a16d"
   },
   "outputs": [
    {
     "data": {
      "text/plain": [
       "torch.Tensor"
      ]
     },
     "execution_count": 44,
     "metadata": {},
     "output_type": "execute_result"
    }
   ],
   "source": [
    "type(c_ds_10)"
   ]
  },
  {
   "cell_type": "code",
   "execution_count": 45,
   "metadata": {
    "colab": {
     "base_uri": "https://localhost:8080/"
    },
    "executionInfo": {
     "elapsed": 223,
     "status": "ok",
     "timestamp": 1650338775773,
     "user": {
      "displayName": "Avkash Chauhan",
      "userId": "01093683102216020094"
     },
     "user_tz": 420
    },
    "id": "V_Amcm3UMaCi",
    "outputId": "20ca67a3-c22e-475d-a356-07957644dbe1"
   },
   "outputs": [
    {
     "data": {
      "text/plain": [
       "Data(x=[2708, 1433], edge_index=[2, 10556], y=[2708], train_mask=[2708], val_mask=[2708], test_mask=[2708])"
      ]
     },
     "execution_count": 45,
     "metadata": {},
     "output_type": "execute_result"
    }
   ],
   "source": [
    "c_ds"
   ]
  },
  {
   "cell_type": "code",
   "execution_count": 46,
   "metadata": {
    "executionInfo": {
     "elapsed": 442,
     "status": "ok",
     "timestamp": 1650338778085,
     "user": {
      "displayName": "Avkash Chauhan",
      "userId": "01093683102216020094"
     },
     "user_tz": 420
    },
    "id": "klkh59reKQhe"
   },
   "outputs": [],
   "source": [
    "nx.write_gexf(networkX_graph, 'cora_ex.gexf')"
   ]
  },
  {
   "cell_type": "code",
   "execution_count": 47,
   "metadata": {
    "executionInfo": {
     "elapsed": 157,
     "status": "ok",
     "timestamp": 1650338781828,
     "user": {
      "displayName": "Avkash Chauhan",
      "userId": "01093683102216020094"
     },
     "user_tz": 420
    },
    "id": "vQ6L-sRqOUOf"
   },
   "outputs": [],
   "source": [
    "nx.write_graphml(networkX_graph, 'cora_ex.graphml')"
   ]
  },
  {
   "cell_type": "markdown",
   "metadata": {
    "id": "GT5xai_6QM6a"
   },
   "source": [
    "# **Cora Dataset from NetworkX**\n",
    "- download cora.tgz from the link below:\n",
    "  -  https://linqs-data.soe.ucsc.edu/public/lbc/cora.tgz\n",
    "- upload cora.tgz to google colab"
   ]
  },
  {
   "cell_type": "code",
   "execution_count": 48,
   "metadata": {
    "colab": {
     "base_uri": "https://localhost:8080/"
    },
    "executionInfo": {
     "elapsed": 286,
     "status": "ok",
     "timestamp": 1650338958939,
     "user": {
      "displayName": "Avkash Chauhan",
      "userId": "01093683102216020094"
     },
     "user_tz": 420
    },
    "id": "qaCvDmSdQq4a",
    "outputId": "19eca2bb-13db-43c9-8694-0078a41c1d10"
   },
   "outputs": [
    {
     "name": "stderr",
     "output_type": "stream",
     "text": [
      "x cora/\n",
      "x cora/README\n",
      "x cora/cora.cites\n",
      "x cora/cora.content\n"
     ]
    }
   ],
   "source": [
    "!tar -xvf C:/Users/arast/Desktop/GNN/Codes/cora.tgz"
   ]
  },
  {
   "cell_type": "code",
   "execution_count": 49,
   "metadata": {
    "executionInfo": {
     "elapsed": 240,
     "status": "ok",
     "timestamp": 1650338982221,
     "user": {
      "displayName": "Avkash Chauhan",
      "userId": "01093683102216020094"
     },
     "user_tz": 420
    },
    "id": "Kngfh1l-PWVV"
   },
   "outputs": [],
   "source": [
    "import os\n",
    "import networkx as nx\n",
    "import pandas as pd\n",
    "data_dir = os.path.expanduser(\"C:/Users/arast/Desktop/GNN/Codes/cora\")"
   ]
  },
  {
   "cell_type": "code",
   "execution_count": 50,
   "metadata": {
    "executionInfo": {
     "elapsed": 207,
     "status": "ok",
     "timestamp": 1650338987760,
     "user": {
      "displayName": "Avkash Chauhan",
      "userId": "01093683102216020094"
     },
     "user_tz": 420
    },
    "id": "jpdaxxb1PWb2"
   },
   "outputs": [],
   "source": [
    "edgelist = pd.read_csv(os.path.join(data_dir, \"cora.cites\"), sep='\\t', header=None, names=[\"target\", \"source\"])\n",
    "edgelist[\"label\"] = \"cites\""
   ]
  },
  {
   "cell_type": "code",
   "execution_count": 51,
   "metadata": {
    "colab": {
     "base_uri": "https://localhost:8080/",
     "height": 363
    },
    "executionInfo": {
     "elapsed": 168,
     "status": "ok",
     "timestamp": 1650339004963,
     "user": {
      "displayName": "Avkash Chauhan",
      "userId": "01093683102216020094"
     },
     "user_tz": 420
    },
    "id": "XmNmE1ojPsXi",
    "outputId": "702c70e5-ccac-44a6-a3ad-0ca78e8f4755"
   },
   "outputs": [
    {
     "data": {
      "text/html": [
       "<div>\n",
       "<style scoped>\n",
       "    .dataframe tbody tr th:only-of-type {\n",
       "        vertical-align: middle;\n",
       "    }\n",
       "\n",
       "    .dataframe tbody tr th {\n",
       "        vertical-align: top;\n",
       "    }\n",
       "\n",
       "    .dataframe thead th {\n",
       "        text-align: right;\n",
       "    }\n",
       "</style>\n",
       "<table border=\"1\" class=\"dataframe\">\n",
       "  <thead>\n",
       "    <tr style=\"text-align: right;\">\n",
       "      <th></th>\n",
       "      <th>target</th>\n",
       "      <th>source</th>\n",
       "      <th>label</th>\n",
       "    </tr>\n",
       "  </thead>\n",
       "  <tbody>\n",
       "    <tr>\n",
       "      <th>1039</th>\n",
       "      <td>4584</td>\n",
       "      <td>6196</td>\n",
       "      <td>cites</td>\n",
       "    </tr>\n",
       "    <tr>\n",
       "      <th>644</th>\n",
       "      <td>2658</td>\n",
       "      <td>99023</td>\n",
       "      <td>cites</td>\n",
       "    </tr>\n",
       "    <tr>\n",
       "      <th>1553</th>\n",
       "      <td>8224</td>\n",
       "      <td>601567</td>\n",
       "      <td>cites</td>\n",
       "    </tr>\n",
       "    <tr>\n",
       "      <th>4685</th>\n",
       "      <td>249858</td>\n",
       "      <td>111866</td>\n",
       "      <td>cites</td>\n",
       "    </tr>\n",
       "    <tr>\n",
       "      <th>3502</th>\n",
       "      <td>66564</td>\n",
       "      <td>593859</td>\n",
       "      <td>cites</td>\n",
       "    </tr>\n",
       "    <tr>\n",
       "      <th>137</th>\n",
       "      <td>35</td>\n",
       "      <td>608326</td>\n",
       "      <td>cites</td>\n",
       "    </tr>\n",
       "    <tr>\n",
       "      <th>4913</th>\n",
       "      <td>503883</td>\n",
       "      <td>577331</td>\n",
       "      <td>cites</td>\n",
       "    </tr>\n",
       "    <tr>\n",
       "      <th>2469</th>\n",
       "      <td>24974</td>\n",
       "      <td>1112723</td>\n",
       "      <td>cites</td>\n",
       "    </tr>\n",
       "    <tr>\n",
       "      <th>1819</th>\n",
       "      <td>12210</td>\n",
       "      <td>1112574</td>\n",
       "      <td>cites</td>\n",
       "    </tr>\n",
       "    <tr>\n",
       "      <th>5175</th>\n",
       "      <td>642681</td>\n",
       "      <td>644093</td>\n",
       "      <td>cites</td>\n",
       "    </tr>\n",
       "  </tbody>\n",
       "</table>\n",
       "</div>"
      ],
      "text/plain": [
       "      target   source  label\n",
       "1039    4584     6196  cites\n",
       "644     2658    99023  cites\n",
       "1553    8224   601567  cites\n",
       "4685  249858   111866  cites\n",
       "3502   66564   593859  cites\n",
       "137       35   608326  cites\n",
       "4913  503883   577331  cites\n",
       "2469   24974  1112723  cites\n",
       "1819   12210  1112574  cites\n",
       "5175  642681   644093  cites"
      ]
     },
     "execution_count": 51,
     "metadata": {},
     "output_type": "execute_result"
    }
   ],
   "source": [
    "edgelist.sample(frac=1).head(10)"
   ]
  },
  {
   "cell_type": "code",
   "execution_count": 52,
   "metadata": {
    "colab": {
     "base_uri": "https://localhost:8080/"
    },
    "executionInfo": {
     "elapsed": 225,
     "status": "ok",
     "timestamp": 1650339023012,
     "user": {
      "displayName": "Avkash Chauhan",
      "userId": "01093683102216020094"
     },
     "user_tz": 420
    },
    "id": "LRJ1fwl33vs4",
    "outputId": "8d106e0d-5ce5-453e-a021-7e3fb4edeef8"
   },
   "outputs": [
    {
     "data": {
      "text/plain": [
       "pandas.core.frame.DataFrame"
      ]
     },
     "execution_count": 52,
     "metadata": {},
     "output_type": "execute_result"
    }
   ],
   "source": [
    "type(edgelist)"
   ]
  },
  {
   "cell_type": "code",
   "execution_count": 53,
   "metadata": {
    "executionInfo": {
     "elapsed": 154,
     "status": "ok",
     "timestamp": 1650339049588,
     "user": {
      "displayName": "Avkash Chauhan",
      "userId": "01093683102216020094"
     },
     "user_tz": 420
    },
    "id": "lVC2xwGlRGKB"
   },
   "outputs": [],
   "source": [
    "Gnx = nx.from_pandas_edgelist(edgelist, edge_attr=\"label\")\n",
    "nx.set_node_attributes(Gnx, \"paper\", \"label\")"
   ]
  },
  {
   "cell_type": "code",
   "execution_count": 54,
   "metadata": {
    "colab": {
     "base_uri": "https://localhost:8080/"
    },
    "executionInfo": {
     "elapsed": 231,
     "status": "ok",
     "timestamp": 1650339054728,
     "user": {
      "displayName": "Avkash Chauhan",
      "userId": "01093683102216020094"
     },
     "user_tz": 420
    },
    "id": "qJBV4vJ3RUDa",
    "outputId": "dfab0103-82ce-4877-b1b2-9e37af4e8b97",
    "scrolled": true
   },
   "outputs": [
    {
     "name": "stdout",
     "output_type": "stream",
     "text": [
      "False\n",
      "False\n",
      "2708\n",
      "5278\n",
      "2708\n",
      "[(1033, 35), (1033, 1034), (1033, 1107062), (1033, 41714), (1033, 45605), (35, 103482), (35, 103515), (35, 1050679), (35, 1103960), (35, 1103985), (35, 1109199), (35, 1112911), (35, 1113438), (35, 1113831), (35, 1114331), (35, 1117476), (35, 1119505), (35, 1119708), (35, 1120431), (35, 1123756), (35, 1125386), (35, 1127430), (35, 1127913), (35, 1128204), (35, 1128227), (35, 1128314), (35, 1128453), (35, 1128945), (35, 1128959), (35, 1128985), (35, 1129018), (35, 1129027), (35, 1129573), (35, 1129683), (35, 1129778), (35, 1130847), (35, 1130856), (35, 1131116), (35, 1131360), (35, 1131557), (35, 1131752), (35, 1133196), (35, 1133338), (35, 1136814), (35, 1137466), (35, 1152421), (35, 1152508), (35, 1153065), (35, 1153280), (35, 1153577), (35, 1153853), (35, 1153943), (35, 1154176), (35, 1154459), (35, 116552), (35, 12576), (35, 128540), (35, 132806), (35, 135130), (35, 141342), (35, 141347), (35, 148170), (35, 15670), (35, 1688), (35, 175291), (35, 178727), (35, 18582), (35, 190697), (35, 190706), (35, 1956), (35, 197054), (35, 198443), (35, 198653), (35, 206371), (35, 210871), (35, 229635), (35, 231249), (35, 248425), (35, 249421), (35, 254923), (35, 259701), (35, 259702), (35, 263279), (35, 263498), (35, 265203), (35, 273152), (35, 27510), (35, 28290), (35, 286500), (35, 287787), (35, 28851), (35, 289779), (35, 289780), (35, 289781), (35, 307015), (35, 335733), (35, 33904), (35, 33907), (35, 35061), (35, 38205), (35, 387795), (35, 415693), (35, 41714), (35, 427606), (35, 44368), (35, 45599), (35, 46079), (35, 46431), (35, 486840), (35, 48766), (35, 503883), (35, 503893), (35, 513189), (35, 54129), (35, 54131), (35, 56119), (35, 561238), (35, 568857), (35, 573964), (35, 573978), (35, 574009), (35, 574264), (35, 574462), (35, 575077), (35, 575292), (35, 575331), (35, 576725), (35, 576795), (35, 577227), (35, 578780), (35, 579008), (35, 592973), (35, 593091), (35, 593105), (35, 593240), (35, 593260), (35, 593813), (35, 594047), (35, 594543), (35, 594649), (35, 594900), (35, 608326), (35, 634902), (35, 634904), (35, 634938), (35, 634975), (35, 640617), (35, 646809), (35, 646837), (35, 647408), (35, 647447), (35, 66556), (35, 66563), (35, 66805), (35, 69284), (35, 69296), (35, 694759), (35, 735303), (35, 78511), (35, 787016), (35, 801170), (35, 81722), (35, 82098), (35, 84021), (35, 85352), (35, 86359), (35, 8865), (35, 887), (35, 97645), (35, 98698), (35, 82920), (35, 210872), (103482, 1114388), (103482, 1119140), (103482, 1128990), (103482, 27510), (103482, 27514), (103515, 8865), (103515, 1113742), (103515, 1127913), (103515, 1128314), (103515, 1129778), (103515, 1153853), (103515, 246618), (103515, 459214), (103515, 54131), (103515, 575402), (1050679, 3229), (1050679, 35797), (1050679, 427606), (1103960, 3229), (1103960, 33895), (1103960, 33904), (1103960, 33907), (1103985, 1688), (1109199, 6214), (1109199, 148170), (1112911, 887), (1112911, 22229), (1112911, 144701), (1113438, 35061), (1113438, 35852), (1113438, 141324), (1113438, 240791), (1113831, 248425), (1113831, 248431), (1114331, 85352), (1114331, 134199), (1114331, 259701), (1114331, 259702), (1117476, 54132), (1117476, 210871), (1119505, 375605), (1119708, 14062), (1119708, 82920), (1119708, 141342), (1119708, 141347), (1120431, 13656), (1120431, 13658), (1120431, 13686), (1123756, 28230), (1123756, 124952), (1123756, 287787), (1125386, 1955), (1125386, 3231), (1125386, 238401), (1127430, 85352), (1127913, 82920), (1127913, 231249), (1128204, 58758), (1128227, 44368), (1128227, 220420), (1128227, 577331), (1128314, 579108), (1128453, 87417), (1128453, 289780), (1128453, 289781), (1128959, 56709), (1128985, 44455), (1128985, 54132), (1128985, 227178), (1129018, 94641), (1129027, 85352), (1129573, 12576), (1129573, 56115), (1129683, 12337), (1129683, 70970), (1129683, 82920), (1129683, 608326), (1129778, 66556), (1129778, 575402), (1130847, 287787), (1130847, 634938), (1130856, 287787), (1131116, 148341), (1131116, 259702), (1131116, 263069), (1131360, 1688), (1131360, 307656), (1131360, 646900), (1131557, 286513), (1131752, 577227), (1133196, 175256), (1133338, 1688), (1136814, 1688), (1136814, 33907), (1152421, 14062), (1152421, 82920), (1152421, 85352), (1153065, 1688), (1153280, 14062), (1153280, 82920), (1153280, 85352), (1153577, 33895), (1153577, 503877), (1153577, 503883), (1153577, 503893), (1153853, 108047), (1153853, 578650), (1153943, 82920), (1153943, 85352), (1153943, 97390), (1153943, 576257), (1154176, 33895), (1154459, 14062), (1154459, 82920), (1154459, 85352), (116552, 40), (116552, 116553), (116552, 246618), (12576, 887), (12576, 6213), (12576, 1071981), (12576, 1104999), (12576, 1105221), (12576, 1107674), (12576, 127033), (12576, 135130), (12576, 229635), (12576, 28290), (12576, 416455), (12576, 56112), (12576, 56119), (12576, 56709), (12576, 574710), (12576, 575795), (12576, 62718), (12576, 63832), (12576, 83725), (12576, 8875), (128540, 28287), (128540, 44455), (128540, 387795), (132806, 4584), (132806, 45599), (132806, 48766), (132806, 593260), (135130, 56115), (135130, 1105221), (135130, 416455), (135130, 574710), (141342, 35061), (141342, 40), (141342, 575292), (141342, 608191), (141342, 70970), (141342, 78511), (141347, 14062), (148170, 1128997), (15670, 12558), (1688, 1134022), (1688, 152483), (1688, 1694), (1688, 39474), (1688, 44368), (1688, 576725), (1688, 647413), (1688, 69284), (1688, 694759), (1688, 84021), (1688, 58758), (175291, 2653), (175291, 8617), (175291, 8619), (175291, 31105), (175291, 52784), (178727, 1110546), (18582, 8875), (18582, 84021), (190697, 22229), (190697, 41714), (190697, 190698), (190697, 198443), (190706, 41714), (190706, 45605), (190706, 144212), (190706, 182094), (1956, 936), (1956, 1955), (1956, 101143), (1956, 1111899), (1956, 1118302), (1956, 1153101), (1956, 1153150), (1956, 1817), (1956, 263486), (1956, 83449), (1956, 3828), (197054, 8872), (197054, 41714), (197054, 182093), (197054, 182094), (197054, 1125092), (198443, 13658), (198443, 119686), (198443, 190698), (198653, 1113551), (198653, 1130539), (198653, 1152896), (198653, 3084), (198653, 887), (198653, 210871), (206371, 69284), (206371, 69296), (210871, 35061), (210871, 44514), (210871, 1128151), (210871, 1129629), (210871, 273152), (210871, 38205), (210871, 568857), (210871, 575077), (210871, 595157), (210871, 59715), (210871, 81714), (210871, 887), (210871, 210872), (229635, 8872), (231249, 1125492), (248425, 1121398), (248425, 592975), (248425, 594387), (248425, 579008), (249421, 18313), (249421, 219446), (249421, 1127812), (249421, 567018), (254923, 1272), (254923, 108047), (254923, 444240), (254923, 415693), (259702, 82920), (259702, 640617), (263279, 3231), (263279, 8224), (263279, 84021), (263279, 1114502), (263498, 35061), (263498, 1152761), (263498, 1153860), (265203, 887), (265203, 86359), (273152, 82920), (273152, 210872), (27510, 1110998), (27510, 1128990), (27510, 1152143), (27510, 188318), (28290, 1104999), (28290, 1107674), (28290, 28287), (28290, 308529), (28290, 56709), (28290, 63832), (286500, 16485), (286500, 576362), (287787, 110041), (287787, 415693), (287787, 503883), (287787, 634902), (287787, 634904), (287787, 634938), (287787, 634975), (287787, 647447), (28851, 54131), (28851, 578669), (28851, 595157), (289779, 87417), (289779, 289780), (289779, 801170), (289780, 87417), (289780, 1153784), (289780, 801170), (289780, 289781), (289781, 87417), (289781, 1153784), (289781, 801170), (307015, 82920), (307015, 1131198), (307015, 335733), (307015, 39474), (307015, 643199), (335733, 643199), (33904, 33895), (33904, 1110546), (33904, 503893), (33907, 14062), (33907, 1134022), (33907, 593091), (33907, 593813), (33907, 97390), (33907, 97645), (35061, 32083), (35061, 1152761), (35061, 1153860), (35061, 144701), (35061, 22229), (35061, 240791), (35061, 45605), (35061, 48766), (35061, 503871), (35061, 682815), (38205, 887), (38205, 108047), (38205, 1128997), (38205, 1129610), (38205, 1153942), (38205, 117316), (38205, 592975), (38205, 592986), (38205, 593060), (38205, 595056), (38205, 606647), (38205, 61069), (387795, 28287), (387795, 44455), (415693, 84021), (41714, 1110515), (41714, 144212), (41714, 182094), (41714, 44455), (41714, 568857), (41714, 594047), (41714, 61069), (427606, 1131634), (427606, 1138968), (427606, 62329), (44368, 14062), (46079, 1152569), (46079, 69284), (46431, 3231), (46431, 6334), (46431, 199571), (486840, 35852), (486840, 1128975), (486840, 595063), (48766, 1104647), (48766, 595056), (503883, 1131374), (503883, 1154076), (503883, 577331), (503883, 646809), (503883, 646836), (503883, 646913), (503883, 647413), (503883, 647447), (503893, 134219), (503893, 646837), (513189, 82920), (513189, 1125597), (513189, 573964), (513189, 576691), (513189, 787016), (54129, 108047), (54129, 1128291), (54129, 1128319), (54129, 1136791), (54129, 117315), (54129, 117316), (54129, 17477), (54129, 28336), (54129, 578645), (54129, 578646), (54129, 578649), (54129, 578780), (54129, 593022), (54129, 594543), (54131, 1128982), (54131, 1153897), (54131, 141324), (54131, 243483), (54131, 459213), (54131, 459214), (54131, 578780), (54131, 593859), (54131, 593942), (54131, 59715), (54131, 66563), (54131, 66556), (56119, 56112), (56119, 56115), (56119, 1104999), (56119, 1105221), (56119, 127033), (56119, 63832), (56119, 83725), (561238, 85352), (568857, 44455), (568857, 1129629), (568857, 1153816), (568857, 576362), (573964, 576691), (573964, 787016), (573978, 82920), (573978, 787016), (574009, 594900), (574264, 576795), (574264, 815096), (574462, 85352), (575077, 117316), (575077, 579008), (575077, 593544), (575077, 594649), (575077, 608190), (575077, 608191), (575077, 66556), (575077, 94641), (575292, 85299), (575292, 1131734), (575292, 1138968), (575331, 98693), (576725, 576795), (576795, 1128201), (578780, 54132), (579008, 54132), (579008, 1128943), (579008, 1128978), (579008, 593921), (579008, 594387), (592973, 592975), (592973, 592986), (593091, 85352), (593091, 97645), (593091, 152483), (593091, 593248), (593105, 22229), (593105, 94639), (593105, 592993), (593240, 227178), (593240, 578845), (593240, 593155), (593240, 1136791), (593240, 593210), (593260, 210872), (593813, 33895), (593813, 94639), (594047, 1129629), (594047, 650834), (594649, 576257), (594649, 593201), (608326, 82920), (608326, 1131611), (634902, 634975), (634904, 634975), (640617, 85352), (646809, 8874), (646809, 1131374), (646809, 1154076), (646809, 646913), (647408, 8865), (647408, 57119), (647447, 8874), (647447, 577331), (66556, 141324), (66556, 593859), (66556, 66563), (66556, 85352), (66563, 1123530), (66563, 96845), (66563, 66564), (66805, 509315), (66805, 82090), (66805, 89547), (69284, 56115), (69284, 58758), (69284, 69296), (69296, 178718), (735303, 78511), (735303, 735311), (78511, 575402), (78511, 9586), (78511, 78552), (78511, 78557), (801170, 87417), (81722, 81714), (82098, 3229), (82098, 82087), (84021, 82920), (84021, 1106298), (84021, 1133047), (84021, 509233), (84021, 98698), (84021, 143323), (85352, 152483), (85352, 576691), (85352, 577086), (85352, 682815), (86359, 1133469), (86359, 1152740), (86359, 1152944), (86359, 18834), (86359, 168332), (8865, 1129570), (8865, 395075), (8865, 608292), (8865, 785678), (8865, 8875), (887, 10796), (887, 1105033), (887, 1111304), (887, 1113614), (887, 114308), (887, 134128), (887, 161221), (887, 170798), (887, 17476), (887, 19045), (887, 20972), (887, 28456), (887, 299195), (887, 299197), (887, 334153), (887, 35490), (887, 595056), (887, 6151), (887, 6213), (887, 6215), (887, 64519), (887, 87363), (887, 976334), (98698, 82920), (1109017, 40), (40, 1114442), (1114442, 19621), (1114442, 262108), (1114442, 262121), (1114442, 262178), (1103315, 114), (1103315, 6213), (1103315, 20526), (1103315, 20528), (1103315, 20534), (114, 1105394), (114, 1106112), (114, 1106172), (114, 1106406), (114, 1107455), (114, 1111052), (114, 1114125), (114, 1117942), (114, 1118245), (114, 1118332), (114, 1120170), (114, 1126029), (114, 124064), (114, 128), (114, 130), (114, 136665), (114, 191404), (114, 193742), (114, 23258), (114, 28227), (114, 28287), (114, 28350), (114, 28387), (114, 28471), (114, 28485), (114, 341188), (114, 38480), (114, 39403), (114, 434), (114, 55968), (114, 58540), (114, 6155), (114, 6170), (114, 6196), (114, 6220), (114, 64484), (114, 7432), (114, 755217), (114, 8213), (114, 91975), (114, 976334), (1105394, 64484), (1106112, 1237), (1106112, 28385), (1106172, 6214), (1106172, 38722), (1106172, 81350), (1106406, 6169), (1106406, 6213), (1106406, 23774), (1107455, 6213), (1107455, 20534), (1107455, 23774), (1111052, 6163), (1111052, 6213), (1111052, 20534), (1114125, 128), (1117942, 6213), (1117942, 341188), (1118245, 7419), (1118245, 17201), (1118245, 32872), (1118332, 35343), (1120170, 6215), (1126029, 6155), (1126029, 6214), (1126029, 27623), (124064, 4584), (124064, 6213), (124064, 6214), (124064, 28542), (124064, 6163), (124064, 6220), (124064, 6224), (128, 20526), (128, 39403), (128, 91975), (128, 4584), (128, 6213), (128, 28487), (130, 13960), (130, 345340), (130, 39403), (130, 6163), (130, 36802), (136665, 23258), (193742, 4584), (193742, 6151), (193742, 6213), (193742, 1111230), (193742, 6152), (23258, 6214), (23258, 1106052), (23258, 168410), (23258, 18251), (23258, 28485), (23258, 85299), (28227, 6213), (28227, 20526), (28227, 6169), (28227, 28350), (28287, 4584), (28287, 1106547), (28287, 1107355), (28287, 1385), (28287, 308529), (28287, 567005), (28287, 56709), (28287, 56708), (28350, 6213), (28350, 1109957), (28350, 1113459), (28350, 1129243), (28350, 13193), (28350, 241133), (28350, 341188), (28350, 6210), (28350, 6220), (28350, 628667), (28350, 628668), (28350, 95579), (28387, 117), (28387, 6196), (28387, 6224), (28387, 1107312), (28471, 117), (28471, 6213), (28471, 91975), (28471, 89547), (28485, 6209), (28485, 6213), (28485, 168410), (341188, 117), (341188, 7419), (341188, 28491), (341188, 682666), (38480, 117), (38480, 6209), (38480, 6213), (38480, 6214), (38480, 1104182), (39403, 117), (434, 267003), (434, 4649), (434, 6213), (434, 8703), (434, 10798), (55968, 6213), (55968, 6385), (55968, 27631), (55968, 892139), (58540, 6196), (58540, 6213), (58540, 181782), (6155, 4584), (6155, 6151), (6155, 6213), (6155, 6214), (6170, 117), (6196, 4584), (6196, 1120731), (6196, 1153056), (6196, 81350), (6196, 976334), (6196, 6214), (6220, 6213), (6220, 134128), (6220, 6163), (6220, 6224), (6220, 28412), (7432, 23774), (755217, 910), (755217, 6213), (755217, 13193), (755217, 13195), (8213, 6209), (8213, 28487), (91975, 6213), (91975, 89547), (91975, 1113459), (976334, 4584), (976334, 6216), (1109581, 117), (1109581, 1919), (1109581, 7419), (1109581, 24530), (1109581, 156794), (117, 149669), (117, 17476), (117, 189708), (117, 206259), (117, 28202), (117, 28278), (117, 32872), (117, 33013), (117, 6214), (117, 75674), (149669, 6214), (149669, 39890), (149669, 589923), (149669, 189708), (17476, 6385), (17476, 13269), (17476, 1103162), (17476, 1105033), (17476, 1122425), (17476, 1129208), (17476, 170338), (17476, 28456), (17476, 33013), (17476, 682666), (17476, 892139), (206259, 28487), (206259, 28542), (28202, 6163), (28202, 6213), (28202, 25791), (28202, 1114629), (28202, 1128267), (28202, 325497), (28278, 910), (28278, 4584), (28278, 6213), (28278, 6214), (28278, 1107312), (32872, 17201), (32872, 17208), (33013, 18777), (6214, 4584), (6214, 6151), (6214, 6213), (6214, 1105764), (6214, 1115886), (6214, 1130600), (6214, 1152740), (6214, 13960), (6214, 188471), (6214, 27631), (6214, 28447), (6214, 345340), (6214, 399339), (6214, 6184), (6214, 6215), (6214, 6224), (6214, 628500), (6214, 6378), (6214, 93320), (6214, 95589), (6214, 97892), (75674, 27623), (75674, 1109957), (75674, 686015), (20526, 6169), (20526, 6213), (20526, 1118092), (13960, 1481), (13960, 6213), (13960, 13966), (345340, 6224), (345340, 18777), (345340, 116790), (1118092, 288), (1118092, 28254), (288, 36167), (288, 40151), (36167, 4584), (36167, 20528), (36167, 70520), (1135125, 424), (1135125, 1272), (1135125, 27543), (424, 218666), (424, 47684), (424, 77758), (424, 197452), (47684, 47682), (47684, 68115), (267003, 75121), (58454, 463), (58454, 144679), (58454, 87417), (1102364, 504), (1102364, 506), (504, 1112650), (504, 506), (504, 89416), (506, 1106546), (506, 89416), (89416, 1106546), (89416, 1153024), (89416, 137130), (89416, 65074), (1106546, 24476), (10796, 6213), (10796, 1110947), (10796, 1113934), (10796, 1135358), (10796, 1153148), (10796, 180373), (10796, 20942), (10796, 30895), (10796, 31097), (10796, 417017), (10796, 46536), (10796, 601567), (10796, 6217), (10796, 8699), (10796, 93320), (10796, 10798), (1111304, 4329), (1111304, 6213), (1111304, 105899), (1111304, 195361), (1113614, 6213), (1113614, 134128), (114308, 63835), (134128, 6163), (134128, 6213), (134128, 1113182), (134128, 1117760), (134128, 218410), (161221, 1365), (161221, 6213), (161221, 1153922), (170798, 1959), (170798, 656231), (19045, 593210), (19045, 593328), (19045, 593329), (19045, 87363), (19045, 195792), (20972, 1116181), (20972, 35863), (28456, 57119), (28456, 61069), (28456, 101263), (299195, 6152), (299195, 6213), (299197, 4330), (299197, 6213), (299197, 85299), (299197, 85324), (334153, 216877), (334153, 216878), (334153, 1117618), (35490, 1104031), (35490, 1116410), (35490, 64271), (35490, 95188), (595056, 6213), (595056, 57119), (6151, 4584), (6151, 1106547), (6151, 1107355), (6151, 1130567), (6151, 1385), (6151, 6152), (6151, 6213), (6213, 4584), (6213, 1105764), (6213, 1106547), (6213, 1106966), (6213, 1107355), (6213, 1108329), (6213, 1109957), (6213, 1111230), (6213, 1113182), (6213, 1113459), (6213, 1116347), (6213, 1117760), (6213, 1120020), (6213, 1122425), (6213, 1123553), (6213, 1128267), (6213, 1129096), (6213, 1129243), (6213, 1130567), (6213, 13193), (6213, 1385), (6213, 153598), (6213, 17208), (6213, 195361), (6213, 20534), (6213, 218410), (6213, 23774), (6213, 241133), (6213, 293271), (6213, 353541), (6213, 35863), (6213, 399339), (6213, 6163), (6213, 6184), (6213, 6210), (6213, 6215), (6213, 6224), (6213, 628667), (6213, 628668), (6213, 628815), (6213, 672064), (6213, 7419), (6215, 6224), (64519, 154134), (64519, 37483), (64519, 63835), (87363, 593328), (87363, 593329), (1103979, 906), (1103979, 34315), (1103979, 34355), (906, 1105344), (906, 1114352), (906, 1136397), (906, 1140040), (906, 34355), (906, 910), (1105344, 910), (1105344, 24966), (1105344, 63549), (1114352, 1365), (1114352, 4330), (1114352, 260121), (1136397, 4330), (1136397, 4335), (1136397, 25702), (1136397, 240321), (1140040, 910), (1140040, 370366), (34355, 910), (910, 1104379), (910, 1105530), (910, 1108834), (910, 1110520), (910, 1114118), (910, 1116569), (910, 1118848), (910, 1120858), (910, 1122460), (910, 1126044), (910, 1129111), (910, 1135137), (910, 1152194), (910, 12439), (910, 12946), (910, 131042), (910, 13136), (910, 160705), (910, 227286), (910, 242637), (910, 31043), (910, 340075), (910, 340078), (910, 35905), (910, 42847), (910, 436796), (910, 48550), (910, 5462), (910, 576257), (910, 58552), (910, 5869), (910, 636511), (910, 67292), (910, 675649), (910, 684372), (910, 94953), (910, 25702), (910, 77758), (1104379, 13885), (1104379, 42847), (1104379, 42848), (1105530, 67292), (1108834, 3229), (1108834, 4330), (1108834, 25702), (1108834, 139738), (1110520, 5869), (1114118, 119712), (1116569, 203646), (1118848, 25702), (1120858, 2696), (1120858, 5348), (1122460, 245288), (1126044, 16471), (1126044, 19621), (1126044, 194223), (1126044, 523010), (1129111, 5462), (1135137, 1365), (1135137, 19621), (1152194, 24966), (12439, 105057), (12439, 323128), (12439, 340078), (12439, 22563), (12439, 36140), (12946, 4330), (131042, 24966), (131042, 24974), (131042, 40125), (13136, 1118083), (13136, 160705), (160705, 2696), (227286, 5462), (227286, 31489), (227286, 48550), (227286, 1115790), (242637, 12359), (242637, 202639), (242637, 1113541), (31043, 13885), (31043, 34961), (340075, 1365), (340075, 90888), (340078, 928873), (340078, 949217), (35905, 29723), (35905, 1152162), (35905, 1152272), (35905, 1152904), (42847, 13885), (42847, 19621), (42847, 123825), (436796, 1365), (48550, 3229), (48550, 133563), (48550, 48555), (48550, 289945), (5462, 119956), (576257, 23116), (58552, 1113828), (58552, 248395), (5869, 2696), (636511, 32276), (636511, 174418), (636511, 174425), (675649, 25702), (675649, 240321), (675649, 1132505), (675649, 675756), (684372, 19621), (684372, 684531), (1107010, 936), (1107010, 22386), (1107010, 38829), (1107010, 38845), (936, 1111899), (936, 129558), (936, 207395), (936, 3084), (936, 3828), (936, 38845), (1111899, 1952), (129558, 941), (207395, 1959), (207395, 3828), (207395, 22386), (3084, 1107171), (3084, 255233), (3084, 33303), (3084, 143323), (3828, 940), (3828, 941), (3828, 943), (3828, 1152896), (3828, 310530), (38845, 22386), (38845, 1110579), (38845, 38846), (38845, 74975), (20180, 940), (20180, 941), (20180, 91853), (20180, 943), (940, 28265), (940, 941), (28265, 941), (28265, 1152436), (28265, 943), (1152896, 943), (1152896, 1959), (1152896, 28267), (943, 91852), (91852, 20179), (91852, 64271), (91852, 20178), (91852, 117328), (1034, 1026), (1034, 1153945), (1034, 1035), (1026, 1102550), (1026, 1105231), (1026, 1129798), (1026, 1153945), (1102550, 4584), (1102550, 94641), (1102550, 251756), (1105231, 61312), (1107062, 1035), (1107062, 61069), (1035, 1110515), (1035, 35852), (1035, 45605), (1110515, 177993), (1110515, 177998), (1154525, 1213), (1154525, 8591), (1154525, 8594), (1213, 409725), (1213, 8766), (1213, 8594), (409725, 8766), (102938, 1237), (102938, 143676), (102938, 102939), (1237, 1102400), (1237, 143676), (1102400, 1246), (1102400, 152226), (143676, 102939), (1246, 1104007), (1246, 42207), (1246, 57764), (1246, 6125), (1104007, 12350), (1104007, 15429), (1104007, 34979), (42207, 20601), (42207, 20602), (42207, 219239), (42207, 95225), (57764, 12337), (57764, 36140), (57764, 46500), (57764, 46501), (57764, 711527), (6125, 2653), (6125, 1107572), (6125, 12211), (6125, 27612), (6125, 28641), (6125, 385251), (6125, 12210), (6125, 12350), (6125, 59626), (1102625, 1272), (1102625, 5959), (1102625, 5966), (1272, 1108167), (1272, 1120962), (1272, 112378), (1272, 1123867), (1272, 1128256), (1272, 1129208), (1272, 1135358), (1272, 157805), (1272, 18615), (1272, 192734), (1272, 20593), (1272, 27230), (1272, 284414), (1272, 30895), (1272, 30901), (1272, 444240), (1272, 520471), (1272, 52835), (1272, 552469), (1272, 560936), (1272, 591016), (1272, 636098), (1272, 65653), (1272, 6917), (1272, 6923), (1272, 85452), (1272, 85688), (1272, 93923), (1272, 97892), (1272, 4584), (1272, 13686), (1108167, 20601), (1108167, 20602), (1108167, 25805), (1108167, 124734), (1120962, 22563), (1120962, 32083), (112378, 10435), (112378, 27895), (112378, 36140), (112378, 40886), (112378, 1121459), (112378, 1131728), (112378, 141868), (112378, 145215), (112378, 654177), (1123867, 10169), (1128256, 11337), (1129208, 6378), (157805, 12350), (157805, 6539), (18615, 2440), (18615, 4660), (18615, 6935), (18615, 1000012), (18615, 582343), (18615, 18619), (192734, 45188), (192734, 45189), (20593, 20584), (20593, 20592), (27230, 2440), (27230, 23546), (27230, 23545), (284414, 1115456), (30895, 3243), (30895, 8224), (30895, 1152277), (30895, 1152673), (30895, 1154251), (30895, 144679), (30895, 30901), (30895, 59798), (30901, 3243), (30901, 11339), (30901, 368431), (444240, 6334), (520471, 1125953), (52835, 39127), (52835, 1115471), (552469, 10169), (560936, 1365), (560936, 6784), (560936, 562123), (560936, 91581), (591016, 2440), (591016, 1128856), (591016, 591017), (636098, 3231), (636098, 10169), (65653, 3217), (65653, 3235), (65653, 6771), (65653, 8224), (65653, 1105450), (65653, 1112319), (6917, 2440), (6917, 4649), (6917, 1153811), (6917, 449841), (6917, 135765), (6917, 135766), (6923, 2440), (6923, 1155073), (6923, 187354), (6923, 20857), (6923, 308003), (6923, 6941), (6923, 93923), (6923, 72908), (85452, 10169), (85452, 1120169), (85452, 1152290), (85688, 6539), (85688, 75121), (85688, 8224), (85688, 8703), (85688, 97892), (93923, 72908), (93923, 6941), (97892, 10798), (1031453, 1365), (1031453, 4584), (1365, 1102407), (1365, 1105062), (1365, 1106287), (1365, 1108050), (1365, 1110494), (1365, 1110998), (1365, 1113995), (1365, 1114153), (1365, 1114388), (1365, 1114605), (1365, 1116347), (1365, 1116594), (1365, 1117653), (1365, 1119140), (1365, 1120211), (1365, 1120866), (1365, 1128839), (1365, 1129443), (1365, 1130600), (1365, 1131647), (1365, 1131745), (1365, 1131748), (1365, 1132922), (1365, 1132968), (1365, 1135368), (1365, 1136422), (1365, 1136442), (1365, 1152143), (1365, 1152821), (1365, 1154169), (1365, 120084), (1365, 139865), (1365, 157401), (1365, 171225), (1365, 184918), (1365, 188318), (1365, 188471), (1365, 22835), (1365, 23448), (1365, 23502), (1365, 23507), (1365, 237521), (1365, 26850), (1365, 330148), (1365, 340299), (1365, 39904), (1365, 49482), (1365, 562123), (1365, 628500), (1365, 648232), (1365, 649731), (1365, 69392), (1365, 7276), (1365, 7297), (1365, 77758), (1365, 782486), (1365, 83826), (1365, 85299), (1365, 853150), (1365, 90888), (1365, 93555), (1365, 948299), (1365, 948846), (1365, 949318), (1365, 949511), (1365, 950052), (1365, 950305), (1106287, 19621), (1106287, 83826), (1106287, 83847), (1108050, 2696), (1108050, 5348), (1110998, 35797), (1110998, 188318), (1113995, 32083), (1114153, 19621), (1114388, 260979), (1114605, 26850), (1116347, 4584), (1116347, 6216), (1116347, 28249), (1116594, 42156), (1117653, 335042), (1119140, 37541), (1120211, 30817), (1128839, 3229), (1128839, 4584), (1130600, 4584), (1130600, 628500), (1131647, 3229), (1131745, 77758), (1131748, 3229), (1132968, 2665), (1132968, 5348), (1132968, 8581), (1132968, 205192), (1136422, 6184), (1152143, 13213), (1152143, 27514), (1154169, 3229), (120084, 1140543), (120084, 135464), (120084, 255628), (120084, 264556), (139865, 1108841), (139865, 1110563), (139865, 179180), (157401, 3229), (157401, 1118017), (171225, 184918), (184918, 19621), (184918, 23502), (184918, 330148), (188318, 35797), (188471, 4584), (188471, 628500), (22835, 1110563), (22835, 39904), (23448, 19621), (23448, 123825), (23502, 3229), (23502, 23507), (23502, 330148), (23507, 10981), (23507, 1109392), (23507, 13717), (23507, 152731), (23507, 217852), (23507, 649731), (23507, 93320), (237521, 2665), (330148, 19621), (340299, 42156), (340299, 74427), (49482, 3229), (49482, 19621), (49482, 1112369), (49482, 217984), (49482, 631052), (49482, 7297), (562123, 6784), (628500, 4584), (648232, 567005), (649731, 1131464), (649731, 123825), (69392, 4330), (69392, 1132461), (69392, 240321), (7276, 7272), (7276, 763181), (7276, 7297), (7276, 19621), (7297, 7272), (7297, 763010), (7297, 763181), (7297, 19621), (77758, 1129907), (77758, 180373), (77758, 25772), (77758, 289885), (77758, 294030), (77758, 613409), (782486, 4584), (782486, 28491), (83826, 3229), (83826, 19621), (90888, 3229), (90888, 1113934), (90888, 13885), (93555, 1152958), (93555, 119761), (93555, 143801), (93555, 284023), (93555, 284025), (948299, 3229), (948299, 19621), (949511, 3229), (950052, 19621), (950305, 739707), (1102567, 1481), (1102567, 4878), (1481, 1106052), (1481, 1108267), (1481, 1111614), (1481, 1113934), (1481, 1114864), (1481, 1117184), (1481, 1119295), (1481, 1120563), (1481, 1153891), (1481, 200480), (1481, 399173), (1481, 4878), (1481, 521207), (1481, 521269), (1106052, 18251), (1108267, 10183), (1108267, 20924), (1108267, 28230), (1108267, 127033), (1113934, 20924), (1113934, 22875), (1114864, 6311), (1114864, 6767), (1114864, 14529), (1117184, 53942), (1117184, 56167), (1117184, 261040), (1119295, 2440), (1119295, 6318), (1120563, 5062), (1120563, 5064), (1120563, 5069), (1120563, 5075), (1153891, 15889), (1153891, 175909), (1153891, 221302), (200480, 3231), (200480, 6334), (200480, 6343), (200480, 6344), (521207, 5062), (521207, 20924), (521207, 55770), (521207, 521183), (521207, 521269), (521269, 1125993), (152483, 583318), (1694, 39474), (647413, 646913), (1115291, 1717), (1115291, 17242), (1115291, 137849), (1115291, 280876), (1717, 1116336), (1717, 1135108), (1717, 50381), (1717, 733167), (1717, 4330), (1717, 4335), (1717, 6913), (1717, 32688), (1116336, 6913), (1135108, 4330), (1135108, 6913), (50381, 62274), (50381, 51180), (733167, 1154276), (35797, 1786), (35797, 4330), (35797, 6784), (35797, 100961), (35797, 1116629), (35797, 1128974), (35797, 399370), (35797, 60169), (35797, 60170), (35797, 627024), (35797, 36140), (1786, 22563), (1786, 27895), (1786, 46547), (1114502, 1817), (1114502, 5966), (1114502, 190698), (1114502, 227178), (1108389, 1919), (1108389, 35778), (1108389, 36802), (1108389, 37888), (1108389, 73146), (1919, 35778), (129042, 1949), (129042, 1108363), (129042, 1121313), (129042, 129045), (1949, 3101), (1949, 1952), (1949, 1953), (1949, 3097), (1949, 3112), (3101, 1952), (3101, 3097), (3101, 110162), (3101, 110163), (3101, 110164), (3101, 70441), (3095, 1951), (3095, 110162), (3095, 110163), (3095, 218682), (3095, 83449), (3095, 10430), (1107215, 1952), (1107215, 70442), (1107215, 70444), (1952, 3097), (1153166, 1953), (1153166, 73327), (1953, 1153724), (1953, 1153728), (1153724, 73327), (1153728, 1959), (1153728, 73327), (1153728, 198866), (110163, 1955), (110163, 3112), (110163, 110162), (110163, 110164), (1955, 1110390), (1110390, 5966), (1110390, 27246), (101143, 1959), (101143, 82666), (101143, 101145), (101143, 596075), (1118302, 263482), (1153101, 3223), (1153101, 137359), (1153150, 3223), (1153150, 137359), (263486, 263482), (263486, 1114512), (83449, 3085), (83449, 218682), (83449, 22869), (83449, 22874), (1959, 3097), (1959, 310530), (1959, 38839), (1959, 73327), (1959, 82664), (3097, 1106236), (3097, 129045), (3097, 82664), (3097, 82666), (310530, 22386), (310530, 38839), (38839, 22386), (73327, 64271), (73327, 1105810), (73327, 1106236), (73327, 198866), (82664, 1106236), (1102442, 1997), (1102442, 1999), (1997, 1108551), (1997, 1109439), (1997, 1109542), (1997, 129897), (1997, 154982), (1997, 3233), (1997, 49811), (1997, 7032), (1997, 25772), (1108551, 2440), (1109439, 4330), (1109439, 7032), (129897, 3187), (129897, 3191), (129897, 5055), (129897, 154982), (154982, 8079), (154982, 1121867), (154982, 1130927), (154982, 1130931), (154982, 1130934), (154982, 1133028), (3233, 1103737), (3233, 1114222), (3233, 1125467), (3233, 192850), (3233, 272720), (3233, 509379), (3233, 66594), (3233, 976284), (3233, 3236), (3233, 3240), (3233, 49811), (49811, 2440), (49811, 463825), (7032, 1110438), (7032, 137873), (7032, 323128), (7032, 52847), (1999, 1123068), (1999, 1131471), (1999, 39126), (1999, 6771), (1123068, 3232), (1123068, 6782), (1123068, 31083), (1123068, 167670), (1131471, 3231), (1131471, 52847), (39126, 3231), (39126, 10169), (39126, 31483), (39126, 1107067), (39126, 88356), (39126, 39165), (6771, 22563), (6771, 24974), (6771, 32083), (6771, 89547), (10186, 2354), (10186, 10174), (10186, 10183), (10186, 86840), (10186, 74749), (10186, 137790), (2354, 1107140), (2354, 1113852), (2354, 1130539), (2354, 154134), (2354, 40151), (2354, 74749), (2354, 137790), (1107140, 17201), (1113852, 74749), (1113852, 137790), (1130539, 9708), (1130539, 37483), (1130539, 143323), (154134, 143323), (154134, 217139), (40151, 1104261), (40151, 1132418), (40151, 1152307), (40151, 1152448), (40151, 1152975), (40151, 1153703), (40151, 49660), (40151, 671293), (74749, 137790), (1000012, 2440), (1000012, 3217), (1000012, 6935), (1000012, 178209), (2440, 1061127), (2440, 1106388), (2440, 1107095), (2440, 1110426), (2440, 1114512), (2440, 1117786), (2440, 1120650), (2440, 1127619), (2440, 1153254), (2440, 136766), (2440, 136768), (2440, 151430), (2440, 212777), (2440, 23546), (2440, 49843), (2440, 49844), (2440, 49847), (2440, 582343), (2440, 591017), (2440, 63931), (2440, 72908), (2440, 37483), (1106388, 5966), (1106388, 6935), (1106388, 49843), (1106388, 75121), (1107095, 101660), (1107095, 101662), (1110426, 3218), (1110426, 8224), (1110426, 22431), (1114512, 263482), (1117786, 63931), (1117786, 187354), (1120650, 6935), (1120650, 397590), (1127619, 562940), (136766, 9708), (136766, 63931), (136766, 348437), (136766, 136767), (136766, 136768), (136768, 9708), (136768, 63931), (151430, 101811), (151430, 1115670), (212777, 10798), (212777, 61417), (49843, 3218), (49843, 8224), (49843, 11335), (49843, 22431), (49843, 49844), (49843, 49847), (49844, 8224), (49844, 22431), (49844, 1127851), (49844, 49847), (49847, 8224), (49847, 22431), (582343, 4660), (582343, 25794), (582343, 46452), (582343, 1128437), (591017, 6639), (591017, 75969), (591017, 1128856), (63931, 37483), (63931, 13717), (63931, 6939), (72908, 1127863), (72908, 954315), (102406, 2653), (102406, 34708), (102406, 59626), (2653, 107177), (2653, 1104055), (2653, 1116268), (2653, 1116842), (2653, 1118764), (2653, 1119751), (2653, 1152075), (2653, 167656), (2653, 197783), (2653, 28641), (2653, 321861), (2653, 350362), (2653, 4660), (2653, 59045), (2653, 65650), (107177, 1119751), (1104055, 3243), (1104055, 36140), (1104055, 36145), (1116268, 6334), (1116268, 8617), (1116268, 27241), (1116268, 36145), (1116842, 2654), (1118764, 12182), (1118764, 23738), (1118764, 65650), (1119751, 5055), (1119751, 166420), (1152075, 2654), (167656, 3222), (167656, 3223), (167656, 5055), (167656, 18773), (197783, 2654), (197783, 213279), (28641, 12182), (28641, 28640), (321861, 12182), (321861, 1117089), (350362, 3243), (350362, 45188), (4660, 429781), (4660, 5038), (4660, 12182), (4660, 18619), (59045, 27243), (59045, 1121867), (65650, 11342), (65650, 12182), (65650, 23738), (65650, 38722), (65650, 1105450), (65650, 309476), (65650, 5038), (1104851, 2654), (1104851, 5055), (1104851, 27243), (1104851, 52784), (2654, 1106630), (2654, 1107861), (2654, 1110438), (2654, 1121867), (2654, 1123926), (2654, 211906), (2654, 27250), (2654, 463825), (2654, 52784), (1106630, 27530), (1106630, 27543), (1106630, 31055), (1106630, 70281), (1107861, 5055), (1107861, 5966), (1110438, 4330), (1110438, 116528), (1121867, 5055), (1121867, 8079), (1123926, 22563), (27250, 8079), (27250, 23738), (27250, 45052), (463825, 6782), (463825, 11342), (52784, 8617), (52784, 36145), (1115375, 2658), (1115375, 2665), (1115375, 282700), (2658, 1130676), (2658, 1130808), (2658, 1131607), (2658, 1132948), (2658, 1135899), (2658, 1140230), (2658, 230884), (2658, 236759), (2658, 282700), (2658, 395540), (2658, 578347), (2658, 696342), (2658, 696345), (2658, 696346), (2658, 751408), (2658, 99023), (2658, 2665), (2658, 230879), (1130676, 2665), (1130676, 395540), (1130676, 630817), (1130808, 2665), (1130808, 230879), (1131607, 2665), (1131607, 230884), (1132948, 2665), (1132948, 230879), (1135899, 230884), (1135899, 751408), (1140230, 230879), (230884, 2665), (230884, 230879), (230884, 1132486), (230884, 751408), (236759, 230879), (236759, 578337), (236759, 696345), (395540, 2665), (578347, 2665), (578347, 99023), (578347, 578306), (578347, 578309), (696342, 230879), (696342, 696345), (696345, 2665), (696345, 230879), (696345, 578337), (696345, 696346), (696346, 2665), (696346, 230879), (696346, 578337), (751408, 2665), (751408, 230879), (99023, 2665), (99023, 578306), (99023, 578309), (99023, 578337), (1119671, 2663), (2663, 7047), (1105574, 2665), (1105574, 5454), (1105574, 68224), (2665, 1113035), (2665, 1122704), (2665, 1132486), (2665, 205192), (2665, 237489), (2665, 43639), (2665, 578306), (2665, 578309), (2665, 578337), (2665, 582139), (2665, 630817), (2665, 631052), (2665, 763009), (2665, 8581), (1113035, 2696), (1113035, 75695), (1122704, 325314), (1132486, 230879), (1132486, 578337), (205192, 578337), (205192, 99030), (205192, 230879), (237489, 135464), (237489, 1120059), (43639, 469504), (43639, 99025), (578306, 578365), (578309, 230879), (578309, 578365), (578337, 99030), (578337, 230879), (582139, 68224), (582139, 1128425), (582139, 1130680), (631052, 19621), (631052, 30817), (631052, 631015), (763009, 19621), (763009, 27531), (763009, 1136446), (763009, 1136447), (763009, 1136449), (1108169, 2695), (1108169, 2696), (1108169, 124828), (2695, 1120197), (2695, 2698), (2695, 342802), (2695, 2696), (2695, 5348), (1120197, 5348), (2698, 2696), (2698, 1114192), (2698, 256106), (2698, 342802), (2698, 99025), (342802, 2696), (342802, 5348), (2696, 1114192), (2696, 1118083), (2696, 1123239), (2696, 1133004), (2696, 256106), (2696, 469504), (2696, 5348), (2696, 99025), (1114192, 5348), (1114192, 256106), (1118083, 5348), (1123239, 5348), (1133004, 135464), (256106, 5348), (469504, 330208), (5348, 139547), (5348, 75695), (5348, 911198), (5348, 99025), (99025, 330208), (1120777, 2702), (1120777, 12330), (1120777, 107569), (1120777, 400356), (2702, 12330), (2702, 395553), (2702, 72056), (12330, 107569), (12330, 1152490), (12330, 1153861), (12330, 156977), (12330, 213279), (12330, 395553), (12330, 400356), (12330, 949217), (395553, 4330), (395553, 395547), (395553, 684972), (395553, 684986), (72056, 1135122), (1107171, 103528), (1107171, 103529), (1107171, 103531), (255233, 5600), (255233, 33303), (33303, 5600), (33303, 33301), (15889, 3085), (15889, 1110024), (15889, 1118388), (15889, 1152564), (15889, 15892), (15889, 175909), (15889, 221302), (3085, 221302), (3085, 30973), (3085, 395725), (3085, 5062), (3085, 20193), (3085, 566653), (3085, 566664), (221302, 175909), (30973, 20193), (395725, 12337), (395725, 16437), (395725, 20193), (395725, 1135115), (395725, 1153933), (5062, 28026), (5062, 5064), (5062, 5069), (5062, 20193), (110162, 110164), (110162, 337766), (218682, 22874), (1106236, 82666), (129045, 1108363), (129045, 1121313), (110164, 3112), (110164, 261040), (70441, 70442), (70441, 70444), (103529, 3112), (103529, 103528), (3112, 1152564), (3112, 470511), (3112, 77826), (3112, 77829), (470511, 77826), (470511, 77829), (77826, 5600), (1110000, 3187), (1110000, 137868), (3187, 129896), (3187, 280876), (3187, 5086), (129896, 3191), (129896, 3192), (129896, 5086), (280876, 17242), (5086, 3191), (5086, 3192), (5086, 109323), (5086, 1105698), (5086, 137849), (5086, 354004), (5086, 423463), (5086, 440815), (5086, 561364), (5086, 79809), (105865, 3191), (105865, 3192), (105865, 193931), (105865, 193932), (3191, 1106789), (3191, 1127530), (3191, 1131267), (3191, 137873), (3191, 162664), (3191, 308920), (3191, 310742), (3191, 3192), (3191, 423463), (3191, 561364), (3191, 642827), (3191, 16008), (3191, 39890), (1106789, 6786), (1127530, 15987), (1131267, 24966), (137873, 4330), (162664, 39890), (162664, 118682), (162664, 39165), (162664, 510718), (162664, 531348), (162664, 531351), (308920, 15984), (308920, 16008), (310742, 3192), (310742, 189566), (3192, 423463), (3192, 561364), (3192, 642827), (3192, 15987), (3192, 16008), (561364, 642827), (642827, 16008), (642827, 137868), (3217, 167670), (3217, 238099), (3217, 86840), (167670, 3220), (167670, 3223), (167670, 3231), (167670, 3236), (238099, 6935), (238099, 1127851), (86840, 5966), (86840, 18781), (86840, 140005), (1106492, 3218), (1106492, 27241), (1106492, 44017), (1106492, 84020), (3218, 1119987), (3218, 1120169), (3218, 1152290), (3218, 1153264), (3218, 187354), (3218, 277263), (3218, 35070), (3218, 417017), (3218, 6639), (3218, 66782), (3218, 6767), (3218, 6941), (1119987, 14529), (1119987, 17798), (1120169, 46491), (1120169, 85449), (1152290, 46491), (1152290, 85449), (1153264, 11335), (187354, 1127851), (187354, 372862), (277263, 39127), (277263, 116081), (35070, 11335), (417017, 6741), (417017, 75121), (6639, 116084), (6639, 178209), (6639, 568045), (6639, 8224), (6639, 22431), (66782, 1105505), (66782, 51834), (6767, 1106103), (6767, 1120444), (6767, 235776), (6767, 6334), (6767, 6925), (6767, 69397), (6767, 22563), (6941, 372862), (1115677, 3220), (1115677, 6311), (3220, 1125992), (3220, 1128430), (3220, 1130634), (3220, 1131728), (3220, 1132706), (3220, 120039), (3220, 145215), (3220, 346243), (3220, 36620), (3220, 39124), (3220, 40922), (3220, 429805), (3220, 654177), (3220, 69397), (3220, 8832), (3220, 22563), (1125992, 6343), (1125992, 521183), (1125992, 521251), (1125992, 521252), (1128430, 28412), (1128430, 36620), (1130634, 10531), (1131728, 39131), (1131728, 40886), (1131728, 654177), (1132706, 27895), (120039, 34708), (120039, 36620), (145215, 40886), (145215, 63915), (145215, 141868), (145215, 429805), (145215, 654177), (346243, 39130), (346243, 521251), (36620, 3240), (36620, 10531), (36620, 189620), (36620, 39130), (39124, 3231), (39124, 8079), (429805, 40886), (429805, 141868), (654177, 40886), (69397, 6311), (8832, 1102761), (1103737, 3222), (1103737, 4330), (1103737, 8079), (3222, 1114222), (3222, 1131137), (3222, 1132157), (3222, 964248), (1114222, 3235), (1131137, 3240), (1131137, 31483), (1131137, 39165), (1131137, 92589), (1132157, 3223), (964248, 3237), (964248, 3240), (100197, 3229), (100197, 193931), (100197, 447250), (100197, 688361), (3229, 1105718), (3229, 1106568), (3229, 1108209), (3229, 1109392), (3229, 1112767), (3229, 1125082), (3229, 1125895), (3229, 1126037), (3229, 1128868), (3229, 1130915), (3229, 1130927), (3229, 1130931), (3229, 1132418), (3229, 1140289), (3229, 1152277), (3229, 1152673), (3229, 1154251), (3229, 118559), (3229, 133550), (3229, 16461), (3229, 189577), (3229, 25181), (3229, 25184), (3229, 27174), (3229, 27631), (3229, 31769), (3229, 33412), (3229, 35343), (3229, 35863), (3229, 35922), (3229, 390922), (3229, 396412), (3229, 444191), (3229, 447250), (3229, 52515), (3229, 62347), (3229, 641976), (3229, 654326), (3229, 7022), (3229, 72101), (3229, 82087), (3229, 919885), (3229, 92065), (3229, 96335), (3229, 6184), (3229, 29492), (3229, 30817), (3229, 144408), (1105718, 6184), (1105718, 71336), (1106568, 75983), (1108209, 118559), (1109392, 152731), (1112767, 226698), (1125895, 28385), (1126037, 179180), (1128868, 194609), (1130915, 633721), (1132418, 145176), (1132418, 671269), (1140289, 853118), (1152277, 25181), (1152277, 59798), (1152673, 25181), (1152673, 59798), (1154251, 25181), (1154251, 59798), (118559, 1121739), (133550, 5194), (133550, 1109891), (133550, 133566), (133550, 140569), (16461, 1105603), (16461, 43186), (189577, 15984), (189577, 16008), (189577, 28957), (25181, 25184), (25181, 27174), (25181, 96335), (25181, 59798), (25184, 3231), (25184, 285675), (25184, 385572), (25184, 27174), (27174, 180373), (27174, 35343), (27174, 96335), (27174, 59798), (27631, 6184), (27631, 20528), (27631, 28254), (27631, 28412), (27631, 70520), (31769, 67245), (31769, 67246), (31769, 32083), (33412, 124296), (33412, 211875), (33412, 34708), (35343, 35335), (35863, 28359), (35863, 134060), (35922, 4335), (35922, 28957), (35922, 1105116), (35922, 1140547), (35922, 1152162), (35922, 1152272), (35922, 1152904), (35922, 194223), (35922, 390894), (35922, 390896), (35922, 390922), (35922, 396412), (35922, 50336), (35922, 50337), (35922, 66982), (390922, 194223), (396412, 50337), (396412, 300806), (396412, 631015), (444191, 17363), (444191, 1154068), (444191, 6910), (447250, 123825), (447250, 240321), (52515, 300806), (52515, 39199), (52515, 446271), (52515, 91038), (62347, 19621), (62347, 62333), (641976, 24966), (641976, 145134), (641976, 1131150), (641976, 672070), (641976, 672071), (654326, 1131741), (654326, 654339), (72101, 12347), (72101, 1118347), (82087, 33895), (82087, 82090), (92065, 24966), (92065, 1106671), (96335, 3243), (96335, 59798), (104840, 3231), (104840, 8696), (104840, 8699), (104840, 8703), (3231, 1102761), (3231, 1106330), (3231, 1106370), (3231, 1107067), (3231, 1113926), (3231, 1115471), (3231, 1128536), (3231, 1153169), (3231, 180399), (3231, 20850), (3231, 259126), (3231, 3237), (3231, 328370), (3231, 49660), (3231, 6334), (3231, 63477), (3231, 63486), (3231, 66594), (3231, 68463), (3231, 8699), (3231, 8821), (3231, 10169), (3231, 17798), (3231, 39127), (3231, 39131), (1102761, 8821), (1106330, 3232), (1106330, 39131), (1106370, 24966), (1106370, 27531), (1107067, 6334), (1107067, 10169), (1107067, 20528), (1113926, 250566), (1128536, 3232), (1153169, 6334), (180399, 180373), (180399, 1120084), (180399, 385572), (20850, 3232), (20850, 6334), (20850, 10169), (259126, 10169), (3237, 3236), (3237, 49660), (3237, 116528), (328370, 4330), (49660, 10169), (49660, 39127), (49660, 66594), (6334, 1152307), (6334, 1152448), (6334, 1152975), (6334, 1153703), (6334, 68463), (6334, 10169), (6334, 39131), (63477, 10169), (63477, 60682), (63486, 10169), (63486, 17811), (63486, 56115), (63486, 509379), (63486, 83461), (63486, 96845), (63486, 144330), (66594, 3232), (66594, 27530), (66594, 8821), (68463, 5966), (8699, 5966), (8699, 1102751), (8821, 1153811), (8821, 66596), (3232, 20942), (3232, 521251), (521251, 521183), (1125467, 3236), (192850, 8079), (192850, 45189), (192850, 272720), (272720, 36145), (272720, 45189), (509379, 1125393), (976284, 4804), (976284, 45188), (976284, 45189), (976284, 89547), (3236, 601561), (601561, 10798), (601561, 252715), (1110531, 3240), (1110531, 13717), (1110531, 63835), (3240, 39130), (3240, 97377), (39130, 39131), (39130, 521252), (39130, 97377), (1103610, 3243), (1103610, 8961), (3243, 1110947), (3243, 1113739), (3243, 307336), (3243, 31932), (3243, 368431), (3243, 854434), (1110947, 10183), (1110947, 22875), (1113739, 4584), (1113739, 6163), (1113739, 6216), (307336, 174418), (307336, 285675), (307336, 708945), (31932, 31927), (31932, 194617), (31932, 215912), (368431, 8224), (368431, 27249), (5075, 3932), (5075, 5064), (5075, 5069), (3932, 22386), (3932, 74975), (1105428, 4274), (1105428, 8703), (1105428, 51909), (4274, 1114664), (4274, 1119078), (1114664, 51879), (1119078, 8703), (1119078, 51866), (105899, 4329), (105899, 27623), (105899, 27627), (105899, 28254), (4329, 1110768), (4329, 28254), (4329, 395547), (4329, 46468), (4329, 510718), (4329, 4330), (28254, 27623), (28254, 27627), (28254, 27632), (28254, 686015), (28254, 686061), (395547, 156977), (395547, 684972), (46468, 4330), (46468, 4335), (46468, 27249), (510718, 18777), (1103676, 4330), (1103676, 20528), (1103676, 27895), (4330, 1104449), (4330, 11093), (4330, 1112929), (4330, 1132459), (4330, 1132461), (4330, 1136393), (4330, 1152917), (4330, 118436), (4330, 119956), (4330, 120013), (4330, 151708), (4330, 168410), (4330, 32688), (4330, 37884), (4330, 390889), (4330, 428610), (4330, 684986), (4330, 69418), (4330, 753265), (4330, 949217), (4330, 6913), (4330, 12638), (1104449, 18815), (1104449, 24966), (11093, 39199), (1112929, 205196), (1132459, 240321), (1132461, 6130), (1132461, 671269), (1132461, 672071), (1136393, 755082), (1152917, 6913), (118436, 16451), (118436, 118424), (118436, 118435), (120013, 45212), (151708, 1120786), (168410, 4584), (168410, 6209), (32688, 69418), (37884, 6814), (37884, 6818), (37884, 300071), (390889, 4335), (390889, 66990), (390889, 156977), (428610, 6913), (428610, 240321), (684986, 684972), (753265, 753047), (949217, 284025), (1104300, 4335), (1104300, 41216), (4335, 1121254), (4335, 1136310), (4335, 1140547), (4335, 116790), (4335, 239800), (4335, 32698), (4335, 62274), (4335, 62417), (4335, 755082), (4335, 95718), (1121254, 6818), (1121254, 33231), (116790, 18777), (116790, 73146), (116790, 173863), (239800, 19697), (239800, 24966), (239800, 71904), (239800, 95718), (32698, 19697), (32698, 95719), (32698, 95718), (62274, 32260), (62274, 94713), (62417, 1107558), (62417, 41216), (95718, 19697), (95718, 71904), (1102548, 4553), (4584, 1120020), (4584, 1130567), (4584, 13885), (4584, 13917), (4584, 293285), (4584, 6184), (4584, 6210), (4584, 628815), (1120020, 13917), (1130567, 6169), (1130567, 628815), (13885, 13917), (13885, 84459), (293285, 293271), (6184, 10981), (6184, 1120731), (6184, 13686), (6184, 399339), (6184, 19621), (6210, 1120731), (6210, 28489), (164, 4637), (164, 4804), (164, 10177), (164, 12198), (164, 67415), (4637, 12169), (1105887, 4649), (1105887, 75121), (4649, 1127851), (4649, 135765), (4649, 135766), (4649, 411092), (4649, 449841), (4649, 8703), (1127851, 20821), (135765, 135766), (135766, 449841), (411092, 6741), (411092, 23738), (449841, 1123093), (8703, 101145), (8703, 1102751), (8703, 173884), (8703, 27535), (8703, 308232), (8703, 353541), (8703, 502574), (8703, 51866), (8703, 51909), (8703, 59244), (8703, 89335), (8703, 10435), (8703, 10798), (429781, 12182), (429781, 33325), (5038, 12182), (5038, 38722), (102884, 4804), (102884, 9513), (4804, 1108175), (4804, 1112574), (4804, 1153262), (4804, 12182), (4804, 12210), (4804, 157761), (4804, 25805), (4804, 45189), (4804, 68505), (4804, 77515), (4804, 989397), (4804, 9515), (4804, 10177), (4804, 12350), (1108175, 18781), (1112574, 10177), (1112574, 12210), (1153262, 9716), (1153262, 17208), (1153262, 77438), (12182, 1059953), (12182, 1106418), (12182, 1117249), (12182, 1153183), (12182, 12165), (12182, 12211), (12182, 155736), (12182, 157761), (12182, 219239), (12182, 28632), (12182, 28640), (12182, 309476), (12182, 94713), (12182, 12210), (12182, 28649), (12210, 10177), (12210, 57948), (12210, 67415), (12210, 77515), (12210, 12350), (157761, 155738), (157761, 219239), (25805, 20601), (25805, 1110028), (25805, 1121063), (25805, 385251), (25805, 124734), (25805, 166989), (45189, 45188), (45189, 1105450), (45189, 1106401), (45189, 1132385), (45189, 89547), (68505, 10177), (77515, 15429), (77515, 9513), (989397, 12169), (989397, 42221), (989397, 93273), (7867, 4983), (7867, 1138027), (7867, 315789), (28026, 5064), (28026, 5069), (5064, 1121176), (5064, 1129106), (5064, 272345), (5064, 385067), (5064, 5069), (5069, 385067), (5069, 177115), (272345, 385067), (385067, 47570), (109323, 137849), (137849, 17242), (354004, 1118546), (440815, 153063), (440815, 645571), (79809, 11342), (79809, 24966), (79809, 1121659), (79809, 1131466), (79809, 1153275), (79809, 31863), (79809, 358866), (79809, 79817), (79809, 91581), (79809, 358887), (1152714, 5194), (1152714, 133566), (1152714, 133567), (5194, 133563), (5194, 133566), (5194, 140569), (133563, 48555), (133563, 105856), (133563, 1120049), (133563, 133566), (133566, 133567), (139547, 75695), (139547, 626999), (75695, 8581), (75695, 1120059), (75695, 911198), (911198, 626999), (911198, 627024), (5454, 1128425), (5454, 1130680), (1128425, 6818), (1128425, 68224), (1130680, 68224), (1022969, 5600), (1022969, 33301), (5600, 1117833), (5600, 54550), (5959, 152226), (5959, 545647), (5959, 582511), (5959, 37483), (152226, 152227), (545647, 11335), (545647, 582511), (582511, 11335), (1107572, 15429), (1107572, 19231), (12211, 12165), (27612, 12198), (27612, 12350), (27612, 1118209), (6130, 1154123), (6130, 1154124), (6130, 671269), (6130, 675847), (6130, 672064), (6130, 672070), (6130, 672071), (1154123, 202639), (1154123, 240321), (1154123, 671269), (1154123, 672070), (1154124, 202639), (1154124, 240321), (1154124, 671269), (1154124, 672070), (671269, 1132443), (675847, 240321), (675847, 1132505), (1107355, 13686), (1385, 13686), (1106966, 6163), (1106966, 20534), (6163, 20534), (6163, 96847), (6163, 6224), (20534, 13972), (20534, 23774), (20534, 70442), (20534, 7419), (96847, 6216), (96847, 594025), (96847, 96851), (96847, 227178), (6169, 1114629), (6169, 170338), (6169, 7419), (170338, 13212), (7419, 1105764), (7419, 1107312), (7419, 1113182), (7419, 1117760), (10981, 1102873), (1120731, 13195), (1120731, 399339), (13686, 22563), (13686, 27535), (13686, 40135), (1153056, 28487), (81350, 18832), (81350, 38722), (81350, 892139), (1108329, 6209), (1108329, 41417), (1108329, 70444), (1108329, 128383), (6209, 118259), (6209, 118260), (6209, 181782), (6209, 212930), (6209, 8875), (6209, 95579), (118259, 118260), (118259, 230300), (118260, 230300), (181782, 9708), (212930, 7047), (212930, 131117), (212930, 131122), (8875, 8872), (8875, 8874), (8875, 1129570), (8875, 1152676), (8875, 395075), (8875, 608292), (95579, 95588), (95579, 95597), (1105764, 45212), (1105764, 72406), (1113459, 153598), (1113459, 241133), (1122425, 6378), (1122425, 18832), (1123553, 6216), (1129096, 28249), (1129243, 6385), (13193, 17208), (13193, 28489), (153598, 28491), (17208, 17201), (17208, 1152633), (17208, 184157), (17208, 95435), (17208, 36131), (218410, 1152663), (353541, 28389), (628667, 628668), (628668, 28249), (672064, 202639), (1152740, 18834), (28447, 22886), (28447, 1107367), (28447, 1120444), (28447, 194645), (28447, 73323), (28447, 95642), (6378, 28473), (6378, 6385), (6378, 10183), (95589, 28504), (95589, 95586), (95589, 95594), (95589, 145384), (6216, 230300), (10793, 6238), (6238, 1123991), (6238, 1130356), (6238, 84459), (6311, 235776), (6311, 8224), (6311, 20584), (6311, 46887), (235776, 20584), (235776, 46887), (1108656, 6318), (1108656, 135798), (6318, 1121057), (6318, 20833), (1121057, 63812), (20833, 11335), (1152307, 36162), (1152448, 36162), (1152975, 36162), (1153703, 36162), (6343, 141868), (6343, 359067), (6343, 521252), (141868, 40886), (359067, 56167), (359067, 239810), (1112665, 6344), (1106103, 6346), (6346, 1112075), (1112075, 134219), (28473, 6385), (1103162, 6385), (1103162, 17477), (1103162, 17488), (6385, 682666), (6385, 892139), (682666, 18832), (682666, 248823), (1102646, 6539), (1102646, 66794), (6539, 9716), (6539, 12350), (116084, 39127), (116084, 116087), (116084, 195150), (116084, 568045), (116084, 75972), (116084, 178209), (178209, 195150), (178209, 568045), (178209, 75972), (568045, 195150), (1130637, 6741), (6741, 1153160), (6741, 348437), (6741, 49895), (6741, 51909), (6741, 83725), (6741, 9708), (1153160, 15429), (348437, 136767), (51909, 51879), (51909, 173884), (51909, 502574), (83725, 56112), (83725, 56115), (83725, 62718), (9708, 1153003), (1120444, 22886), (1120444, 112787), (6925, 1114526), (6925, 1118658), (6925, 372862), (6925, 57922), (6925, 57948), (6925, 57932), (1111240, 6775), (1111240, 14807), (1111240, 193918), (1111240, 193931), (1111240, 193932), (6775, 350319), (6775, 6784), (350319, 6784), (350319, 193932), (100961, 6784), (100961, 60169), (6784, 1116629), (6784, 60170), (60170, 399370), (6786, 714975), (714975, 15984), (714975, 39890), (714975, 523394), (1117348, 6814), (1117348, 202639), (6814, 1125469), (6814, 158172), (6814, 293974), (6814, 300071), (6814, 315266), (6814, 390896), (6814, 445938), (1125469, 35778), (1125469, 37888), (1125469, 108974), (1125469, 293974), (158172, 33231), (158172, 77438), (158172, 445938), (293974, 6818), (293974, 33231), (293974, 37888), (293974, 77438), (300071, 29723), (300071, 33231), (300071, 446610), (315266, 33231), (315266, 445938), (390896, 6818), (445938, 18777), (445938, 33231), (1105531, 6818), (1105531, 16008), (1105531, 28957), (1105531, 33231), (6818, 50336), (6818, 50337), (6818, 29723), (6818, 300806), (50336, 13269), (50336, 390894), (50336, 50337), (50336, 683355), (50337, 13269), (50337, 390894), (1123188, 6898), (1123188, 6910), (1123188, 12631), (1123188, 12638), (1123188, 662416), (6898, 124224), (6898, 12631), (6898, 431206), (6898, 6910), (6898, 78994), (6898, 12638), (124224, 169279), (12631, 1152150), (12631, 1154103), (12631, 12638), (12631, 662416), (12631, 6910), (12631, 78994), (431206, 6910), (431206, 6913), (431206, 662572), (6910, 1117219), (6910, 1132083), (6910, 1152150), (6910, 1154103), (6910, 169279), (6910, 263553), (6910, 662416), (6910, 12638), (78994, 662279), (78994, 662572), (1117219, 263553), (1132083, 169279), (1132083, 169280), (1152150, 31489), (1154103, 169279), (1154103, 169280), (263553, 12638), (263553, 662416), (662416, 12638), (1105011, 6913), (6913, 1131230), (6913, 703953), (6913, 646286), (6913, 646289), (1153811, 52847), (1153811, 75969), (1155073, 20857), (1155073, 954315), (20857, 1127863), (308003, 6935), (1114526, 15429), (1114526, 57948), (1118658, 57922), (1118658, 57948), (372862, 20821), (57922, 57948), (57948, 15429), (57948, 42221), (6935, 101660), (6935, 1115670), (6935, 63915), (6935, 101811), (1116922, 6939), (1116922, 318187), (6939, 63915), (323128, 17798), (323128, 36140), (1120880, 7041), (1135082, 7047), (1135082, 19621), (1135082, 733576), (7047, 14549), (7047, 54844), (14549, 14545), (14549, 1103038), (14549, 592830), (14549, 31479), (54844, 1104946), (1136446, 7272), (1136446, 756061), (1136446, 762980), (1136446, 763010), (7272, 763181), (763181, 7296), (763010, 1136447), (763010, 1136449), (763010, 762980), (1107312, 13195), (1153287, 7430), (1153287, 28504), (1153287, 95594), (1153287, 145384), (7430, 95586), (7430, 28504), (7430, 95594), (7430, 145384), (7430, 365294), (95586, 28487), (95586, 63835), (1121603, 7532), (1121603, 80515), (1121603, 314459), (7532, 1153097), (7532, 141171), (7532, 314459), (7532, 7537), (7532, 80515), (7532, 80491), (1153097, 7537), (1153097, 409255), (141171, 7537), (141171, 75318), (141171, 1121569), (141171, 179702), (141171, 179706), (314459, 7537), (314459, 80491), (314459, 80515), (7537, 1113534), (7537, 1131348), (7537, 409255), (80515, 80491), (1138027, 315789), (315789, 1139195), (105057, 8079), (105057, 27895), (105057, 36140), (8079, 27249), (1108728, 8224), (1108728, 137359), (1108728, 137380), (8224, 1111788), (8224, 1128531), (8224, 1132815), (8224, 11342), (8224, 1153148), (8224, 1153866), (8224, 133615), (8224, 22431), (8224, 22563), (8224, 23738), (8224, 55403), (8224, 601567), (8224, 62389), (8224, 97377), (1111788, 20584), (1111788, 46887), (1128531, 55403), (1128531, 133615), (1132815, 36162), (11342, 23738), (1153148, 23738), (1153866, 133615), (133615, 55403), (22431, 144330), (22431, 75121), (22563, 10435), (22563, 107251), (22563, 107252), (22563, 1103394), (22563, 1121459), (22563, 22564), (22563, 22566), (22563, 36140), (22563, 389715), (22563, 63915), (22563, 94229), (22563, 23738), (23738, 101662), (23738, 101811), (23738, 11325), (23738, 1153064), (23738, 189574), (23738, 27249), (23738, 73146), (23738, 84020), (23738, 27895), (62389, 1107325), (97377, 211432), (1120059, 8581), (8581, 75691), (8581, 69198), (8581, 135464), (75691, 30817), (8591, 137956), (8591, 167205), (8591, 709113), (8591, 8594), (137956, 58268), (137956, 13024), (709113, 8594), (709113, 1134031), (1132809, 8594), (1132809, 232606), (8594, 180187), (8594, 232605), (8594, 58268), (180187, 1131719), (232605, 25413), (232605, 232606), (58268, 13024), (58268, 899119), (8617, 12359), (8617, 36145), (12359, 1131634), (12359, 16451), (12359, 16476), (36145, 8619), (36145, 1105672), (1102751, 8687), (1102751, 8696), (8687, 38000), (8687, 155158), (38000, 13717), (38000, 63915), (101145, 89308), (173884, 27535), (173884, 92589), (27535, 1112026), (27535, 308232), (27535, 34961), (27535, 51866), (308232, 46491), (51866, 22883), (51866, 34961), (51866, 51879), (59244, 89335), (1129570, 57119), (395075, 8872), (395075, 8874), (608292, 8874), (1104647, 8872), (1104647, 45603), (1104647, 48764), (1104647, 48768), (8872, 1125092), (8872, 1152761), (8872, 1153860), (1125092, 45603), (1125092, 48764), (1120643, 8874), (1120643, 48781), (1120643, 100935), (1120643, 175256), (1120643, 397488), (8874, 1153816), (1153816, 61069), (1152676, 57119), (8961, 1133390), (102879, 9513), (102879, 9515), (9513, 9515), (9513, 15429), (9515, 10177), (9515, 15429), (1102794, 9559), (9559, 252725), (1130780, 9581), (1130780, 31489), (1130780, 633081), (9581, 633585), (9581, 31489), (633585, 31489), (633585, 40605), (633585, 633721), (633585, 884094), (1120138, 9586), (1120138, 33818), (1120138, 78508), (1120138, 78555), (1120138, 78557), (9586, 33818), (9586, 78552), (9586, 78557), (33818, 1123087), (33818, 78549), (33818, 78552), (33818, 78557), (33818, 33823), (33818, 78555), (1153003, 34257), (1153003, 270600), (1153003, 368605), (9716, 28674), (10169, 114189), (10169, 158614), (10169, 17798), (10169, 211875), (10169, 39131), (10169, 711598), (10169, 10177), (10169, 15429), (114189, 31479), (114189, 88356), (17798, 1152308), (17798, 39131), (17798, 56167), (10177, 12197), (10177, 12198), (10177, 124734), (10177, 15429), (10177, 249858), (10177, 27606), (10177, 67415), (10177, 68495), (12197, 111866), (12197, 1119471), (12197, 68495), (12197, 15429), (12198, 1126350), (12198, 12158), (12198, 12199), (12198, 95225), (12198, 12350), (124734, 20601), (124734, 27606), (124734, 59626), (15429, 12350), (15429, 175576), (15429, 210309), (15429, 217115), (15429, 219239), (15429, 35854), (15429, 41666), (15429, 89547), (249858, 27606), (249858, 59626), (249858, 64319), (249858, 111866), (27606, 111866), (67415, 12350), (67415, 1110256), (67415, 1135746), (67415, 12195), (67415, 171954), (67415, 38722), (67415, 51180), (68495, 12350), (10183, 10430), (10183, 1114336), (10183, 1120713), (10183, 259772), (10183, 47570), (10183, 54550), (10183, 10798), (10430, 1120713), (1114336, 259772), (1103394, 10435), (1103394, 22564), (1103394, 22566), (10435, 208345), (10435, 22566), (10435, 41417), (10435, 22564), (208345, 55770), (208345, 55801), (208345, 1114777), (22566, 22564), (41417, 1113551), (41417, 128383), (1102850, 10531), (10531, 1107567), (10531, 1129442), (10531, 194617), (10531, 31336), (10531, 31349), (10531, 31353), (10531, 43698), (10531, 686532), (1107567, 12165), (1107567, 12195), (1107567, 12238), (1107567, 31353), (1129442, 31336), (1129442, 31353), (1129442, 43698), (194617, 31353), (194617, 31927), (194617, 1124844), (194617, 1129572), (194617, 215912), (31336, 31349), (31336, 686532), (31336, 31353), (31349, 686532), (31349, 31353), (31349, 43698), (31353, 1063773), (31353, 1123576), (31353, 1124844), (31353, 1129608), (31353, 1135746), (31353, 1152162), (31353, 1152272), (31353, 1152904), (31353, 286562), (31353, 31927), (31353, 43698), (31353, 686532), (31353, 686559), (43698, 686532), (180373, 59798), (6217, 28412), (10798, 1154500), (10798, 18619), (10798, 20193), (10798, 252715), (18619, 1153091), (18619, 19231), (18619, 27627), (20193, 1108597), (20193, 1114777), (20193, 1116397), (20193, 1116839), (20193, 1119180), (20193, 112813), (20193, 1130653), (20193, 1130657), (20193, 1138091), (20193, 1152244), (20193, 1153877), (20193, 1153879), (20193, 1153889), (20193, 144330), (20193, 566488), (20193, 566653), (20193, 566664), (20193, 91853), (39199, 32276), (39199, 39210), (39199, 66982), (39199, 66990), (1129835, 11148), (1129835, 193347), (1129835, 193352), (1129835, 193354), (11148, 1131719), (11148, 193354), (11148, 25413), (1131719, 193347), (1131719, 193352), (1131719, 612306), (193354, 193347), (193354, 193352), (25413, 232606), (11339, 11326), (11339, 211432), (11339, 44017), (11339, 45061), (1127657, 11335), (11335, 11325), (11335, 217139), (217139, 143323), (211432, 34708), (44017, 206524), (44017, 48075), (1126350, 12155), (12155, 20602), (12199, 12158), (12199, 1119471), (12199, 12247), (12199, 20601), (12199, 20602), (12158, 148399), (12158, 12350), (12158, 20601), (12158, 20602), (148399, 12247), (148399, 27199), (148399, 27203), (12165, 1112099), (12165, 12195), (12165, 12238), (1112099, 12195), (1112099, 12238), (1112099, 101263), (1119471, 12169), (1119471, 12247), (1059953, 28640), (1106418, 27203), (1106418, 34979), (1106418, 86258), (1153183, 264347), (155736, 28649), (155736, 155738), (219239, 12247), (28632, 32260), (94713, 18777), (94713, 28957), (94713, 32260), (27199, 12194), (27199, 248119), (27199, 42209), (27199, 42221), (1107319, 12195), (1107319, 12350), (1107319, 51180), (12195, 1131611), (12195, 1132285), (12195, 38722), (12195, 51180), (12195, 12350), (1131611, 12350), (38722, 1135746), (38722, 51180), (51180, 12350), (111866, 64319), (95225, 20601), (95225, 20602), (12247, 20601), (12247, 20602), (101263, 12238), (101263, 101261), (101263, 1139928), (107569, 1107385), (1152490, 66990), (1152490, 156977), (1153861, 66990), (1153861, 156977), (400356, 66990), (12337, 16451), (12337, 16470), (12337, 16474), (16451, 12347), (16451, 12350), (16470, 16437), (16470, 1129621), (16474, 16437), (16474, 16471), (16474, 16476), (12347, 16485), (101811, 12350), (101811, 101662), (101811, 1153064), (12350, 152227), (12350, 20601), (12350, 20602), (152227, 1139928), (152227, 987197), (20601, 1118209), (20601, 1121537), (20601, 20602), (20602, 1121537), (1131634, 123825), (1104999, 56112), (1104999, 56115), (1107674, 56112), (1107674, 56115), (127033, 56112), (127033, 56115), (127033, 62718), (127033, 416455), (127033, 574710), (416455, 56709), (56112, 56115), (56112, 63832), (56709, 56708), (56709, 18834), (56709, 308529), (575795, 1128975), (575795, 595063), (62718, 56115), (63832, 56115), (12638, 119761), (119761, 143801), (119761, 284025), (119761, 284023), (899119, 13024), (1105148, 13205), (1105148, 13208), (1105148, 13212), (13205, 13208), (13208, 131318), (13208, 13212), (131318, 13212), (131318, 13213), (131318, 19697), (131318, 24966), (131318, 411005), (13212, 214472), (13212, 358884), (13212, 411005), (214472, 75693), (214472, 75694), (358884, 358894), (411005, 69198), (411005, 131315), (411005, 131317), (13654, 13652), (13654, 1115959), (13654, 119686), (13654, 83746), (13654, 987188), (13654, 80656), (13652, 13656), (13652, 83746), (13652, 80656), (13656, 13658), (13656, 80656), (83746, 294239), (1115959, 13658), (1115959, 118873), (119686, 13658), (119686, 987188), (987188, 13658), (987188, 118873), (13658, 294239), (13717, 37998), (1126050, 13972), (1126050, 93318), (34979, 13982), (14062, 1152358), (14062, 646836), (14062, 97390), (14062, 98693), (1152358, 82920), (1152358, 97390), (1152358, 98693), (1152358, 110041), (97390, 100935), (97390, 98693), (1103016, 14083), (1103016, 14090), (14083, 62676), (14090, 643069), (643069, 16819), (643069, 16843), (643069, 1131192), (1103031, 14428), (1103031, 14429), (1103031, 14430), (1103031, 14431), (14428, 1103969), (14428, 14429), (14428, 14431), (14428, 34082), (14428, 73119), (1103969, 14429), (1103969, 14430), (1103969, 34082), (14429, 1119216), (14429, 14431), (14429, 34082), (14429, 73119), (14429, 14430), (14431, 14430), (14431, 73119), (34082, 14430), (34082, 1119216), (73119, 14430), (1119216, 14430), (1103038, 14529), (1103038, 14531), (1103038, 14545), (14529, 239829), (14531, 1105932), (14531, 1152308), (14531, 56167), (14531, 592830), (14531, 60682), (1105932, 25772), (1105932, 39127), (1105932, 75969), (1105932, 75972), (1152308, 56167), (56167, 53942), (56167, 1119178), (56167, 239810), (592830, 39127), (592830, 75969), (592830, 75972), (592830, 1128935), (14545, 51934), (14807, 264347), (14807, 50354), (14807, 123556), (25702, 15076), (25702, 1153897), (25702, 147870), (25702, 202639), (15076, 708945), (15076, 24043), (15076, 32276), (708945, 191222), (175576, 93755), (210309, 1111978), (217115, 59626), (217115, 1112319), (35854, 15431), (41666, 23116), (41666, 943087), (89547, 1112319), (89547, 1116328), (89547, 1132385), (89547, 1152379), (89547, 237376), (89547, 45188), (1110024, 166825), (1118388, 15892), (1118388, 166825), (15892, 1116146), (175909, 112787), (158098, 15984), (158098, 15987), (158098, 16008), (15987, 523394), (15987, 653441), (15987, 714289), (523394, 16008), (523394, 39890), (523394, 523574), (653441, 39890), (653441, 73162), (653441, 523574), (653441, 559804), (653441, 1134346), (653441, 189774), (714289, 39890), (714289, 523574), (714289, 559804), (714289, 1154230), (714289, 1154232), (714289, 189571), (714289, 714208), (16008, 1131165), (16008, 189571), (16008, 189572), (189571, 39890), (189571, 1154232), (189571, 189572), (189571, 521855), (189571, 714748), (189572, 1134348), (189572, 714256), (152219, 16437), (152219, 29492), (152219, 131117), (16437, 430329), (16437, 51831), (430329, 127940), (1105603, 16485), (1129621, 16476), (1129621, 253971), (1104787, 16471), (1104787, 16485), (16471, 1114992), (16471, 273949), (1114992, 273949), (273949, 105856), (273949, 687401), (1123087, 16476), (1123087, 16485), (1123087, 94229), (1123087, 202639), (105856, 16485), (105856, 193931), (105856, 289085), (105856, 133553), (105856, 175548), (16485, 1109891), (16485, 1120049), (1109891, 141160), (1120049, 133553), (1120049, 175548), (1131167, 16819), (1131167, 642681), (16819, 1131236), (16819, 1131274), (16819, 1131312), (16819, 126793), (16819, 643003), (16819, 643221), (16819, 644093), (16819, 644334), (16819, 646195), (16819, 646286), (16819, 642621), (16819, 643239), (1131236, 642681), (1131236, 642894), (1131236, 643221), (1131236, 644093), (1131274, 644843), (1131312, 642894), (1131312, 643221), (1131312, 643239), (126793, 1131270), (126793, 16843), (643003, 1131189), (643221, 1131257), (643221, 1131305), (643221, 1131334), (643221, 1131335), (643221, 126927), (643221, 642894), (643221, 643239), (643221, 643485), (643221, 644093), (643221, 644448), (643221, 644577), (643221, 645897), (643221, 646286), (644093, 126927), (644093, 642681), (644093, 643239), (644334, 642681), (644334, 644441), (646195, 38537), (646286, 126927), (646286, 642681), (646286, 642894), (1152259, 16843), (1152259, 71736), (16843, 1152991), (1152991, 71736), (17201, 1126012), (17201, 184157), (17201, 95435), (1126012, 124952), (184157, 95435), (1152633, 36131), (1152633, 37888), (1152633, 77438), (1107136, 17811), (245955, 17821), (86923, 18532), (86923, 18536), (86923, 1114184), (1106854, 18536), (18536, 424540), (424540, 179702), (424540, 48555), (1153091, 46452), (28964, 18770), (28964, 28957), (28964, 1125402), (28964, 1125944), (18770, 531348), (18770, 531351), (531348, 531351), (18773, 88356), (88356, 28957), (73146, 18774), (73146, 18777), (73146, 35778), (18774, 18777), (103537, 18777), (103537, 28957), (103537, 126912), (18777, 1112686), (18777, 173863), (18777, 66794), (18777, 79817), (1112686, 18811), (1112686, 143476), (66794, 28957), (66794, 1105505), (66794, 1153031), (66794, 108974), (66794, 466170), (79817, 1131466), (18781, 18785), (1106401, 18811), (18811, 20920), (20920, 18812), (20920, 18815), (18812, 510715), (18832, 18833), (18833, 18834), (18834, 1152944), (593210, 195792), (593210, 459216), (593210, 593209), (593329, 70970), (19231, 1153736), (19231, 12960), (19231, 30934), (19231, 686061), (12960, 30934), (12960, 33325), (12960, 116021), (686061, 27623), (686061, 27627), (19621, 1128846), (19621, 1131464), (19621, 123825), (19621, 240791), (19621, 628888), (19621, 649730), (19621, 649739), (19621, 66990), (19621, 853116), (19621, 948147), (19621, 853114), (19621, 853115), (1131464, 123825), (1131464, 649730), (1131464, 649739), (123825, 1154276), (123825, 649730), (123825, 649739), (240791, 45605), (240791, 503871), (240791, 650834), (628888, 628764), (66990, 1117501), (66990, 39210), (66990, 126912), (853116, 853114), (853116, 853115), (853116, 853155), (948147, 733534), (19697, 40124), (19697, 24966), (40124, 23116), (40124, 24966), (40124, 1104258), (40124, 1112723), (40124, 145176), (38829, 20178), (38829, 1116397), (38829, 1152244), (38829, 64271), (38829, 117328), (20178, 64271), (20178, 91853), (20178, 20179), (64271, 1152244), (64271, 95188), (91853, 20179), (91853, 1110579), (91853, 1116397), (91853, 1116410), (20179, 95188), (95188, 1110579), (95188, 1116410), (95188, 117328), (1114777, 55770), (1114777, 67633), (1114777, 112099), (566653, 566664), (20528, 36162), (70442, 70444), (1106849, 20584), (20584, 1118823), (20584, 20592), (20584, 389715), (1118823, 46491), (1118823, 46547), (1118823, 360028), (20592, 31479), (389715, 46491), (389715, 46547), (389715, 107251), (389715, 107252), (1118209, 27203), (1121537, 416867), (1115701, 20923), (1115701, 20924), (1115701, 31479), (1115701, 202520), (1115701, 289885), (20923, 1116530), (20923, 20924), (20923, 289885), (20923, 294030), (20924, 289885), (20924, 294030), (289885, 31479), (294030, 31479), (294030, 39890), (1103383, 22229), (1103383, 22241), (22229, 1107418), (22229, 1128369), (22229, 144701), (22229, 22241), (22229, 243483), (22229, 459216), (22229, 595193), (1107418, 22241), (1107418, 108047), (1128369, 22241), (144701, 1128975), (144701, 1128997), (144701, 1136342), (144701, 595063), (22241, 595193), (243483, 62634), (243483, 459214), (459216, 1123530), (22386, 1128407), (22386, 38846), (1128407, 38846), (1128407, 74975), (38846, 74975), (107251, 46491), (107251, 46547), (107251, 107252), (107252, 46491), (1121459, 40886), (36140, 27249), (36140, 350373), (36140, 46500), (36140, 63915), (94229, 1111733), (1110563, 179180), (22876, 22869), (22876, 22874), (22876, 22875), (22876, 22883), (22883, 34961), (22883, 51879), (1107367, 22886), (1107367, 95642), (23070, 23069), (23070, 1116044), (23070, 134307), (23070, 134316), (23070, 74698), (23070, 87915), (23070, 65074), (23070, 137130), (23069, 74700), (23069, 134315), (23069, 134320), (74700, 134307), (1116044, 134314), (134307, 65057), (134307, 65074), (134307, 74698), (134307, 134316), (134316, 65074), (134316, 134314), (134316, 1117920), (134316, 142268), (74698, 65057), (74698, 65074), (87915, 65074), (87915, 1110209), (87915, 1153786), (87915, 142268), (1105433, 23116), (1105433, 24966), (1105433, 65212), (23116, 1111978), (23116, 24966), (23116, 27627), (23116, 65212), (23116, 253762), (152731, 43186), (217852, 37483), (189574, 1123689), (84020, 1106298), (1111265, 24043), (24043, 928873), (928873, 370366), (1103499, 24476), (24476, 1153024), (24966, 1106671), (24966, 1123576), (24966, 1131149), (24966, 1154042), (24966, 124828), (24966, 145134), (24966, 145176), (24966, 197452), (24966, 202639), (24966, 27627), (24966, 63549), (24966, 65212), (24966, 671293), (24966, 95719), (1131149, 74821), (1131149, 641956), (1154042, 65212), (145134, 129287), (145176, 1112723), (197452, 36162), (197452, 1135894), (202639, 144408), (202639, 40131), (202639, 643597), (27627, 116021), (27627, 27632), (27627, 686015), (27627, 686030), (63549, 270456), (671293, 1132443), (1104258, 24974), (1104258, 40125), (24974, 1112723), (24974, 34315), (24974, 40125), (34315, 40125), (40125, 141596), (285675, 285687), (385572, 1120084), (1153897, 94641), (147870, 1109185), (147870, 1132434), (147870, 636500), (1104769, 25772), (25772, 1122580), (25772, 1126503), (25772, 641956), (25772, 116528), (1122580, 27895), (1126503, 50838), (641956, 370366), (641956, 1131150), (25791, 45212), (45212, 46887), (25794, 50838), (1110028, 166989), (1121063, 166989), (248119, 42221), (248119, 93273), (27530, 1128542), (27530, 27531), (27530, 592826), (27531, 27543), (592826, 39127), (592826, 1128935), (27623, 1104182), (27623, 27632), (27623, 686015), (27623, 686030), (308529, 56708), (567005, 1127810), (108047, 28336), (108047, 1128319), (108047, 1153899), (108047, 578645), (108047, 578646), (108047, 578649), (108047, 578898), (28336, 117315), (28385, 118558), (194645, 248823), (1152910, 28491), (1139928, 28504), (28504, 131315), (28504, 365294), (131315, 29708), (131315, 29723), (28649, 155738), (578669, 1128943), (578669, 1128978), (28957, 159897), (159897, 108962), (159897, 108983), (159897, 310653), (159897, 683355), (1112426, 29492), (1112426, 219446), (29492, 1122574), (29492, 131117), (29492, 144408), (29492, 29708), (29492, 400473), (131117, 400473), (144408, 219446), (144408, 231198), (29723, 300806), (155277, 29738), (144679, 1114239), (31083, 48066), (1105672, 31105), (1105672, 46491), (1105672, 70281), (1124844, 31927), (1129608, 573553), (31927, 1129572), (31927, 194609), (31927, 563613), (31479, 39165), (39165, 31483), (39165, 118682), (39165, 92589), (31483, 118682), (31489, 40583), (31489, 40605), (31489, 632796), (31489, 632874), (31489, 632935), (31489, 633721), (31489, 633081), (40583, 40605), (40583, 632874), (40605, 633721), (40605, 884094), (40605, 633081), (632796, 884094), (632796, 633081), (632874, 633081), (67245, 67246), (358894, 31863), (358894, 91581), (358894, 358866), (358894, 358887), (31863, 91581), (91581, 137868), (1129572, 194609), (1129572, 377303), (1129572, 563613), (32083, 1153933), (32083, 200630), (32083, 346292), (32083, 45605), (32083, 688361), (200630, 643734), (346292, 284023), (346292, 1152958), (45605, 1131639), (45605, 144212), (45605, 503871), (45605, 682815), (45605, 975567), (32276, 174418), (32276, 636500), (32276, 84695), (174418, 174425), (33231, 1132887), (1110256, 33325), (1110256, 171954), (124296, 51834), (78549, 33823), (78549, 78557), (78552, 33823), (78552, 78557), (78557, 33823), (78557, 78555), (1119004, 33823), (33895, 58758), (1110546, 178718), (1106771, 34257), (1106771, 45533), (1106771, 74427), (34257, 1111186), (34257, 1114398), (34257, 1115456), (34257, 1116974), (34257, 1122642), (34257, 192870), (34257, 34263), (34257, 34266), (34257, 368605), (34257, 87482), (34257, 90655), (34257, 74427), (1111186, 192870), (1114398, 192870), (1115456, 45533), (1116974, 45533), (1116974, 74427), (1122642, 34263), (1122642, 34266), (1122642, 90655), (1122642, 213246), (34263, 87482), (34263, 90655), (34263, 34266), (34263, 213246), (34266, 90655), (34266, 45533), (34266, 74427), (34266, 87482), (368605, 74427), (87482, 45533), (87482, 74427), (682815, 175256), (682815, 195792), (168958, 35335), (168958, 258259), (35335, 59772), (1116410, 219976), (108962, 35778), (108962, 108963), (108962, 1095507), (108962, 310653), (108962, 108974), (108962, 108983), (35778, 108983), (35778, 519318), (108983, 310653), (108983, 683404), (519318, 1125906), (1128974, 195792), (399370, 60159), (399370, 60169), (60169, 60159), (627024, 278394), (627024, 278403), (35852, 41732), (134060, 481073), (1105116, 37879), (66982, 39210), (36131, 77438), (77438, 37888), (77438, 106590), (77438, 1129994), (77438, 589923), (77438, 590022), (189620, 1129994), (189620, 1133417), (36802, 189856), (36802, 37888), (36802, 589923), (36802, 590022), (36802, 189566), (189856, 189566), (189856, 1129518), (189856, 1129994), (189856, 683355), (189856, 683404), (589923, 590022), (37541, 260979), (37541, 46491), (37541, 137380), (1129610, 61069), (1129610, 210872), (1129610, 606479), (1153942, 57119), (117316, 117315), (592975, 57119), (592975, 592986), (592986, 57119), (593060, 57119), (593060, 1128977), (606647, 57119), (61069, 975567), (1131270, 38537), (38537, 1131277), (38537, 137868), (38537, 153063), (38537, 642847), (1131277, 137868), (1131277, 645084), (1131277, 645088), (137868, 1131300), (137868, 1154068), (153063, 1131223), (153063, 561568), (153063, 561581), (153063, 561593), (153063, 561595), (153063, 561610), (153063, 561613), (153063, 645084), (642847, 642681), (1104191, 38771), (1110579, 95198), (39127, 1128881), (39127, 1128927), (39127, 1128935), (39127, 116081), (39127, 116087), (39127, 195150), (39127, 46476), (39127, 75972), (1128935, 75969), (1128935, 75972), (116081, 116087), (39210, 66986), (66986, 83847), (1123689, 39890), (39890, 1154229), (39890, 1154232), (39890, 1154233), (39890, 242663), (39890, 51045), (39890, 521855), (39890, 559804), (39890, 714256), (39890, 51049), (1154229, 523574), (1154232, 51049), (1154232, 714256), (1154233, 714256), (242663, 51045), (242663, 51049), (242663, 51052), (51045, 51049), (51045, 51052), (521855, 73162), (521855, 519353), (559804, 73162), (559804, 189655), (559804, 714260), (714256, 714260), (714256, 714748), (118079, 40131), (118079, 40135), (128383, 70444), (144212, 1131549), (182094, 1131550), (182094, 650814), (44455, 227178), (42156, 1118120), (42156, 1152179), (42209, 42221), (42848, 1116835), (1131195, 43165), (1135894, 43186), (1135894, 739816), (206524, 48075), (1104435, 44121), (227178, 1128946), (44514, 253971), (44514, 606479), (606479, 210872), (1131266, 45052), (1130929, 45188), (1105450, 46470), (1104495, 45533), (1131639, 390693), (975567, 61073), (46491, 137380), (46491, 46547), (46491, 51834), (137380, 85449), (1153275, 46501), (46887, 1153106), (1125393, 47682), (1125393, 63812), (47682, 47683), (1124837, 47839), (48781, 1134865), (48781, 397488), (48781, 423816), (1134865, 100935), (1134865, 397488), (1134865, 423816), (1112369, 217984), (49753, 49720), (683355, 189623), (683355, 683404), (123556, 50354), (123556, 141160), (50354, 289088), (289088, 689152), (1104749, 50807), (73972, 50980), (1134320, 51049), (1134320, 73162), (1104809, 52000), (1104809, 52003), (1104809, 52007), (52000, 52007), (52000, 52003), (52003, 1112194), (52003, 73712), (1112194, 73712), (300806, 1133010), (446271, 202520), (446271, 202522), (1128291, 116545), (1128291, 578646), (1128291, 578650), (1128319, 116545), (1128319, 578646), (578645, 116545), (578645, 578646), (578645, 578845), (578646, 1153899), (578646, 1153900), (578646, 578649), (578646, 578898), (578649, 116545), (578649, 578650), (593022, 1128946), (1128982, 593544), (141324, 66564), (141324, 94639), (141324, 503877), (459213, 1123530), (459214, 1123530), (593859, 66564), (593859, 94639), (593942, 66564), (593942, 94639), (593942, 593104), (593942, 1129015), (593942, 1153896), (593942, 594011), (59715, 54132), (59715, 96845), (54132, 593921), (54132, 594387), (54132, 62634), (593921, 593104), (594387, 94641), (594387, 96851), (62634, 94639), (62634, 94641), (55801, 67633), (57119, 1132731), (1132731, 646900), (711527, 216878), (1154524, 57773), (1154524, 235679), (1154524, 235683), (57773, 235670), (57773, 235679), (57773, 235683), (235670, 235678), (235670, 235679), (235670, 235683), (1114239, 58436), (58436, 87417), (87417, 58453), (1113828, 248395), (58758, 1128208), (58758, 576973), (1128208, 576973), (1106764, 61417), (1106764, 94416), (61417, 94416), (61417, 562940), (1131565, 62329), (1131565, 650807), (62329, 195792), (62329, 251756), (62329, 593155), (62329, 650834), (195792, 377303), (195792, 251756), (294145, 62607), (62676, 312409), (83461, 954315), (1105360, 63812), (1125909, 65057), (1125909, 519353), (65057, 519353), (65057, 65074), (519353, 73162), (1110209, 65074), (1110209, 142268), (65074, 1117920), (65074, 142268), (65074, 714748), (65074, 137130), (1117920, 142268), (714748, 73162), (714748, 189655), (1123530, 459206), (362926, 66596), (1135750, 66751), (1135750, 171954), (1135750, 573553), (66751, 1138043), (66751, 573535), (66751, 693143), (66751, 695284), (1138043, 77108), (573535, 693143), (693143, 695284), (695284, 132821), (509315, 102061), (82090, 66809), (1117501, 83847), (171954, 1138755), (171954, 820662), (171954, 573553), (1127558, 67584), (1127558, 561809), (67584, 1127566), (67584, 562067), (1127566, 562067), (562067, 561674), (562067, 561789), (562067, 561809), (67633, 379288), (231198, 69198), (231198, 1153195), (231198, 1153922), (69198, 267824), (70970, 593068), (70970, 82920), (70970, 608190), (70970, 608191), (1135122, 733534), (899085, 72805), (73162, 1134348), (73162, 189774), (73162, 714260), (73162, 714879), (189774, 1134346), (189774, 714879), (189774, 714208), (714260, 189655), (714260, 714879), (1105810, 73323), (1120252, 74821), (74821, 1131150), (1105877, 74920), (1105877, 74921), (1105877, 74937), (74920, 74937), (74921, 74937), (1107041, 74975), (1107041, 100701), (103430, 75318), (103430, 1154074), (75318, 1121569), (1121569, 179702), (75969, 1128856), (75969, 160732), (75983, 1115790), (77108, 77112), (106590, 90470), (106590, 1095507), (106590, 1129994), (1129994, 90470), (1129907, 613409), (81714, 82920), (81714, 134219), (82920, 1125492), (82920, 1128198), (82920, 1129367), (82920, 576691), (1128198, 576691), (1129367, 601462), (83847, 1130678), (1130678, 630890), (85324, 628751), (628751, 205196), (628751, 628764), (628751, 950986), (85449, 262178), (89308, 103528), (89308, 111676), (90470, 189566), (1152958, 284023), (143801, 284025), (284023, 1152959), (94641, 116553), (116553, 116545), (116553, 246618), (116553, 467383), (95642, 990075), (99030, 230879), (193931, 193932), (1113742, 246618), (246618, 116545), (103531, 656048), (103531, 656231), (656048, 1131828), (126912, 103543), (103543, 126927), (103543, 126909), (103543, 126920), (103543, 126926), (126927, 126920), (126927, 645897), (126927, 643239), (289085, 264556), (289085, 689152), (289085, 335042), (1095507, 108963), (1153899, 594511), (108963, 108974), (108974, 1133417), (683404, 683360), (1119623, 111770), (1119623, 375825), (1125258, 114966), (1107728, 115188), (1107808, 116512), (1115166, 117328), (1109566, 118873), (1140543, 120817), (1140543, 255628), (1140543, 523010), (1140543, 739816), (1109873, 120817), (1109873, 163235), (1152394, 121792), (141160, 1131345), (141160, 133553), (141160, 917493), (1119742, 124952), (124952, 1126011), (124952, 189721), (189721, 1129518), (1108258, 126867), (1108258, 126868), (126867, 126868), (126909, 126926), (126920, 645897), (645897, 644577), (645897, 645571), (1114364, 127940), (127940, 243274), (127940, 416964), (128202, 128203), (128203, 137790), (907845, 129287), (1108570, 133628), (134199, 164885), (134199, 447224), (164885, 447224), (447224, 134219), (135464, 1135589), (1135589, 255628), (137359, 1118286), (1131300, 561809), (1154068, 643695), (503877, 1131374), (503877, 1154076), (608191, 608190), (1131549, 650807), (219446, 1127812), (219446, 567018), (294126, 145315), (294126, 649944), (145315, 649944), (1132434, 240321), (1109208, 148341), (148341, 263069), (1123215, 149139), (1123215, 288107), (583318, 177998), (1131223, 561593), (561568, 561613), (561581, 561582), (561581, 646440), (561581, 561595), (561581, 561674), (561595, 561582), (561595, 561610), (561595, 561611), (561610, 561611), (645084, 642641), (645084, 645088), (1112106, 154023), (1112106, 154047), (154023, 1133846), (154023, 154047), (1133846, 154047), (397590, 155158), (1127812, 158812), (1127812, 567018), (1152711, 159084), (1152711, 159085), (1152711, 241821), (159084, 159085), (159084, 241821), (159085, 241821), (1128853, 160732), (1109830, 162075), (1109830, 162080), (162075, 162080), (162075, 737204), (162080, 1135345), (162080, 739707), (162080, 738941), (820662, 573553), (175548, 689152), (175548, 753070), (753070, 753047), (753070, 753264), (753070, 767763), (177993, 286513), (179702, 1152859), (1110628, 180301), (1131550, 650814), (1110950, 187260), (1153014, 189566), (1153014, 318071), (191216, 191222), (193347, 612306), (193347, 193352), (612306, 193352), (193352, 348305), (194609, 1154520), (194609, 126128), (194609, 215912), (194609, 563613), (643734, 643777), (643734, 643735), (643597, 643695), (203646, 270456), (205196, 1130568), (205196, 1130586), (205196, 628764), (205196, 628766), (205196, 815096), (205196, 950986), (205196, 815073), (1129629, 576362), (1112071, 212097), (1112071, 212107), (1117618, 216877), (1117618, 216878), (1112417, 219218), (226698, 1122304), (228992, 228990), (230879, 1133428), (230879, 696343), (230879, 851968), (1133428, 696343), (851968, 278394), (851968, 1140231), (1153195, 267824), (1113084, 232860), (12275, 233106), (233106, 630890), (235678, 235679), (235678, 689439), (235678, 235683), (235679, 689439), (235679, 235683), (689439, 616336), (262178, 1138968), (264556, 335042), (1114838, 270600), (578845, 292277), (578845, 593559), (578845, 593560), (1133010, 688849), (1152858, 302545), (1131198, 643199), (307656, 270085), (1117049, 321004), (1119211, 367312), (367312, 746058), (367312, 739280), (746058, 739280), (400455, 368657), (375825, 421481), (1119654, 376704), (60560, 380341), (1120019, 384428), (1135115, 734406), (1154173, 408885), (1105622, 430574), (1132416, 430711), (430711, 671052), (671052, 1132406), (1123493, 458439), (1128977, 467383), (1154076, 647315), (646913, 646900), (646913, 1131359), (1132864, 522338), (522338, 683360), (1126315, 529165), (1127541, 561674), (561674, 561789), (1127551, 561789), (573553, 1138970), (1153900, 594511), (1128943, 592993), (1128943, 592996), (1128978, 592993), (1128978, 592996), (593559, 593560), (1128437, 582349), (1129015, 593104), (1129015, 594039), (1153896, 594011), (1129021, 594119), (1129040, 594483), (601462, 1129368), (601462, 1129369), (1129494, 604073), (1153946, 610529), (1130069, 617378), (1130080, 617575), (1130243, 621555), (1130454, 626530), (1130454, 626531), (626530, 1154012), (626530, 626531), (626530, 626574), (1154012, 626574), (626531, 626574), (628459, 628458), (633031, 633030), (672070, 1132443), (672070, 672071), (672071, 1132443), (1131163, 642593), (1131164, 642621), (642621, 1131258), (1131258, 644441), (1131258, 644448), (642681, 644441), (1131172, 642798), (642798, 644470), (642798, 642894), (644470, 644448), (644470, 644494), (1131180, 642894), (642894, 1131301), (642894, 1131335), (642894, 643239), (642894, 643485), (642894, 645046), (642894, 645870), (642894, 646334), (642894, 646357), (1131301, 644577), (1131301, 645046), (1131301, 645870), (643239, 1131334), (643485, 644577), (645046, 646334), (645046, 646357), (645870, 644494), (646334, 646357), (1131184, 642920), (1131184, 642930), (642920, 642930), (1131257, 644427), (1131305, 644577), (1131334, 644577), (644448, 1131314), (644448, 644494), (644577, 644427), (645016, 644361), (645016, 644363), (645016, 644843), (645016, 1154071), (645016, 645452), (1131314, 644494), (1131330, 646412), (1131359, 646900), (1131421, 648106), (1131421, 648112), (648106, 648112), (648106, 648121), (648112, 1131420), (648112, 648121), (1131420, 648121), (1131414, 648369), (1133930, 653628), (1131741, 654339), (1131754, 654519), (1132073, 662250), (1132505, 675756), (1132857, 682508), (1132857, 683294), (682508, 683294), (1133008, 688824), (1134056, 709518), (1134197, 711994), (1135455, 738941), (739816, 1140548), (1135955, 752684), (1136631, 753047), (1136631, 767763), (753047, 1136634), (753047, 753264), (753047, 767763), (753264, 767763), (1136040, 754594), (1136110, 756061), (756061, 1136447), (1136447, 762980), (1137140, 779960), (1138619, 814836), (820661, 817774), (1139009, 824245), (853114, 853155), (853114, 853115), (853155, 853115), (853155, 853118)]\n",
      "[1033, 35, 103482, 103515, 1050679, 1103960, 1103985, 1109199, 1112911, 1113438, 1113831, 1114331, 1117476, 1119505, 1119708, 1120431, 1123756, 1125386, 1127430, 1127913, 1128204, 1128227, 1128314, 1128453, 1128945, 1128959, 1128985, 1129018, 1129027, 1129573, 1129683, 1129778, 1130847, 1130856, 1131116, 1131360, 1131557, 1131752, 1133196, 1133338, 1136814, 1137466, 1152421, 1152508, 1153065, 1153280, 1153577, 1153853, 1153943, 1154176, 1154459, 116552, 12576, 128540, 132806, 135130, 141342, 141347, 148170, 15670, 1688, 175291, 178727, 18582, 190697, 190706, 1956, 197054, 198443, 198653, 206371, 210871, 229635, 231249, 248425, 249421, 254923, 259701, 259702, 263279, 263498, 265203, 273152, 27510, 28290, 286500, 287787, 28851, 289779, 289780, 289781, 307015, 335733, 33904, 33907, 35061, 38205, 387795, 415693, 41714, 427606, 44368, 45599, 46079, 46431, 486840, 48766, 503883, 503893, 513189, 54129, 54131, 56119, 561238, 568857, 573964, 573978, 574009, 574264, 574462, 575077, 575292, 575331, 576725, 576795, 577227, 578780, 579008, 592973, 593091, 593105, 593240, 593260, 593813, 594047, 594543, 594649, 594900, 608326, 634902, 634904, 634938, 634975, 640617, 646809, 646837, 647408, 647447, 66556, 66563, 66805, 69284, 69296, 694759, 735303, 78511, 787016, 801170, 81722, 82098, 84021, 85352, 86359, 8865, 887, 97645, 98698, 1109017, 40, 1114442, 1103315, 114, 1105394, 1106112, 1106172, 1106406, 1107455, 1111052, 1114125, 1117942, 1118245, 1118332, 1120170, 1126029, 124064, 128, 130, 136665, 191404, 193742, 23258, 28227, 28287, 28350, 28387, 28471, 28485, 341188, 38480, 39403, 434, 55968, 58540, 6155, 6170, 6196, 6220, 64484, 7432, 755217, 8213, 91975, 976334, 1109581, 117, 149669, 17476, 189708, 206259, 28202, 28278, 32872, 33013, 6214, 75674, 20526, 13960, 345340, 1118092, 288, 36167, 1135125, 424, 218666, 47684, 267003, 58454, 463, 1102364, 504, 1112650, 506, 89416, 1106546, 10796, 1105033, 1111304, 1113614, 114308, 134128, 161221, 170798, 19045, 20972, 28456, 299195, 299197, 334153, 35490, 595056, 6151, 6213, 6215, 64519, 87363, 1103979, 906, 1105344, 1114352, 1136397, 1140040, 34355, 910, 1104379, 1105530, 1108834, 1110520, 1114118, 1116569, 1118848, 1120858, 1122460, 1126044, 1129111, 1135137, 1152194, 12439, 12946, 131042, 13136, 160705, 227286, 242637, 31043, 340075, 340078, 35905, 42847, 436796, 48550, 5462, 576257, 58552, 5869, 636511, 67292, 675649, 684372, 94953, 1107010, 936, 1111899, 129558, 207395, 3084, 3828, 38845, 20180, 940, 28265, 941, 1152896, 943, 91852, 1034, 1026, 1102550, 1105231, 1129798, 1153945, 1107062, 1035, 1110515, 1154525, 1213, 409725, 8766, 102938, 1237, 1102400, 143676, 1246, 1104007, 42207, 57764, 6125, 1102625, 1272, 1108167, 1120962, 112378, 1123867, 1128256, 1129208, 1135358, 157805, 18615, 192734, 20593, 27230, 284414, 30895, 30901, 444240, 520471, 52835, 552469, 560936, 591016, 636098, 65653, 6917, 6923, 85452, 85688, 93923, 97892, 1031453, 1365, 1102407, 1105062, 1106287, 1108050, 1110494, 1110998, 1113995, 1114153, 1114388, 1114605, 1116347, 1116594, 1117653, 1119140, 1120211, 1120866, 1128839, 1129443, 1130600, 1131647, 1131745, 1131748, 1132922, 1132968, 1135368, 1136422, 1136442, 1152143, 1152821, 1154169, 120084, 139865, 157401, 171225, 184918, 188318, 188471, 22835, 23448, 23502, 23507, 237521, 26850, 330148, 340299, 39904, 49482, 562123, 628500, 648232, 649731, 69392, 7276, 7297, 77758, 782486, 83826, 85299, 853150, 90888, 93555, 948299, 948846, 949318, 949511, 950052, 950305, 1102567, 1481, 1106052, 1108267, 1111614, 1113934, 1114864, 1117184, 1119295, 1120563, 1153891, 200480, 399173, 4878, 521207, 521269, 1134022, 152483, 1694, 39474, 647413, 1115291, 1717, 1116336, 1135108, 50381, 733167, 35797, 1786, 1114502, 1817, 1108389, 1919, 129042, 1949, 3101, 3095, 1951, 1107215, 1952, 1153166, 1953, 1153724, 1153728, 110163, 1955, 1110390, 101143, 1118302, 1153101, 1153150, 263486, 83449, 1959, 3097, 310530, 38839, 73327, 82664, 1102442, 1997, 1108551, 1109439, 1109542, 129897, 154982, 3233, 49811, 7032, 1999, 1123068, 1131471, 39126, 6771, 10186, 2354, 1107140, 1113852, 1130539, 154134, 40151, 74749, 1000012, 2440, 1061127, 1106388, 1107095, 1110426, 1114512, 1117786, 1120650, 1127619, 1153254, 136766, 136768, 151430, 212777, 23546, 49843, 49844, 49847, 582343, 591017, 63931, 72908, 102406, 2653, 107177, 1104055, 1116268, 1116842, 1118764, 1119751, 1152075, 167656, 197783, 28641, 321861, 350362, 4660, 59045, 65650, 1104851, 2654, 1106630, 1107861, 1110438, 1121867, 1123926, 211906, 27250, 463825, 52784, 1115375, 2658, 1130676, 1130808, 1131607, 1132948, 1135899, 1140230, 230884, 236759, 282700, 395540, 578347, 696342, 696345, 696346, 751408, 99023, 1119671, 2663, 1105574, 2665, 1113035, 1122704, 1132486, 205192, 237489, 43639, 578306, 578309, 578337, 582139, 630817, 631052, 763009, 1108169, 2695, 1120197, 2698, 342802, 2696, 1114192, 1118083, 1123239, 1133004, 256106, 469504, 5348, 99025, 1120777, 2702, 12330, 395553, 72056, 1107171, 255233, 33303, 15889, 3085, 221302, 30973, 395725, 5062, 110162, 218682, 1106236, 129045, 110164, 70441, 103529, 3112, 1152564, 470511, 77826, 77829, 1110000, 3187, 129896, 280876, 5086, 105865, 3191, 1106789, 1127530, 1131267, 137873, 162664, 308920, 310742, 3192, 423463, 561364, 642827, 3217, 167670, 238099, 86840, 1106492, 3218, 1119987, 1120169, 1152290, 1153264, 187354, 277263, 35070, 417017, 6639, 66782, 6767, 6941, 1115677, 3220, 1125992, 1128430, 1130634, 1131728, 1132706, 120039, 145215, 346243, 36620, 39124, 40922, 429805, 654177, 69397, 8832, 1103737, 3222, 1114222, 1131137, 1132157, 964248, 3223, 100197, 3229, 1105718, 1106568, 1108209, 1109392, 1112767, 1125082, 1125895, 1126037, 1128868, 1130915, 1130927, 1130931, 1132418, 1140289, 1152277, 1152673, 1154251, 118559, 133550, 16461, 189577, 25181, 25184, 27174, 27631, 31769, 33412, 35343, 35863, 35922, 390922, 396412, 444191, 447250, 52515, 62347, 641976, 654326, 7022, 72101, 82087, 919885, 92065, 96335, 104840, 3231, 1102761, 1106330, 1106370, 1107067, 1113926, 1115471, 1128536, 1153169, 180399, 20850, 259126, 3237, 328370, 49660, 6334, 63477, 63486, 66594, 68463, 8699, 8821, 3232, 20942, 521251, 1125467, 192850, 272720, 509379, 976284, 3235, 3236, 601561, 1110531, 3240, 39130, 1103610, 3243, 1110947, 1113739, 307336, 31932, 368431, 854434, 5075, 3932, 1105428, 4274, 1114664, 1119078, 105899, 4329, 1110768, 28254, 395547, 46468, 510718, 1103676, 4330, 1104449, 11093, 1112929, 1132459, 1132461, 1136393, 1152917, 118436, 119956, 120013, 151708, 168410, 32688, 37884, 390889, 428610, 684986, 69418, 753265, 949217, 1104300, 4335, 1121254, 1136310, 1140547, 116790, 239800, 32698, 62274, 62417, 755082, 95718, 1102548, 4553, 4584, 1120020, 1130567, 13885, 13917, 293285, 6184, 6210, 628815, 164, 4637, 1105887, 4649, 1127851, 135765, 135766, 411092, 449841, 8703, 429781, 5038, 102884, 4804, 1108175, 1112574, 1153262, 12182, 12210, 157761, 25805, 45189, 68505, 77515, 989397, 7867, 4983, 5055, 28026, 5064, 5069, 1121176, 1129106, 272345, 385067, 109323, 1105698, 137849, 354004, 440815, 79809, 1152714, 5194, 133563, 133566, 140569, 139547, 75695, 911198, 5454, 1128425, 1130680, 1022969, 5600, 1117833, 5959, 152226, 545647, 582511, 5966, 1107572, 12211, 27612, 385251, 6130, 1154123, 1154124, 671269, 675847, 1106547, 1107355, 1385, 6152, 1106966, 6163, 20534, 96847, 6169, 1114629, 170338, 7419, 10981, 1120731, 13686, 399339, 1153056, 81350, 1108329, 6209, 118259, 118260, 181782, 212930, 8875, 95579, 1105764, 1109957, 1111230, 1113182, 1113459, 1117760, 1122425, 1123553, 1128267, 1129096, 1129243, 13193, 153598, 17208, 195361, 218410, 23774, 241133, 293271, 353541, 6224, 628667, 628668, 672064, 1115886, 1152740, 28447, 6378, 93320, 95589, 6216, 230300, 10793, 6238, 1123991, 1130356, 84459, 6311, 235776, 1108656, 6318, 1121057, 20833, 1152307, 1152448, 1152975, 1153703, 6343, 141868, 359067, 521252, 1112665, 6344, 1106103, 6346, 1112075, 28473, 1103162, 6385, 682666, 892139, 1102646, 6539, 116084, 178209, 568045, 1130637, 6741, 1153160, 348437, 49895, 51909, 83725, 9708, 1120444, 6925, 1111240, 6775, 350319, 6782, 100961, 6784, 1116629, 60170, 6786, 714975, 1117348, 6814, 1125469, 158172, 293974, 300071, 315266, 390896, 445938, 1105531, 6818, 50336, 50337, 1123188, 6898, 124224, 12631, 431206, 6910, 78994, 1117219, 1132083, 1152150, 1154103, 169279, 263553, 662416, 1105011, 6913, 1131230, 703953, 1153811, 1155073, 20857, 308003, 1114526, 1118658, 372862, 57922, 57948, 6935, 101660, 1115670, 1116922, 6939, 323128, 52847, 1120880, 7041, 1135082, 7047, 14549, 54844, 1136446, 7272, 763181, 7296, 763010, 1107312, 1153287, 7430, 95586, 1121603, 7532, 1153097, 141171, 314459, 7537, 80515, 1113534, 1131348, 409255, 1138027, 315789, 105057, 8079, 1108728, 8224, 1111788, 1128531, 1132815, 11342, 1153148, 1153866, 133615, 22431, 22563, 23738, 55403, 601567, 62389, 97377, 1120059, 8581, 75691, 8591, 137956, 167205, 709113, 1132809, 8594, 180187, 232605, 58268, 8617, 12359, 36145, 8619, 1102751, 8687, 38000, 8696, 101145, 173884, 27535, 308232, 502574, 51866, 59244, 89335, 1129570, 395075, 608292, 785678, 1104647, 8872, 1125092, 1152761, 1153860, 1120643, 8874, 1153816, 1152676, 8961, 1133390, 102879, 9513, 9515, 1102794, 9559, 252725, 1130780, 9581, 633585, 1120138, 9586, 33818, 1153003, 9716, 28674, 10169, 114189, 158614, 17798, 211875, 39131, 711598, 10174, 10177, 12197, 12198, 124734, 15429, 249858, 27606, 67415, 68495, 10183, 10430, 1114336, 1120713, 259772, 47570, 54550, 1103394, 10435, 208345, 22566, 41417, 1102850, 10531, 1107567, 1129442, 194617, 31336, 31349, 31353, 43698, 686532, 180373, 31097, 46536, 6217, 10798, 1154500, 18619, 20193, 252715, 1102873, 39199, 1129835, 11148, 1131719, 193354, 25413, 11339, 11326, 1127657, 11335, 11325, 217139, 11337, 211432, 44017, 45061, 1126350, 12155, 12199, 12158, 148399, 12165, 1112099, 1119471, 12169, 1059953, 1106418, 1117249, 1153183, 155736, 219239, 28632, 28640, 309476, 94713, 27199, 12194, 1107319, 12195, 1131611, 1132285, 38722, 51180, 111866, 95225, 12247, 101263, 12238, 107569, 1152490, 1153861, 156977, 213279, 400356, 12337, 16451, 16470, 16474, 12347, 101811, 12350, 152227, 20601, 20602, 1131634, 1071981, 1104999, 1105221, 1107674, 127033, 416455, 56112, 56709, 574710, 575795, 62718, 63832, 12638, 119761, 899119, 13024, 13195, 1105148, 13205, 13208, 131318, 13212, 214472, 358884, 411005, 13213, 13269, 13654, 13652, 13656, 83746, 1115959, 119686, 987188, 13658, 294239, 13717, 37998, 13966, 1126050, 13972, 34979, 13982, 14062, 1152358, 646836, 97390, 98693, 1103016, 14083, 14090, 643069, 1103031, 14428, 1103969, 14429, 14431, 34082, 73119, 1119216, 14430, 1103038, 14529, 239829, 14531, 1105932, 1152308, 56167, 592830, 60682, 14545, 14807, 264347, 25702, 15076, 708945, 175576, 210309, 217115, 35854, 41666, 89547, 15431, 12558, 1110024, 1118388, 15892, 175909, 1116146, 158098, 15984, 15987, 523394, 653441, 714289, 16008, 1131165, 189571, 189572, 152219, 16437, 430329, 51831, 1105603, 1129621, 1104787, 16471, 1114992, 273949, 1123087, 16476, 105856, 16485, 1109891, 1120049, 1131167, 16819, 1131236, 1131274, 1131312, 126793, 643003, 643221, 644093, 644334, 646195, 646286, 1152259, 16843, 1152991, 17201, 1126012, 184157, 95435, 1152633, 17242, 17363, 17477, 17488, 1107136, 17811, 245955, 17821, 18251, 18313, 86923, 18532, 1106854, 18536, 424540, 1153091, 28964, 18770, 531348, 531351, 18773, 88356, 73146, 18774, 103537, 18777, 1112686, 173863, 66794, 79817, 18781, 18785, 1106401, 18811, 20920, 18812, 510715, 18815, 18832, 18833, 18834, 1152944, 593210, 593328, 593329, 19231, 1153736, 12960, 30934, 686061, 19621, 1128846, 1131464, 123825, 240791, 628888, 649730, 649739, 66990, 853116, 948147, 19697, 40124, 38829, 20178, 64271, 91853, 20179, 95188, 1108597, 1114777, 1116397, 1116839, 1119180, 112813, 1130653, 1130657, 1138091, 1152244, 1153877, 1153879, 1153889, 144330, 566488, 566653, 566664, 20528, 70442, 1106849, 20584, 1118823, 20592, 389715, 1118209, 1121537, 20821, 1127863, 1115701, 20923, 1116530, 20924, 289885, 294030, 1116181, 1103383, 22229, 1107418, 1128369, 144701, 22241, 243483, 459216, 595193, 22386, 1128407, 38846, 107251, 107252, 1121459, 22564, 36140, 63915, 94229, 1110563, 22876, 22869, 22874, 22875, 22883, 1107367, 22886, 23070, 23069, 74700, 1116044, 134307, 134316, 74698, 87915, 1105433, 23116, 1111978, 152731, 217852, 101662, 1153064, 189574, 27249, 84020, 1111265, 24043, 928873, 1103499, 24476, 1153024, 24530, 24966, 1106671, 1123576, 1131149, 1154042, 124828, 145134, 145176, 197452, 202639, 27627, 63549, 65212, 671293, 95719, 1104258, 24974, 1112723, 34315, 40125, 285675, 385572, 1153897, 147870, 1104769, 25772, 1122580, 1126503, 641956, 25791, 45212, 25794, 1110028, 1121063, 248119, 27203, 23545, 27241, 27243, 27246, 1128990, 27514, 27530, 1128542, 27531, 592826, 1112026, 34961, 27543, 27623, 1104182, 27632, 686015, 686030, 116021, 27895, 325497, 28230, 28249, 1152436, 28267, 308529, 567005, 108047, 28336, 28359, 28385, 118558, 28389, 28412, 194645, 28487, 28489, 1152910, 28491, 1139928, 28504, 131315, 365294, 28542, 32260, 28649, 155738, 578669, 595157, 28957, 159897, 1125402, 1125944, 1112426, 29492, 1122574, 131117, 144408, 29708, 400473, 29723, 155277, 29738, 30817, 144679, 31055, 31083, 48066, 1105672, 31105, 1063773, 1124844, 1129608, 1135746, 1152162, 1152272, 1152904, 286562, 31927, 686559, 31479, 39165, 31483, 118682, 31489, 40583, 40605, 632796, 632874, 632935, 633721, 67245, 67246, 358894, 31863, 91581, 1129572, 32083, 1153933, 200630, 346292, 45605, 688361, 32276, 174418, 636500, 84695, 33231, 1132887, 33301, 1110256, 33325, 124296, 34708, 78549, 78552, 78557, 1119004, 33823, 33895, 1110546, 1106771, 34257, 1111186, 1114398, 1115456, 1116974, 1122642, 192870, 34263, 34266, 368605, 87482, 90655, 503871, 682815, 168958, 35335, 59772, 1104031, 1116410, 108962, 35778, 108983, 519318, 1128974, 399370, 60169, 627024, 35852, 41732, 134060, 1105116, 194223, 390894, 66982, 36131, 77438, 350373, 46500, 36162, 189620, 36802, 189856, 37888, 589923, 590022, 37483, 37541, 260979, 37879, 1128997, 1129610, 1153942, 117316, 592975, 592986, 593060, 606647, 61069, 1131270, 38537, 1131277, 137868, 153063, 642847, 1104191, 38771, 1110579, 39127, 1128881, 1128927, 1128935, 116081, 116087, 195150, 46476, 75972, 39210, 66986, 1123689, 39890, 1154229, 1154232, 1154233, 242663, 51045, 521855, 559804, 714256, 118079, 40131, 40135, 1104261, 884094, 40886, 41216, 1113551, 128383, 943087, 144212, 182094, 44455, 42156, 1118120, 1152179, 42209, 42221, 42848, 1116835, 1131195, 43165, 1135894, 43186, 206524, 48075, 1104435, 44121, 227178, 44514, 253971, 606479, 1131266, 45052, 1130929, 45188, 1105450, 1132385, 1104495, 45533, 45603, 1131639, 975567, 1152569, 46452, 46470, 46491, 137380, 46547, 51834, 1153275, 46501, 46887, 1153106, 1125393, 47682, 47683, 1124837, 47839, 48555, 48764, 48768, 48781, 1134865, 397488, 423816, 1112369, 217984, 49753, 49720, 683355, 123556, 50354, 289088, 1104749, 50807, 50838, 73972, 50980, 1134320, 51049, 51052, 51879, 51934, 1104809, 52000, 52007, 52003, 1112194, 300806, 446271, 53942, 1128291, 1128319, 1136791, 117315, 578645, 578646, 578649, 593022, 1128982, 141324, 459213, 459214, 593859, 593942, 59715, 54132, 593921, 594387, 62634, 1104946, 55770, 55801, 56115, 1119178, 239810, 56708, 57119, 1132731, 711527, 1154524, 57773, 235670, 57932, 1114239, 58436, 87417, 58453, 1113828, 248395, 58758, 1128208, 576973, 59626, 96845, 59798, 60159, 61073, 61312, 1106764, 61417, 94416, 1131565, 62329, 195792, 251756, 593155, 650834, 62333, 1107325, 1107558, 294145, 62607, 62676, 312409, 83461, 1105360, 63812, 63835, 64319, 1125909, 65057, 519353, 1110209, 65074, 1117920, 142268, 714748, 1112319, 1123530, 66564, 362926, 66596, 1135750, 66751, 1138043, 573535, 693143, 695284, 1105505, 1153031, 509315, 82090, 66809, 1117501, 171954, 1127558, 67584, 1127566, 562067, 67633, 68115, 68224, 231198, 69198, 70281, 70444, 70520, 70970, 593068, 71336, 71736, 71904, 1135122, 1118347, 72406, 899085, 72805, 954315, 73162, 1134348, 189774, 714260, 714879, 1105810, 73323, 73712, 74427, 1120252, 74821, 1131150, 1105877, 74920, 74921, 74937, 1107041, 74975, 75121, 103430, 75318, 1121569, 75693, 75694, 75969, 1128856, 75983, 1115790, 77108, 77112, 106590, 1129994, 1129907, 613409, 78508, 575402, 78555, 662279, 662572, 1121659, 1131466, 358866, 80491, 80656, 81714, 82666, 82920, 1125492, 1128198, 1129367, 576691, 83847, 1130678, 1106298, 1133047, 509233, 85324, 628751, 577086, 85449, 86258, 1133469, 1114184, 1153786, 89308, 103528, 137130, 1116328, 1152379, 237376, 90470, 91038, 92589, 93273, 93318, 1152958, 143801, 284023, 284025, 93755, 1111733, 94639, 94641, 116553, 95198, 95588, 95594, 95597, 95642, 990075, 594025, 96851, 100935, 99030, 193931, 100701, 596075, 101261, 102061, 102939, 1154074, 1113742, 246618, 103531, 656048, 126912, 103543, 126927, 289085, 193932, 1095507, 1107385, 1153899, 578898, 108963, 310653, 108974, 1133417, 683404, 110041, 111676, 1119623, 111770, 112099, 112787, 1125258, 114966, 1107728, 115188, 1107808, 116512, 116528, 116545, 1115166, 117328, 118424, 118435, 1121739, 1109566, 118873, 119712, 1140543, 1109873, 120817, 1152394, 121792, 141160, 1154276, 1119742, 124952, 1126011, 189721, 1108258, 126867, 126868, 126909, 126920, 645897, 126926, 1114364, 127940, 243274, 128202, 128203, 1108363, 1121313, 907845, 129287, 131122, 131317, 132821, 133553, 133567, 1108570, 133628, 481073, 134199, 164885, 447224, 134219, 134314, 134315, 134320, 135464, 1135589, 135798, 136767, 137359, 1118286, 137790, 1131300, 1154068, 139738, 1108841, 140005, 1131345, 917493, 503877, 608191, 141596, 143323, 143476, 1131549, 219446, 1128975, 1136342, 595063, 294126, 145315, 649944, 145384, 1109185, 1132434, 1109208, 148341, 1123215, 149139, 1120786, 987197, 583318, 1131223, 561568, 561581, 561593, 561595, 561610, 561613, 645084, 1112106, 154023, 1133846, 154047, 1130934, 1133028, 397590, 155158, 156794, 1118017, 1127812, 158812, 1152711, 159084, 159085, 241821, 1128853, 160732, 1153922, 1109830, 162075, 162080, 737204, 1135345, 739707, 163235, 166420, 166825, 166989, 168332, 169280, 656231, 1138755, 820662, 174425, 175256, 175548, 689152, 753070, 177115, 177993, 177998, 178718, 179180, 179702, 1152859, 179706, 1110628, 180301, 1120084, 182093, 1131550, 650814, 1110950, 187260, 1153014, 189566, 189623, 189655, 1129518, 1134346, 190698, 191216, 191222, 193347, 612306, 193352, 193918, 194609, 1154520, 126128, 215912, 563613, 248823, 377303, 198866, 199571, 643734, 202520, 202522, 643597, 203646, 205196, 1130568, 1130586, 628764, 628766, 815096, 950986, 1128151, 1129629, 210872, 1112071, 212097, 212107, 213246, 1117618, 216877, 216878, 1152663, 1112417, 219218, 567018, 219976, 220420, 226698, 1122304, 1128946, 228992, 228990, 230879, 1133428, 696343, 851968, 1153195, 232606, 1113084, 232860, 12275, 233106, 630890, 235678, 235679, 689439, 235683, 238401, 240321, 1113541, 245288, 1121398, 248431, 250566, 253762, 255628, 258259, 260121, 261040, 262108, 262121, 262178, 1138968, 263069, 263482, 264556, 335042, 267824, 270456, 1114838, 270600, 278394, 278403, 1152959, 285687, 286513, 288107, 1153784, 289945, 578845, 292277, 1133010, 1152858, 302545, 1131198, 643199, 307656, 270085, 1139195, 318071, 318187, 1117049, 321004, 1117089, 325314, 330208, 337766, 348305, 1118546, 358887, 360028, 1119211, 367312, 746058, 400455, 368657, 370366, 375605, 375825, 1119654, 376704, 379288, 60560, 380341, 1120019, 384428, 390693, 684972, 1135115, 1154173, 408885, 416867, 416964, 421481, 1105622, 430574, 1132416, 430711, 671052, 645571, 446610, 1123093, 1123493, 458439, 459206, 466170, 1128977, 467383, 1131374, 1154076, 577331, 646913, 1125597, 1125906, 1125953, 521183, 1125993, 1132864, 522338, 683360, 523010, 523574, 1126315, 529165, 561582, 646440, 561611, 1127541, 561674, 1127551, 561789, 561809, 562940, 1127810, 573553, 1138970, 593544, 608190, 1131734, 576362, 1128201, 578365, 1153900, 578650, 1128943, 1128978, 593559, 593560, 579108, 1128437, 582349, 592993, 592996, 593248, 1129015, 593104, 593201, 593209, 1153896, 594011, 594039, 1129021, 594119, 1129040, 594483, 594511, 601462, 1129368, 1129369, 1129494, 604073, 1153946, 610529, 616336, 1130069, 617378, 1130080, 617575, 1130243, 621555, 1130454, 626530, 1154012, 626531, 626574, 626999, 628459, 628458, 631015, 633031, 633030, 633081, 672070, 672071, 1131163, 642593, 1131164, 642621, 1131258, 642641, 642681, 644441, 1131172, 642798, 644470, 1131180, 642894, 1131301, 1131335, 643239, 643485, 645046, 645870, 646334, 646357, 1131184, 642920, 642930, 1131189, 1131192, 1131257, 1131305, 1131334, 644448, 644577, 643695, 643777, 643735, 645016, 644361, 644363, 644427, 1131314, 644494, 644843, 1154071, 645088, 645452, 646289, 1131330, 646412, 1131359, 646900, 647315, 1131421, 648106, 648112, 1131420, 648121, 1131414, 648369, 650807, 1133930, 653628, 1131741, 654339, 1131754, 654519, 1131828, 1132073, 662250, 1132406, 1132443, 1132505, 675756, 1132857, 682508, 683294, 684531, 687401, 1133008, 688824, 688849, 1134031, 1134056, 709518, 1134197, 711994, 714208, 1154230, 733534, 733576, 734406, 735311, 1135455, 738941, 739280, 739816, 1140548, 1135955, 752684, 1136631, 753047, 1136634, 753264, 767763, 1136040, 754594, 1136110, 756061, 1136447, 762980, 1136449, 1137140, 779960, 1138619, 814836, 815073, 820661, 817774, 1139009, 824245, 1140231, 853114, 853155, 853115, 853118]\n"
     ]
    }
   ],
   "source": [
    "print(nx.is_weighted(Gnx))\n",
    "print(nx.is_directed(Gnx))\n",
    "print(Gnx.order())\n",
    "print(Gnx.number_of_edges())\n",
    "print(Gnx.number_of_nodes())\n",
    "print(Gnx.edges)\n",
    "print(Gnx.nodes)"
   ]
  },
  {
   "cell_type": "code",
   "execution_count": 55,
   "metadata": {
    "colab": {
     "base_uri": "https://localhost:8080/"
    },
    "executionInfo": {
     "elapsed": 177,
     "status": "ok",
     "timestamp": 1650339066365,
     "user": {
      "displayName": "Avkash Chauhan",
      "userId": "01093683102216020094"
     },
     "user_tz": 420
    },
    "id": "bJoLQbI5RGMr",
    "outputId": "ff542a84-5624-4260-dcc7-1877c3c14653"
   },
   "outputs": [
    {
     "data": {
      "text/plain": [
       "<networkx.classes.graph.Graph at 0x1ccae7c3fd0>"
      ]
     },
     "execution_count": 55,
     "metadata": {},
     "output_type": "execute_result"
    }
   ],
   "source": [
    "Gnx"
   ]
  },
  {
   "cell_type": "code",
   "execution_count": 56,
   "metadata": {
    "colab": {
     "base_uri": "https://localhost:8080/",
     "height": 319
    },
    "executionInfo": {
     "elapsed": 34397,
     "status": "ok",
     "timestamp": 1650339103543,
     "user": {
      "displayName": "Avkash Chauhan",
      "userId": "01093683102216020094"
     },
     "user_tz": 420
    },
    "id": "Xmsjy9vARGPH",
    "outputId": "e3a84f90-52c9-493d-91a8-de07841d8892"
   },
   "outputs": [
    {
     "data": {
      "image/png": "[encoded data removed]",
      "text/plain": [
       "<Figure size 640x480 with 1 Axes>"
      ]
     },
     "metadata": {},
     "output_type": "display_data"
    }
   ],
   "source": [
    "nx.draw(Gnx)"
   ]
  },
  {
   "cell_type": "code",
   "execution_count": 56,
   "metadata": {
    "colab": {
     "base_uri": "https://localhost:8080/"
    },
    "executionInfo": {
     "elapsed": 167,
     "status": "ok",
     "timestamp": 1650339124494,
     "user": {
      "displayName": "Avkash Chauhan",
      "userId": "01093683102216020094"
     },
     "user_tz": 420
    },
    "id": "Z0cyac8LRdbH",
    "outputId": "fbe6d2b1-bbca-424d-c532-d3b861aa9e59"
   },
   "outputs": [
    {
     "data": {
      "text/plain": [
       "2708"
      ]
     },
     "execution_count": 56,
     "metadata": {},
     "output_type": "execute_result"
    }
   ],
   "source": [
    "Gnx.number_of_nodes()"
   ]
  },
  {
   "cell_type": "code",
   "execution_count": 57,
   "metadata": {
    "colab": {
     "base_uri": "https://localhost:8080/"
    },
    "executionInfo": {
     "elapsed": 274,
     "status": "ok",
     "timestamp": 1650339126427,
     "user": {
      "displayName": "Avkash Chauhan",
      "userId": "01093683102216020094"
     },
     "user_tz": 420
    },
    "id": "dE8wvCguRdRx",
    "outputId": "5d5b2d21-9f59-4a93-cca8-22869328e4d3"
   },
   "outputs": [
    {
     "data": {
      "text/plain": [
       "NodeView((1033, 35, 103482, 103515, 1050679, 1103960, 1103985, 1109199, 1112911, 1113438, 1113831, 1114331, 1117476, 1119505, 1119708, 1120431, 1123756, 1125386, 1127430, 1127913, 1128204, 1128227, 1128314, 1128453, 1128945, 1128959, 1128985, 1129018, 1129027, 1129573, 1129683, 1129778, 1130847, 1130856, 1131116, 1131360, 1131557, 1131752, 1133196, 1133338, 1136814, 1137466, 1152421, 1152508, 1153065, 1153280, 1153577, 1153853, 1153943, 1154176, 1154459, 116552, 12576, 128540, 132806, 135130, 141342, 141347, 148170, 15670, 1688, 175291, 178727, 18582, 190697, 190706, 1956, 197054, 198443, 198653, 206371, 210871, 229635, 231249, 248425, 249421, 254923, 259701, 259702, 263279, 263498, 265203, 273152, 27510, 28290, 286500, 287787, 28851, 289779, 289780, 289781, 307015, 335733, 33904, 33907, 35061, 38205, 387795, 415693, 41714, 427606, 44368, 45599, 46079, 46431, 486840, 48766, 503883, 503893, 513189, 54129, 54131, 56119, 561238, 568857, 573964, 573978, 574009, 574264, 574462, 575077, 575292, 575331, 576725, 576795, 577227, 578780, 579008, 592973, 593091, 593105, 593240, 593260, 593813, 594047, 594543, 594649, 594900, 608326, 634902, 634904, 634938, 634975, 640617, 646809, 646837, 647408, 647447, 66556, 66563, 66805, 69284, 69296, 694759, 735303, 78511, 787016, 801170, 81722, 82098, 84021, 85352, 86359, 8865, 887, 97645, 98698, 1109017, 40, 1114442, 1103315, 114, 1105394, 1106112, 1106172, 1106406, 1107455, 1111052, 1114125, 1117942, 1118245, 1118332, 1120170, 1126029, 124064, 128, 130, 136665, 191404, 193742, 23258, 28227, 28287, 28350, 28387, 28471, 28485, 341188, 38480, 39403, 434, 55968, 58540, 6155, 6170, 6196, 6220, 64484, 7432, 755217, 8213, 91975, 976334, 1109581, 117, 149669, 17476, 189708, 206259, 28202, 28278, 32872, 33013, 6214, 75674, 20526, 13960, 345340, 1118092, 288, 36167, 1135125, 424, 218666, 47684, 267003, 58454, 463, 1102364, 504, 1112650, 506, 89416, 1106546, 10796, 1105033, 1111304, 1113614, 114308, 134128, 161221, 170798, 19045, 20972, 28456, 299195, 299197, 334153, 35490, 595056, 6151, 6213, 6215, 64519, 87363, 1103979, 906, 1105344, 1114352, 1136397, 1140040, 34355, 910, 1104379, 1105530, 1108834, 1110520, 1114118, 1116569, 1118848, 1120858, 1122460, 1126044, 1129111, 1135137, 1152194, 12439, 12946, 131042, 13136, 160705, 227286, 242637, 31043, 340075, 340078, 35905, 42847, 436796, 48550, 5462, 576257, 58552, 5869, 636511, 67292, 675649, 684372, 94953, 1107010, 936, 1111899, 129558, 207395, 3084, 3828, 38845, 20180, 940, 28265, 941, 1152896, 943, 91852, 1034, 1026, 1102550, 1105231, 1129798, 1153945, 1107062, 1035, 1110515, 1154525, 1213, 409725, 8766, 102938, 1237, 1102400, 143676, 1246, 1104007, 42207, 57764, 6125, 1102625, 1272, 1108167, 1120962, 112378, 1123867, 1128256, 1129208, 1135358, 157805, 18615, 192734, 20593, 27230, 284414, 30895, 30901, 444240, 520471, 52835, 552469, 560936, 591016, 636098, 65653, 6917, 6923, 85452, 85688, 93923, 97892, 1031453, 1365, 1102407, 1105062, 1106287, 1108050, 1110494, 1110998, 1113995, 1114153, 1114388, 1114605, 1116347, 1116594, 1117653, 1119140, 1120211, 1120866, 1128839, 1129443, 1130600, 1131647, 1131745, 1131748, 1132922, 1132968, 1135368, 1136422, 1136442, 1152143, 1152821, 1154169, 120084, 139865, 157401, 171225, 184918, 188318, 188471, 22835, 23448, 23502, 23507, 237521, 26850, 330148, 340299, 39904, 49482, 562123, 628500, 648232, 649731, 69392, 7276, 7297, 77758, 782486, 83826, 85299, 853150, 90888, 93555, 948299, 948846, 949318, 949511, 950052, 950305, 1102567, 1481, 1106052, 1108267, 1111614, 1113934, 1114864, 1117184, 1119295, 1120563, 1153891, 200480, 399173, 4878, 521207, 521269, 1134022, 152483, 1694, 39474, 647413, 1115291, 1717, 1116336, 1135108, 50381, 733167, 35797, 1786, 1114502, 1817, 1108389, 1919, 129042, 1949, 3101, 3095, 1951, 1107215, 1952, 1153166, 1953, 1153724, 1153728, 110163, 1955, 1110390, 101143, 1118302, 1153101, 1153150, 263486, 83449, 1959, 3097, 310530, 38839, 73327, 82664, 1102442, 1997, 1108551, 1109439, 1109542, 129897, 154982, 3233, 49811, 7032, 1999, 1123068, 1131471, 39126, 6771, 10186, 2354, 1107140, 1113852, 1130539, 154134, 40151, 74749, 1000012, 2440, 1061127, 1106388, 1107095, 1110426, 1114512, 1117786, 1120650, 1127619, 1153254, 136766, 136768, 151430, 212777, 23546, 49843, 49844, 49847, 582343, 591017, 63931, 72908, 102406, 2653, 107177, 1104055, 1116268, 1116842, 1118764, 1119751, 1152075, 167656, 197783, 28641, 321861, 350362, 4660, 59045, 65650, 1104851, 2654, 1106630, 1107861, 1110438, 1121867, 1123926, 211906, 27250, 463825, 52784, 1115375, 2658, 1130676, 1130808, 1131607, 1132948, 1135899, 1140230, 230884, 236759, 282700, 395540, 578347, 696342, 696345, 696346, 751408, 99023, 1119671, 2663, 1105574, 2665, 1113035, 1122704, 1132486, 205192, 237489, 43639, 578306, 578309, 578337, 582139, 630817, 631052, 763009, 1108169, 2695, 1120197, 2698, 342802, 2696, 1114192, 1118083, 1123239, 1133004, 256106, 469504, 5348, 99025, 1120777, 2702, 12330, 395553, 72056, 1107171, 255233, 33303, 15889, 3085, 221302, 30973, 395725, 5062, 110162, 218682, 1106236, 129045, 110164, 70441, 103529, 3112, 1152564, 470511, 77826, 77829, 1110000, 3187, 129896, 280876, 5086, 105865, 3191, 1106789, 1127530, 1131267, 137873, 162664, 308920, 310742, 3192, 423463, 561364, 642827, 3217, 167670, 238099, 86840, 1106492, 3218, 1119987, 1120169, 1152290, 1153264, 187354, 277263, 35070, 417017, 6639, 66782, 6767, 6941, 1115677, 3220, 1125992, 1128430, 1130634, 1131728, 1132706, 120039, 145215, 346243, 36620, 39124, 40922, 429805, 654177, 69397, 8832, 1103737, 3222, 1114222, 1131137, 1132157, 964248, 3223, 100197, 3229, 1105718, 1106568, 1108209, 1109392, 1112767, 1125082, 1125895, 1126037, 1128868, 1130915, 1130927, 1130931, 1132418, 1140289, 1152277, 1152673, 1154251, 118559, 133550, 16461, 189577, 25181, 25184, 27174, 27631, 31769, 33412, 35343, 35863, 35922, 390922, 396412, 444191, 447250, 52515, 62347, 641976, 654326, 7022, 72101, 82087, 919885, 92065, 96335, 104840, 3231, 1102761, 1106330, 1106370, 1107067, 1113926, 1115471, 1128536, 1153169, 180399, 20850, 259126, 3237, 328370, 49660, 6334, 63477, 63486, 66594, 68463, 8699, 8821, 3232, 20942, 521251, 1125467, 192850, 272720, 509379, 976284, 3235, 3236, 601561, 1110531, 3240, 39130, 1103610, 3243, 1110947, 1113739, 307336, 31932, 368431, 854434, 5075, 3932, 1105428, 4274, 1114664, 1119078, 105899, 4329, 1110768, 28254, 395547, 46468, 510718, 1103676, 4330, 1104449, 11093, 1112929, 1132459, 1132461, 1136393, 1152917, 118436, 119956, 120013, 151708, 168410, 32688, 37884, 390889, 428610, 684986, 69418, 753265, 949217, 1104300, 4335, 1121254, 1136310, 1140547, 116790, 239800, 32698, 62274, 62417, 755082, 95718, 1102548, 4553, 4584, 1120020, 1130567, 13885, 13917, 293285, 6184, 6210, 628815, 164, 4637, 1105887, 4649, 1127851, 135765, 135766, 411092, 449841, 8703, 429781, 5038, 102884, 4804, 1108175, 1112574, 1153262, 12182, 12210, 157761, 25805, 45189, 68505, 77515, 989397, 7867, 4983, 5055, 28026, 5064, 5069, 1121176, 1129106, 272345, 385067, 109323, 1105698, 137849, 354004, 440815, 79809, 1152714, 5194, 133563, 133566, 140569, 139547, 75695, 911198, 5454, 1128425, 1130680, 1022969, 5600, 1117833, 5959, 152226, 545647, 582511, 5966, 1107572, 12211, 27612, 385251, 6130, 1154123, 1154124, 671269, 675847, 1106547, 1107355, 1385, 6152, 1106966, 6163, 20534, 96847, 6169, 1114629, 170338, 7419, 10981, 1120731, 13686, 399339, 1153056, 81350, 1108329, 6209, 118259, 118260, 181782, 212930, 8875, 95579, 1105764, 1109957, 1111230, 1113182, 1113459, 1117760, 1122425, 1123553, 1128267, 1129096, 1129243, 13193, 153598, 17208, 195361, 218410, 23774, 241133, 293271, 353541, 6224, 628667, 628668, 672064, 1115886, 1152740, 28447, 6378, 93320, 95589, 6216, 230300, 10793, 6238, 1123991, 1130356, 84459, 6311, 235776, 1108656, 6318, 1121057, 20833, 1152307, 1152448, 1152975, 1153703, 6343, 141868, 359067, 521252, 1112665, 6344, 1106103, 6346, 1112075, 28473, 1103162, 6385, 682666, 892139, 1102646, 6539, 116084, 178209, 568045, 1130637, 6741, 1153160, 348437, 49895, 51909, 83725, 9708, 1120444, 6925, 1111240, 6775, 350319, 6782, 100961, 6784, 1116629, 60170, 6786, 714975, 1117348, 6814, 1125469, 158172, 293974, 300071, 315266, 390896, 445938, 1105531, 6818, 50336, 50337, 1123188, 6898, 124224, 12631, 431206, 6910, 78994, 1117219, 1132083, 1152150, 1154103, 169279, 263553, 662416, 1105011, 6913, 1131230, 703953, 1153811, 1155073, 20857, 308003, 1114526, 1118658, 372862, 57922, 57948, 6935, 101660, 1115670, 1116922, 6939, 323128, 52847, 1120880, 7041, 1135082, 7047, 14549, 54844, 1136446, 7272, 763181, 7296, 763010, 1107312, 1153287, 7430, 95586, 1121603, 7532, 1153097, 141171, 314459, 7537, 80515, 1113534, 1131348, 409255, 1138027, 315789, 105057, 8079, 1108728, 8224, 1111788, 1128531, 1132815, 11342, 1153148, 1153866, 133615, 22431, 22563, 23738, 55403, 601567, 62389, 97377, 1120059, 8581, 75691, 8591, 137956, 167205, 709113, 1132809, 8594, 180187, 232605, 58268, 8617, 12359, 36145, 8619, 1102751, 8687, 38000, 8696, 101145, 173884, 27535, 308232, 502574, 51866, 59244, 89335, 1129570, 395075, 608292, 785678, 1104647, 8872, 1125092, 1152761, 1153860, 1120643, 8874, 1153816, 1152676, 8961, 1133390, 102879, 9513, 9515, 1102794, 9559, 252725, 1130780, 9581, 633585, 1120138, 9586, 33818, 1153003, 9716, 28674, 10169, 114189, 158614, 17798, 211875, 39131, 711598, 10174, 10177, 12197, 12198, 124734, 15429, 249858, 27606, 67415, 68495, 10183, 10430, 1114336, 1120713, 259772, 47570, 54550, 1103394, 10435, 208345, 22566, 41417, 1102850, 10531, 1107567, 1129442, 194617, 31336, 31349, 31353, 43698, 686532, 180373, 31097, 46536, 6217, 10798, 1154500, 18619, 20193, 252715, 1102873, 39199, 1129835, 11148, 1131719, 193354, 25413, 11339, 11326, 1127657, 11335, 11325, 217139, 11337, 211432, 44017, 45061, 1126350, 12155, 12199, 12158, 148399, 12165, 1112099, 1119471, 12169, 1059953, 1106418, 1117249, 1153183, 155736, 219239, 28632, 28640, 309476, 94713, 27199, 12194, 1107319, 12195, 1131611, 1132285, 38722, 51180, 111866, 95225, 12247, 101263, 12238, 107569, 1152490, 1153861, 156977, 213279, 400356, 12337, 16451, 16470, 16474, 12347, 101811, 12350, 152227, 20601, 20602, 1131634, 1071981, 1104999, 1105221, 1107674, 127033, 416455, 56112, 56709, 574710, 575795, 62718, 63832, 12638, 119761, 899119, 13024, 13195, 1105148, 13205, 13208, 131318, 13212, 214472, 358884, 411005, 13213, 13269, 13654, 13652, 13656, 83746, 1115959, 119686, 987188, 13658, 294239, 13717, 37998, 13966, 1126050, 13972, 34979, 13982, 14062, 1152358, 646836, 97390, 98693, 1103016, 14083, 14090, 643069, 1103031, 14428, 1103969, 14429, 14431, 34082, 73119, 1119216, 14430, 1103038, 14529, 239829, 14531, 1105932, 1152308, 56167, 592830, 60682, 14545, 14807, 264347, 25702, 15076, 708945, 175576, 210309, 217115, 35854, 41666, 89547, 15431, 12558, 1110024, 1118388, 15892, 175909, 1116146, 158098, 15984, 15987, 523394, 653441, 714289, 16008, 1131165, 189571, 189572, 152219, 16437, 430329, 51831, 1105603, 1129621, 1104787, 16471, 1114992, 273949, 1123087, 16476, 105856, 16485, 1109891, 1120049, 1131167, 16819, 1131236, 1131274, 1131312, 126793, 643003, 643221, 644093, 644334, 646195, 646286, 1152259, 16843, 1152991, 17201, 1126012, 184157, 95435, 1152633, 17242, 17363, 17477, 17488, 1107136, 17811, 245955, 17821, 18251, 18313, 86923, 18532, 1106854, 18536, 424540, 1153091, 28964, 18770, 531348, 531351, 18773, 88356, 73146, 18774, 103537, 18777, 1112686, 173863, 66794, 79817, 18781, 18785, 1106401, 18811, 20920, 18812, 510715, 18815, 18832, 18833, 18834, 1152944, 593210, 593328, 593329, 19231, 1153736, 12960, 30934, 686061, 19621, 1128846, 1131464, 123825, 240791, 628888, 649730, 649739, 66990, 853116, 948147, 19697, 40124, 38829, 20178, 64271, 91853, 20179, 95188, 1108597, 1114777, 1116397, 1116839, 1119180, 112813, 1130653, 1130657, 1138091, 1152244, 1153877, 1153879, 1153889, 144330, 566488, 566653, 566664, 20528, 70442, 1106849, 20584, 1118823, 20592, 389715, 1118209, 1121537, 20821, 1127863, 1115701, 20923, 1116530, 20924, 289885, 294030, 1116181, 1103383, 22229, 1107418, 1128369, 144701, 22241, 243483, 459216, 595193, 22386, 1128407, 38846, 107251, 107252, 1121459, 22564, 36140, 63915, 94229, 1110563, 22876, 22869, 22874, 22875, 22883, 1107367, 22886, 23070, 23069, 74700, 1116044, 134307, 134316, 74698, 87915, 1105433, 23116, 1111978, 152731, 217852, 101662, 1153064, 189574, 27249, 84020, 1111265, 24043, 928873, 1103499, 24476, 1153024, 24530, 24966, 1106671, 1123576, 1131149, 1154042, 124828, 145134, 145176, 197452, 202639, 27627, 63549, 65212, 671293, 95719, 1104258, 24974, 1112723, 34315, 40125, 285675, 385572, 1153897, 147870, 1104769, 25772, 1122580, 1126503, 641956, 25791, 45212, 25794, 1110028, 1121063, 248119, 27203, 23545, 27241, 27243, 27246, 1128990, 27514, 27530, 1128542, 27531, 592826, 1112026, 34961, 27543, 27623, 1104182, 27632, 686015, 686030, 116021, 27895, 325497, 28230, 28249, 1152436, 28267, 308529, 567005, 108047, 28336, 28359, 28385, 118558, 28389, 28412, 194645, 28487, 28489, 1152910, 28491, 1139928, 28504, 131315, 365294, 28542, 32260, 28649, 155738, 578669, 595157, 28957, 159897, 1125402, 1125944, 1112426, 29492, 1122574, 131117, 144408, 29708, 400473, 29723, 155277, 29738, 30817, 144679, 31055, 31083, 48066, 1105672, 31105, 1063773, 1124844, 1129608, 1135746, 1152162, 1152272, 1152904, 286562, 31927, 686559, 31479, 39165, 31483, 118682, 31489, 40583, 40605, 632796, 632874, 632935, 633721, 67245, 67246, 358894, 31863, 91581, 1129572, 32083, 1153933, 200630, 346292, 45605, 688361, 32276, 174418, 636500, 84695, 33231, 1132887, 33301, 1110256, 33325, 124296, 34708, 78549, 78552, 78557, 1119004, 33823, 33895, 1110546, 1106771, 34257, 1111186, 1114398, 1115456, 1116974, 1122642, 192870, 34263, 34266, 368605, 87482, 90655, 503871, 682815, 168958, 35335, 59772, 1104031, 1116410, 108962, 35778, 108983, 519318, 1128974, 399370, 60169, 627024, 35852, 41732, 134060, 1105116, 194223, 390894, 66982, 36131, 77438, 350373, 46500, 36162, 189620, 36802, 189856, 37888, 589923, 590022, 37483, 37541, 260979, 37879, 1128997, 1129610, 1153942, 117316, 592975, 592986, 593060, 606647, 61069, 1131270, 38537, 1131277, 137868, 153063, 642847, 1104191, 38771, 1110579, 39127, 1128881, 1128927, 1128935, 116081, 116087, 195150, 46476, 75972, 39210, 66986, 1123689, 39890, 1154229, 1154232, 1154233, 242663, 51045, 521855, 559804, 714256, 118079, 40131, 40135, 1104261, 884094, 40886, 41216, 1113551, 128383, 943087, 144212, 182094, 44455, 42156, 1118120, 1152179, 42209, 42221, 42848, 1116835, 1131195, 43165, 1135894, 43186, 206524, 48075, 1104435, 44121, 227178, 44514, 253971, 606479, 1131266, 45052, 1130929, 45188, 1105450, 1132385, 1104495, 45533, 45603, 1131639, 975567, 1152569, 46452, 46470, 46491, 137380, 46547, 51834, 1153275, 46501, 46887, 1153106, 1125393, 47682, 47683, 1124837, 47839, 48555, 48764, 48768, 48781, 1134865, 397488, 423816, 1112369, 217984, 49753, 49720, 683355, 123556, 50354, 289088, 1104749, 50807, 50838, 73972, 50980, 1134320, 51049, 51052, 51879, 51934, 1104809, 52000, 52007, 52003, 1112194, 300806, 446271, 53942, 1128291, 1128319, 1136791, 117315, 578645, 578646, 578649, 593022, 1128982, 141324, 459213, 459214, 593859, 593942, 59715, 54132, 593921, 594387, 62634, 1104946, 55770, 55801, 56115, 1119178, 239810, 56708, 57119, 1132731, 711527, 1154524, 57773, 235670, 57932, 1114239, 58436, 87417, 58453, 1113828, 248395, 58758, 1128208, 576973, 59626, 96845, 59798, 60159, 61073, 61312, 1106764, 61417, 94416, 1131565, 62329, 195792, 251756, 593155, 650834, 62333, 1107325, 1107558, 294145, 62607, 62676, 312409, 83461, 1105360, 63812, 63835, 64319, 1125909, 65057, 519353, 1110209, 65074, 1117920, 142268, 714748, 1112319, 1123530, 66564, 362926, 66596, 1135750, 66751, 1138043, 573535, 693143, 695284, 1105505, 1153031, 509315, 82090, 66809, 1117501, 171954, 1127558, 67584, 1127566, 562067, 67633, 68115, 68224, 231198, 69198, 70281, 70444, 70520, 70970, 593068, 71336, 71736, 71904, 1135122, 1118347, 72406, 899085, 72805, 954315, 73162, 1134348, 189774, 714260, 714879, 1105810, 73323, 73712, 74427, 1120252, 74821, 1131150, 1105877, 74920, 74921, 74937, 1107041, 74975, 75121, 103430, 75318, 1121569, 75693, 75694, 75969, 1128856, 75983, 1115790, 77108, 77112, 106590, 1129994, 1129907, 613409, 78508, 575402, 78555, 662279, 662572, 1121659, 1131466, 358866, 80491, 80656, 81714, 82666, 82920, 1125492, 1128198, 1129367, 576691, 83847, 1130678, 1106298, 1133047, 509233, 85324, 628751, 577086, 85449, 86258, 1133469, 1114184, 1153786, 89308, 103528, 137130, 1116328, 1152379, 237376, 90470, 91038, 92589, 93273, 93318, 1152958, 143801, 284023, 284025, 93755, 1111733, 94639, 94641, 116553, 95198, 95588, 95594, 95597, 95642, 990075, 594025, 96851, 100935, 99030, 193931, 100701, 596075, 101261, 102061, 102939, 1154074, 1113742, 246618, 103531, 656048, 126912, 103543, 126927, 289085, 193932, 1095507, 1107385, 1153899, 578898, 108963, 310653, 108974, 1133417, 683404, 110041, 111676, 1119623, 111770, 112099, 112787, 1125258, 114966, 1107728, 115188, 1107808, 116512, 116528, 116545, 1115166, 117328, 118424, 118435, 1121739, 1109566, 118873, 119712, 1140543, 1109873, 120817, 1152394, 121792, 141160, 1154276, 1119742, 124952, 1126011, 189721, 1108258, 126867, 126868, 126909, 126920, 645897, 126926, 1114364, 127940, 243274, 128202, 128203, 1108363, 1121313, 907845, 129287, 131122, 131317, 132821, 133553, 133567, 1108570, 133628, 481073, 134199, 164885, 447224, 134219, 134314, 134315, 134320, 135464, 1135589, 135798, 136767, 137359, 1118286, 137790, 1131300, 1154068, 139738, 1108841, 140005, 1131345, 917493, 503877, 608191, 141596, 143323, 143476, 1131549, 219446, 1128975, 1136342, 595063, 294126, 145315, 649944, 145384, 1109185, 1132434, 1109208, 148341, 1123215, 149139, 1120786, 987197, 583318, 1131223, 561568, 561581, 561593, 561595, 561610, 561613, 645084, 1112106, 154023, 1133846, 154047, 1130934, 1133028, 397590, 155158, 156794, 1118017, 1127812, 158812, 1152711, 159084, 159085, 241821, 1128853, 160732, 1153922, 1109830, 162075, 162080, 737204, 1135345, 739707, 163235, 166420, 166825, 166989, 168332, 169280, 656231, 1138755, 820662, 174425, 175256, 175548, 689152, 753070, 177115, 177993, 177998, 178718, 179180, 179702, 1152859, 179706, 1110628, 180301, 1120084, 182093, 1131550, 650814, 1110950, 187260, 1153014, 189566, 189623, 189655, 1129518, 1134346, 190698, 191216, 191222, 193347, 612306, 193352, 193918, 194609, 1154520, 126128, 215912, 563613, 248823, 377303, 198866, 199571, 643734, 202520, 202522, 643597, 203646, 205196, 1130568, 1130586, 628764, 628766, 815096, 950986, 1128151, 1129629, 210872, 1112071, 212097, 212107, 213246, 1117618, 216877, 216878, 1152663, 1112417, 219218, 567018, 219976, 220420, 226698, 1122304, 1128946, 228992, 228990, 230879, 1133428, 696343, 851968, 1153195, 232606, 1113084, 232860, 12275, 233106, 630890, 235678, 235679, 689439, 235683, 238401, 240321, 1113541, 245288, 1121398, 248431, 250566, 253762, 255628, 258259, 260121, 261040, 262108, 262121, 262178, 1138968, 263069, 263482, 264556, 335042, 267824, 270456, 1114838, 270600, 278394, 278403, 1152959, 285687, 286513, 288107, 1153784, 289945, 578845, 292277, 1133010, 1152858, 302545, 1131198, 643199, 307656, 270085, 1139195, 318071, 318187, 1117049, 321004, 1117089, 325314, 330208, 337766, 348305, 1118546, 358887, 360028, 1119211, 367312, 746058, 400455, 368657, 370366, 375605, 375825, 1119654, 376704, 379288, 60560, 380341, 1120019, 384428, 390693, 684972, 1135115, 1154173, 408885, 416867, 416964, 421481, 1105622, 430574, 1132416, 430711, 671052, 645571, 446610, 1123093, 1123493, 458439, 459206, 466170, 1128977, 467383, 1131374, 1154076, 577331, 646913, 1125597, 1125906, 1125953, 521183, 1125993, 1132864, 522338, 683360, 523010, 523574, 1126315, 529165, 561582, 646440, 561611, 1127541, 561674, 1127551, 561789, 561809, 562940, 1127810, 573553, 1138970, 593544, 608190, 1131734, 576362, 1128201, 578365, 1153900, 578650, 1128943, 1128978, 593559, 593560, 579108, 1128437, 582349, 592993, 592996, 593248, 1129015, 593104, 593201, 593209, 1153896, 594011, 594039, 1129021, 594119, 1129040, 594483, 594511, 601462, 1129368, 1129369, 1129494, 604073, 1153946, 610529, 616336, 1130069, 617378, 1130080, 617575, 1130243, 621555, 1130454, 626530, 1154012, 626531, 626574, 626999, 628459, 628458, 631015, 633031, 633030, 633081, 672070, 672071, 1131163, 642593, 1131164, 642621, 1131258, 642641, 642681, 644441, 1131172, 642798, 644470, 1131180, 642894, 1131301, 1131335, 643239, 643485, 645046, 645870, 646334, 646357, 1131184, 642920, 642930, 1131189, 1131192, 1131257, 1131305, 1131334, 644448, 644577, 643695, 643777, 643735, 645016, 644361, 644363, 644427, 1131314, 644494, 644843, 1154071, 645088, 645452, 646289, 1131330, 646412, 1131359, 646900, 647315, 1131421, 648106, 648112, 1131420, 648121, 1131414, 648369, 650807, 1133930, 653628, 1131741, 654339, 1131754, 654519, 1131828, 1132073, 662250, 1132406, 1132443, 1132505, 675756, 1132857, 682508, 683294, 684531, 687401, 1133008, 688824, 688849, 1134031, 1134056, 709518, 1134197, 711994, 714208, 1154230, 733534, 733576, 734406, 735311, 1135455, 738941, 739280, 739816, 1140548, 1135955, 752684, 1136631, 753047, 1136634, 753264, 767763, 1136040, 754594, 1136110, 756061, 1136447, 762980, 1136449, 1137140, 779960, 1138619, 814836, 815073, 820661, 817774, 1139009, 824245, 1140231, 853114, 853155, 853115, 853118))"
      ]
     },
     "execution_count": 57,
     "metadata": {},
     "output_type": "execute_result"
    }
   ],
   "source": [
    "Gnx.nodes"
   ]
  },
  {
   "cell_type": "code",
   "execution_count": 59,
   "metadata": {
    "colab": {
     "base_uri": "https://localhost:8080/"
    },
    "executionInfo": {
     "elapsed": 170,
     "status": "ok",
     "timestamp": 1650339130311,
     "user": {
      "displayName": "Avkash Chauhan",
      "userId": "01093683102216020094"
     },
     "user_tz": 420
    },
    "id": "DGNulZFTRGQU",
    "outputId": "f5909078-666a-436c-e382-7a10cd9c1ada"
   },
   "outputs": [
    {
     "data": {
      "text/plain": [
       "{'label': 'paper'}"
      ]
     },
     "execution_count": 59,
     "metadata": {},
     "output_type": "execute_result"
    }
   ],
   "source": [
    "# Get the node ID from the above list\n",
    "Gnx.nodes[1050679]"
   ]
  },
  {
   "cell_type": "code",
   "execution_count": 60,
   "metadata": {
    "executionInfo": {
     "elapsed": 430,
     "status": "ok",
     "timestamp": 1650339136473,
     "user": {
      "displayName": "Avkash Chauhan",
      "userId": "01093683102216020094"
     },
     "user_tz": 420
    },
    "id": "qLl_qG5lR0Ag"
   },
   "outputs": [],
   "source": [
    "feature_names = [\"w_{}\".format(ii) for ii in range(1433)]\n",
    "column_names =  feature_names + [\"subject\"]\n",
    "node_data = pd.read_csv(os.path.join(data_dir, \"cora.content\"), sep='\\t', header=None, names=column_names)"
   ]
  },
  {
   "cell_type": "code",
   "execution_count": 61,
   "metadata": {
    "colab": {
     "base_uri": "https://localhost:8080/",
     "height": 423
    },
    "executionInfo": {
     "elapsed": 156,
     "status": "ok",
     "timestamp": 1650339138501,
     "user": {
      "displayName": "Avkash Chauhan",
      "userId": "01093683102216020094"
     },
     "user_tz": 420
    },
    "id": "tpzBUXPAR0F7",
    "outputId": "11b6e292-4ced-452f-f707-fe49822aca36"
   },
   "outputs": [
    {
     "data": {
      "text/html": [
       "<div>\n",
       "<style scoped>\n",
       "    .dataframe tbody tr th:only-of-type {\n",
       "        vertical-align: middle;\n",
       "    }\n",
       "\n",
       "    .dataframe tbody tr th {\n",
       "        vertical-align: top;\n",
       "    }\n",
       "\n",
       "    .dataframe thead th {\n",
       "        text-align: right;\n",
       "    }\n",
       "</style>\n",
       "<table border=\"1\" class=\"dataframe\">\n",
       "  <thead>\n",
       "    <tr style=\"text-align: right;\">\n",
       "      <th></th>\n",
       "      <th>w_0</th>\n",
       "      <th>w_1</th>\n",
       "      <th>w_2</th>\n",
       "      <th>w_3</th>\n",
       "      <th>w_4</th>\n",
       "      <th>w_5</th>\n",
       "      <th>w_6</th>\n",
       "      <th>w_7</th>\n",
       "      <th>w_8</th>\n",
       "      <th>w_9</th>\n",
       "      <th>...</th>\n",
       "      <th>w_1424</th>\n",
       "      <th>w_1425</th>\n",
       "      <th>w_1426</th>\n",
       "      <th>w_1427</th>\n",
       "      <th>w_1428</th>\n",
       "      <th>w_1429</th>\n",
       "      <th>w_1430</th>\n",
       "      <th>w_1431</th>\n",
       "      <th>w_1432</th>\n",
       "      <th>subject</th>\n",
       "    </tr>\n",
       "  </thead>\n",
       "  <tbody>\n",
       "    <tr>\n",
       "      <th>31336</th>\n",
       "      <td>0</td>\n",
       "      <td>0</td>\n",
       "      <td>0</td>\n",
       "      <td>0</td>\n",
       "      <td>0</td>\n",
       "      <td>0</td>\n",
       "      <td>0</td>\n",
       "      <td>0</td>\n",
       "      <td>0</td>\n",
       "      <td>0</td>\n",
       "      <td>...</td>\n",
       "      <td>0</td>\n",
       "      <td>0</td>\n",
       "      <td>1</td>\n",
       "      <td>0</td>\n",
       "      <td>0</td>\n",
       "      <td>0</td>\n",
       "      <td>0</td>\n",
       "      <td>0</td>\n",
       "      <td>0</td>\n",
       "      <td>Neural_Networks</td>\n",
       "    </tr>\n",
       "    <tr>\n",
       "      <th>1061127</th>\n",
       "      <td>0</td>\n",
       "      <td>0</td>\n",
       "      <td>0</td>\n",
       "      <td>0</td>\n",
       "      <td>0</td>\n",
       "      <td>0</td>\n",
       "      <td>0</td>\n",
       "      <td>0</td>\n",
       "      <td>0</td>\n",
       "      <td>0</td>\n",
       "      <td>...</td>\n",
       "      <td>0</td>\n",
       "      <td>1</td>\n",
       "      <td>0</td>\n",
       "      <td>0</td>\n",
       "      <td>0</td>\n",
       "      <td>0</td>\n",
       "      <td>0</td>\n",
       "      <td>0</td>\n",
       "      <td>0</td>\n",
       "      <td>Rule_Learning</td>\n",
       "    </tr>\n",
       "    <tr>\n",
       "      <th>1106406</th>\n",
       "      <td>0</td>\n",
       "      <td>0</td>\n",
       "      <td>0</td>\n",
       "      <td>0</td>\n",
       "      <td>0</td>\n",
       "      <td>0</td>\n",
       "      <td>0</td>\n",
       "      <td>0</td>\n",
       "      <td>0</td>\n",
       "      <td>0</td>\n",
       "      <td>...</td>\n",
       "      <td>0</td>\n",
       "      <td>0</td>\n",
       "      <td>0</td>\n",
       "      <td>0</td>\n",
       "      <td>0</td>\n",
       "      <td>0</td>\n",
       "      <td>0</td>\n",
       "      <td>0</td>\n",
       "      <td>0</td>\n",
       "      <td>Reinforcement_Learning</td>\n",
       "    </tr>\n",
       "    <tr>\n",
       "      <th>13195</th>\n",
       "      <td>0</td>\n",
       "      <td>0</td>\n",
       "      <td>0</td>\n",
       "      <td>0</td>\n",
       "      <td>0</td>\n",
       "      <td>0</td>\n",
       "      <td>0</td>\n",
       "      <td>0</td>\n",
       "      <td>0</td>\n",
       "      <td>0</td>\n",
       "      <td>...</td>\n",
       "      <td>0</td>\n",
       "      <td>0</td>\n",
       "      <td>0</td>\n",
       "      <td>0</td>\n",
       "      <td>0</td>\n",
       "      <td>0</td>\n",
       "      <td>0</td>\n",
       "      <td>0</td>\n",
       "      <td>0</td>\n",
       "      <td>Reinforcement_Learning</td>\n",
       "    </tr>\n",
       "    <tr>\n",
       "      <th>37879</th>\n",
       "      <td>0</td>\n",
       "      <td>0</td>\n",
       "      <td>0</td>\n",
       "      <td>0</td>\n",
       "      <td>0</td>\n",
       "      <td>0</td>\n",
       "      <td>0</td>\n",
       "      <td>0</td>\n",
       "      <td>0</td>\n",
       "      <td>0</td>\n",
       "      <td>...</td>\n",
       "      <td>0</td>\n",
       "      <td>0</td>\n",
       "      <td>0</td>\n",
       "      <td>0</td>\n",
       "      <td>0</td>\n",
       "      <td>0</td>\n",
       "      <td>0</td>\n",
       "      <td>0</td>\n",
       "      <td>0</td>\n",
       "      <td>Probabilistic_Methods</td>\n",
       "    </tr>\n",
       "    <tr>\n",
       "      <th>...</th>\n",
       "      <td>...</td>\n",
       "      <td>...</td>\n",
       "      <td>...</td>\n",
       "      <td>...</td>\n",
       "      <td>...</td>\n",
       "      <td>...</td>\n",
       "      <td>...</td>\n",
       "      <td>...</td>\n",
       "      <td>...</td>\n",
       "      <td>...</td>\n",
       "      <td>...</td>\n",
       "      <td>...</td>\n",
       "      <td>...</td>\n",
       "      <td>...</td>\n",
       "      <td>...</td>\n",
       "      <td>...</td>\n",
       "      <td>...</td>\n",
       "      <td>...</td>\n",
       "      <td>...</td>\n",
       "      <td>...</td>\n",
       "      <td>...</td>\n",
       "    </tr>\n",
       "    <tr>\n",
       "      <th>1128975</th>\n",
       "      <td>0</td>\n",
       "      <td>0</td>\n",
       "      <td>0</td>\n",
       "      <td>0</td>\n",
       "      <td>0</td>\n",
       "      <td>0</td>\n",
       "      <td>0</td>\n",
       "      <td>0</td>\n",
       "      <td>0</td>\n",
       "      <td>0</td>\n",
       "      <td>...</td>\n",
       "      <td>0</td>\n",
       "      <td>0</td>\n",
       "      <td>0</td>\n",
       "      <td>0</td>\n",
       "      <td>0</td>\n",
       "      <td>0</td>\n",
       "      <td>0</td>\n",
       "      <td>0</td>\n",
       "      <td>0</td>\n",
       "      <td>Genetic_Algorithms</td>\n",
       "    </tr>\n",
       "    <tr>\n",
       "      <th>1128977</th>\n",
       "      <td>0</td>\n",
       "      <td>0</td>\n",
       "      <td>0</td>\n",
       "      <td>0</td>\n",
       "      <td>0</td>\n",
       "      <td>0</td>\n",
       "      <td>0</td>\n",
       "      <td>0</td>\n",
       "      <td>0</td>\n",
       "      <td>0</td>\n",
       "      <td>...</td>\n",
       "      <td>0</td>\n",
       "      <td>0</td>\n",
       "      <td>0</td>\n",
       "      <td>0</td>\n",
       "      <td>0</td>\n",
       "      <td>0</td>\n",
       "      <td>0</td>\n",
       "      <td>0</td>\n",
       "      <td>0</td>\n",
       "      <td>Genetic_Algorithms</td>\n",
       "    </tr>\n",
       "    <tr>\n",
       "      <th>1128978</th>\n",
       "      <td>0</td>\n",
       "      <td>0</td>\n",
       "      <td>0</td>\n",
       "      <td>0</td>\n",
       "      <td>0</td>\n",
       "      <td>0</td>\n",
       "      <td>0</td>\n",
       "      <td>0</td>\n",
       "      <td>0</td>\n",
       "      <td>0</td>\n",
       "      <td>...</td>\n",
       "      <td>0</td>\n",
       "      <td>0</td>\n",
       "      <td>0</td>\n",
       "      <td>0</td>\n",
       "      <td>0</td>\n",
       "      <td>0</td>\n",
       "      <td>0</td>\n",
       "      <td>0</td>\n",
       "      <td>0</td>\n",
       "      <td>Genetic_Algorithms</td>\n",
       "    </tr>\n",
       "    <tr>\n",
       "      <th>117328</th>\n",
       "      <td>0</td>\n",
       "      <td>0</td>\n",
       "      <td>0</td>\n",
       "      <td>0</td>\n",
       "      <td>1</td>\n",
       "      <td>0</td>\n",
       "      <td>0</td>\n",
       "      <td>0</td>\n",
       "      <td>0</td>\n",
       "      <td>0</td>\n",
       "      <td>...</td>\n",
       "      <td>0</td>\n",
       "      <td>0</td>\n",
       "      <td>0</td>\n",
       "      <td>0</td>\n",
       "      <td>0</td>\n",
       "      <td>0</td>\n",
       "      <td>0</td>\n",
       "      <td>0</td>\n",
       "      <td>0</td>\n",
       "      <td>Case_Based</td>\n",
       "    </tr>\n",
       "    <tr>\n",
       "      <th>24043</th>\n",
       "      <td>0</td>\n",
       "      <td>0</td>\n",
       "      <td>0</td>\n",
       "      <td>0</td>\n",
       "      <td>0</td>\n",
       "      <td>0</td>\n",
       "      <td>0</td>\n",
       "      <td>0</td>\n",
       "      <td>0</td>\n",
       "      <td>0</td>\n",
       "      <td>...</td>\n",
       "      <td>0</td>\n",
       "      <td>0</td>\n",
       "      <td>0</td>\n",
       "      <td>0</td>\n",
       "      <td>0</td>\n",
       "      <td>0</td>\n",
       "      <td>0</td>\n",
       "      <td>0</td>\n",
       "      <td>0</td>\n",
       "      <td>Neural_Networks</td>\n",
       "    </tr>\n",
       "  </tbody>\n",
       "</table>\n",
       "<p>2708 rows × 1434 columns</p>\n",
       "</div>"
      ],
      "text/plain": [
       "         w_0  w_1  w_2  w_3  w_4  w_5  w_6  w_7  w_8  w_9  ...  w_1424  \\\n",
       "31336      0    0    0    0    0    0    0    0    0    0  ...       0   \n",
       "1061127    0    0    0    0    0    0    0    0    0    0  ...       0   \n",
       "1106406    0    0    0    0    0    0    0    0    0    0  ...       0   \n",
       "13195      0    0    0    0    0    0    0    0    0    0  ...       0   \n",
       "37879      0    0    0    0    0    0    0    0    0    0  ...       0   \n",
       "...      ...  ...  ...  ...  ...  ...  ...  ...  ...  ...  ...     ...   \n",
       "1128975    0    0    0    0    0    0    0    0    0    0  ...       0   \n",
       "1128977    0    0    0    0    0    0    0    0    0    0  ...       0   \n",
       "1128978    0    0    0    0    0    0    0    0    0    0  ...       0   \n",
       "117328     0    0    0    0    1    0    0    0    0    0  ...       0   \n",
       "24043      0    0    0    0    0    0    0    0    0    0  ...       0   \n",
       "\n",
       "         w_1425  w_1426  w_1427  w_1428  w_1429  w_1430  w_1431  w_1432  \\\n",
       "31336         0       1       0       0       0       0       0       0   \n",
       "1061127       1       0       0       0       0       0       0       0   \n",
       "1106406       0       0       0       0       0       0       0       0   \n",
       "13195         0       0       0       0       0       0       0       0   \n",
       "37879         0       0       0       0       0       0       0       0   \n",
       "...         ...     ...     ...     ...     ...     ...     ...     ...   \n",
       "1128975       0       0       0       0       0       0       0       0   \n",
       "1128977       0       0       0       0       0       0       0       0   \n",
       "1128978       0       0       0       0       0       0       0       0   \n",
       "117328        0       0       0       0       0       0       0       0   \n",
       "24043         0       0       0       0       0       0       0       0   \n",
       "\n",
       "                        subject  \n",
       "31336           Neural_Networks  \n",
       "1061127           Rule_Learning  \n",
       "1106406  Reinforcement_Learning  \n",
       "13195    Reinforcement_Learning  \n",
       "37879     Probabilistic_Methods  \n",
       "...                         ...  \n",
       "1128975      Genetic_Algorithms  \n",
       "1128977      Genetic_Algorithms  \n",
       "1128978      Genetic_Algorithms  \n",
       "117328               Case_Based  \n",
       "24043           Neural_Networks  \n",
       "\n",
       "[2708 rows x 1434 columns]"
      ]
     },
     "execution_count": 61,
     "metadata": {},
     "output_type": "execute_result"
    }
   ],
   "source": [
    "node_data"
   ]
  },
  {
   "cell_type": "code",
   "execution_count": 62,
   "metadata": {
    "colab": {
     "base_uri": "https://localhost:8080/"
    },
    "executionInfo": {
     "elapsed": 165,
     "status": "ok",
     "timestamp": 1650339175117,
     "user": {
      "displayName": "Avkash Chauhan",
      "userId": "01093683102216020094"
     },
     "user_tz": 420
    },
    "id": "0CjTJVJ6R0KY",
    "outputId": "b700f485-894a-4bf4-ccbc-56f006eb9ef3"
   },
   "outputs": [
    {
     "data": {
      "text/plain": [
       "{'Case_Based',\n",
       " 'Genetic_Algorithms',\n",
       " 'Neural_Networks',\n",
       " 'Probabilistic_Methods',\n",
       " 'Reinforcement_Learning',\n",
       " 'Rule_Learning',\n",
       " 'Theory'}"
      ]
     },
     "execution_count": 62,
     "metadata": {},
     "output_type": "execute_result"
    }
   ],
   "source": [
    "set(node_data[\"subject\"])"
   ]
  },
  {
   "cell_type": "code",
   "execution_count": 63,
   "metadata": {
    "colab": {
     "base_uri": "https://localhost:8080/",
     "height": 423
    },
    "executionInfo": {
     "elapsed": 221,
     "status": "ok",
     "timestamp": 1650339187638,
     "user": {
      "displayName": "Avkash Chauhan",
      "userId": "01093683102216020094"
     },
     "user_tz": 420
    },
    "id": "_KiXPektR0PC",
    "outputId": "bca12317-05c3-4e57-809b-123e22174f62"
   },
   "outputs": [
    {
     "data": {
      "text/html": [
       "<div>\n",
       "<style scoped>\n",
       "    .dataframe tbody tr th:only-of-type {\n",
       "        vertical-align: middle;\n",
       "    }\n",
       "\n",
       "    .dataframe tbody tr th {\n",
       "        vertical-align: top;\n",
       "    }\n",
       "\n",
       "    .dataframe thead th {\n",
       "        text-align: right;\n",
       "    }\n",
       "</style>\n",
       "<table border=\"1\" class=\"dataframe\">\n",
       "  <thead>\n",
       "    <tr style=\"text-align: right;\">\n",
       "      <th></th>\n",
       "      <th>w_0</th>\n",
       "      <th>w_1</th>\n",
       "      <th>w_2</th>\n",
       "      <th>w_3</th>\n",
       "      <th>w_4</th>\n",
       "      <th>w_5</th>\n",
       "      <th>w_6</th>\n",
       "      <th>w_7</th>\n",
       "      <th>w_8</th>\n",
       "      <th>w_9</th>\n",
       "      <th>...</th>\n",
       "      <th>w_1424</th>\n",
       "      <th>w_1425</th>\n",
       "      <th>w_1426</th>\n",
       "      <th>w_1427</th>\n",
       "      <th>w_1428</th>\n",
       "      <th>w_1429</th>\n",
       "      <th>w_1430</th>\n",
       "      <th>w_1431</th>\n",
       "      <th>w_1432</th>\n",
       "      <th>subject</th>\n",
       "    </tr>\n",
       "  </thead>\n",
       "  <tbody>\n",
       "    <tr>\n",
       "      <th>31336</th>\n",
       "      <td>0</td>\n",
       "      <td>0</td>\n",
       "      <td>0</td>\n",
       "      <td>0</td>\n",
       "      <td>0</td>\n",
       "      <td>0</td>\n",
       "      <td>0</td>\n",
       "      <td>0</td>\n",
       "      <td>0</td>\n",
       "      <td>0</td>\n",
       "      <td>...</td>\n",
       "      <td>0</td>\n",
       "      <td>0</td>\n",
       "      <td>1</td>\n",
       "      <td>0</td>\n",
       "      <td>0</td>\n",
       "      <td>0</td>\n",
       "      <td>0</td>\n",
       "      <td>0</td>\n",
       "      <td>0</td>\n",
       "      <td>Neural_Networks</td>\n",
       "    </tr>\n",
       "    <tr>\n",
       "      <th>1061127</th>\n",
       "      <td>0</td>\n",
       "      <td>0</td>\n",
       "      <td>0</td>\n",
       "      <td>0</td>\n",
       "      <td>0</td>\n",
       "      <td>0</td>\n",
       "      <td>0</td>\n",
       "      <td>0</td>\n",
       "      <td>0</td>\n",
       "      <td>0</td>\n",
       "      <td>...</td>\n",
       "      <td>0</td>\n",
       "      <td>1</td>\n",
       "      <td>0</td>\n",
       "      <td>0</td>\n",
       "      <td>0</td>\n",
       "      <td>0</td>\n",
       "      <td>0</td>\n",
       "      <td>0</td>\n",
       "      <td>0</td>\n",
       "      <td>Rule_Learning</td>\n",
       "    </tr>\n",
       "    <tr>\n",
       "      <th>1106406</th>\n",
       "      <td>0</td>\n",
       "      <td>0</td>\n",
       "      <td>0</td>\n",
       "      <td>0</td>\n",
       "      <td>0</td>\n",
       "      <td>0</td>\n",
       "      <td>0</td>\n",
       "      <td>0</td>\n",
       "      <td>0</td>\n",
       "      <td>0</td>\n",
       "      <td>...</td>\n",
       "      <td>0</td>\n",
       "      <td>0</td>\n",
       "      <td>0</td>\n",
       "      <td>0</td>\n",
       "      <td>0</td>\n",
       "      <td>0</td>\n",
       "      <td>0</td>\n",
       "      <td>0</td>\n",
       "      <td>0</td>\n",
       "      <td>Reinforcement_Learning</td>\n",
       "    </tr>\n",
       "    <tr>\n",
       "      <th>13195</th>\n",
       "      <td>0</td>\n",
       "      <td>0</td>\n",
       "      <td>0</td>\n",
       "      <td>0</td>\n",
       "      <td>0</td>\n",
       "      <td>0</td>\n",
       "      <td>0</td>\n",
       "      <td>0</td>\n",
       "      <td>0</td>\n",
       "      <td>0</td>\n",
       "      <td>...</td>\n",
       "      <td>0</td>\n",
       "      <td>0</td>\n",
       "      <td>0</td>\n",
       "      <td>0</td>\n",
       "      <td>0</td>\n",
       "      <td>0</td>\n",
       "      <td>0</td>\n",
       "      <td>0</td>\n",
       "      <td>0</td>\n",
       "      <td>Reinforcement_Learning</td>\n",
       "    </tr>\n",
       "    <tr>\n",
       "      <th>37879</th>\n",
       "      <td>0</td>\n",
       "      <td>0</td>\n",
       "      <td>0</td>\n",
       "      <td>0</td>\n",
       "      <td>0</td>\n",
       "      <td>0</td>\n",
       "      <td>0</td>\n",
       "      <td>0</td>\n",
       "      <td>0</td>\n",
       "      <td>0</td>\n",
       "      <td>...</td>\n",
       "      <td>0</td>\n",
       "      <td>0</td>\n",
       "      <td>0</td>\n",
       "      <td>0</td>\n",
       "      <td>0</td>\n",
       "      <td>0</td>\n",
       "      <td>0</td>\n",
       "      <td>0</td>\n",
       "      <td>0</td>\n",
       "      <td>Probabilistic_Methods</td>\n",
       "    </tr>\n",
       "    <tr>\n",
       "      <th>...</th>\n",
       "      <td>...</td>\n",
       "      <td>...</td>\n",
       "      <td>...</td>\n",
       "      <td>...</td>\n",
       "      <td>...</td>\n",
       "      <td>...</td>\n",
       "      <td>...</td>\n",
       "      <td>...</td>\n",
       "      <td>...</td>\n",
       "      <td>...</td>\n",
       "      <td>...</td>\n",
       "      <td>...</td>\n",
       "      <td>...</td>\n",
       "      <td>...</td>\n",
       "      <td>...</td>\n",
       "      <td>...</td>\n",
       "      <td>...</td>\n",
       "      <td>...</td>\n",
       "      <td>...</td>\n",
       "      <td>...</td>\n",
       "      <td>...</td>\n",
       "    </tr>\n",
       "    <tr>\n",
       "      <th>1128975</th>\n",
       "      <td>0</td>\n",
       "      <td>0</td>\n",
       "      <td>0</td>\n",
       "      <td>0</td>\n",
       "      <td>0</td>\n",
       "      <td>0</td>\n",
       "      <td>0</td>\n",
       "      <td>0</td>\n",
       "      <td>0</td>\n",
       "      <td>0</td>\n",
       "      <td>...</td>\n",
       "      <td>0</td>\n",
       "      <td>0</td>\n",
       "      <td>0</td>\n",
       "      <td>0</td>\n",
       "      <td>0</td>\n",
       "      <td>0</td>\n",
       "      <td>0</td>\n",
       "      <td>0</td>\n",
       "      <td>0</td>\n",
       "      <td>Genetic_Algorithms</td>\n",
       "    </tr>\n",
       "    <tr>\n",
       "      <th>1128977</th>\n",
       "      <td>0</td>\n",
       "      <td>0</td>\n",
       "      <td>0</td>\n",
       "      <td>0</td>\n",
       "      <td>0</td>\n",
       "      <td>0</td>\n",
       "      <td>0</td>\n",
       "      <td>0</td>\n",
       "      <td>0</td>\n",
       "      <td>0</td>\n",
       "      <td>...</td>\n",
       "      <td>0</td>\n",
       "      <td>0</td>\n",
       "      <td>0</td>\n",
       "      <td>0</td>\n",
       "      <td>0</td>\n",
       "      <td>0</td>\n",
       "      <td>0</td>\n",
       "      <td>0</td>\n",
       "      <td>0</td>\n",
       "      <td>Genetic_Algorithms</td>\n",
       "    </tr>\n",
       "    <tr>\n",
       "      <th>1128978</th>\n",
       "      <td>0</td>\n",
       "      <td>0</td>\n",
       "      <td>0</td>\n",
       "      <td>0</td>\n",
       "      <td>0</td>\n",
       "      <td>0</td>\n",
       "      <td>0</td>\n",
       "      <td>0</td>\n",
       "      <td>0</td>\n",
       "      <td>0</td>\n",
       "      <td>...</td>\n",
       "      <td>0</td>\n",
       "      <td>0</td>\n",
       "      <td>0</td>\n",
       "      <td>0</td>\n",
       "      <td>0</td>\n",
       "      <td>0</td>\n",
       "      <td>0</td>\n",
       "      <td>0</td>\n",
       "      <td>0</td>\n",
       "      <td>Genetic_Algorithms</td>\n",
       "    </tr>\n",
       "    <tr>\n",
       "      <th>117328</th>\n",
       "      <td>0</td>\n",
       "      <td>0</td>\n",
       "      <td>0</td>\n",
       "      <td>0</td>\n",
       "      <td>1</td>\n",
       "      <td>0</td>\n",
       "      <td>0</td>\n",
       "      <td>0</td>\n",
       "      <td>0</td>\n",
       "      <td>0</td>\n",
       "      <td>...</td>\n",
       "      <td>0</td>\n",
       "      <td>0</td>\n",
       "      <td>0</td>\n",
       "      <td>0</td>\n",
       "      <td>0</td>\n",
       "      <td>0</td>\n",
       "      <td>0</td>\n",
       "      <td>0</td>\n",
       "      <td>0</td>\n",
       "      <td>Case_Based</td>\n",
       "    </tr>\n",
       "    <tr>\n",
       "      <th>24043</th>\n",
       "      <td>0</td>\n",
       "      <td>0</td>\n",
       "      <td>0</td>\n",
       "      <td>0</td>\n",
       "      <td>0</td>\n",
       "      <td>0</td>\n",
       "      <td>0</td>\n",
       "      <td>0</td>\n",
       "      <td>0</td>\n",
       "      <td>0</td>\n",
       "      <td>...</td>\n",
       "      <td>0</td>\n",
       "      <td>0</td>\n",
       "      <td>0</td>\n",
       "      <td>0</td>\n",
       "      <td>0</td>\n",
       "      <td>0</td>\n",
       "      <td>0</td>\n",
       "      <td>0</td>\n",
       "      <td>0</td>\n",
       "      <td>Neural_Networks</td>\n",
       "    </tr>\n",
       "  </tbody>\n",
       "</table>\n",
       "<p>2708 rows × 1434 columns</p>\n",
       "</div>"
      ],
      "text/plain": [
       "         w_0  w_1  w_2  w_3  w_4  w_5  w_6  w_7  w_8  w_9  ...  w_1424  \\\n",
       "31336      0    0    0    0    0    0    0    0    0    0  ...       0   \n",
       "1061127    0    0    0    0    0    0    0    0    0    0  ...       0   \n",
       "1106406    0    0    0    0    0    0    0    0    0    0  ...       0   \n",
       "13195      0    0    0    0    0    0    0    0    0    0  ...       0   \n",
       "37879      0    0    0    0    0    0    0    0    0    0  ...       0   \n",
       "...      ...  ...  ...  ...  ...  ...  ...  ...  ...  ...  ...     ...   \n",
       "1128975    0    0    0    0    0    0    0    0    0    0  ...       0   \n",
       "1128977    0    0    0    0    0    0    0    0    0    0  ...       0   \n",
       "1128978    0    0    0    0    0    0    0    0    0    0  ...       0   \n",
       "117328     0    0    0    0    1    0    0    0    0    0  ...       0   \n",
       "24043      0    0    0    0    0    0    0    0    0    0  ...       0   \n",
       "\n",
       "         w_1425  w_1426  w_1427  w_1428  w_1429  w_1430  w_1431  w_1432  \\\n",
       "31336         0       1       0       0       0       0       0       0   \n",
       "1061127       1       0       0       0       0       0       0       0   \n",
       "1106406       0       0       0       0       0       0       0       0   \n",
       "13195         0       0       0       0       0       0       0       0   \n",
       "37879         0       0       0       0       0       0       0       0   \n",
       "...         ...     ...     ...     ...     ...     ...     ...     ...   \n",
       "1128975       0       0       0       0       0       0       0       0   \n",
       "1128977       0       0       0       0       0       0       0       0   \n",
       "1128978       0       0       0       0       0       0       0       0   \n",
       "117328        0       0       0       0       0       0       0       0   \n",
       "24043         0       0       0       0       0       0       0       0   \n",
       "\n",
       "                        subject  \n",
       "31336           Neural_Networks  \n",
       "1061127           Rule_Learning  \n",
       "1106406  Reinforcement_Learning  \n",
       "13195    Reinforcement_Learning  \n",
       "37879     Probabilistic_Methods  \n",
       "...                         ...  \n",
       "1128975      Genetic_Algorithms  \n",
       "1128977      Genetic_Algorithms  \n",
       "1128978      Genetic_Algorithms  \n",
       "117328               Case_Based  \n",
       "24043           Neural_Networks  \n",
       "\n",
       "[2708 rows x 1434 columns]"
      ]
     },
     "execution_count": 63,
     "metadata": {},
     "output_type": "execute_result"
    }
   ],
   "source": [
    "node_data"
   ]
  },
  {
   "cell_type": "code",
   "execution_count": null,
   "metadata": {
    "id": "eEPLgbu8SBRe"
   },
   "outputs": [],
   "source": []
  },
  {
   "cell_type": "code",
   "execution_count": null,
   "metadata": {
    "id": "r6tnRMIGSBhV"
   },
   "outputs": [],
   "source": []
  },
  {
   "cell_type": "code",
   "execution_count": 64,
   "metadata": {
    "colab": {
     "base_uri": "https://localhost:8080/"
    },
    "executionInfo": {
     "elapsed": 165,
     "status": "ok",
     "timestamp": 1650339203585,
     "user": {
      "displayName": "Avkash Chauhan",
      "userId": "01093683102216020094"
     },
     "user_tz": 420
    },
    "id": "mM7---hD9Ho8",
    "outputId": "2fa23d4c-71a5-4a48-a0ce-856475447a90"
   },
   "outputs": [
    {
     "name": "stdout",
     "output_type": "stream",
     "text": [
      "cpu\n"
     ]
    }
   ],
   "source": [
    "device = torch.device('cuda' if torch.cuda.is_available() else 'cpu')\n",
    "print(device)"
   ]
  },
  {
   "cell_type": "code",
   "execution_count": 65,
   "metadata": {
    "colab": {
     "base_uri": "https://localhost:8080/"
    },
    "executionInfo": {
     "elapsed": 148,
     "status": "ok",
     "timestamp": 1650339216261,
     "user": {
      "displayName": "Avkash Chauhan",
      "userId": "01093683102216020094"
     },
     "user_tz": 420
    },
    "id": "ig5H8MjYCY3V",
    "outputId": "72745bee-d27a-474b-e816-8473595530d0"
   },
   "outputs": [
    {
     "name": "stdout",
     "output_type": "stream",
     "text": [
      "Dataset: Cora():\n",
      "======================\n",
      "Number of graphs: 1\n",
      "Number of features: 1433\n",
      "Number of classes: 7\n",
      "Number of nodes: 2708\n",
      "Number of edges: 10556\n",
      "Average node degree: 3.90\n",
      "Number of training nodes: 140\n",
      "Training node label rate: 0.05\n",
      "Contains isolated nodes: False\n",
      "Contains self-loops: False\n",
      "Is undirected: True\n"
     ]
    },
    {
     "name": "stderr",
     "output_type": "stream",
     "text": [
      "C:\\Users\\arast\\anaconda3\\lib\\site-packages\\torch_geometric\\deprecation.py:22: UserWarning: 'contains_isolated_nodes' is deprecated, use 'has_isolated_nodes' instead\n",
      "  warnings.warn(out)\n",
      "C:\\Users\\arast\\anaconda3\\lib\\site-packages\\torch_geometric\\deprecation.py:22: UserWarning: 'contains_self_loops' is deprecated, use 'has_self_loops' instead\n",
      "  warnings.warn(out)\n"
     ]
    }
   ],
   "source": [
    "data = cora_dataset[0]\n",
    "print(f'Dataset: {cora_dataset}:')\n",
    "print('======================')\n",
    "print(f'Number of graphs: {len(cora_dataset)}')\n",
    "print(f'Number of features: {cora_dataset.num_features}')\n",
    "print(f'Number of classes: {cora_dataset.num_classes}')\n",
    "\n",
    "print(f'Number of nodes: {data.num_nodes}')\n",
    "print(f'Number of edges: {data.num_edges}')\n",
    "print(f'Average node degree: {data.num_edges / data.num_nodes:.2f}')\n",
    "print(f'Number of training nodes: {data.train_mask.sum()}')\n",
    "print(f'Training node label rate: {int(data.train_mask.sum()) / data.num_nodes:.2f}')\n",
    "print(f'Contains isolated nodes: {data.contains_isolated_nodes()}')\n",
    "print(f'Contains self-loops: {data.contains_self_loops()}')\n",
    "print(f'Is undirected: {data.is_undirected()}')"
   ]
  },
  {
   "cell_type": "code",
   "execution_count": 66,
   "metadata": {
    "executionInfo": {
     "elapsed": 191,
     "status": "ok",
     "timestamp": 1650339265287,
     "user": {
      "displayName": "Avkash Chauhan",
      "userId": "01093683102216020094"
     },
     "user_tz": 420
    },
    "id": "rFi5hCN4DBoI"
   },
   "outputs": [],
   "source": [
    "A = nx.adjacency_matrix(Gnx)"
   ]
  },
  {
   "cell_type": "code",
   "execution_count": 67,
   "metadata": {
    "colab": {
     "base_uri": "https://localhost:8080/"
    },
    "executionInfo": {
     "elapsed": 296,
     "status": "ok",
     "timestamp": 1650339278470,
     "user": {
      "displayName": "Avkash Chauhan",
      "userId": "01093683102216020094"
     },
     "user_tz": 420
    },
    "id": "Cfkqo16h4p_H",
    "outputId": "e8ee7682-40c9-4cf1-db4d-4c0facb31071"
   },
   "outputs": [
    {
     "data": {
      "text/plain": [
       "array([[0, 1, 0, ..., 0, 0, 0],\n",
       "       [1, 0, 1, ..., 0, 0, 0],\n",
       "       [0, 1, 0, ..., 0, 0, 0],\n",
       "       ...,\n",
       "       [0, 0, 0, ..., 0, 1, 1],\n",
       "       [0, 0, 0, ..., 1, 0, 0],\n",
       "       [0, 0, 0, ..., 1, 0, 0]], dtype=int32)"
      ]
     },
     "execution_count": 67,
     "metadata": {},
     "output_type": "execute_result"
    }
   ],
   "source": [
    "A.todense()"
   ]
  },
  {
   "cell_type": "code",
   "execution_count": null,
   "metadata": {
    "id": "-gYnjfO14tyg"
   },
   "outputs": [],
   "source": []
  }
 ],
 "metadata": {
  "colab": {
   "authorship_tag": "ABX9TyPqLlsJdgH/x5NAcDostCsH",
   "collapsed_sections": [],
   "name": "GNN-cora-dataset.ipynb",
   "provenance": []
  },
  "kernelspec": {
   "display_name": "Python 3 (ipykernel)",
   "language": "python",
   "name": "python3"
  },
  "language_info": {
   "codemirror_mode": {
    "name": "ipython",
    "version": 3
   },
   "file_extension": ".py",
   "mimetype": "text/x-python",
   "name": "python",
   "nbconvert_exporter": "python",
   "pygments_lexer": "ipython3",
   "version": "3.10.9"
  }
 },
 "nbformat": 4,
 "nbformat_minor": 1
}
