{
 "cells": [
  {
   "cell_type": "markdown",
   "metadata": {
    "id": "oe_JxD2TqMsl"
   },
   "source": [
    "## **Graph Neural Networks**"
   ]
  },
  {
   "cell_type": "code",
   "execution_count": 1,
   "metadata": {
    "colab": {
     "base_uri": "https://localhost:8080/"
    },
    "executionInfo": {
     "elapsed": 1495,
     "status": "ok",
     "timestamp": 1650339349372,
     "user": {
      "displayName": "Avkash Chauhan",
      "userId": "01093683102216020094"
     },
     "user_tz": 420
    },
    "id": "IjgT_XG2m5Jb",
    "outputId": "37f6b9a1-a8fe-48ac-cfea-e25601a5f007"
   },
   "outputs": [
    {
     "name": "stdout",
     "output_type": "stream",
     "text": [
      "1.12.1\n"
     ]
    }
   ],
   "source": [
    "import torch\n",
    "# print torch version\n",
    "print(torch.__version__)"
   ]
  },
  {
   "cell_type": "code",
   "execution_count": 4,
   "metadata": {
    "executionInfo": {
     "elapsed": 2331,
     "status": "ok",
     "timestamp": 1650339351870,
     "user": {
      "displayName": "Avkash Chauhan",
      "userId": "01093683102216020094"
     },
     "user_tz": 420
    },
    "id": "02kgkQYTm8w3"
   },
   "outputs": [],
   "source": [
    "from torch_geometric.data import Data"
   ]
  },
  {
   "cell_type": "code",
   "execution_count": 5,
   "metadata": {
    "executionInfo": {
     "elapsed": 125,
     "status": "ok",
     "timestamp": 1650339378382,
     "user": {
      "displayName": "Avkash Chauhan",
      "userId": "01093683102216020094"
     },
     "user_tz": 420
    },
    "id": "KTk67NXIneDt"
   },
   "outputs": [],
   "source": [
    "edge_index = torch.tensor([[0, 1, 1, 2],\n",
    "                           [1, 0, 2, 1]], dtype=torch.long)\n",
    "x = torch.tensor([[-1], [0], [1]], dtype=torch.float)"
   ]
  },
  {
   "cell_type": "code",
   "execution_count": 6,
   "metadata": {
    "colab": {
     "base_uri": "https://localhost:8080/"
    },
    "executionInfo": {
     "elapsed": 196,
     "status": "ok",
     "timestamp": 1650339385814,
     "user": {
      "displayName": "Avkash Chauhan",
      "userId": "01093683102216020094"
     },
     "user_tz": 420
    },
    "id": "3idGZx_s5ITG",
    "outputId": "dd1117ef-2bc0-4648-f840-d7b54be03709"
   },
   "outputs": [
    {
     "data": {
      "text/plain": [
       "tensor([[0, 1, 1, 2],\n",
       "        [1, 0, 2, 1]])"
      ]
     },
     "execution_count": 6,
     "metadata": {},
     "output_type": "execute_result"
    }
   ],
   "source": [
    "edge_index"
   ]
  },
  {
   "cell_type": "code",
   "execution_count": 7,
   "metadata": {
    "colab": {
     "base_uri": "https://localhost:8080/"
    },
    "executionInfo": {
     "elapsed": 139,
     "status": "ok",
     "timestamp": 1650339391856,
     "user": {
      "displayName": "Avkash Chauhan",
      "userId": "01093683102216020094"
     },
     "user_tz": 420
    },
    "id": "x7uiZCFJ5IXh",
    "outputId": "67b0b187-0939-4052-c24e-edb805e4e82a"
   },
   "outputs": [
    {
     "data": {
      "text/plain": [
       "tensor([[-1.],\n",
       "        [ 0.],\n",
       "        [ 1.]])"
      ]
     },
     "execution_count": 7,
     "metadata": {},
     "output_type": "execute_result"
    }
   ],
   "source": [
    "x"
   ]
  },
  {
   "cell_type": "code",
   "execution_count": 8,
   "metadata": {
    "executionInfo": {
     "elapsed": 598,
     "status": "ok",
     "timestamp": 1650339402472,
     "user": {
      "displayName": "Avkash Chauhan",
      "userId": "01093683102216020094"
     },
     "user_tz": 420
    },
    "id": "3Gf1RFdB5HoZ"
   },
   "outputs": [],
   "source": [
    "data = Data(x=x, edge_index=edge_index)"
   ]
  },
  {
   "cell_type": "code",
   "execution_count": 9,
   "metadata": {
    "colab": {
     "base_uri": "https://localhost:8080/"
    },
    "executionInfo": {
     "elapsed": 132,
     "status": "ok",
     "timestamp": 1650339404430,
     "user": {
      "displayName": "Avkash Chauhan",
      "userId": "01093683102216020094"
     },
     "user_tz": 420
    },
    "id": "0iucMOUdnfbu",
    "outputId": "17665b31-8ba7-4262-b77e-59f6763c17a3"
   },
   "outputs": [
    {
     "data": {
      "text/plain": [
       "Data(x=[3, 1], edge_index=[2, 4])"
      ]
     },
     "execution_count": 9,
     "metadata": {},
     "output_type": "execute_result"
    }
   ],
   "source": [
    "# data.x: Node feature matrix with shape [num_nodes, num_node_features]\n",
    "# data.edge_index: Graph connectivity in COO format with shape [2, num_edges] and type torch.long\n",
    "data"
   ]
  },
  {
   "cell_type": "code",
   "execution_count": 10,
   "metadata": {
    "executionInfo": {
     "elapsed": 181,
     "status": "ok",
     "timestamp": 1650339435122,
     "user": {
      "displayName": "Avkash Chauhan",
      "userId": "01093683102216020094"
     },
     "user_tz": 420
    },
    "id": "0w9wbPU9nv9j"
   },
   "outputs": [],
   "source": [
    "from torch_geometric.utils import to_networkx"
   ]
  },
  {
   "cell_type": "code",
   "execution_count": 11,
   "metadata": {
    "executionInfo": {
     "elapsed": 532,
     "status": "ok",
     "timestamp": 1650339436990,
     "user": {
      "displayName": "Avkash Chauhan",
      "userId": "01093683102216020094"
     },
     "user_tz": 420
    },
    "id": "F1Ec4kANnyzD"
   },
   "outputs": [],
   "source": [
    "G = to_networkx(data)"
   ]
  },
  {
   "cell_type": "code",
   "execution_count": 12,
   "metadata": {
    "colab": {
     "base_uri": "https://localhost:8080/"
    },
    "executionInfo": {
     "elapsed": 127,
     "status": "ok",
     "timestamp": 1650339438144,
     "user": {
      "displayName": "Avkash Chauhan",
      "userId": "01093683102216020094"
     },
     "user_tz": 420
    },
    "id": "Id_Wu7XYny1a",
    "outputId": "c2c6e1f4-a681-43e6-801f-4dd740225d98"
   },
   "outputs": [
    {
     "data": {
      "text/plain": [
       "networkx.classes.digraph.DiGraph"
      ]
     },
     "execution_count": 12,
     "metadata": {},
     "output_type": "execute_result"
    }
   ],
   "source": [
    "type(G)"
   ]
  },
  {
   "cell_type": "code",
   "execution_count": 13,
   "metadata": {
    "executionInfo": {
     "elapsed": 146,
     "status": "ok",
     "timestamp": 1650339440659,
     "user": {
      "displayName": "Avkash Chauhan",
      "userId": "01093683102216020094"
     },
     "user_tz": 420
    },
    "id": "56egYDv-n5Wm"
   },
   "outputs": [],
   "source": [
    "import networkx as nx"
   ]
  },
  {
   "cell_type": "code",
   "execution_count": 14,
   "metadata": {
    "colab": {
     "base_uri": "https://localhost:8080/",
     "height": 319
    },
    "executionInfo": {
     "elapsed": 847,
     "status": "ok",
     "timestamp": 1650339444672,
     "user": {
      "displayName": "Avkash Chauhan",
      "userId": "01093683102216020094"
     },
     "user_tz": 420
    },
    "id": "ccmKNJuhn5Ys",
    "outputId": "af09074f-9250-4713-a6c4-dcb595c829d2"
   },
   "outputs": [
    {
     "data": {
      "image/png": "[encoded data removed]",
      "text/plain": [
       "<Figure size 640x480 with 1 Axes>"
      ]
     },
     "metadata": {},
     "output_type": "display_data"
    }
   ],
   "source": [
    "nx.draw(G)"
   ]
  },
  {
   "cell_type": "code",
   "execution_count": 15,
   "metadata": {
    "colab": {
     "base_uri": "https://localhost:8080/"
    },
    "executionInfo": {
     "elapsed": 138,
     "status": "ok",
     "timestamp": 1650339476251,
     "user": {
      "displayName": "Avkash Chauhan",
      "userId": "01093683102216020094"
     },
     "user_tz": 420
    },
    "id": "qt75D_6noIIc",
    "outputId": "645a3f43-271c-4067-f84e-9fdc4ec1e90d"
   },
   "outputs": [
    {
     "data": {
      "text/plain": [
       "['x', 'edge_index']"
      ]
     },
     "execution_count": 15,
     "metadata": {},
     "output_type": "execute_result"
    }
   ],
   "source": [
    "data.keys"
   ]
  },
  {
   "cell_type": "code",
   "execution_count": 16,
   "metadata": {
    "colab": {
     "base_uri": "https://localhost:8080/"
    },
    "executionInfo": {
     "elapsed": 161,
     "status": "ok",
     "timestamp": 1650339484546,
     "user": {
      "displayName": "Avkash Chauhan",
      "userId": "01093683102216020094"
     },
     "user_tz": 420
    },
    "id": "KSphValHoKnk",
    "outputId": "289a171b-1f1f-4a49-df78-244007a18096"
   },
   "outputs": [
    {
     "name": "stdout",
     "output_type": "stream",
     "text": [
      "x found in data\n",
      "edge_index found in data\n"
     ]
    }
   ],
   "source": [
    "for key, item in data:\n",
    "  print(f'{key} found in data')"
   ]
  },
  {
   "cell_type": "code",
   "execution_count": 17,
   "metadata": {
    "colab": {
     "base_uri": "https://localhost:8080/"
    },
    "executionInfo": {
     "elapsed": 196,
     "status": "ok",
     "timestamp": 1650339487588,
     "user": {
      "displayName": "Avkash Chauhan",
      "userId": "01093683102216020094"
     },
     "user_tz": 420
    },
    "id": "rVVc5LCqoVtt",
    "outputId": "76fcbe2b-7c0a-41da-9a3b-ac277cb66262"
   },
   "outputs": [
    {
     "data": {
      "text/plain": [
       "False"
      ]
     },
     "execution_count": 17,
     "metadata": {},
     "output_type": "execute_result"
    }
   ],
   "source": [
    "'edge_attr' in data"
   ]
  },
  {
   "cell_type": "code",
   "execution_count": 18,
   "metadata": {
    "colab": {
     "base_uri": "https://localhost:8080/"
    },
    "executionInfo": {
     "elapsed": 180,
     "status": "ok",
     "timestamp": 1650339490467,
     "user": {
      "displayName": "Avkash Chauhan",
      "userId": "01093683102216020094"
     },
     "user_tz": 420
    },
    "id": "5zEZL1ljoVv1",
    "outputId": "01899f31-9cc9-4acf-adab-00a10ec1e32e"
   },
   "outputs": [
    {
     "data": {
      "text/plain": [
       "3"
      ]
     },
     "execution_count": 18,
     "metadata": {},
     "output_type": "execute_result"
    }
   ],
   "source": [
    "data.num_nodes"
   ]
  },
  {
   "cell_type": "code",
   "execution_count": 19,
   "metadata": {
    "colab": {
     "base_uri": "https://localhost:8080/"
    },
    "executionInfo": {
     "elapsed": 129,
     "status": "ok",
     "timestamp": 1650339494219,
     "user": {
      "displayName": "Avkash Chauhan",
      "userId": "01093683102216020094"
     },
     "user_tz": 420
    },
    "id": "id89u_ipoVx3",
    "outputId": "b0d4022f-6fc8-4c71-b125-f5e7fa7be195"
   },
   "outputs": [
    {
     "data": {
      "text/plain": [
       "4"
      ]
     },
     "execution_count": 19,
     "metadata": {},
     "output_type": "execute_result"
    }
   ],
   "source": [
    "data.num_edges"
   ]
  },
  {
   "cell_type": "code",
   "execution_count": 20,
   "metadata": {
    "colab": {
     "base_uri": "https://localhost:8080/"
    },
    "executionInfo": {
     "elapsed": 146,
     "status": "ok",
     "timestamp": 1650339508544,
     "user": {
      "displayName": "Avkash Chauhan",
      "userId": "01093683102216020094"
     },
     "user_tz": 420
    },
    "id": "QoqNowjVoV0Q",
    "outputId": "578b0c86-529b-4c70-9b27-574d2cee4cd4"
   },
   "outputs": [
    {
     "data": {
      "text/plain": [
       "1"
      ]
     },
     "execution_count": 20,
     "metadata": {},
     "output_type": "execute_result"
    }
   ],
   "source": [
    "data.num_node_features"
   ]
  },
  {
   "cell_type": "code",
   "execution_count": 21,
   "metadata": {
    "colab": {
     "base_uri": "https://localhost:8080/"
    },
    "executionInfo": {
     "elapsed": 151,
     "status": "ok",
     "timestamp": 1650339511796,
     "user": {
      "displayName": "Avkash Chauhan",
      "userId": "01093683102216020094"
     },
     "user_tz": 420
    },
    "id": "aaswtBnEohab",
    "outputId": "c5e0531a-8692-441d-d61f-1a46e3cff19c"
   },
   "outputs": [
    {
     "data": {
      "text/plain": [
       "False"
      ]
     },
     "execution_count": 21,
     "metadata": {},
     "output_type": "execute_result"
    }
   ],
   "source": [
    "data.has_isolated_nodes()"
   ]
  },
  {
   "cell_type": "code",
   "execution_count": 22,
   "metadata": {
    "colab": {
     "base_uri": "https://localhost:8080/"
    },
    "executionInfo": {
     "elapsed": 147,
     "status": "ok",
     "timestamp": 1650339513024,
     "user": {
      "displayName": "Avkash Chauhan",
      "userId": "01093683102216020094"
     },
     "user_tz": 420
    },
    "id": "yXAru_ZAohfZ",
    "outputId": "6f0fb083-8bba-4e67-ee3a-29bdd5e0ee85"
   },
   "outputs": [
    {
     "data": {
      "text/plain": [
       "False"
      ]
     },
     "execution_count": 22,
     "metadata": {},
     "output_type": "execute_result"
    }
   ],
   "source": [
    "data.has_self_loops()"
   ]
  },
  {
   "cell_type": "code",
   "execution_count": 23,
   "metadata": {
    "colab": {
     "base_uri": "https://localhost:8080/"
    },
    "executionInfo": {
     "elapsed": 231,
     "status": "ok",
     "timestamp": 1650339515844,
     "user": {
      "displayName": "Avkash Chauhan",
      "userId": "01093683102216020094"
     },
     "user_tz": 420
    },
    "id": "OB7CxSwSohjA",
    "outputId": "02179a3c-574e-4713-baf2-d849862182dd"
   },
   "outputs": [
    {
     "data": {
      "text/plain": [
       "False"
      ]
     },
     "execution_count": 23,
     "metadata": {},
     "output_type": "execute_result"
    }
   ],
   "source": [
    "data.is_directed()"
   ]
  },
  {
   "cell_type": "markdown",
   "metadata": {
    "id": "vtVZXhqooWMd"
   },
   "source": [
    "# **Another Example:**"
   ]
  },
  {
   "cell_type": "code",
   "execution_count": 24,
   "metadata": {
    "executionInfo": {
     "elapsed": 126,
     "status": "ok",
     "timestamp": 1650339536938,
     "user": {
      "displayName": "Avkash Chauhan",
      "userId": "01093683102216020094"
     },
     "user_tz": 420
    },
    "id": "TaBLIAgRnAFE"
   },
   "outputs": [],
   "source": [
    "edge_index = torch.tensor([[1, 2, 3, 4],\n",
    "                           [5, 6, 7, 8]], dtype=torch.long)\n",
    "x = torch.tensor([ [[1], [1], [1]], [[3],[3],[3]] ], dtype=torch.float)\n",
    "#x = torch.tensor([[1], [1], [1]], dtype=torch.float)"
   ]
  },
  {
   "cell_type": "code",
   "execution_count": 25,
   "metadata": {
    "colab": {
     "base_uri": "https://localhost:8080/"
    },
    "executionInfo": {
     "elapsed": 134,
     "status": "ok",
     "timestamp": 1650339540915,
     "user": {
      "displayName": "Avkash Chauhan",
      "userId": "01093683102216020094"
     },
     "user_tz": 420
    },
    "id": "B7mwGL4yrI4Y",
    "outputId": "31750688-faef-4169-dc35-247deefe54c3"
   },
   "outputs": [
    {
     "data": {
      "text/plain": [
       "tensor([[1, 2, 3, 4],\n",
       "        [5, 6, 7, 8]])"
      ]
     },
     "execution_count": 25,
     "metadata": {},
     "output_type": "execute_result"
    }
   ],
   "source": [
    "edge_index"
   ]
  },
  {
   "cell_type": "code",
   "execution_count": 26,
   "metadata": {
    "colab": {
     "base_uri": "https://localhost:8080/"
    },
    "executionInfo": {
     "elapsed": 132,
     "status": "ok",
     "timestamp": 1650339543897,
     "user": {
      "displayName": "Avkash Chauhan",
      "userId": "01093683102216020094"
     },
     "user_tz": 420
    },
    "id": "7W7Xob1EwjNc",
    "outputId": "86bfc014-50d7-4be1-82db-59ebf43c901b"
   },
   "outputs": [
    {
     "data": {
      "text/plain": [
       "2"
      ]
     },
     "execution_count": 26,
     "metadata": {},
     "output_type": "execute_result"
    }
   ],
   "source": [
    "edge_index.ndim"
   ]
  },
  {
   "cell_type": "code",
   "execution_count": 27,
   "metadata": {
    "colab": {
     "base_uri": "https://localhost:8080/"
    },
    "executionInfo": {
     "elapsed": 143,
     "status": "ok",
     "timestamp": 1650339548352,
     "user": {
      "displayName": "Avkash Chauhan",
      "userId": "01093683102216020094"
     },
     "user_tz": 420
    },
    "id": "sfjVVjJErGB8",
    "outputId": "2dab5df1-9034-471f-d851-336d74be0f0b"
   },
   "outputs": [
    {
     "data": {
      "text/plain": [
       "tensor([[[1.],\n",
       "         [1.],\n",
       "         [1.]],\n",
       "\n",
       "        [[3.],\n",
       "         [3.],\n",
       "         [3.]]])"
      ]
     },
     "execution_count": 27,
     "metadata": {},
     "output_type": "execute_result"
    }
   ],
   "source": [
    "x"
   ]
  },
  {
   "cell_type": "code",
   "execution_count": 28,
   "metadata": {
    "colab": {
     "base_uri": "https://localhost:8080/"
    },
    "executionInfo": {
     "elapsed": 283,
     "status": "ok",
     "timestamp": 1650339551105,
     "user": {
      "displayName": "Avkash Chauhan",
      "userId": "01093683102216020094"
     },
     "user_tz": 420
    },
    "id": "ipBhwBMPwlfS",
    "outputId": "d53a91a2-3345-4a00-c0f2-2909fd5b6b69"
   },
   "outputs": [
    {
     "data": {
      "text/plain": [
       "3"
      ]
     },
     "execution_count": 28,
     "metadata": {},
     "output_type": "execute_result"
    }
   ],
   "source": [
    "x.ndim"
   ]
  },
  {
   "cell_type": "code",
   "execution_count": 29,
   "metadata": {
    "colab": {
     "base_uri": "https://localhost:8080/"
    },
    "executionInfo": {
     "elapsed": 3,
     "status": "ok",
     "timestamp": 1650339560935,
     "user": {
      "displayName": "Avkash Chauhan",
      "userId": "01093683102216020094"
     },
     "user_tz": 420
    },
    "id": "jW31mArdwssq",
    "outputId": "74771bfd-1092-47f9-8012-a1c21ec4f0bd"
   },
   "outputs": [
    {
     "name": "stdout",
     "output_type": "stream",
     "text": [
      "Data(x=[2, 3, 1], edge_index=[2, 4])\n"
     ]
    }
   ],
   "source": [
    "# create graph data object\n",
    "data = Data(x=x, edge_index=edge_index)\n",
    "print(data)"
   ]
  },
  {
   "cell_type": "code",
   "execution_count": 30,
   "metadata": {
    "colab": {
     "base_uri": "https://localhost:8080/"
    },
    "executionInfo": {
     "elapsed": 134,
     "status": "ok",
     "timestamp": 1650339562218,
     "user": {
      "displayName": "Avkash Chauhan",
      "userId": "01093683102216020094"
     },
     "user_tz": 420
    },
    "id": "OPC7R1Buw2UH",
    "outputId": "ead0121f-a3dc-4372-d5bd-f4aaa0166b64"
   },
   "outputs": [
    {
     "name": "stdout",
     "output_type": "stream",
     "text": [
      "4\n"
     ]
    }
   ],
   "source": [
    "# check number of edges of the graph\n",
    "print(data.num_edges)"
   ]
  },
  {
   "cell_type": "code",
   "execution_count": 31,
   "metadata": {
    "colab": {
     "base_uri": "https://localhost:8080/"
    },
    "executionInfo": {
     "elapsed": 130,
     "status": "ok",
     "timestamp": 1650339564444,
     "user": {
      "displayName": "Avkash Chauhan",
      "userId": "01093683102216020094"
     },
     "user_tz": 420
    },
    "id": "6nOU3JCgw2gZ",
    "outputId": "8bb743d9-a57b-4ba3-80b7-dbe3aee14d2f"
   },
   "outputs": [
    {
     "name": "stdout",
     "output_type": "stream",
     "text": [
      "2\n"
     ]
    }
   ],
   "source": [
    "# check number of nodes of the graph\n",
    "print(data.num_nodes)"
   ]
  },
  {
   "cell_type": "code",
   "execution_count": 32,
   "metadata": {
    "colab": {
     "base_uri": "https://localhost:8080/"
    },
    "executionInfo": {
     "elapsed": 284,
     "status": "ok",
     "timestamp": 1650339568932,
     "user": {
      "displayName": "Avkash Chauhan",
      "userId": "01093683102216020094"
     },
     "user_tz": 420
    },
    "id": "k9bo21-Ew2o1",
    "outputId": "3382b2e5-7482-4b4b-bcdc-d032c95ca928"
   },
   "outputs": [
    {
     "name": "stdout",
     "output_type": "stream",
     "text": [
      "1\n"
     ]
    }
   ],
   "source": [
    "# check number of features of the graph\n",
    "print(data.num_features)"
   ]
  },
  {
   "cell_type": "code",
   "execution_count": 33,
   "metadata": {
    "colab": {
     "base_uri": "https://localhost:8080/"
    },
    "executionInfo": {
     "elapsed": 131,
     "status": "ok",
     "timestamp": 1650339577883,
     "user": {
      "displayName": "Avkash Chauhan",
      "userId": "01093683102216020094"
     },
     "user_tz": 420
    },
    "id": "kUM_4wvYw2wF",
    "outputId": "e5d92ee5-278f-4f95-8ada-1a83294ec7ad"
   },
   "outputs": [
    {
     "name": "stdout",
     "output_type": "stream",
     "text": [
      "True\n"
     ]
    }
   ],
   "source": [
    "# check if graph is directed\n",
    "print(data.is_directed())"
   ]
  },
  {
   "cell_type": "code",
   "execution_count": 34,
   "metadata": {
    "executionInfo": {
     "elapsed": 124,
     "status": "ok",
     "timestamp": 1650339582687,
     "user": {
      "displayName": "Avkash Chauhan",
      "userId": "01093683102216020094"
     },
     "user_tz": 420
    },
    "id": "ZxuCXSQIjJAr"
   },
   "outputs": [],
   "source": [
    "G = to_networkx(data)"
   ]
  },
  {
   "cell_type": "code",
   "execution_count": 35,
   "metadata": {
    "colab": {
     "base_uri": "https://localhost:8080/"
    },
    "executionInfo": {
     "elapsed": 145,
     "status": "ok",
     "timestamp": 1650339586392,
     "user": {
      "displayName": "Avkash Chauhan",
      "userId": "01093683102216020094"
     },
     "user_tz": 420
    },
    "id": "vMZGtCP9jRkm",
    "outputId": "7a517ec0-7e39-47c4-df82-16117a4acbbd"
   },
   "outputs": [
    {
     "data": {
      "text/plain": [
       "networkx.classes.digraph.DiGraph"
      ]
     },
     "execution_count": 35,
     "metadata": {},
     "output_type": "execute_result"
    }
   ],
   "source": [
    "type(G)"
   ]
  },
  {
   "cell_type": "code",
   "execution_count": 36,
   "metadata": {
    "colab": {
     "base_uri": "https://localhost:8080/",
     "height": 319
    },
    "executionInfo": {
     "elapsed": 628,
     "status": "ok",
     "timestamp": 1650339589006,
     "user": {
      "displayName": "Avkash Chauhan",
      "userId": "01093683102216020094"
     },
     "user_tz": 420
    },
    "id": "_ag7TeALjNKl",
    "outputId": "bf1d316a-1045-49ca-fad9-2946f572b5ee"
   },
   "outputs": [
    {
     "data": {
      "image/png": "[encoded data removed]",
      "text/plain": [
       "<Figure size 640x480 with 1 Axes>"
      ]
     },
     "metadata": {},
     "output_type": "display_data"
    }
   ],
   "source": [
    "nx.draw(G)"
   ]
  },
  {
   "cell_type": "code",
   "execution_count": 37,
   "metadata": {
    "colab": {
     "base_uri": "https://localhost:8080/"
    },
    "executionInfo": {
     "elapsed": 419,
     "status": "ok",
     "timestamp": 1650339593466,
     "user": {
      "displayName": "Avkash Chauhan",
      "userId": "01093683102216020094"
     },
     "user_tz": 420
    },
    "id": "rjcrpcIojd7f",
    "outputId": "e1321828-1b18-4b8b-db1a-726fbcf8720c"
   },
   "outputs": [
    {
     "name": "stdout",
     "output_type": "stream",
     "text": [
      "False\n",
      "True\n",
      "9\n",
      "4\n",
      "9\n",
      "[(1, 5), (2, 6), (3, 7), (4, 8)]\n",
      "[0, 1, 5, 2, 6, 3, 7, 4, 8]\n"
     ]
    }
   ],
   "source": [
    "print(nx.is_weighted(G))\n",
    "print(nx.is_directed(G))\n",
    "print(G.order())\n",
    "print(G.number_of_edges())\n",
    "print(G.number_of_nodes())\n",
    "print(G.edges)\n",
    "print(G.nodes)"
   ]
  },
  {
   "cell_type": "code",
   "execution_count": 42,
   "metadata": {
    "executionInfo": {
     "elapsed": 240,
     "status": "ok",
     "timestamp": 1650339628043,
     "user": {
      "displayName": "Avkash Chauhan",
      "userId": "01093683102216020094"
     },
     "user_tz": 420
    },
    "id": "eZbG05GeqOAu"
   },
   "outputs": [],
   "source": [
    "nx.write_graphml(G, 'demo-8.graphml')"
   ]
  },
  {
   "cell_type": "code",
   "execution_count": 43,
   "metadata": {
    "colab": {
     "base_uri": "https://localhost:8080/"
    },
    "executionInfo": {
     "elapsed": 145,
     "status": "ok",
     "timestamp": 1650339633432,
     "user": {
      "displayName": "Avkash Chauhan",
      "userId": "01093683102216020094"
     },
     "user_tz": 420
    },
    "id": "HH9OHzd7rAVe",
    "outputId": "2cc7feb2-f2ad-401b-c30a-02947da0b7a5"
   },
   "outputs": [
    {
     "name": "stdout",
     "output_type": "stream",
     "text": [
      "<graphml xmlns=\"http://graphml.graphdrawing.org/xmlns\" xmlns:xsi=\"http://www.w3.org/2001/XMLSchema-instance\" xsi:schemaLocation=\"http://graphml.graphdrawing.org/xmlns http://graphml.graphdrawing.org/xmlns/1.0/graphml.xsd\">\n",
      "  <graph edgedefault=\"directed\">\n",
      "    <node id=\"0\" />\n",
      "    <node id=\"1\" />\n",
      "    <node id=\"5\" />\n",
      "    <node id=\"2\" />\n",
      "    <node id=\"6\" />\n",
      "    <node id=\"3\" />\n",
      "    <node id=\"7\" />\n",
      "    <node id=\"4\" />\n",
      "    <node id=\"8\" />\n",
      "    <edge source=\"1\" target=\"5\" />\n",
      "    <edge source=\"2\" target=\"6\" />\n",
      "    <edge source=\"3\" target=\"7\" />\n",
      "    <edge source=\"4\" target=\"8\" />\n",
      "  </graph>\n",
      "</graphml>\n"
     ]
    }
   ],
   "source": [
    "for line in nx.generate_graphml(G): \n",
    "  print(line)"
   ]
  },
  {
   "cell_type": "markdown",
   "metadata": {
    "id": "kUnz3dZDqLnv"
   },
   "source": []
  }
 ],
 "metadata": {
  "colab": {
   "authorship_tag": "ABX9TyPWxf58hxQOI9zWtC/46Dlh",
   "collapsed_sections": [],
   "name": "Graph Neural Networks Intro.ipynb",
   "provenance": []
  },
  "kernelspec": {
   "display_name": "Python 3 (ipykernel)",
   "language": "python",
   "name": "python3"
  },
  "language_info": {
   "codemirror_mode": {
    "name": "ipython",
    "version": 3
   },
   "file_extension": ".py",
   "mimetype": "text/x-python",
   "name": "python",
   "nbconvert_exporter": "python",
   "pygments_lexer": "ipython3",
   "version": "3.10.9"
  }
 },
 "nbformat": 4,
 "nbformat_minor": 1
}
